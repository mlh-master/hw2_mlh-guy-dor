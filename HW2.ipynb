{
 "cells": [
  {
   "cell_type": "markdown",
   "metadata": {},
   "source": [
    "# HW2\n",
    "### Dor & Guy\n"
   ]
  },
  {
   "cell_type": "markdown",
   "metadata": {},
   "source": [
    "#### Theory Questions\n",
    "\n",
    "**Q1:** To evaluate how well our model performs at T1D classification, we need to have evaluation metrics that measures of its performances/accuracy. Which evaluation metric is more important to us: model accuracy or model performance? Give a simple example that illustrates your claim."
   ]
  },
  {
   "cell_type": "markdown",
   "metadata": {},
   "source": [
    "**Q2:** T1D is often associated with other comorbidities such as a heart attack. You are asked to design a ML algorithm to predict which patients are going to suffer a heart attack. Relevant patient features for the algorithm may include blood pressure (BP), body-mass index (BMI), age (A), level of physical activity (P), and income (I). You should choose between two classifiers: the first uses only BP and BMI features and the other one uses all of the features available to you. Explain the pros and cons of each choice."
   ]
  },
  {
   "cell_type": "markdown",
   "metadata": {},
   "source": [
    "**Q3:** A histologist wants to use machine learning to tell the difference between pancreas biopsies that show signs of T1D and those that do not. She has already come up with dozens of measurements to take, such as color, size, uniformity and cell-count, but she isn’t sure which model to use. The biopsies are really similar, and it is difficult to distinguish them from the human eye, or by just looking at the features. Which of the following is better: logistic regression, linear SVM or nonlinear SVM? Explain your answer."
   ]
  },
  {
   "cell_type": "markdown",
   "metadata": {},
   "source": [
    "**Q4:** What are the differences between LR and linear SVM and what is the difference in the effect/concept of their hyper-parameters tuning?"
   ]
  },
  {
   "cell_type": "markdown",
   "metadata": {},
   "source": [
    "\n",
    "#### Answers:\n"
   ]
  },
  {
   "cell_type": "markdown",
   "metadata": {},
   "source": [
    "**Q1:** In our model performance is more important to us. Accuracy represnts how much we are \"correct\".\n",
    "        it's calculated by (TP+TN)/(TP+TN+FP+FN).\n",
    "        But, some times if our data is imbalanced (almost every one is \"sick\") and our naive model says everyone is sick we will have high \n",
    "        accuracy. which means accuracy is not a good way to asses our model.\n",
    "        therefore, we should use other methods to asses our model. \n",
    "        A good way to asses our model is using F1 which is:\n",
    "        (2*percision*recall)/ (Percision+Sensitivity).\n",
    "        Percision = TP/ (TP+FP) -> total predicted positive\n",
    "        Sensitivity= TP/TP+FN -> Corecctly predicted positive.\n",
    "        With F1 you can weight your model better, it has the highest score if FP and FN have simillar values."
   ]
  },
  {
   "cell_type": "markdown",
   "metadata": {},
   "source": [
    "**Q2:** The first model uses fewer features which means it can have higher correlation between the features and the labels. But! it may cause\n",
    "        over-fitting because our dataset is now narrowed to only 2 features. That being said BP and BMI are a good features which can predict \n",
    "         heart attack quite well, too much data may cause under-fitting.\n",
    "        The second mode. has much more features which might be good, but it can cause under-fitting our model will not \"learn\" cause we have\n",
    "        confusing data which will make it unable to classify or worngly classfiying. In general more data/features is good and better and it\n",
    "        can save us from being over-fitting and being more general in our learning."
   ]
  },
  {
   "cell_type": "markdown",
   "metadata": {},
   "source": [
    "**Q3:** The histologist should use non linear SVM. we know that the data he recieved in inseparable (for the human eye at least).\n",
    "        Therefore, he can't use any linear method to sepreate the data using any linear line. this is way he should use a nonlinear SVM."
   ]
  },
  {
   "cell_type": "markdown",
   "metadata": {},
   "source": [
    "**Q4:** LR is a classifer that tries to get the maximum likelihood of label to occour. by doing so using probability we get a \"smooth\"\n",
    "        likelihood of prediction to occour using statistical models. LR is influneced by its hyper-parameter (lambda) which is the weight for\n",
    "        penalty for incorrect classifying. setting high value for lambda may cause over-fitting, setting a really low lambda value may cause\n",
    "        under-fitting. using lambda LR is less influneced by outliners which is a one of the \"weakness\" in LR.\n",
    "        linear SVM is a classifier which is trying to maxmimize the margin between two support vectors. SVM in more general in its method.\n",
    "        SVM contains two hyper paramters, (Capacity/C and gama). C is the penalty weight we want for wrong classificatino (penalty emphizes).\n",
    "        gama is how much we want our data\n",
    "        to fit. high gama values may cause over-fitting. "
   ]
  },
  {
   "cell_type": "code",
   "execution_count": 1,
   "metadata": {},
   "outputs": [],
   "source": [
    "import pandas as pd \n",
    "import numpy as np\n",
    "from pathlib import Path\n",
    "import random\n",
    "%load_ext autoreload\n",
    "\n",
    "# to get the same result each time we run\n",
    "random.seed(10) \n",
    "# create a path for the file \n",
    "filepath = Path.cwd().joinpath('HW2_data.csv')\n",
    "# load csv file\n",
    "data = pd.read_csv(filepath) "
   ]
  },
  {
   "cell_type": "code",
   "execution_count": 2,
   "metadata": {},
   "outputs": [
    {
     "name": "stdout",
     "output_type": "stream",
     "text": [
      "(565, 18)\n"
     ]
    },
    {
     "data": {
      "text/html": [
       "<div>\n",
       "<style scoped>\n",
       "    .dataframe tbody tr th:only-of-type {\n",
       "        vertical-align: middle;\n",
       "    }\n",
       "\n",
       "    .dataframe tbody tr th {\n",
       "        vertical-align: top;\n",
       "    }\n",
       "\n",
       "    .dataframe thead th {\n",
       "        text-align: right;\n",
       "    }\n",
       "</style>\n",
       "<table border=\"1\" class=\"dataframe\">\n",
       "  <thead>\n",
       "    <tr style=\"text-align: right;\">\n",
       "      <th></th>\n",
       "      <th>Age</th>\n",
       "      <th>Gender</th>\n",
       "      <th>Increased Urination</th>\n",
       "      <th>Increased Thirst</th>\n",
       "      <th>Sudden Weight Loss</th>\n",
       "      <th>Weakness</th>\n",
       "      <th>Increased Hunger</th>\n",
       "      <th>Genital Thrush</th>\n",
       "      <th>Visual Blurring</th>\n",
       "      <th>Itching</th>\n",
       "      <th>Irritability</th>\n",
       "      <th>Delayed Healing</th>\n",
       "      <th>Partial Paresis</th>\n",
       "      <th>Muscle Stiffness</th>\n",
       "      <th>Hair Loss</th>\n",
       "      <th>Obesity</th>\n",
       "      <th>Diagnosis</th>\n",
       "      <th>Family History</th>\n",
       "    </tr>\n",
       "  </thead>\n",
       "  <tbody>\n",
       "    <tr>\n",
       "      <th>0</th>\n",
       "      <td>45</td>\n",
       "      <td>Male</td>\n",
       "      <td>No</td>\n",
       "      <td>No</td>\n",
       "      <td>No</td>\n",
       "      <td>Yes</td>\n",
       "      <td>No</td>\n",
       "      <td>No</td>\n",
       "      <td>No</td>\n",
       "      <td>Yes</td>\n",
       "      <td>No</td>\n",
       "      <td>No</td>\n",
       "      <td>Yes</td>\n",
       "      <td>No</td>\n",
       "      <td>Yes</td>\n",
       "      <td>No</td>\n",
       "      <td>Negative</td>\n",
       "      <td>0</td>\n",
       "    </tr>\n",
       "    <tr>\n",
       "      <th>1</th>\n",
       "      <td>42</td>\n",
       "      <td>Male</td>\n",
       "      <td>No</td>\n",
       "      <td>No</td>\n",
       "      <td>No</td>\n",
       "      <td>No</td>\n",
       "      <td>No</td>\n",
       "      <td>No</td>\n",
       "      <td>No</td>\n",
       "      <td>No</td>\n",
       "      <td>No</td>\n",
       "      <td>No</td>\n",
       "      <td>No</td>\n",
       "      <td>No</td>\n",
       "      <td>Yes</td>\n",
       "      <td>No</td>\n",
       "      <td>Negative</td>\n",
       "      <td>0</td>\n",
       "    </tr>\n",
       "    <tr>\n",
       "      <th>2</th>\n",
       "      <td>45</td>\n",
       "      <td>Male</td>\n",
       "      <td>Yes</td>\n",
       "      <td>Yes</td>\n",
       "      <td>No</td>\n",
       "      <td>Yes</td>\n",
       "      <td>No</td>\n",
       "      <td>Yes</td>\n",
       "      <td>No</td>\n",
       "      <td>No</td>\n",
       "      <td>No</td>\n",
       "      <td>Yes</td>\n",
       "      <td>No</td>\n",
       "      <td>No</td>\n",
       "      <td>Yes</td>\n",
       "      <td>No</td>\n",
       "      <td>Positive</td>\n",
       "      <td>0</td>\n",
       "    </tr>\n",
       "  </tbody>\n",
       "</table>\n",
       "</div>"
      ],
      "text/plain": [
       "   Age Gender Increased Urination Increased Thirst Sudden Weight Loss  \\\n",
       "0   45   Male                  No               No                 No   \n",
       "1   42   Male                  No               No                 No   \n",
       "2   45   Male                 Yes              Yes                 No   \n",
       "\n",
       "  Weakness Increased Hunger Genital Thrush Visual Blurring Itching  \\\n",
       "0      Yes               No             No              No     Yes   \n",
       "1       No               No             No              No      No   \n",
       "2      Yes               No            Yes              No      No   \n",
       "\n",
       "  Irritability Delayed Healing Partial Paresis Muscle Stiffness Hair Loss  \\\n",
       "0           No              No             Yes               No       Yes   \n",
       "1           No              No              No               No       Yes   \n",
       "2           No             Yes              No               No       Yes   \n",
       "\n",
       "  Obesity Diagnosis  Family History  \n",
       "0      No  Negative               0  \n",
       "1      No  Negative               0  \n",
       "2      No  Positive               0  "
      ]
     },
     "execution_count": 2,
     "metadata": {},
     "output_type": "execute_result"
    }
   ],
   "source": [
    "# check data size\n",
    "print(data.shape)\n",
    "#See the first 3 patients to check the data\n",
    "data.head(3) "
   ]
  },
  {
   "cell_type": "code",
   "execution_count": 3,
   "metadata": {},
   "outputs": [
    {
     "name": "stdout",
     "output_type": "stream",
     "text": [
      "(523, 18)\n"
     ]
    }
   ],
   "source": [
    "# pre-process data\n",
    "# remove rows without data - \"yes\"/\"no\" are not something we should estimate\n",
    "data = data.dropna()\n",
    "\n",
    "#convert categorial value to 0 and 1\n",
    "data = data.replace(['No','Yes','Negative', 'Positive', 'Female', 'Male'],[0, 1, 0, 1, 0, 1])\n",
    "data.head(3) \n",
    "# check data new size\n",
    "print(data.shape)\n",
    "# extract Y values\n",
    "Y = data[[\"Diagnosis\"]]\n",
    "# extract X values\n",
    "X = data.drop(\"Diagnosis\", axis=1)\n",
    "# extract Features list\n",
    "Features = list(X.columns)"
   ]
  },
  {
   "cell_type": "code",
   "execution_count": 4,
   "metadata": {},
   "outputs": [],
   "source": [
    "from sklearn.model_selection import train_test_split\n",
    "# split the data\n",
    "X_train, X_test, y_train, y_test = train_test_split(X, Y,test_size=0.2,\n",
    "                                                    random_state=10, stratify=Y)"
   ]
  },
  {
   "cell_type": "code",
   "execution_count": 5,
   "metadata": {},
   "outputs": [
    {
     "data": {
      "text/html": [
       "<div>\n",
       "<style scoped>\n",
       "    .dataframe tbody tr th:only-of-type {\n",
       "        vertical-align: middle;\n",
       "    }\n",
       "\n",
       "    .dataframe tbody tr th {\n",
       "        vertical-align: top;\n",
       "    }\n",
       "\n",
       "    .dataframe thead th {\n",
       "        text-align: right;\n",
       "    }\n",
       "</style>\n",
       "<table border=\"1\" class=\"dataframe\">\n",
       "  <thead>\n",
       "    <tr style=\"text-align: right;\">\n",
       "      <th></th>\n",
       "      <th>Train %</th>\n",
       "      <th>Test %</th>\n",
       "      <th>Delta %</th>\n",
       "    </tr>\n",
       "  </thead>\n",
       "  <tbody>\n",
       "    <tr>\n",
       "      <th>Age (mean)</th>\n",
       "      <td>48</td>\n",
       "      <td>46</td>\n",
       "      <td>-2</td>\n",
       "    </tr>\n",
       "    <tr>\n",
       "      <th>Gender (Male)</th>\n",
       "      <td>61</td>\n",
       "      <td>69</td>\n",
       "      <td>8</td>\n",
       "    </tr>\n",
       "    <tr>\n",
       "      <th>Increased Urination</th>\n",
       "      <td>50</td>\n",
       "      <td>45</td>\n",
       "      <td>-4</td>\n",
       "    </tr>\n",
       "    <tr>\n",
       "      <th>Increased Thirst</th>\n",
       "      <td>46</td>\n",
       "      <td>38</td>\n",
       "      <td>-8</td>\n",
       "    </tr>\n",
       "    <tr>\n",
       "      <th>Sudden Weight Loss</th>\n",
       "      <td>41</td>\n",
       "      <td>40</td>\n",
       "      <td>0</td>\n",
       "    </tr>\n",
       "    <tr>\n",
       "      <th>Weakness</th>\n",
       "      <td>58</td>\n",
       "      <td>60</td>\n",
       "      <td>1</td>\n",
       "    </tr>\n",
       "    <tr>\n",
       "      <th>Increased Hunger</th>\n",
       "      <td>46</td>\n",
       "      <td>40</td>\n",
       "      <td>-5</td>\n",
       "    </tr>\n",
       "    <tr>\n",
       "      <th>Genital Thrush</th>\n",
       "      <td>20</td>\n",
       "      <td>29</td>\n",
       "      <td>9</td>\n",
       "    </tr>\n",
       "    <tr>\n",
       "      <th>Visual Blurring</th>\n",
       "      <td>45</td>\n",
       "      <td>39</td>\n",
       "      <td>-6</td>\n",
       "    </tr>\n",
       "    <tr>\n",
       "      <th>Itching</th>\n",
       "      <td>49</td>\n",
       "      <td>44</td>\n",
       "      <td>-4</td>\n",
       "    </tr>\n",
       "    <tr>\n",
       "      <th>Irritability</th>\n",
       "      <td>24</td>\n",
       "      <td>22</td>\n",
       "      <td>-1</td>\n",
       "    </tr>\n",
       "    <tr>\n",
       "      <th>Delayed Healing</th>\n",
       "      <td>47</td>\n",
       "      <td>38</td>\n",
       "      <td>-9</td>\n",
       "    </tr>\n",
       "    <tr>\n",
       "      <th>Partial Paresis</th>\n",
       "      <td>43</td>\n",
       "      <td>39</td>\n",
       "      <td>-4</td>\n",
       "    </tr>\n",
       "    <tr>\n",
       "      <th>Muscle Stiffness</th>\n",
       "      <td>37</td>\n",
       "      <td>36</td>\n",
       "      <td>-1</td>\n",
       "    </tr>\n",
       "    <tr>\n",
       "      <th>Hair Loss</th>\n",
       "      <td>34</td>\n",
       "      <td>33</td>\n",
       "      <td>-1</td>\n",
       "    </tr>\n",
       "    <tr>\n",
       "      <th>Obesity</th>\n",
       "      <td>17</td>\n",
       "      <td>15</td>\n",
       "      <td>-1</td>\n",
       "    </tr>\n",
       "    <tr>\n",
       "      <th>Family History</th>\n",
       "      <td>49</td>\n",
       "      <td>55</td>\n",
       "      <td>5</td>\n",
       "    </tr>\n",
       "  </tbody>\n",
       "</table>\n",
       "</div>"
      ],
      "text/plain": [
       "                     Train %  Test %  Delta %\n",
       "Age (mean)                48      46       -2\n",
       "Gender (Male)             61      69        8\n",
       "Increased Urination       50      45       -4\n",
       "Increased Thirst          46      38       -8\n",
       "Sudden Weight Loss        41      40        0\n",
       "Weakness                  58      60        1\n",
       "Increased Hunger          46      40       -5\n",
       "Genital Thrush            20      29        9\n",
       "Visual Blurring           45      39       -6\n",
       "Itching                   49      44       -4\n",
       "Irritability              24      22       -1\n",
       "Delayed Healing           47      38       -9\n",
       "Partial Paresis           43      39       -4\n",
       "Muscle Stiffness          37      36       -1\n",
       "Hair Loss                 34      33       -1\n",
       "Obesity                   17      15       -1\n",
       "Family History            49      55        5"
      ]
     },
     "metadata": {},
     "output_type": "display_data"
    },
    {
     "data": {
      "image/png": "[encoded data removed]",
      "text/plain": [
       "<Figure size 1440x1008 with 16 Axes>"
      ]
     },
     "metadata": {
      "needs_background": "light"
     },
     "output_type": "display_data"
    },
    {
     "data": {
      "image/png": "[encoded data removed]",
      "text/plain": [
       "<Figure size 864x216 with 1 Axes>"
      ]
     },
     "metadata": {
      "needs_background": "light"
     },
     "output_type": "display_data"
    }
   ],
   "source": [
    "import matplotlib.pyplot as plt\n",
    "import seaborn as sns\n",
    "\n",
    "percents = pd.DataFrame(np.zeros([17,3]), columns = ['Train %' , 'Test %', 'Delta %'],\n",
    "                        index=Features, dtype = np.int32)\n",
    "\n",
    "fig, ax =plt.subplots(4,4, figsize=(20, 14))\n",
    "fig2, ax2 = plt.subplots(figsize=(12, 3))\n",
    "\n",
    "for i,feat in enumerate(Features):\n",
    "    if feat != 'Age':\n",
    "        sns.countplot(x=feat, hue=\"Diagnosis\", data= data[[\"Diagnosis\", feat]],\n",
    "                      ax=ax[(i-1)%4][((i-1)//4)])\n",
    "    if feat == 'Age':\n",
    "        percents['Train %'][feat] = (np.mean(X_train[feat]))\n",
    "        percents['Test %'][feat] = (np.mean(X_test[feat]))\n",
    "        percents['Delta %'][feat] = (np.mean(X_test[feat])) - (np.mean(X_train[feat]))\n",
    "        percents = percents.rename(index = {feat:\"Age (mean)\"})\n",
    "        X[feat][Y.index[(Y == 1)['Diagnosis'] == True].tolist()].hist(\n",
    "            label = 'Positive', ax = ax2)\n",
    "        X[feat][Y.index[(Y == 0)['Diagnosis'] == True].tolist()].hist(\n",
    "            label = 'Negative', ax = ax2)\n",
    "        ax2.legend(title = 'Diagnosis', fontsize = 'large')\n",
    "        ax2.set_xlabel(feat, fontsize = 'large')\n",
    "        ax2.set_ylabel('count', fontsize = 'large')\n",
    "        #ax.legend(loc='upper right')\n",
    "    elif feat == 'Gender':\n",
    "        idx_1 = (X_train == 1).index[(X_train == 1)[feat] == True].tolist()\n",
    "        percents['Train %'][feat] = (100 * len(idx_1) / len(X_train))\n",
    "        idx_2 = (X_test == 1).index[(X_test == 1)[feat] == True].tolist()\n",
    "        percents['Test %'][feat] = (100 * len(idx_2) / len(X_test))\n",
    "        percents['Delta %'][feat] = (100 * len(idx_2) / len(X_test))-(100 * len(idx_1) / len(X_train))\n",
    "        percents = percents.rename(index = {feat:\"Gender (Male)\"})\n",
    "    elif feat == 'Family History':\n",
    "        idx_1 = X_train.index[X_train[feat] == True].tolist()\n",
    "        percents['Train %'][feat] = (100 * len(idx_1) / len(X_train))\n",
    "        idx_2 = X_test.index[X_test[feat] == True].tolist()\n",
    "        percents['Test %'][feat] = (100 * len(idx_2) / len(X_test))\n",
    "        percents['Delta %'][feat] = (100 * len(idx_2) / len(X_test))-(100 * len(idx_1) / len(X_train))\n",
    "    else:\n",
    "        idx_1 = (X_train == 1).index[(X_train == 1)[feat] == True].tolist()\n",
    "        percents['Train %'][feat] = (100 * len(idx_1) / len(X_train))\n",
    "        idx_2 = (X_test == 1).index[(X_test == 1)[feat] == True].tolist()\n",
    "        percents['Test %'][feat] = (100 * len(idx_2) / len(X_test))\n",
    "        percents['Delta %'][feat] = (100 * len(idx_2) / len(X_test))-(100 * len(idx_1) / len(X_train))\n",
    "    \n",
    "display(percents)"
   ]
  },
  {
   "cell_type": "markdown",
   "metadata": {},
   "source": [
    "##### 3) a.\n",
    "###### i.\n",
    "**Q:** What issues could an imbalance of features between train and test cause?\n",
    "\n",
    "**A:** An imbalance in features between train and test may cause over-fitting. because there will be \"Too much\" influence of one feature at can \n",
    "       create a wrong weights prediction and therefore our test results will be poor.\n",
    "\n",
    "###### ii.\n",
    "**Q:** How could you solve the issue?\n",
    "\n",
    "**A:** We can solve this issue by splitting the train and test with the same ratio of features. if we can't do that we can use methods like\n",
    "        KFold to help us disterbute our train and test better for the trainning."
   ]
  },
  {
   "cell_type": "code",
   "execution_count": 6,
   "metadata": {},
   "outputs": [
    {
     "data": {
      "text/html": [
       "<style  type=\"text/css\" >\n",
       "    #T_fe200098_4d1e_11eb_a491_4cebbd09870e caption {\n",
       "          color: green;\n",
       "          font-size: 16px;\n",
       "    }#T_fe200098_4d1e_11eb_a491_4cebbd09870erow0_col0,#T_fe200098_4d1e_11eb_a491_4cebbd09870erow1_col1,#T_fe200098_4d1e_11eb_a491_4cebbd09870erow2_col2,#T_fe200098_4d1e_11eb_a491_4cebbd09870erow3_col3,#T_fe200098_4d1e_11eb_a491_4cebbd09870erow4_col4,#T_fe200098_4d1e_11eb_a491_4cebbd09870erow5_col5,#T_fe200098_4d1e_11eb_a491_4cebbd09870erow6_col6,#T_fe200098_4d1e_11eb_a491_4cebbd09870erow7_col7,#T_fe200098_4d1e_11eb_a491_4cebbd09870erow8_col8,#T_fe200098_4d1e_11eb_a491_4cebbd09870erow9_col9,#T_fe200098_4d1e_11eb_a491_4cebbd09870erow10_col10,#T_fe200098_4d1e_11eb_a491_4cebbd09870erow11_col11,#T_fe200098_4d1e_11eb_a491_4cebbd09870erow12_col12,#T_fe200098_4d1e_11eb_a491_4cebbd09870erow13_col13,#T_fe200098_4d1e_11eb_a491_4cebbd09870erow14_col14,#T_fe200098_4d1e_11eb_a491_4cebbd09870erow15_col15{\n",
       "            background-color:  #008000;\n",
       "            color:  #f1f1f1;\n",
       "        }#T_fe200098_4d1e_11eb_a491_4cebbd09870erow0_col1,#T_fe200098_4d1e_11eb_a491_4cebbd09870erow0_col10,#T_fe200098_4d1e_11eb_a491_4cebbd09870erow0_col15,#T_fe200098_4d1e_11eb_a491_4cebbd09870erow8_col15,#T_fe200098_4d1e_11eb_a491_4cebbd09870erow11_col0,#T_fe200098_4d1e_11eb_a491_4cebbd09870erow12_col2{\n",
       "            background-color:  #9bcc9b;\n",
       "            color:  #000000;\n",
       "        }#T_fe200098_4d1e_11eb_a491_4cebbd09870erow0_col2,#T_fe200098_4d1e_11eb_a491_4cebbd09870erow0_col4{\n",
       "            background-color:  #9fce9f;\n",
       "            color:  #000000;\n",
       "        }#T_fe200098_4d1e_11eb_a491_4cebbd09870erow0_col3,#T_fe200098_4d1e_11eb_a491_4cebbd09870erow0_col12,#T_fe200098_4d1e_11eb_a491_4cebbd09870erow12_col15{\n",
       "            background-color:  #b2d7b1;\n",
       "            color:  #000000;\n",
       "        }#T_fe200098_4d1e_11eb_a491_4cebbd09870erow0_col5,#T_fe200098_4d1e_11eb_a491_4cebbd09870erow0_col7,#T_fe200098_4d1e_11eb_a491_4cebbd09870erow10_col13{\n",
       "            background-color:  #b0d6b0;\n",
       "            color:  #000000;\n",
       "        }#T_fe200098_4d1e_11eb_a491_4cebbd09870erow0_col6,#T_fe200098_4d1e_11eb_a491_4cebbd09870erow4_col2{\n",
       "            background-color:  #3f9f3f;\n",
       "            color:  #000000;\n",
       "        }#T_fe200098_4d1e_11eb_a491_4cebbd09870erow0_col8{\n",
       "            background-color:  #a1cfa1;\n",
       "            color:  #000000;\n",
       "        }#T_fe200098_4d1e_11eb_a491_4cebbd09870erow0_col9,#T_fe200098_4d1e_11eb_a491_4cebbd09870erow10_col9{\n",
       "            background-color:  #82c082;\n",
       "            color:  #000000;\n",
       "        }#T_fe200098_4d1e_11eb_a491_4cebbd09870erow0_col11,#T_fe200098_4d1e_11eb_a491_4cebbd09870erow7_col6,#T_fe200098_4d1e_11eb_a491_4cebbd09870erow13_col6{\n",
       "            background-color:  #afd6af;\n",
       "            color:  #000000;\n",
       "        }#T_fe200098_4d1e_11eb_a491_4cebbd09870erow0_col13,#T_fe200098_4d1e_11eb_a491_4cebbd09870erow2_col4{\n",
       "            background-color:  #3a9c3a;\n",
       "            color:  #000000;\n",
       "        }#T_fe200098_4d1e_11eb_a491_4cebbd09870erow0_col14{\n",
       "            background-color:  #a7d2a7;\n",
       "            color:  #000000;\n",
       "        }#T_fe200098_4d1e_11eb_a491_4cebbd09870erow1_col0,#T_fe200098_4d1e_11eb_a491_4cebbd09870erow1_col12{\n",
       "            background-color:  #42a042;\n",
       "            color:  #000000;\n",
       "        }#T_fe200098_4d1e_11eb_a491_4cebbd09870erow1_col2{\n",
       "            background-color:  #289428;\n",
       "            color:  #000000;\n",
       "        }#T_fe200098_4d1e_11eb_a491_4cebbd09870erow1_col3{\n",
       "            background-color:  #299429;\n",
       "            color:  #000000;\n",
       "        }#T_fe200098_4d1e_11eb_a491_4cebbd09870erow1_col4{\n",
       "            background-color:  #369b36;\n",
       "            color:  #000000;\n",
       "        }#T_fe200098_4d1e_11eb_a491_4cebbd09870erow1_col5{\n",
       "            background-color:  #329832;\n",
       "            color:  #000000;\n",
       "        }#T_fe200098_4d1e_11eb_a491_4cebbd09870erow1_col6{\n",
       "            background-color:  #4ba54a;\n",
       "            color:  #000000;\n",
       "        }#T_fe200098_4d1e_11eb_a491_4cebbd09870erow1_col7,#T_fe200098_4d1e_11eb_a491_4cebbd09870erow1_col9,#T_fe200098_4d1e_11eb_a491_4cebbd09870erow2_col5{\n",
       "            background-color:  #43a143;\n",
       "            color:  #000000;\n",
       "        }#T_fe200098_4d1e_11eb_a491_4cebbd09870erow1_col8,#T_fe200098_4d1e_11eb_a491_4cebbd09870erow2_col7,#T_fe200098_4d1e_11eb_a491_4cebbd09870erow2_col8{\n",
       "            background-color:  #3b9d3b;\n",
       "            color:  #000000;\n",
       "        }#T_fe200098_4d1e_11eb_a491_4cebbd09870erow1_col10{\n",
       "            background-color:  #349a34;\n",
       "            color:  #000000;\n",
       "        }#T_fe200098_4d1e_11eb_a491_4cebbd09870erow1_col11{\n",
       "            background-color:  #2c962c;\n",
       "            color:  #000000;\n",
       "        }#T_fe200098_4d1e_11eb_a491_4cebbd09870erow1_col13,#T_fe200098_4d1e_11eb_a491_4cebbd09870erow2_col9,#T_fe200098_4d1e_11eb_a491_4cebbd09870erow2_col15,#T_fe200098_4d1e_11eb_a491_4cebbd09870erow11_col5{\n",
       "            background-color:  #56aa56;\n",
       "            color:  #000000;\n",
       "        }#T_fe200098_4d1e_11eb_a491_4cebbd09870erow1_col14,#T_fe200098_4d1e_11eb_a491_4cebbd09870erow2_col14{\n",
       "            background-color:  #49a449;\n",
       "            color:  #000000;\n",
       "        }#T_fe200098_4d1e_11eb_a491_4cebbd09870erow1_col15{\n",
       "            background-color:  #48a348;\n",
       "            color:  #000000;\n",
       "        }#T_fe200098_4d1e_11eb_a491_4cebbd09870erow2_col0,#T_fe200098_4d1e_11eb_a491_4cebbd09870erow3_col4,#T_fe200098_4d1e_11eb_a491_4cebbd09870erow5_col3{\n",
       "            background-color:  #5fae5f;\n",
       "            color:  #000000;\n",
       "        }#T_fe200098_4d1e_11eb_a491_4cebbd09870erow2_col1{\n",
       "            background-color:  #3d9e3d;\n",
       "            color:  #000000;\n",
       "        }#T_fe200098_4d1e_11eb_a491_4cebbd09870erow2_col3,#T_fe200098_4d1e_11eb_a491_4cebbd09870erow4_col7{\n",
       "            background-color:  #41a041;\n",
       "            color:  #000000;\n",
       "        }#T_fe200098_4d1e_11eb_a491_4cebbd09870erow2_col6,#T_fe200098_4d1e_11eb_a491_4cebbd09870erow5_col1{\n",
       "            background-color:  #68b368;\n",
       "            color:  #000000;\n",
       "        }#T_fe200098_4d1e_11eb_a491_4cebbd09870erow2_col10{\n",
       "            background-color:  #389b38;\n",
       "            color:  #000000;\n",
       "        }#T_fe200098_4d1e_11eb_a491_4cebbd09870erow2_col11{\n",
       "            background-color:  #379b37;\n",
       "            color:  #000000;\n",
       "        }#T_fe200098_4d1e_11eb_a491_4cebbd09870erow2_col12{\n",
       "            background-color:  #47a347;\n",
       "            color:  #000000;\n",
       "        }#T_fe200098_4d1e_11eb_a491_4cebbd09870erow2_col13,#T_fe200098_4d1e_11eb_a491_4cebbd09870erow9_col6,#T_fe200098_4d1e_11eb_a491_4cebbd09870erow9_col13,#T_fe200098_4d1e_11eb_a491_4cebbd09870erow12_col7,#T_fe200098_4d1e_11eb_a491_4cebbd09870erow15_col4,#T_fe200098_4d1e_11eb_a491_4cebbd09870erow15_col11{\n",
       "            background-color:  #95c995;\n",
       "            color:  #000000;\n",
       "        }#T_fe200098_4d1e_11eb_a491_4cebbd09870erow3_col0,#T_fe200098_4d1e_11eb_a491_4cebbd09870erow12_col5,#T_fe200098_4d1e_11eb_a491_4cebbd09870erow15_col0,#T_fe200098_4d1e_11eb_a491_4cebbd09870erow15_col1,#T_fe200098_4d1e_11eb_a491_4cebbd09870erow15_col8{\n",
       "            background-color:  #94c994;\n",
       "            color:  #000000;\n",
       "        }#T_fe200098_4d1e_11eb_a491_4cebbd09870erow3_col1,#T_fe200098_4d1e_11eb_a491_4cebbd09870erow5_col8,#T_fe200098_4d1e_11eb_a491_4cebbd09870erow7_col8,#T_fe200098_4d1e_11eb_a491_4cebbd09870erow11_col1,#T_fe200098_4d1e_11eb_a491_4cebbd09870erow11_col3,#T_fe200098_4d1e_11eb_a491_4cebbd09870erow11_col8,#T_fe200098_4d1e_11eb_a491_4cebbd09870erow11_col12{\n",
       "            background-color:  #63b163;\n",
       "            color:  #000000;\n",
       "        }#T_fe200098_4d1e_11eb_a491_4cebbd09870erow3_col2,#T_fe200098_4d1e_11eb_a491_4cebbd09870erow5_col2{\n",
       "            background-color:  #64b164;\n",
       "            color:  #000000;\n",
       "        }#T_fe200098_4d1e_11eb_a491_4cebbd09870erow3_col5{\n",
       "            background-color:  #60af60;\n",
       "            color:  #000000;\n",
       "        }#T_fe200098_4d1e_11eb_a491_4cebbd09870erow3_col6,#T_fe200098_4d1e_11eb_a491_4cebbd09870erow10_col6{\n",
       "            background-color:  #86c286;\n",
       "            color:  #000000;\n",
       "        }#T_fe200098_4d1e_11eb_a491_4cebbd09870erow3_col7,#T_fe200098_4d1e_11eb_a491_4cebbd09870erow7_col15,#T_fe200098_4d1e_11eb_a491_4cebbd09870erow8_col7{\n",
       "            background-color:  #7fbe7f;\n",
       "            color:  #000000;\n",
       "        }#T_fe200098_4d1e_11eb_a491_4cebbd09870erow3_col8,#T_fe200098_4d1e_11eb_a491_4cebbd09870erow7_col2,#T_fe200098_4d1e_11eb_a491_4cebbd09870erow10_col8{\n",
       "            background-color:  #6db56d;\n",
       "            color:  #000000;\n",
       "        }#T_fe200098_4d1e_11eb_a491_4cebbd09870erow3_col9{\n",
       "            background-color:  #74b974;\n",
       "            color:  #000000;\n",
       "        }#T_fe200098_4d1e_11eb_a491_4cebbd09870erow3_col10,#T_fe200098_4d1e_11eb_a491_4cebbd09870erow11_col4{\n",
       "            background-color:  #61af61;\n",
       "            color:  #000000;\n",
       "        }#T_fe200098_4d1e_11eb_a491_4cebbd09870erow3_col11{\n",
       "            background-color:  #61b061;\n",
       "            color:  #000000;\n",
       "        }#T_fe200098_4d1e_11eb_a491_4cebbd09870erow3_col12{\n",
       "            background-color:  #66b266;\n",
       "            color:  #000000;\n",
       "        }#T_fe200098_4d1e_11eb_a491_4cebbd09870erow3_col13,#T_fe200098_4d1e_11eb_a491_4cebbd09870erow9_col8{\n",
       "            background-color:  #a5d1a5;\n",
       "            color:  #000000;\n",
       "        }#T_fe200098_4d1e_11eb_a491_4cebbd09870erow3_col14,#T_fe200098_4d1e_11eb_a491_4cebbd09870erow7_col12,#T_fe200098_4d1e_11eb_a491_4cebbd09870erow7_col14{\n",
       "            background-color:  #6ab46a;\n",
       "            color:  #000000;\n",
       "        }#T_fe200098_4d1e_11eb_a491_4cebbd09870erow3_col15{\n",
       "            background-color:  #88c388;\n",
       "            color:  #000000;\n",
       "        }#T_fe200098_4d1e_11eb_a491_4cebbd09870erow4_col0,#T_fe200098_4d1e_11eb_a491_4cebbd09870erow4_col15,#T_fe200098_4d1e_11eb_a491_4cebbd09870erow5_col12{\n",
       "            background-color:  #5dae5d;\n",
       "            color:  #000000;\n",
       "        }#T_fe200098_4d1e_11eb_a491_4cebbd09870erow4_col1,#T_fe200098_4d1e_11eb_a491_4cebbd09870erow11_col7{\n",
       "            background-color:  #4fa74f;\n",
       "            color:  #000000;\n",
       "        }#T_fe200098_4d1e_11eb_a491_4cebbd09870erow4_col3{\n",
       "            background-color:  #3e9e3e;\n",
       "            color:  #000000;\n",
       "        }#T_fe200098_4d1e_11eb_a491_4cebbd09870erow4_col5,#T_fe200098_4d1e_11eb_a491_4cebbd09870erow5_col10{\n",
       "            background-color:  #4da64d;\n",
       "            color:  #000000;\n",
       "        }#T_fe200098_4d1e_11eb_a491_4cebbd09870erow4_col6,#T_fe200098_4d1e_11eb_a491_4cebbd09870erow10_col5{\n",
       "            background-color:  #7bbc7b;\n",
       "            color:  #000000;\n",
       "        }#T_fe200098_4d1e_11eb_a491_4cebbd09870erow4_col8{\n",
       "            background-color:  #46a246;\n",
       "            color:  #000000;\n",
       "        }#T_fe200098_4d1e_11eb_a491_4cebbd09870erow4_col9{\n",
       "            background-color:  #54a954;\n",
       "            color:  #000000;\n",
       "        }#T_fe200098_4d1e_11eb_a491_4cebbd09870erow4_col10,#T_fe200098_4d1e_11eb_a491_4cebbd09870erow4_col11,#T_fe200098_4d1e_11eb_a491_4cebbd09870erow4_col12{\n",
       "            background-color:  #40a040;\n",
       "            color:  #000000;\n",
       "        }#T_fe200098_4d1e_11eb_a491_4cebbd09870erow4_col13,#T_fe200098_4d1e_11eb_a491_4cebbd09870erow10_col12,#T_fe200098_4d1e_11eb_a491_4cebbd09870erow11_col15{\n",
       "            background-color:  #81bf81;\n",
       "            color:  #000000;\n",
       "        }#T_fe200098_4d1e_11eb_a491_4cebbd09870erow4_col14,#T_fe200098_4d1e_11eb_a491_4cebbd09870erow5_col9{\n",
       "            background-color:  #59ac59;\n",
       "            color:  #000000;\n",
       "        }#T_fe200098_4d1e_11eb_a491_4cebbd09870erow5_col0,#T_fe200098_4d1e_11eb_a491_4cebbd09870erow7_col9,#T_fe200098_4d1e_11eb_a491_4cebbd09870erow10_col1,#T_fe200098_4d1e_11eb_a491_4cebbd09870erow15_col7,#T_fe200098_4d1e_11eb_a491_4cebbd09870erow15_col9{\n",
       "            background-color:  #91c791;\n",
       "            color:  #000000;\n",
       "        }#T_fe200098_4d1e_11eb_a491_4cebbd09870erow5_col4{\n",
       "            background-color:  #6bb46b;\n",
       "            color:  #000000;\n",
       "        }#T_fe200098_4d1e_11eb_a491_4cebbd09870erow5_col6,#T_fe200098_4d1e_11eb_a491_4cebbd09870erow7_col13{\n",
       "            background-color:  #a0cea0;\n",
       "            color:  #000000;\n",
       "        }#T_fe200098_4d1e_11eb_a491_4cebbd09870erow5_col7{\n",
       "            background-color:  #73b873;\n",
       "            color:  #000000;\n",
       "        }#T_fe200098_4d1e_11eb_a491_4cebbd09870erow5_col11{\n",
       "            background-color:  #53a953;\n",
       "            color:  #000000;\n",
       "        }#T_fe200098_4d1e_11eb_a491_4cebbd09870erow5_col13{\n",
       "            background-color:  #8dc58d;\n",
       "            color:  #000000;\n",
       "        }#T_fe200098_4d1e_11eb_a491_4cebbd09870erow5_col14,#T_fe200098_4d1e_11eb_a491_4cebbd09870erow8_col12,#T_fe200098_4d1e_11eb_a491_4cebbd09870erow10_col3,#T_fe200098_4d1e_11eb_a491_4cebbd09870erow15_col10{\n",
       "            background-color:  #8cc58c;\n",
       "            color:  #000000;\n",
       "        }#T_fe200098_4d1e_11eb_a491_4cebbd09870erow5_col15,#T_fe200098_4d1e_11eb_a491_4cebbd09870erow10_col2{\n",
       "            background-color:  #84c184;\n",
       "            color:  #000000;\n",
       "        }#T_fe200098_4d1e_11eb_a491_4cebbd09870erow6_col0,#T_fe200098_4d1e_11eb_a491_4cebbd09870erow9_col12,#T_fe200098_4d1e_11eb_a491_4cebbd09870erow15_col12{\n",
       "            background-color:  #a4d0a4;\n",
       "            color:  #000000;\n",
       "        }#T_fe200098_4d1e_11eb_a491_4cebbd09870erow6_col1,#T_fe200098_4d1e_11eb_a491_4cebbd09870erow6_col2,#T_fe200098_4d1e_11eb_a491_4cebbd09870erow13_col15{\n",
       "            background-color:  #d9ead9;\n",
       "            color:  #000000;\n",
       "        }#T_fe200098_4d1e_11eb_a491_4cebbd09870erow6_col3{\n",
       "            background-color:  #dcecdc;\n",
       "            color:  #000000;\n",
       "        }#T_fe200098_4d1e_11eb_a491_4cebbd09870erow6_col4{\n",
       "            background-color:  #e4f0e4;\n",
       "            color:  #000000;\n",
       "        }#T_fe200098_4d1e_11eb_a491_4cebbd09870erow6_col5,#T_fe200098_4d1e_11eb_a491_4cebbd09870erow6_col14,#T_fe200098_4d1e_11eb_a491_4cebbd09870erow14_col11{\n",
       "            background-color:  #e5f0e5;\n",
       "            color:  #000000;\n",
       "        }#T_fe200098_4d1e_11eb_a491_4cebbd09870erow6_col7,#T_fe200098_4d1e_11eb_a491_4cebbd09870erow6_col11,#T_fe200098_4d1e_11eb_a491_4cebbd09870erow10_col14,#T_fe200098_4d1e_11eb_a491_4cebbd09870erow13_col2,#T_fe200098_4d1e_11eb_a491_4cebbd09870erow13_col3,#T_fe200098_4d1e_11eb_a491_4cebbd09870erow13_col12,#T_fe200098_4d1e_11eb_a491_4cebbd09870erow13_col14,#T_fe200098_4d1e_11eb_a491_4cebbd09870erow14_col0,#T_fe200098_4d1e_11eb_a491_4cebbd09870erow14_col1,#T_fe200098_4d1e_11eb_a491_4cebbd09870erow14_col4,#T_fe200098_4d1e_11eb_a491_4cebbd09870erow14_col5,#T_fe200098_4d1e_11eb_a491_4cebbd09870erow14_col6,#T_fe200098_4d1e_11eb_a491_4cebbd09870erow14_col8,#T_fe200098_4d1e_11eb_a491_4cebbd09870erow14_col9,#T_fe200098_4d1e_11eb_a491_4cebbd09870erow14_col10,#T_fe200098_4d1e_11eb_a491_4cebbd09870erow14_col13,#T_fe200098_4d1e_11eb_a491_4cebbd09870erow14_col15{\n",
       "            background-color:  #ebf3eb;\n",
       "            color:  #000000;\n",
       "        }#T_fe200098_4d1e_11eb_a491_4cebbd09870erow6_col8,#T_fe200098_4d1e_11eb_a491_4cebbd09870erow8_col14{\n",
       "            background-color:  #beddbe;\n",
       "            color:  #000000;\n",
       "        }#T_fe200098_4d1e_11eb_a491_4cebbd09870erow6_col9{\n",
       "            background-color:  #b8dab8;\n",
       "            color:  #000000;\n",
       "        }#T_fe200098_4d1e_11eb_a491_4cebbd09870erow6_col10{\n",
       "            background-color:  #badbba;\n",
       "            color:  #000000;\n",
       "        }#T_fe200098_4d1e_11eb_a491_4cebbd09870erow6_col12,#T_fe200098_4d1e_11eb_a491_4cebbd09870erow14_col2{\n",
       "            background-color:  #e2efe2;\n",
       "            color:  #000000;\n",
       "        }#T_fe200098_4d1e_11eb_a491_4cebbd09870erow6_col13,#T_fe200098_4d1e_11eb_a491_4cebbd09870erow13_col0{\n",
       "            background-color:  #a8d2a8;\n",
       "            color:  #000000;\n",
       "        }#T_fe200098_4d1e_11eb_a491_4cebbd09870erow6_col15{\n",
       "            background-color:  #d5e9d5;\n",
       "            color:  #000000;\n",
       "        }#T_fe200098_4d1e_11eb_a491_4cebbd09870erow7_col0,#T_fe200098_4d1e_11eb_a491_4cebbd09870erow12_col3{\n",
       "            background-color:  #9acb9a;\n",
       "            color:  #000000;\n",
       "        }#T_fe200098_4d1e_11eb_a491_4cebbd09870erow7_col1{\n",
       "            background-color:  #83c083;\n",
       "            color:  #000000;\n",
       "        }#T_fe200098_4d1e_11eb_a491_4cebbd09870erow7_col3,#T_fe200098_4d1e_11eb_a491_4cebbd09870erow8_col5{\n",
       "            background-color:  #89c389;\n",
       "            color:  #000000;\n",
       "        }#T_fe200098_4d1e_11eb_a491_4cebbd09870erow7_col4{\n",
       "            background-color:  #6fb76f;\n",
       "            color:  #000000;\n",
       "        }#T_fe200098_4d1e_11eb_a491_4cebbd09870erow7_col5{\n",
       "            background-color:  #7ebe7e;\n",
       "            color:  #000000;\n",
       "        }#T_fe200098_4d1e_11eb_a491_4cebbd09870erow7_col10{\n",
       "            background-color:  #77ba77;\n",
       "            color:  #000000;\n",
       "        }#T_fe200098_4d1e_11eb_a491_4cebbd09870erow7_col11{\n",
       "            background-color:  #5bad5b;\n",
       "            color:  #000000;\n",
       "        }#T_fe200098_4d1e_11eb_a491_4cebbd09870erow8_col0,#T_fe200098_4d1e_11eb_a491_4cebbd09870erow11_col14,#T_fe200098_4d1e_11eb_a491_4cebbd09870erow15_col3{\n",
       "            background-color:  #a2cfa2;\n",
       "            color:  #000000;\n",
       "        }#T_fe200098_4d1e_11eb_a491_4cebbd09870erow8_col1,#T_fe200098_4d1e_11eb_a491_4cebbd09870erow12_col11{\n",
       "            background-color:  #92c892;\n",
       "            color:  #000000;\n",
       "        }#T_fe200098_4d1e_11eb_a491_4cebbd09870erow8_col2,#T_fe200098_4d1e_11eb_a491_4cebbd09870erow8_col11{\n",
       "            background-color:  #84c084;\n",
       "            color:  #000000;\n",
       "        }#T_fe200098_4d1e_11eb_a491_4cebbd09870erow8_col3,#T_fe200098_4d1e_11eb_a491_4cebbd09870erow15_col2{\n",
       "            background-color:  #90c790;\n",
       "            color:  #000000;\n",
       "        }#T_fe200098_4d1e_11eb_a491_4cebbd09870erow8_col4,#T_fe200098_4d1e_11eb_a491_4cebbd09870erow10_col4{\n",
       "            background-color:  #8ac48a;\n",
       "            color:  #000000;\n",
       "        }#T_fe200098_4d1e_11eb_a491_4cebbd09870erow8_col6,#T_fe200098_4d1e_11eb_a491_4cebbd09870erow10_col11{\n",
       "            background-color:  #78bb78;\n",
       "            color:  #000000;\n",
       "        }#T_fe200098_4d1e_11eb_a491_4cebbd09870erow8_col9{\n",
       "            background-color:  #7cbd7c;\n",
       "            color:  #000000;\n",
       "        }#T_fe200098_4d1e_11eb_a491_4cebbd09870erow8_col10{\n",
       "            background-color:  #65b265;\n",
       "            color:  #000000;\n",
       "        }#T_fe200098_4d1e_11eb_a491_4cebbd09870erow8_col13,#T_fe200098_4d1e_11eb_a491_4cebbd09870erow9_col4,#T_fe200098_4d1e_11eb_a491_4cebbd09870erow11_col13{\n",
       "            background-color:  #bcdcbc;\n",
       "            color:  #000000;\n",
       "        }#T_fe200098_4d1e_11eb_a491_4cebbd09870erow9_col0{\n",
       "            background-color:  #aad3aa;\n",
       "            color:  #000000;\n",
       "        }#T_fe200098_4d1e_11eb_a491_4cebbd09870erow9_col1{\n",
       "            background-color:  #bdddbd;\n",
       "            color:  #000000;\n",
       "        }#T_fe200098_4d1e_11eb_a491_4cebbd09870erow9_col2,#T_fe200098_4d1e_11eb_a491_4cebbd09870erow9_col3,#T_fe200098_4d1e_11eb_a491_4cebbd09870erow12_col0,#T_fe200098_4d1e_11eb_a491_4cebbd09870erow12_col6{\n",
       "            background-color:  #bbdcbb;\n",
       "            color:  #000000;\n",
       "        }#T_fe200098_4d1e_11eb_a491_4cebbd09870erow9_col5{\n",
       "            background-color:  #abd4ab;\n",
       "            color:  #000000;\n",
       "        }#T_fe200098_4d1e_11eb_a491_4cebbd09870erow9_col7{\n",
       "            background-color:  #c8e2c8;\n",
       "            color:  #000000;\n",
       "        }#T_fe200098_4d1e_11eb_a491_4cebbd09870erow9_col10{\n",
       "            background-color:  #9dcd9d;\n",
       "            color:  #000000;\n",
       "        }#T_fe200098_4d1e_11eb_a491_4cebbd09870erow9_col11{\n",
       "            background-color:  #b4d8b4;\n",
       "            color:  #000000;\n",
       "        }#T_fe200098_4d1e_11eb_a491_4cebbd09870erow9_col14{\n",
       "            background-color:  #cfe5cf;\n",
       "            color:  #000000;\n",
       "        }#T_fe200098_4d1e_11eb_a491_4cebbd09870erow9_col15{\n",
       "            background-color:  #b9dbb9;\n",
       "            color:  #000000;\n",
       "        }#T_fe200098_4d1e_11eb_a491_4cebbd09870erow10_col0{\n",
       "            background-color:  #a6d1a6;\n",
       "            color:  #000000;\n",
       "        }#T_fe200098_4d1e_11eb_a491_4cebbd09870erow10_col7,#T_fe200098_4d1e_11eb_a491_4cebbd09870erow12_col4,#T_fe200098_4d1e_11eb_a491_4cebbd09870erow12_col8{\n",
       "            background-color:  #98ca98;\n",
       "            color:  #000000;\n",
       "        }#T_fe200098_4d1e_11eb_a491_4cebbd09870erow10_col15,#T_fe200098_4d1e_11eb_a491_4cebbd09870erow15_col6,#T_fe200098_4d1e_11eb_a491_4cebbd09870erow15_col13{\n",
       "            background-color:  #9ccd9c;\n",
       "            color:  #000000;\n",
       "        }#T_fe200098_4d1e_11eb_a491_4cebbd09870erow11_col2{\n",
       "            background-color:  #5cad5c;\n",
       "            color:  #000000;\n",
       "        }#T_fe200098_4d1e_11eb_a491_4cebbd09870erow11_col6{\n",
       "            background-color:  #cde5cd;\n",
       "            color:  #000000;\n",
       "        }#T_fe200098_4d1e_11eb_a491_4cebbd09870erow11_col9{\n",
       "            background-color:  #79bc79;\n",
       "            color:  #000000;\n",
       "        }#T_fe200098_4d1e_11eb_a491_4cebbd09870erow11_col10{\n",
       "            background-color:  #4ea64e;\n",
       "            color:  #000000;\n",
       "        }#T_fe200098_4d1e_11eb_a491_4cebbd09870erow12_col1{\n",
       "            background-color:  #a6d2a6;\n",
       "            color:  #000000;\n",
       "        }#T_fe200098_4d1e_11eb_a491_4cebbd09870erow12_col9{\n",
       "            background-color:  #87c287;\n",
       "            color:  #000000;\n",
       "        }#T_fe200098_4d1e_11eb_a491_4cebbd09870erow12_col10{\n",
       "            background-color:  #85c185;\n",
       "            color:  #000000;\n",
       "        }#T_fe200098_4d1e_11eb_a491_4cebbd09870erow12_col13{\n",
       "            background-color:  #c4e0c4;\n",
       "            color:  #000000;\n",
       "        }#T_fe200098_4d1e_11eb_a491_4cebbd09870erow12_col14{\n",
       "            background-color:  #75b975;\n",
       "            color:  #000000;\n",
       "        }#T_fe200098_4d1e_11eb_a491_4cebbd09870erow13_col1,#T_fe200098_4d1e_11eb_a491_4cebbd09870erow13_col5,#T_fe200098_4d1e_11eb_a491_4cebbd09870erow14_col7{\n",
       "            background-color:  #e0eee0;\n",
       "            color:  #000000;\n",
       "        }#T_fe200098_4d1e_11eb_a491_4cebbd09870erow13_col4{\n",
       "            background-color:  #eaf2ea;\n",
       "            color:  #000000;\n",
       "        }#T_fe200098_4d1e_11eb_a491_4cebbd09870erow13_col7{\n",
       "            background-color:  #e8f2e8;\n",
       "            color:  #000000;\n",
       "        }#T_fe200098_4d1e_11eb_a491_4cebbd09870erow13_col8,#T_fe200098_4d1e_11eb_a491_4cebbd09870erow14_col3{\n",
       "            background-color:  #e3efe3;\n",
       "            color:  #000000;\n",
       "        }#T_fe200098_4d1e_11eb_a491_4cebbd09870erow13_col9{\n",
       "            background-color:  #bddcbd;\n",
       "            color:  #000000;\n",
       "        }#T_fe200098_4d1e_11eb_a491_4cebbd09870erow13_col10{\n",
       "            background-color:  #d1e6d1;\n",
       "            color:  #000000;\n",
       "        }#T_fe200098_4d1e_11eb_a491_4cebbd09870erow13_col11{\n",
       "            background-color:  #e7f1e7;\n",
       "            color:  #000000;\n",
       "        }#T_fe200098_4d1e_11eb_a491_4cebbd09870erow14_col12{\n",
       "            background-color:  #d3e7d3;\n",
       "            color:  #000000;\n",
       "        }#T_fe200098_4d1e_11eb_a491_4cebbd09870erow15_col5{\n",
       "            background-color:  #9ece9e;\n",
       "            color:  #000000;\n",
       "        }#T_fe200098_4d1e_11eb_a491_4cebbd09870erow15_col14{\n",
       "            background-color:  #b3d8b3;\n",
       "            color:  #000000;\n",
       "        }</style><table id=\"T_fe200098_4d1e_11eb_a491_4cebbd09870e\" ><caption>Cross-Correlation between features with positive diagnosis</caption><thead>    <tr>        <th class=\"blank level0\" ></th>        <th class=\"col_heading level0 col0\" >Gender</th>        <th class=\"col_heading level0 col1\" >Increased Urination</th>        <th class=\"col_heading level0 col2\" >Increased Thirst</th>        <th class=\"col_heading level0 col3\" >Sudden Weight Loss</th>        <th class=\"col_heading level0 col4\" >Weakness</th>        <th class=\"col_heading level0 col5\" >Increased Hunger</th>        <th class=\"col_heading level0 col6\" >Genital Thrush</th>        <th class=\"col_heading level0 col7\" >Visual Blurring</th>        <th class=\"col_heading level0 col8\" >Itching</th>        <th class=\"col_heading level0 col9\" >Irritability</th>        <th class=\"col_heading level0 col10\" >Delayed Healing</th>        <th class=\"col_heading level0 col11\" >Partial Paresis</th>        <th class=\"col_heading level0 col12\" >Muscle Stiffness</th>        <th class=\"col_heading level0 col13\" >Hair Loss</th>        <th class=\"col_heading level0 col14\" >Obesity</th>        <th class=\"col_heading level0 col15\" >Family History</th>    </tr></thead><tbody>\n",
       "                <tr>\n",
       "                        <th id=\"T_fe200098_4d1e_11eb_a491_4cebbd09870elevel0_row0\" class=\"row_heading level0 row0\" >Gender</th>\n",
       "                        <td id=\"T_fe200098_4d1e_11eb_a491_4cebbd09870erow0_col0\" class=\"data row0 col0\" >147</td>\n",
       "                        <td id=\"T_fe200098_4d1e_11eb_a491_4cebbd09870erow0_col1\" class=\"data row0 col1\" >114</td>\n",
       "                        <td id=\"T_fe200098_4d1e_11eb_a491_4cebbd09870erow0_col2\" class=\"data row0 col2\" >100</td>\n",
       "                        <td id=\"T_fe200098_4d1e_11eb_a491_4cebbd09870erow0_col3\" class=\"data row0 col3\" >74</td>\n",
       "                        <td id=\"T_fe200098_4d1e_11eb_a491_4cebbd09870erow0_col4\" class=\"data row0 col4\" >101</td>\n",
       "                        <td id=\"T_fe200098_4d1e_11eb_a491_4cebbd09870erow0_col5\" class=\"data row0 col5\" >75</td>\n",
       "                        <td id=\"T_fe200098_4d1e_11eb_a491_4cebbd09870erow0_col6\" class=\"data row0 col6\" >66</td>\n",
       "                        <td id=\"T_fe200098_4d1e_11eb_a491_4cebbd09870erow0_col7\" class=\"data row0 col7\" >71</td>\n",
       "                        <td id=\"T_fe200098_4d1e_11eb_a491_4cebbd09870erow0_col8\" class=\"data row0 col8\" >67</td>\n",
       "                        <td id=\"T_fe200098_4d1e_11eb_a491_4cebbd09870erow0_col9\" class=\"data row0 col9\" >63</td>\n",
       "                        <td id=\"T_fe200098_4d1e_11eb_a491_4cebbd09870erow0_col10\" class=\"data row0 col10\" >65</td>\n",
       "                        <td id=\"T_fe200098_4d1e_11eb_a491_4cebbd09870erow0_col11\" class=\"data row0 col11\" >70</td>\n",
       "                        <td id=\"T_fe200098_4d1e_11eb_a491_4cebbd09870erow0_col12\" class=\"data row0 col12\" >55</td>\n",
       "                        <td id=\"T_fe200098_4d1e_11eb_a491_4cebbd09870erow0_col13\" class=\"data row0 col13\" >64</td>\n",
       "                        <td id=\"T_fe200098_4d1e_11eb_a491_4cebbd09870erow0_col14\" class=\"data row0 col14\" >31</td>\n",
       "                        <td id=\"T_fe200098_4d1e_11eb_a491_4cebbd09870erow0_col15\" class=\"data row0 col15\" >74</td>\n",
       "            </tr>\n",
       "            <tr>\n",
       "                        <th id=\"T_fe200098_4d1e_11eb_a491_4cebbd09870elevel0_row1\" class=\"row_heading level0 row1\" >Increased Urination</th>\n",
       "                        <td id=\"T_fe200098_4d1e_11eb_a491_4cebbd09870erow1_col0\" class=\"data row1 col0\" >114</td>\n",
       "                        <td id=\"T_fe200098_4d1e_11eb_a491_4cebbd09870erow1_col1\" class=\"data row1 col1\" >244</td>\n",
       "                        <td id=\"T_fe200098_4d1e_11eb_a491_4cebbd09870erow1_col2\" class=\"data row1 col2\" >193</td>\n",
       "                        <td id=\"T_fe200098_4d1e_11eb_a491_4cebbd09870erow1_col3\" class=\"data row1 col3\" >161</td>\n",
       "                        <td id=\"T_fe200098_4d1e_11eb_a491_4cebbd09870erow1_col4\" class=\"data row1 col4\" >178</td>\n",
       "                        <td id=\"T_fe200098_4d1e_11eb_a491_4cebbd09870erow1_col5\" class=\"data row1 col5\" >157</td>\n",
       "                        <td id=\"T_fe200098_4d1e_11eb_a491_4cebbd09870erow1_col6\" class=\"data row1 col6\" >63</td>\n",
       "                        <td id=\"T_fe200098_4d1e_11eb_a491_4cebbd09870erow1_col7\" class=\"data row1 col7\" >135</td>\n",
       "                        <td id=\"T_fe200098_4d1e_11eb_a491_4cebbd09870erow1_col8\" class=\"data row1 col8\" >122</td>\n",
       "                        <td id=\"T_fe200098_4d1e_11eb_a491_4cebbd09870erow1_col9\" class=\"data row1 col9\" >86</td>\n",
       "                        <td id=\"T_fe200098_4d1e_11eb_a491_4cebbd09870erow1_col10\" class=\"data row1 col10\" >123</td>\n",
       "                        <td id=\"T_fe200098_4d1e_11eb_a491_4cebbd09870erow1_col11\" class=\"data row1 col11\" >161</td>\n",
       "                        <td id=\"T_fe200098_4d1e_11eb_a491_4cebbd09870erow1_col12\" class=\"data row1 col12\" >105</td>\n",
       "                        <td id=\"T_fe200098_4d1e_11eb_a491_4cebbd09870erow1_col13\" class=\"data row1 col13\" >57</td>\n",
       "                        <td id=\"T_fe200098_4d1e_11eb_a491_4cebbd09870erow1_col14\" class=\"data row1 col14\" >48</td>\n",
       "                        <td id=\"T_fe200098_4d1e_11eb_a491_4cebbd09870erow1_col15\" class=\"data row1 col15\" >120</td>\n",
       "            </tr>\n",
       "            <tr>\n",
       "                        <th id=\"T_fe200098_4d1e_11eb_a491_4cebbd09870elevel0_row2\" class=\"row_heading level0 row2\" >Increased Thirst</th>\n",
       "                        <td id=\"T_fe200098_4d1e_11eb_a491_4cebbd09870erow2_col0\" class=\"data row2 col0\" >100</td>\n",
       "                        <td id=\"T_fe200098_4d1e_11eb_a491_4cebbd09870erow2_col1\" class=\"data row2 col1\" >193</td>\n",
       "                        <td id=\"T_fe200098_4d1e_11eb_a491_4cebbd09870erow2_col2\" class=\"data row2 col2\" >225</td>\n",
       "                        <td id=\"T_fe200098_4d1e_11eb_a491_4cebbd09870erow2_col3\" class=\"data row2 col3\" >146</td>\n",
       "                        <td id=\"T_fe200098_4d1e_11eb_a491_4cebbd09870erow2_col4\" class=\"data row2 col4\" >175</td>\n",
       "                        <td id=\"T_fe200098_4d1e_11eb_a491_4cebbd09870erow2_col5\" class=\"data row2 col5\" >146</td>\n",
       "                        <td id=\"T_fe200098_4d1e_11eb_a491_4cebbd09870erow2_col6\" class=\"data row2 col6\" >55</td>\n",
       "                        <td id=\"T_fe200098_4d1e_11eb_a491_4cebbd09870erow2_col7\" class=\"data row2 col7\" >140</td>\n",
       "                        <td id=\"T_fe200098_4d1e_11eb_a491_4cebbd09870erow2_col8\" class=\"data row2 col8\" >122</td>\n",
       "                        <td id=\"T_fe200098_4d1e_11eb_a491_4cebbd09870erow2_col9\" class=\"data row2 col9\" >79</td>\n",
       "                        <td id=\"T_fe200098_4d1e_11eb_a491_4cebbd09870erow2_col10\" class=\"data row2 col10\" >121</td>\n",
       "                        <td id=\"T_fe200098_4d1e_11eb_a491_4cebbd09870erow2_col11\" class=\"data row2 col11\" >153</td>\n",
       "                        <td id=\"T_fe200098_4d1e_11eb_a491_4cebbd09870erow2_col12\" class=\"data row2 col12\" >103</td>\n",
       "                        <td id=\"T_fe200098_4d1e_11eb_a491_4cebbd09870erow2_col13\" class=\"data row2 col13\" >41</td>\n",
       "                        <td id=\"T_fe200098_4d1e_11eb_a491_4cebbd09870erow2_col14\" class=\"data row2 col14\" >48</td>\n",
       "                        <td id=\"T_fe200098_4d1e_11eb_a491_4cebbd09870erow2_col15\" class=\"data row2 col15\" >112</td>\n",
       "            </tr>\n",
       "            <tr>\n",
       "                        <th id=\"T_fe200098_4d1e_11eb_a491_4cebbd09870elevel0_row3\" class=\"row_heading level0 row3\" >Sudden Weight Loss</th>\n",
       "                        <td id=\"T_fe200098_4d1e_11eb_a491_4cebbd09870erow3_col0\" class=\"data row3 col0\" >74</td>\n",
       "                        <td id=\"T_fe200098_4d1e_11eb_a491_4cebbd09870erow3_col1\" class=\"data row3 col1\" >161</td>\n",
       "                        <td id=\"T_fe200098_4d1e_11eb_a491_4cebbd09870erow3_col2\" class=\"data row3 col2\" >146</td>\n",
       "                        <td id=\"T_fe200098_4d1e_11eb_a491_4cebbd09870erow3_col3\" class=\"data row3 col3\" >188</td>\n",
       "                        <td id=\"T_fe200098_4d1e_11eb_a491_4cebbd09870erow3_col4\" class=\"data row3 col4\" >148</td>\n",
       "                        <td id=\"T_fe200098_4d1e_11eb_a491_4cebbd09870erow3_col5\" class=\"data row3 col5\" >127</td>\n",
       "                        <td id=\"T_fe200098_4d1e_11eb_a491_4cebbd09870erow3_col6\" class=\"data row3 col6\" >47</td>\n",
       "                        <td id=\"T_fe200098_4d1e_11eb_a491_4cebbd09870erow3_col7\" class=\"data row3 col7\" >100</td>\n",
       "                        <td id=\"T_fe200098_4d1e_11eb_a491_4cebbd09870erow3_col8\" class=\"data row3 col8\" >95</td>\n",
       "                        <td id=\"T_fe200098_4d1e_11eb_a491_4cebbd09870erow3_col9\" class=\"data row3 col9\" >68</td>\n",
       "                        <td id=\"T_fe200098_4d1e_11eb_a491_4cebbd09870erow3_col10\" class=\"data row3 col10\" >98</td>\n",
       "                        <td id=\"T_fe200098_4d1e_11eb_a491_4cebbd09870erow3_col11\" class=\"data row3 col11\" >124</td>\n",
       "                        <td id=\"T_fe200098_4d1e_11eb_a491_4cebbd09870erow3_col12\" class=\"data row3 col12\" >89</td>\n",
       "                        <td id=\"T_fe200098_4d1e_11eb_a491_4cebbd09870erow3_col13\" class=\"data row3 col13\" >37</td>\n",
       "                        <td id=\"T_fe200098_4d1e_11eb_a491_4cebbd09870erow3_col14\" class=\"data row3 col14\" >42</td>\n",
       "                        <td id=\"T_fe200098_4d1e_11eb_a491_4cebbd09870erow3_col15\" class=\"data row3 col15\" >84</td>\n",
       "            </tr>\n",
       "            <tr>\n",
       "                        <th id=\"T_fe200098_4d1e_11eb_a491_4cebbd09870elevel0_row4\" class=\"row_heading level0 row4\" >Weakness</th>\n",
       "                        <td id=\"T_fe200098_4d1e_11eb_a491_4cebbd09870erow4_col0\" class=\"data row4 col0\" >101</td>\n",
       "                        <td id=\"T_fe200098_4d1e_11eb_a491_4cebbd09870erow4_col1\" class=\"data row4 col1\" >178</td>\n",
       "                        <td id=\"T_fe200098_4d1e_11eb_a491_4cebbd09870erow4_col2\" class=\"data row4 col2\" >175</td>\n",
       "                        <td id=\"T_fe200098_4d1e_11eb_a491_4cebbd09870erow4_col3\" class=\"data row4 col3\" >148</td>\n",
       "                        <td id=\"T_fe200098_4d1e_11eb_a491_4cebbd09870erow4_col4\" class=\"data row4 col4\" >218</td>\n",
       "                        <td id=\"T_fe200098_4d1e_11eb_a491_4cebbd09870erow4_col5\" class=\"data row4 col5\" >139</td>\n",
       "                        <td id=\"T_fe200098_4d1e_11eb_a491_4cebbd09870erow4_col6\" class=\"data row4 col6\" >50</td>\n",
       "                        <td id=\"T_fe200098_4d1e_11eb_a491_4cebbd09870erow4_col7\" class=\"data row4 col7\" >136</td>\n",
       "                        <td id=\"T_fe200098_4d1e_11eb_a491_4cebbd09870erow4_col8\" class=\"data row4 col8\" >116</td>\n",
       "                        <td id=\"T_fe200098_4d1e_11eb_a491_4cebbd09870erow4_col9\" class=\"data row4 col9\" >80</td>\n",
       "                        <td id=\"T_fe200098_4d1e_11eb_a491_4cebbd09870erow4_col10\" class=\"data row4 col10\" >116</td>\n",
       "                        <td id=\"T_fe200098_4d1e_11eb_a491_4cebbd09870erow4_col11\" class=\"data row4 col11\" >147</td>\n",
       "                        <td id=\"T_fe200098_4d1e_11eb_a491_4cebbd09870erow4_col12\" class=\"data row4 col12\" >106</td>\n",
       "                        <td id=\"T_fe200098_4d1e_11eb_a491_4cebbd09870erow4_col13\" class=\"data row4 col13\" >46</td>\n",
       "                        <td id=\"T_fe200098_4d1e_11eb_a491_4cebbd09870erow4_col14\" class=\"data row4 col14\" >45</td>\n",
       "                        <td id=\"T_fe200098_4d1e_11eb_a491_4cebbd09870erow4_col15\" class=\"data row4 col15\" >108</td>\n",
       "            </tr>\n",
       "            <tr>\n",
       "                        <th id=\"T_fe200098_4d1e_11eb_a491_4cebbd09870elevel0_row5\" class=\"row_heading level0 row5\" >Increased Hunger</th>\n",
       "                        <td id=\"T_fe200098_4d1e_11eb_a491_4cebbd09870erow5_col0\" class=\"data row5 col0\" >75</td>\n",
       "                        <td id=\"T_fe200098_4d1e_11eb_a491_4cebbd09870erow5_col1\" class=\"data row5 col1\" >157</td>\n",
       "                        <td id=\"T_fe200098_4d1e_11eb_a491_4cebbd09870erow5_col2\" class=\"data row5 col2\" >146</td>\n",
       "                        <td id=\"T_fe200098_4d1e_11eb_a491_4cebbd09870erow5_col3\" class=\"data row5 col3\" >127</td>\n",
       "                        <td id=\"T_fe200098_4d1e_11eb_a491_4cebbd09870erow5_col4\" class=\"data row5 col4\" >139</td>\n",
       "                        <td id=\"T_fe200098_4d1e_11eb_a491_4cebbd09870erow5_col5\" class=\"data row5 col5\" >190</td>\n",
       "                        <td id=\"T_fe200098_4d1e_11eb_a491_4cebbd09870erow5_col6\" class=\"data row5 col6\" >40</td>\n",
       "                        <td id=\"T_fe200098_4d1e_11eb_a491_4cebbd09870erow5_col7\" class=\"data row5 col7\" >107</td>\n",
       "                        <td id=\"T_fe200098_4d1e_11eb_a491_4cebbd09870erow5_col8\" class=\"data row5 col8\" >100</td>\n",
       "                        <td id=\"T_fe200098_4d1e_11eb_a491_4cebbd09870erow5_col9\" class=\"data row5 col9\" >78</td>\n",
       "                        <td id=\"T_fe200098_4d1e_11eb_a491_4cebbd09870erow5_col10\" class=\"data row5 col10\" >109</td>\n",
       "                        <td id=\"T_fe200098_4d1e_11eb_a491_4cebbd09870erow5_col11\" class=\"data row5 col11\" >134</td>\n",
       "                        <td id=\"T_fe200098_4d1e_11eb_a491_4cebbd09870erow5_col12\" class=\"data row5 col12\" >93</td>\n",
       "                        <td id=\"T_fe200098_4d1e_11eb_a491_4cebbd09870erow5_col13\" class=\"data row5 col13\" >43</td>\n",
       "                        <td id=\"T_fe200098_4d1e_11eb_a491_4cebbd09870erow5_col14\" class=\"data row5 col14\" >36</td>\n",
       "                        <td id=\"T_fe200098_4d1e_11eb_a491_4cebbd09870erow5_col15\" class=\"data row5 col15\" >86</td>\n",
       "            </tr>\n",
       "            <tr>\n",
       "                        <th id=\"T_fe200098_4d1e_11eb_a491_4cebbd09870elevel0_row6\" class=\"row_heading level0 row6\" >Genital Thrush</th>\n",
       "                        <td id=\"T_fe200098_4d1e_11eb_a491_4cebbd09870erow6_col0\" class=\"data row6 col0\" >66</td>\n",
       "                        <td id=\"T_fe200098_4d1e_11eb_a491_4cebbd09870erow6_col1\" class=\"data row6 col1\" >63</td>\n",
       "                        <td id=\"T_fe200098_4d1e_11eb_a491_4cebbd09870erow6_col2\" class=\"data row6 col2\" >55</td>\n",
       "                        <td id=\"T_fe200098_4d1e_11eb_a491_4cebbd09870erow6_col3\" class=\"data row6 col3\" >47</td>\n",
       "                        <td id=\"T_fe200098_4d1e_11eb_a491_4cebbd09870erow6_col4\" class=\"data row6 col4\" >50</td>\n",
       "                        <td id=\"T_fe200098_4d1e_11eb_a491_4cebbd09870erow6_col5\" class=\"data row6 col5\" >40</td>\n",
       "                        <td id=\"T_fe200098_4d1e_11eb_a491_4cebbd09870erow6_col6\" class=\"data row6 col6\" >83</td>\n",
       "                        <td id=\"T_fe200098_4d1e_11eb_a491_4cebbd09870erow6_col7\" class=\"data row6 col7\" >36</td>\n",
       "                        <td id=\"T_fe200098_4d1e_11eb_a491_4cebbd09870erow6_col8\" class=\"data row6 col8\" >51</td>\n",
       "                        <td id=\"T_fe200098_4d1e_11eb_a491_4cebbd09870erow6_col9\" class=\"data row6 col9\" >43</td>\n",
       "                        <td id=\"T_fe200098_4d1e_11eb_a491_4cebbd09870erow6_col10\" class=\"data row6 col10\" >47</td>\n",
       "                        <td id=\"T_fe200098_4d1e_11eb_a491_4cebbd09870erow6_col11\" class=\"data row6 col11\" >28</td>\n",
       "                        <td id=\"T_fe200098_4d1e_11eb_a491_4cebbd09870erow6_col12\" class=\"data row6 col12\" >33</td>\n",
       "                        <td id=\"T_fe200098_4d1e_11eb_a491_4cebbd09870erow6_col13\" class=\"data row6 col13\" >36</td>\n",
       "                        <td id=\"T_fe200098_4d1e_11eb_a491_4cebbd09870erow6_col14\" class=\"data row6 col14\" >20</td>\n",
       "                        <td id=\"T_fe200098_4d1e_11eb_a491_4cebbd09870erow6_col15\" class=\"data row6 col15\" >41</td>\n",
       "            </tr>\n",
       "            <tr>\n",
       "                        <th id=\"T_fe200098_4d1e_11eb_a491_4cebbd09870elevel0_row7\" class=\"row_heading level0 row7\" >Visual Blurring</th>\n",
       "                        <td id=\"T_fe200098_4d1e_11eb_a491_4cebbd09870erow7_col0\" class=\"data row7 col0\" >71</td>\n",
       "                        <td id=\"T_fe200098_4d1e_11eb_a491_4cebbd09870erow7_col1\" class=\"data row7 col1\" >135</td>\n",
       "                        <td id=\"T_fe200098_4d1e_11eb_a491_4cebbd09870erow7_col2\" class=\"data row7 col2\" >140</td>\n",
       "                        <td id=\"T_fe200098_4d1e_11eb_a491_4cebbd09870erow7_col3\" class=\"data row7 col3\" >100</td>\n",
       "                        <td id=\"T_fe200098_4d1e_11eb_a491_4cebbd09870erow7_col4\" class=\"data row7 col4\" >136</td>\n",
       "                        <td id=\"T_fe200098_4d1e_11eb_a491_4cebbd09870erow7_col5\" class=\"data row7 col5\" >107</td>\n",
       "                        <td id=\"T_fe200098_4d1e_11eb_a491_4cebbd09870erow7_col6\" class=\"data row7 col6\" >36</td>\n",
       "                        <td id=\"T_fe200098_4d1e_11eb_a491_4cebbd09870erow7_col7\" class=\"data row7 col7\" >175</td>\n",
       "                        <td id=\"T_fe200098_4d1e_11eb_a491_4cebbd09870erow7_col8\" class=\"data row7 col8\" >100</td>\n",
       "                        <td id=\"T_fe200098_4d1e_11eb_a491_4cebbd09870erow7_col9\" class=\"data row7 col9\" >57</td>\n",
       "                        <td id=\"T_fe200098_4d1e_11eb_a491_4cebbd09870erow7_col10\" class=\"data row7 col10\" >85</td>\n",
       "                        <td id=\"T_fe200098_4d1e_11eb_a491_4cebbd09870erow7_col11\" class=\"data row7 col11\" >128</td>\n",
       "                        <td id=\"T_fe200098_4d1e_11eb_a491_4cebbd09870erow7_col12\" class=\"data row7 col12\" >87</td>\n",
       "                        <td id=\"T_fe200098_4d1e_11eb_a491_4cebbd09870erow7_col13\" class=\"data row7 col13\" >38</td>\n",
       "                        <td id=\"T_fe200098_4d1e_11eb_a491_4cebbd09870erow7_col14\" class=\"data row7 col14\" >42</td>\n",
       "                        <td id=\"T_fe200098_4d1e_11eb_a491_4cebbd09870erow7_col15\" class=\"data row7 col15\" >89</td>\n",
       "            </tr>\n",
       "            <tr>\n",
       "                        <th id=\"T_fe200098_4d1e_11eb_a491_4cebbd09870elevel0_row8\" class=\"row_heading level0 row8\" >Itching</th>\n",
       "                        <td id=\"T_fe200098_4d1e_11eb_a491_4cebbd09870erow8_col0\" class=\"data row8 col0\" >67</td>\n",
       "                        <td id=\"T_fe200098_4d1e_11eb_a491_4cebbd09870erow8_col1\" class=\"data row8 col1\" >122</td>\n",
       "                        <td id=\"T_fe200098_4d1e_11eb_a491_4cebbd09870erow8_col2\" class=\"data row8 col2\" >122</td>\n",
       "                        <td id=\"T_fe200098_4d1e_11eb_a491_4cebbd09870erow8_col3\" class=\"data row8 col3\" >95</td>\n",
       "                        <td id=\"T_fe200098_4d1e_11eb_a491_4cebbd09870erow8_col4\" class=\"data row8 col4\" >116</td>\n",
       "                        <td id=\"T_fe200098_4d1e_11eb_a491_4cebbd09870erow8_col5\" class=\"data row8 col5\" >100</td>\n",
       "                        <td id=\"T_fe200098_4d1e_11eb_a491_4cebbd09870erow8_col6\" class=\"data row8 col6\" >51</td>\n",
       "                        <td id=\"T_fe200098_4d1e_11eb_a491_4cebbd09870erow8_col7\" class=\"data row8 col7\" >100</td>\n",
       "                        <td id=\"T_fe200098_4d1e_11eb_a491_4cebbd09870erow8_col8\" class=\"data row8 col8\" >154</td>\n",
       "                        <td id=\"T_fe200098_4d1e_11eb_a491_4cebbd09870erow8_col9\" class=\"data row8 col9\" >65</td>\n",
       "                        <td id=\"T_fe200098_4d1e_11eb_a491_4cebbd09870erow8_col10\" class=\"data row8 col10\" >95</td>\n",
       "                        <td id=\"T_fe200098_4d1e_11eb_a491_4cebbd09870erow8_col11\" class=\"data row8 col11\" >100</td>\n",
       "                        <td id=\"T_fe200098_4d1e_11eb_a491_4cebbd09870erow8_col12\" class=\"data row8 col12\" >72</td>\n",
       "                        <td id=\"T_fe200098_4d1e_11eb_a491_4cebbd09870erow8_col13\" class=\"data row8 col13\" >31</td>\n",
       "                        <td id=\"T_fe200098_4d1e_11eb_a491_4cebbd09870erow8_col14\" class=\"data row8 col14\" >27</td>\n",
       "                        <td id=\"T_fe200098_4d1e_11eb_a491_4cebbd09870erow8_col15\" class=\"data row8 col15\" >74</td>\n",
       "            </tr>\n",
       "            <tr>\n",
       "                        <th id=\"T_fe200098_4d1e_11eb_a491_4cebbd09870elevel0_row9\" class=\"row_heading level0 row9\" >Irritability</th>\n",
       "                        <td id=\"T_fe200098_4d1e_11eb_a491_4cebbd09870erow9_col0\" class=\"data row9 col0\" >63</td>\n",
       "                        <td id=\"T_fe200098_4d1e_11eb_a491_4cebbd09870erow9_col1\" class=\"data row9 col1\" >86</td>\n",
       "                        <td id=\"T_fe200098_4d1e_11eb_a491_4cebbd09870erow9_col2\" class=\"data row9 col2\" >79</td>\n",
       "                        <td id=\"T_fe200098_4d1e_11eb_a491_4cebbd09870erow9_col3\" class=\"data row9 col3\" >68</td>\n",
       "                        <td id=\"T_fe200098_4d1e_11eb_a491_4cebbd09870erow9_col4\" class=\"data row9 col4\" >80</td>\n",
       "                        <td id=\"T_fe200098_4d1e_11eb_a491_4cebbd09870erow9_col5\" class=\"data row9 col5\" >78</td>\n",
       "                        <td id=\"T_fe200098_4d1e_11eb_a491_4cebbd09870erow9_col6\" class=\"data row9 col6\" >43</td>\n",
       "                        <td id=\"T_fe200098_4d1e_11eb_a491_4cebbd09870erow9_col7\" class=\"data row9 col7\" >57</td>\n",
       "                        <td id=\"T_fe200098_4d1e_11eb_a491_4cebbd09870erow9_col8\" class=\"data row9 col8\" >65</td>\n",
       "                        <td id=\"T_fe200098_4d1e_11eb_a491_4cebbd09870erow9_col9\" class=\"data row9 col9\" >111</td>\n",
       "                        <td id=\"T_fe200098_4d1e_11eb_a491_4cebbd09870erow9_col10\" class=\"data row9 col10\" >63</td>\n",
       "                        <td id=\"T_fe200098_4d1e_11eb_a491_4cebbd09870erow9_col11\" class=\"data row9 col11\" >66</td>\n",
       "                        <td id=\"T_fe200098_4d1e_11eb_a491_4cebbd09870erow9_col12\" class=\"data row9 col12\" >61</td>\n",
       "                        <td id=\"T_fe200098_4d1e_11eb_a491_4cebbd09870erow9_col13\" class=\"data row9 col13\" >41</td>\n",
       "                        <td id=\"T_fe200098_4d1e_11eb_a491_4cebbd09870erow9_col14\" class=\"data row9 col14\" >24</td>\n",
       "                        <td id=\"T_fe200098_4d1e_11eb_a491_4cebbd09870erow9_col15\" class=\"data row9 col15\" >57</td>\n",
       "            </tr>\n",
       "            <tr>\n",
       "                        <th id=\"T_fe200098_4d1e_11eb_a491_4cebbd09870elevel0_row10\" class=\"row_heading level0 row10\" >Delayed Healing</th>\n",
       "                        <td id=\"T_fe200098_4d1e_11eb_a491_4cebbd09870erow10_col0\" class=\"data row10 col0\" >65</td>\n",
       "                        <td id=\"T_fe200098_4d1e_11eb_a491_4cebbd09870erow10_col1\" class=\"data row10 col1\" >123</td>\n",
       "                        <td id=\"T_fe200098_4d1e_11eb_a491_4cebbd09870erow10_col2\" class=\"data row10 col2\" >121</td>\n",
       "                        <td id=\"T_fe200098_4d1e_11eb_a491_4cebbd09870erow10_col3\" class=\"data row10 col3\" >98</td>\n",
       "                        <td id=\"T_fe200098_4d1e_11eb_a491_4cebbd09870erow10_col4\" class=\"data row10 col4\" >116</td>\n",
       "                        <td id=\"T_fe200098_4d1e_11eb_a491_4cebbd09870erow10_col5\" class=\"data row10 col5\" >109</td>\n",
       "                        <td id=\"T_fe200098_4d1e_11eb_a491_4cebbd09870erow10_col6\" class=\"data row10 col6\" >47</td>\n",
       "                        <td id=\"T_fe200098_4d1e_11eb_a491_4cebbd09870erow10_col7\" class=\"data row10 col7\" >85</td>\n",
       "                        <td id=\"T_fe200098_4d1e_11eb_a491_4cebbd09870erow10_col8\" class=\"data row10 col8\" >95</td>\n",
       "                        <td id=\"T_fe200098_4d1e_11eb_a491_4cebbd09870erow10_col9\" class=\"data row10 col9\" >63</td>\n",
       "                        <td id=\"T_fe200098_4d1e_11eb_a491_4cebbd09870erow10_col10\" class=\"data row10 col10\" >153</td>\n",
       "                        <td id=\"T_fe200098_4d1e_11eb_a491_4cebbd09870erow10_col11\" class=\"data row10 col11\" >108</td>\n",
       "                        <td id=\"T_fe200098_4d1e_11eb_a491_4cebbd09870erow10_col12\" class=\"data row10 col12\" >77</td>\n",
       "                        <td id=\"T_fe200098_4d1e_11eb_a491_4cebbd09870erow10_col13\" class=\"data row10 col13\" >34</td>\n",
       "                        <td id=\"T_fe200098_4d1e_11eb_a491_4cebbd09870erow10_col14\" class=\"data row10 col14\" >19</td>\n",
       "                        <td id=\"T_fe200098_4d1e_11eb_a491_4cebbd09870erow10_col15\" class=\"data row10 col15\" >73</td>\n",
       "            </tr>\n",
       "            <tr>\n",
       "                        <th id=\"T_fe200098_4d1e_11eb_a491_4cebbd09870elevel0_row11\" class=\"row_heading level0 row11\" >Partial Paresis</th>\n",
       "                        <td id=\"T_fe200098_4d1e_11eb_a491_4cebbd09870erow11_col0\" class=\"data row11 col0\" >70</td>\n",
       "                        <td id=\"T_fe200098_4d1e_11eb_a491_4cebbd09870erow11_col1\" class=\"data row11 col1\" >161</td>\n",
       "                        <td id=\"T_fe200098_4d1e_11eb_a491_4cebbd09870erow11_col2\" class=\"data row11 col2\" >153</td>\n",
       "                        <td id=\"T_fe200098_4d1e_11eb_a491_4cebbd09870erow11_col3\" class=\"data row11 col3\" >124</td>\n",
       "                        <td id=\"T_fe200098_4d1e_11eb_a491_4cebbd09870erow11_col4\" class=\"data row11 col4\" >147</td>\n",
       "                        <td id=\"T_fe200098_4d1e_11eb_a491_4cebbd09870erow11_col5\" class=\"data row11 col5\" >134</td>\n",
       "                        <td id=\"T_fe200098_4d1e_11eb_a491_4cebbd09870erow11_col6\" class=\"data row11 col6\" >28</td>\n",
       "                        <td id=\"T_fe200098_4d1e_11eb_a491_4cebbd09870erow11_col7\" class=\"data row11 col7\" >128</td>\n",
       "                        <td id=\"T_fe200098_4d1e_11eb_a491_4cebbd09870erow11_col8\" class=\"data row11 col8\" >100</td>\n",
       "                        <td id=\"T_fe200098_4d1e_11eb_a491_4cebbd09870erow11_col9\" class=\"data row11 col9\" >66</td>\n",
       "                        <td id=\"T_fe200098_4d1e_11eb_a491_4cebbd09870erow11_col10\" class=\"data row11 col10\" >108</td>\n",
       "                        <td id=\"T_fe200098_4d1e_11eb_a491_4cebbd09870erow11_col11\" class=\"data row11 col11\" >192</td>\n",
       "                        <td id=\"T_fe200098_4d1e_11eb_a491_4cebbd09870erow11_col12\" class=\"data row11 col12\" >90</td>\n",
       "                        <td id=\"T_fe200098_4d1e_11eb_a491_4cebbd09870erow11_col13\" class=\"data row11 col13\" >31</td>\n",
       "                        <td id=\"T_fe200098_4d1e_11eb_a491_4cebbd09870erow11_col14\" class=\"data row11 col14\" >32</td>\n",
       "                        <td id=\"T_fe200098_4d1e_11eb_a491_4cebbd09870erow11_col15\" class=\"data row11 col15\" >88</td>\n",
       "            </tr>\n",
       "            <tr>\n",
       "                        <th id=\"T_fe200098_4d1e_11eb_a491_4cebbd09870elevel0_row12\" class=\"row_heading level0 row12\" >Muscle Stiffness</th>\n",
       "                        <td id=\"T_fe200098_4d1e_11eb_a491_4cebbd09870erow12_col0\" class=\"data row12 col0\" >55</td>\n",
       "                        <td id=\"T_fe200098_4d1e_11eb_a491_4cebbd09870erow12_col1\" class=\"data row12 col1\" >105</td>\n",
       "                        <td id=\"T_fe200098_4d1e_11eb_a491_4cebbd09870erow12_col2\" class=\"data row12 col2\" >103</td>\n",
       "                        <td id=\"T_fe200098_4d1e_11eb_a491_4cebbd09870erow12_col3\" class=\"data row12 col3\" >89</td>\n",
       "                        <td id=\"T_fe200098_4d1e_11eb_a491_4cebbd09870erow12_col4\" class=\"data row12 col4\" >106</td>\n",
       "                        <td id=\"T_fe200098_4d1e_11eb_a491_4cebbd09870erow12_col5\" class=\"data row12 col5\" >93</td>\n",
       "                        <td id=\"T_fe200098_4d1e_11eb_a491_4cebbd09870erow12_col6\" class=\"data row12 col6\" >33</td>\n",
       "                        <td id=\"T_fe200098_4d1e_11eb_a491_4cebbd09870erow12_col7\" class=\"data row12 col7\" >87</td>\n",
       "                        <td id=\"T_fe200098_4d1e_11eb_a491_4cebbd09870erow12_col8\" class=\"data row12 col8\" >72</td>\n",
       "                        <td id=\"T_fe200098_4d1e_11eb_a491_4cebbd09870erow12_col9\" class=\"data row12 col9\" >61</td>\n",
       "                        <td id=\"T_fe200098_4d1e_11eb_a491_4cebbd09870erow12_col10\" class=\"data row12 col10\" >77</td>\n",
       "                        <td id=\"T_fe200098_4d1e_11eb_a491_4cebbd09870erow12_col11\" class=\"data row12 col11\" >90</td>\n",
       "                        <td id=\"T_fe200098_4d1e_11eb_a491_4cebbd09870erow12_col12\" class=\"data row12 col12\" >135</td>\n",
       "                        <td id=\"T_fe200098_4d1e_11eb_a491_4cebbd09870erow12_col13\" class=\"data row12 col13\" >29</td>\n",
       "                        <td id=\"T_fe200098_4d1e_11eb_a491_4cebbd09870erow12_col14\" class=\"data row12 col14\" >40</td>\n",
       "                        <td id=\"T_fe200098_4d1e_11eb_a491_4cebbd09870erow12_col15\" class=\"data row12 col15\" >61</td>\n",
       "            </tr>\n",
       "            <tr>\n",
       "                        <th id=\"T_fe200098_4d1e_11eb_a491_4cebbd09870elevel0_row13\" class=\"row_heading level0 row13\" >Hair Loss</th>\n",
       "                        <td id=\"T_fe200098_4d1e_11eb_a491_4cebbd09870erow13_col0\" class=\"data row13 col0\" >64</td>\n",
       "                        <td id=\"T_fe200098_4d1e_11eb_a491_4cebbd09870erow13_col1\" class=\"data row13 col1\" >57</td>\n",
       "                        <td id=\"T_fe200098_4d1e_11eb_a491_4cebbd09870erow13_col2\" class=\"data row13 col2\" >41</td>\n",
       "                        <td id=\"T_fe200098_4d1e_11eb_a491_4cebbd09870erow13_col3\" class=\"data row13 col3\" >37</td>\n",
       "                        <td id=\"T_fe200098_4d1e_11eb_a491_4cebbd09870erow13_col4\" class=\"data row13 col4\" >46</td>\n",
       "                        <td id=\"T_fe200098_4d1e_11eb_a491_4cebbd09870erow13_col5\" class=\"data row13 col5\" >43</td>\n",
       "                        <td id=\"T_fe200098_4d1e_11eb_a491_4cebbd09870erow13_col6\" class=\"data row13 col6\" >36</td>\n",
       "                        <td id=\"T_fe200098_4d1e_11eb_a491_4cebbd09870erow13_col7\" class=\"data row13 col7\" >38</td>\n",
       "                        <td id=\"T_fe200098_4d1e_11eb_a491_4cebbd09870erow13_col8\" class=\"data row13 col8\" >31</td>\n",
       "                        <td id=\"T_fe200098_4d1e_11eb_a491_4cebbd09870erow13_col9\" class=\"data row13 col9\" >41</td>\n",
       "                        <td id=\"T_fe200098_4d1e_11eb_a491_4cebbd09870erow13_col10\" class=\"data row13 col10\" >34</td>\n",
       "                        <td id=\"T_fe200098_4d1e_11eb_a491_4cebbd09870erow13_col11\" class=\"data row13 col11\" >31</td>\n",
       "                        <td id=\"T_fe200098_4d1e_11eb_a491_4cebbd09870erow13_col12\" class=\"data row13 col12\" >29</td>\n",
       "                        <td id=\"T_fe200098_4d1e_11eb_a491_4cebbd09870erow13_col13\" class=\"data row13 col13\" >79</td>\n",
       "                        <td id=\"T_fe200098_4d1e_11eb_a491_4cebbd09870erow13_col14\" class=\"data row13 col14\" >19</td>\n",
       "                        <td id=\"T_fe200098_4d1e_11eb_a491_4cebbd09870erow13_col15\" class=\"data row13 col15\" >39</td>\n",
       "            </tr>\n",
       "            <tr>\n",
       "                        <th id=\"T_fe200098_4d1e_11eb_a491_4cebbd09870elevel0_row14\" class=\"row_heading level0 row14\" >Obesity</th>\n",
       "                        <td id=\"T_fe200098_4d1e_11eb_a491_4cebbd09870erow14_col0\" class=\"data row14 col0\" >31</td>\n",
       "                        <td id=\"T_fe200098_4d1e_11eb_a491_4cebbd09870erow14_col1\" class=\"data row14 col1\" >48</td>\n",
       "                        <td id=\"T_fe200098_4d1e_11eb_a491_4cebbd09870erow14_col2\" class=\"data row14 col2\" >48</td>\n",
       "                        <td id=\"T_fe200098_4d1e_11eb_a491_4cebbd09870erow14_col3\" class=\"data row14 col3\" >42</td>\n",
       "                        <td id=\"T_fe200098_4d1e_11eb_a491_4cebbd09870erow14_col4\" class=\"data row14 col4\" >45</td>\n",
       "                        <td id=\"T_fe200098_4d1e_11eb_a491_4cebbd09870erow14_col5\" class=\"data row14 col5\" >36</td>\n",
       "                        <td id=\"T_fe200098_4d1e_11eb_a491_4cebbd09870erow14_col6\" class=\"data row14 col6\" >20</td>\n",
       "                        <td id=\"T_fe200098_4d1e_11eb_a491_4cebbd09870erow14_col7\" class=\"data row14 col7\" >42</td>\n",
       "                        <td id=\"T_fe200098_4d1e_11eb_a491_4cebbd09870erow14_col8\" class=\"data row14 col8\" >27</td>\n",
       "                        <td id=\"T_fe200098_4d1e_11eb_a491_4cebbd09870erow14_col9\" class=\"data row14 col9\" >24</td>\n",
       "                        <td id=\"T_fe200098_4d1e_11eb_a491_4cebbd09870erow14_col10\" class=\"data row14 col10\" >19</td>\n",
       "                        <td id=\"T_fe200098_4d1e_11eb_a491_4cebbd09870erow14_col11\" class=\"data row14 col11\" >32</td>\n",
       "                        <td id=\"T_fe200098_4d1e_11eb_a491_4cebbd09870erow14_col12\" class=\"data row14 col12\" >40</td>\n",
       "                        <td id=\"T_fe200098_4d1e_11eb_a491_4cebbd09870erow14_col13\" class=\"data row14 col13\" >19</td>\n",
       "                        <td id=\"T_fe200098_4d1e_11eb_a491_4cebbd09870erow14_col14\" class=\"data row14 col14\" >61</td>\n",
       "                        <td id=\"T_fe200098_4d1e_11eb_a491_4cebbd09870erow14_col15\" class=\"data row14 col15\" >29</td>\n",
       "            </tr>\n",
       "            <tr>\n",
       "                        <th id=\"T_fe200098_4d1e_11eb_a491_4cebbd09870elevel0_row15\" class=\"row_heading level0 row15\" >Family History</th>\n",
       "                        <td id=\"T_fe200098_4d1e_11eb_a491_4cebbd09870erow15_col0\" class=\"data row15 col0\" >74</td>\n",
       "                        <td id=\"T_fe200098_4d1e_11eb_a491_4cebbd09870erow15_col1\" class=\"data row15 col1\" >120</td>\n",
       "                        <td id=\"T_fe200098_4d1e_11eb_a491_4cebbd09870erow15_col2\" class=\"data row15 col2\" >112</td>\n",
       "                        <td id=\"T_fe200098_4d1e_11eb_a491_4cebbd09870erow15_col3\" class=\"data row15 col3\" >84</td>\n",
       "                        <td id=\"T_fe200098_4d1e_11eb_a491_4cebbd09870erow15_col4\" class=\"data row15 col4\" >108</td>\n",
       "                        <td id=\"T_fe200098_4d1e_11eb_a491_4cebbd09870erow15_col5\" class=\"data row15 col5\" >86</td>\n",
       "                        <td id=\"T_fe200098_4d1e_11eb_a491_4cebbd09870erow15_col6\" class=\"data row15 col6\" >41</td>\n",
       "                        <td id=\"T_fe200098_4d1e_11eb_a491_4cebbd09870erow15_col7\" class=\"data row15 col7\" >89</td>\n",
       "                        <td id=\"T_fe200098_4d1e_11eb_a491_4cebbd09870erow15_col8\" class=\"data row15 col8\" >74</td>\n",
       "                        <td id=\"T_fe200098_4d1e_11eb_a491_4cebbd09870erow15_col9\" class=\"data row15 col9\" >57</td>\n",
       "                        <td id=\"T_fe200098_4d1e_11eb_a491_4cebbd09870erow15_col10\" class=\"data row15 col10\" >73</td>\n",
       "                        <td id=\"T_fe200098_4d1e_11eb_a491_4cebbd09870erow15_col11\" class=\"data row15 col11\" >88</td>\n",
       "                        <td id=\"T_fe200098_4d1e_11eb_a491_4cebbd09870erow15_col12\" class=\"data row15 col12\" >61</td>\n",
       "                        <td id=\"T_fe200098_4d1e_11eb_a491_4cebbd09870erow15_col13\" class=\"data row15 col13\" >39</td>\n",
       "                        <td id=\"T_fe200098_4d1e_11eb_a491_4cebbd09870erow15_col14\" class=\"data row15 col14\" >29</td>\n",
       "                        <td id=\"T_fe200098_4d1e_11eb_a491_4cebbd09870erow15_col15\" class=\"data row15 col15\" >160</td>\n",
       "            </tr>\n",
       "    </tbody></table>"
      ],
      "text/plain": [
       "<pandas.io.formats.style.Styler at 0x268698e2588>"
      ]
     },
     "metadata": {},
     "output_type": "display_data"
    }
   ],
   "source": [
    "# a table that shows cross correlation between 2 features with positive diagnosis\n",
    "\n",
    "cross_features = pd.DataFrame(np.zeros([16,16]), columns = Features[1:],\n",
    "                              index=Features[1:], dtype = np.int32)\n",
    "cm = sns.light_palette(\"green\", as_cmap=True)\n",
    "ixd = {}\n",
    "for feat in Features[1:]:\n",
    "    ixd[feat] = (X[feat]==1)[Y.index[(Y == 1)['Diagnosis'] == True].tolist()]\n",
    "\n",
    "for feat in Features[1:]:\n",
    "    for feat2 in Features[1:]:\n",
    "        cross_features[feat][feat2]=sum(1 for i in Y.index[\n",
    "            (Y == 1)['Diagnosis']==True] if ixd[feat][i] and ixd[feat2][i])\n",
    "\n",
    "cross_features = cross_features.style.\\\n",
    "    set_caption(\"Cross-Correlation between features with positive diagnosis\").set_table_styles([{\n",
    "    'selector': 'caption', 'props': [('color', 'green'),('font-size', '16px')]}]).\\\n",
    "    background_gradient(cmap=cm)\n",
    "display(cross_features)"
   ]
  },
  {
   "cell_type": "code",
   "execution_count": null,
   "metadata": {},
   "outputs": [],
   "source": []
  },
  {
   "cell_type": "markdown",
   "metadata": {},
   "source": [
    "##### 3) d.\n",
    "###### i.\n",
    "**Q:** Was there anything unexpected?\n",
    "\n",
    "**A:**\n",
    "\n",
    "###### ii.\n",
    "**Q:** Are there any features that you feel will be particularly important to your model? Explain why.\n",
    "\n",
    "**A:** "
   ]
  },
  {
   "cell_type": "code",
   "execution_count": 7,
   "metadata": {},
   "outputs": [
    {
     "name": "stdout",
     "output_type": "stream",
     "text": [
      "[[0. 1. 1. ... 0. 1. 0.]\n",
      " [0. 1. 1. ... 0. 1. 0.]\n",
      " [0. 1. 0. ... 1. 1. 0.]\n",
      " ...\n",
      " [1. 0. 0. ... 1. 0. 1.]\n",
      " [0. 1. 1. ... 0. 1. 0.]\n",
      " [0. 1. 1. ... 0. 1. 0.]]\n",
      "(523, 34)\n"
     ]
    }
   ],
   "source": [
    "#4)\n",
    "#encoding our data as one hot vector\n",
    "\n",
    "from sklearn.preprocessing import LabelEncoder\n",
    "from sklearn.preprocessing import OneHotEncoder\n",
    "\n",
    "one_hot_data = data.drop(\"Age\", axis=1) # Age is not binary\n",
    "label_encoder = LabelEncoder()\n",
    "one_hot_encoder = OneHotEncoder(sparse=False)\n",
    "one_hot_encoded = one_hot_encoder.fit_transform(one_hot_data)\n",
    "\n",
    "print(one_hot_encoded)\n",
    "print(one_hot_encoded.shape)"
   ]
  },
  {
   "cell_type": "markdown",
   "metadata": {},
   "source": [
    "#### 5)\n",
    "**a.i**\n"
   ]
  },
  {
   "cell_type": "code",
   "execution_count": 8,
   "metadata": {},
   "outputs": [],
   "source": [
    "from sklearn.metrics import confusion_matrix, plot_confusion_matrix, roc_auc_score\n",
    "import matplotlib.pyplot as plt\n",
    "\n",
    "calc_TN = lambda y_true, y_pred: confusion_matrix(y_true, y_pred)[0, 0]\n",
    "calc_FP = lambda y_true, y_pred: confusion_matrix(y_true, y_pred)[0, 1]\n",
    "calc_FN = lambda y_true, y_pred: confusion_matrix(y_true, y_pred)[1, 0]\n",
    "calc_TP = lambda y_true, y_pred: confusion_matrix(y_true, y_pred)[1, 1]\n",
    "\n",
    "def evaluate_metrics(y_test, y_pred_test):\n",
    "    TN = calc_TN(y_test, y_pred_test)\n",
    "    FP = calc_FP(y_test, y_pred_test)\n",
    "    FN = calc_FN(y_test, y_pred_test)\n",
    "    TP = calc_TP(y_test, y_pred_test)\n",
    "    PPV = TP / (TP + FP)\n",
    "    SE = TP / (TP + FN)\n",
    "    SP = TN/(TN+FP)\n",
    "    PPV = TP/(TP+FP)\n",
    "    ACC = (TP+TN)/(TP+TN+FP+FN)\n",
    "    F1 = (2*SE*PPV)/(SE+PPV)\n",
    "    return SE, SP, PPV, ACC, F1\n",
    "\n",
    "def plot_print_model_results(model, x_test, y_test):\n",
    "    y_pred_test = model.predict(x_test)\n",
    "    y_proba_test = model.predict_proba(x_test)\n",
    "    plot_confusion_matrix(model, x_test, y_test, cmap=plt.cm.Blues)\n",
    "    plt.grid(False)\n",
    "    \n",
    "    [SE, SP, PPV, ACC, F1] = evaluate_metrics(y_test, y_pred_test)\n",
    "    print('Sensitvity: {:.2f}'.format(SE))\n",
    "    print('Specifcity: {:.2f}'.format(SP))\n",
    "    print('Percision: {:.2f}'.format(PPV))\n",
    "    print('Accuracy: {:.2f}'.format(ACC))\n",
    "    print('F1: {:.2f}'.format(F1))\n",
    "    print('AUROC: {:.2f}'.format(roc_auc_score(y_test, y_proba_test[:,1])))\n"
   ]
  },
  {
   "cell_type": "code",
   "execution_count": 9,
   "metadata": {},
   "outputs": [
    {
     "name": "stdout",
     "output_type": "stream",
     "text": [
      "Fitting 5 folds for each of 6 candidates, totalling 30 fits\n",
      "[CV] svm__C=0.01, svm__kernel=linear .................................\n",
      "[CV]  svm__C=0.01, svm__kernel=linear, accuracy=(train=0.910, test=0.881), f1=(train=0.924, test=0.896), precision=(train=0.968, test=0.956), recall=(train=0.883, test=0.843), roc_auc=(train=0.973, test=0.983), total=   0.0s\n",
      "[CV] svm__C=0.01, svm__kernel=linear .................................\n",
      "[CV]  svm__C=0.01, svm__kernel=linear, accuracy=(train=0.919, test=0.869), f1=(train=0.931, test=0.887), precision=(train=0.973, test=0.956), recall=(train=0.893, test=0.827), roc_auc=(train=0.979, test=0.956), total=   0.0s\n",
      "[CV] svm__C=0.01, svm__kernel=linear .................................\n",
      "[CV]  svm__C=0.01, svm__kernel=linear, accuracy=(train=0.922, test=0.881), f1=(train=0.933, test=0.898), precision=(train=0.994, test=0.957), recall=(train=0.878, test=0.846), roc_auc=(train=0.981, test=0.954), total=   0.0s\n",
      "[CV] svm__C=0.01, svm__kernel=linear .................................\n",
      "[CV]  svm__C=0.01, svm__kernel=linear, accuracy=(train=0.901, test=0.940), f1=(train=0.916, test=0.948), precision=(train=0.958, test=1.000), recall=(train=0.879, test=0.902), roc_auc=(train=0.976, test=0.979), total=   0.0s\n",
      "[CV] svm__C=0.01, svm__kernel=linear .................................\n",
      "[CV]  svm__C=0.01, svm__kernel=linear, accuracy=(train=0.896, test=0.928), f1=(train=0.910, test=0.939), precision=(train=0.962, test=0.979), recall=(train=0.864, test=0.902), roc_auc=(train=0.973, test=0.988), total=   0.0s\n",
      "[CV] svm__C=0.1, svm__kernel=linear ..................................\n",
      "[CV]  svm__C=0.1, svm__kernel=linear, accuracy=(train=0.937, test=0.940), f1=(train=0.948, test=0.951), precision=(train=0.960, test=0.942), recall=(train=0.937, test=0.961), roc_auc=(train=0.978, test=0.988), total=   0.0s\n",
      "[CV] svm__C=0.1, svm__kernel=linear ..................................\n",
      "[CV]  svm__C=0.1, svm__kernel=linear, accuracy=(train=0.934, test=0.905), f1=(train=0.947, test=0.922), precision=(train=0.938, test=0.940), recall=(train=0.956, test=0.904), roc_auc=(train=0.983, test=0.953), total=   0.0s\n",
      "[CV] svm__C=0.1, svm__kernel=linear ..................................\n"
     ]
    },
    {
     "name": "stderr",
     "output_type": "stream",
     "text": [
      "[Parallel(n_jobs=1)]: Using backend SequentialBackend with 1 concurrent workers.\n",
      "C:\\Users\\Dormi\\anaconda3\\envs\\bm-336546-hw2\\lib\\site-packages\\sklearn\\utils\\validation.py:72: DataConversionWarning: A column-vector y was passed when a 1d array was expected. Please change the shape of y to (n_samples, ), for example using ravel().\n",
      "  return f(**kwargs)\n",
      "[Parallel(n_jobs=1)]: Done   1 out of   1 | elapsed:    0.0s remaining:    0.0s\n",
      "C:\\Users\\Dormi\\anaconda3\\envs\\bm-336546-hw2\\lib\\site-packages\\sklearn\\utils\\validation.py:72: DataConversionWarning: A column-vector y was passed when a 1d array was expected. Please change the shape of y to (n_samples, ), for example using ravel().\n",
      "  return f(**kwargs)\n",
      "[Parallel(n_jobs=1)]: Done   2 out of   2 | elapsed:    0.0s remaining:    0.0s\n",
      "C:\\Users\\Dormi\\anaconda3\\envs\\bm-336546-hw2\\lib\\site-packages\\sklearn\\utils\\validation.py:72: DataConversionWarning: A column-vector y was passed when a 1d array was expected. Please change the shape of y to (n_samples, ), for example using ravel().\n",
      "  return f(**kwargs)\n",
      "C:\\Users\\Dormi\\anaconda3\\envs\\bm-336546-hw2\\lib\\site-packages\\sklearn\\utils\\validation.py:72: DataConversionWarning: A column-vector y was passed when a 1d array was expected. Please change the shape of y to (n_samples, ), for example using ravel().\n",
      "  return f(**kwargs)\n",
      "C:\\Users\\Dormi\\anaconda3\\envs\\bm-336546-hw2\\lib\\site-packages\\sklearn\\utils\\validation.py:72: DataConversionWarning: A column-vector y was passed when a 1d array was expected. Please change the shape of y to (n_samples, ), for example using ravel().\n",
      "  return f(**kwargs)\n",
      "C:\\Users\\Dormi\\anaconda3\\envs\\bm-336546-hw2\\lib\\site-packages\\sklearn\\utils\\validation.py:72: DataConversionWarning: A column-vector y was passed when a 1d array was expected. Please change the shape of y to (n_samples, ), for example using ravel().\n",
      "  return f(**kwargs)\n",
      "C:\\Users\\Dormi\\anaconda3\\envs\\bm-336546-hw2\\lib\\site-packages\\sklearn\\utils\\validation.py:72: DataConversionWarning: A column-vector y was passed when a 1d array was expected. Please change the shape of y to (n_samples, ), for example using ravel().\n",
      "  return f(**kwargs)\n"
     ]
    },
    {
     "name": "stdout",
     "output_type": "stream",
     "text": [
      "[CV]  svm__C=0.1, svm__kernel=linear, accuracy=(train=0.958, test=0.881), f1=(train=0.965, test=0.902), precision=(train=0.985, test=0.920), recall=(train=0.946, test=0.885), roc_auc=(train=0.980, test=0.941), total=   0.0s\n",
      "[CV] svm__C=0.1, svm__kernel=linear ..................................\n",
      "[CV]  svm__C=0.1, svm__kernel=linear, accuracy=(train=0.937, test=0.928), f1=(train=0.948, test=0.938), precision=(train=0.960, test=1.000), recall=(train=0.937, test=0.882), roc_auc=(train=0.977, test=0.979), total=   0.0s\n",
      "[CV] svm__C=0.1, svm__kernel=linear ..................................\n"
     ]
    },
    {
     "name": "stderr",
     "output_type": "stream",
     "text": [
      "C:\\Users\\Dormi\\anaconda3\\envs\\bm-336546-hw2\\lib\\site-packages\\sklearn\\utils\\validation.py:72: DataConversionWarning: A column-vector y was passed when a 1d array was expected. Please change the shape of y to (n_samples, ), for example using ravel().\n",
      "  return f(**kwargs)\n",
      "C:\\Users\\Dormi\\anaconda3\\envs\\bm-336546-hw2\\lib\\site-packages\\sklearn\\utils\\validation.py:72: DataConversionWarning: A column-vector y was passed when a 1d array was expected. Please change the shape of y to (n_samples, ), for example using ravel().\n",
      "  return f(**kwargs)\n",
      "C:\\Users\\Dormi\\anaconda3\\envs\\bm-336546-hw2\\lib\\site-packages\\sklearn\\utils\\validation.py:72: DataConversionWarning: A column-vector y was passed when a 1d array was expected. Please change the shape of y to (n_samples, ), for example using ravel().\n",
      "  return f(**kwargs)\n",
      "C:\\Users\\Dormi\\anaconda3\\envs\\bm-336546-hw2\\lib\\site-packages\\sklearn\\utils\\validation.py:72: DataConversionWarning: A column-vector y was passed when a 1d array was expected. Please change the shape of y to (n_samples, ), for example using ravel().\n",
      "  return f(**kwargs)\n",
      "C:\\Users\\Dormi\\anaconda3\\envs\\bm-336546-hw2\\lib\\site-packages\\sklearn\\utils\\validation.py:72: DataConversionWarning: A column-vector y was passed when a 1d array was expected. Please change the shape of y to (n_samples, ), for example using ravel().\n",
      "  return f(**kwargs)\n",
      "C:\\Users\\Dormi\\anaconda3\\envs\\bm-336546-hw2\\lib\\site-packages\\sklearn\\utils\\validation.py:72: DataConversionWarning: A column-vector y was passed when a 1d array was expected. Please change the shape of y to (n_samples, ), for example using ravel().\n",
      "  return f(**kwargs)\n"
     ]
    },
    {
     "name": "stdout",
     "output_type": "stream",
     "text": [
      "[CV]  svm__C=0.1, svm__kernel=linear, accuracy=(train=0.928, test=0.964), f1=(train=0.941, test=0.970), precision=(train=0.950, test=0.980), recall=(train=0.932, test=0.961), roc_auc=(train=0.975, test=0.991), total=   0.0s\n",
      "[CV] svm__C=1.0, svm__kernel=linear ..................................\n",
      "[CV]  svm__C=1.0, svm__kernel=linear, accuracy=(train=0.934, test=0.893), f1=(train=0.946, test=0.911), precision=(train=0.960, test=0.920), recall=(train=0.932, test=0.902), roc_auc=(train=0.983, test=0.982), total=   0.0s\n",
      "[CV] svm__C=1.0, svm__kernel=linear ..................................\n",
      "[CV]  svm__C=1.0, svm__kernel=linear, accuracy=(train=0.949, test=0.905), f1=(train=0.959, test=0.922), precision=(train=0.952, test=0.940), recall=(train=0.966, test=0.904), roc_auc=(train=0.985, test=0.956), total=   0.0s\n",
      "[CV] svm__C=1.0, svm__kernel=linear ..................................\n",
      "[CV]  svm__C=1.0, svm__kernel=linear, accuracy=(train=0.952, test=0.881), f1=(train=0.961, test=0.904), precision=(train=0.970, test=0.904), recall=(train=0.951, test=0.904), roc_auc=(train=0.983, test=0.941), total=   0.0s\n",
      "[CV] svm__C=1.0, svm__kernel=linear ..................................\n",
      "[CV]  svm__C=1.0, svm__kernel=linear, accuracy=(train=0.943, test=0.964), f1=(train=0.954, test=0.970), precision=(train=0.961, test=1.000), recall=(train=0.947, test=0.941), roc_auc=(train=0.978, test=0.968), total=   0.0s\n",
      "[CV] svm__C=1.0, svm__kernel=linear ..................................\n",
      "[CV]  svm__C=1.0, svm__kernel=linear, accuracy=(train=0.934, test=0.952), f1=(train=0.946, test=0.962), precision=(train=0.951, test=0.943), recall=(train=0.942, test=0.980), roc_auc=(train=0.976, test=0.994), total=   0.0s\n",
      "[CV] svm__C=10.0, svm__kernel=linear .................................\n"
     ]
    },
    {
     "name": "stderr",
     "output_type": "stream",
     "text": [
      "C:\\Users\\Dormi\\anaconda3\\envs\\bm-336546-hw2\\lib\\site-packages\\sklearn\\utils\\validation.py:72: DataConversionWarning: A column-vector y was passed when a 1d array was expected. Please change the shape of y to (n_samples, ), for example using ravel().\n",
      "  return f(**kwargs)\n",
      "C:\\Users\\Dormi\\anaconda3\\envs\\bm-336546-hw2\\lib\\site-packages\\sklearn\\utils\\validation.py:72: DataConversionWarning: A column-vector y was passed when a 1d array was expected. Please change the shape of y to (n_samples, ), for example using ravel().\n",
      "  return f(**kwargs)\n",
      "C:\\Users\\Dormi\\anaconda3\\envs\\bm-336546-hw2\\lib\\site-packages\\sklearn\\utils\\validation.py:72: DataConversionWarning: A column-vector y was passed when a 1d array was expected. Please change the shape of y to (n_samples, ), for example using ravel().\n",
      "  return f(**kwargs)\n",
      "C:\\Users\\Dormi\\anaconda3\\envs\\bm-336546-hw2\\lib\\site-packages\\sklearn\\utils\\validation.py:72: DataConversionWarning: A column-vector y was passed when a 1d array was expected. Please change the shape of y to (n_samples, ), for example using ravel().\n",
      "  return f(**kwargs)\n"
     ]
    },
    {
     "name": "stdout",
     "output_type": "stream",
     "text": [
      "[CV]  svm__C=10.0, svm__kernel=linear, accuracy=(train=0.934, test=0.893), f1=(train=0.946, test=0.913), precision=(train=0.951, test=0.904), recall=(train=0.942, test=0.922), roc_auc=(train=0.984, test=0.976), total=   0.1s\n",
      "[CV] svm__C=10.0, svm__kernel=linear .................................\n",
      "[CV]  svm__C=10.0, svm__kernel=linear, accuracy=(train=0.946, test=0.917), f1=(train=0.956, test=0.932), precision=(train=0.952, test=0.941), recall=(train=0.961, test=0.923), roc_auc=(train=0.987, test=0.956), total=   0.1s\n",
      "[CV] svm__C=10.0, svm__kernel=linear .................................\n",
      "[CV]  svm__C=10.0, svm__kernel=linear, accuracy=(train=0.961, test=0.893), f1=(train=0.968, test=0.914), precision=(train=0.975, test=0.906), recall=(train=0.961, test=0.923), roc_auc=(train=0.983, test=0.950), total=   0.1s\n",
      "[CV] svm__C=10.0, svm__kernel=linear .................................\n"
     ]
    },
    {
     "name": "stderr",
     "output_type": "stream",
     "text": [
      "C:\\Users\\Dormi\\anaconda3\\envs\\bm-336546-hw2\\lib\\site-packages\\sklearn\\utils\\validation.py:72: DataConversionWarning: A column-vector y was passed when a 1d array was expected. Please change the shape of y to (n_samples, ), for example using ravel().\n",
      "  return f(**kwargs)\n",
      "C:\\Users\\Dormi\\anaconda3\\envs\\bm-336546-hw2\\lib\\site-packages\\sklearn\\utils\\validation.py:72: DataConversionWarning: A column-vector y was passed when a 1d array was expected. Please change the shape of y to (n_samples, ), for example using ravel().\n",
      "  return f(**kwargs)\n",
      "C:\\Users\\Dormi\\anaconda3\\envs\\bm-336546-hw2\\lib\\site-packages\\sklearn\\utils\\validation.py:72: DataConversionWarning: A column-vector y was passed when a 1d array was expected. Please change the shape of y to (n_samples, ), for example using ravel().\n",
      "  return f(**kwargs)\n"
     ]
    },
    {
     "name": "stdout",
     "output_type": "stream",
     "text": [
      "[CV]  svm__C=10.0, svm__kernel=linear, accuracy=(train=0.943, test=0.964), f1=(train=0.954, test=0.970), precision=(train=0.961, test=1.000), recall=(train=0.947, test=0.941), roc_auc=(train=0.980, test=0.971), total=   0.1s\n",
      "[CV] svm__C=10.0, svm__kernel=linear .................................\n",
      "[CV]  svm__C=10.0, svm__kernel=linear, accuracy=(train=0.943, test=0.940), f1=(train=0.954, test=0.950), precision=(train=0.947, test=0.960), recall=(train=0.961, test=0.941), roc_auc=(train=0.981, test=0.982), total=   0.1s\n",
      "[CV] svm__C=100.0, svm__kernel=linear ................................\n"
     ]
    },
    {
     "name": "stderr",
     "output_type": "stream",
     "text": [
      "C:\\Users\\Dormi\\anaconda3\\envs\\bm-336546-hw2\\lib\\site-packages\\sklearn\\utils\\validation.py:72: DataConversionWarning: A column-vector y was passed when a 1d array was expected. Please change the shape of y to (n_samples, ), for example using ravel().\n",
      "  return f(**kwargs)\n"
     ]
    },
    {
     "name": "stdout",
     "output_type": "stream",
     "text": [
      "[CV]  svm__C=100.0, svm__kernel=linear, accuracy=(train=0.937, test=0.893), f1=(train=0.949, test=0.911), precision=(train=0.956, test=0.920), recall=(train=0.942, test=0.902), roc_auc=(train=0.982, test=0.971), total=   0.4s\n",
      "[CV] svm__C=100.0, svm__kernel=linear ................................\n"
     ]
    },
    {
     "name": "stderr",
     "output_type": "stream",
     "text": [
      "C:\\Users\\Dormi\\anaconda3\\envs\\bm-336546-hw2\\lib\\site-packages\\sklearn\\utils\\validation.py:72: DataConversionWarning: A column-vector y was passed when a 1d array was expected. Please change the shape of y to (n_samples, ), for example using ravel().\n",
      "  return f(**kwargs)\n"
     ]
    },
    {
     "name": "stdout",
     "output_type": "stream",
     "text": [
      "[CV]  svm__C=100.0, svm__kernel=linear, accuracy=(train=0.946, test=0.917), f1=(train=0.956, test=0.932), precision=(train=0.952, test=0.941), recall=(train=0.961, test=0.923), roc_auc=(train=0.987, test=0.956), total=   0.3s\n",
      "[CV] svm__C=100.0, svm__kernel=linear ................................\n"
     ]
    },
    {
     "name": "stderr",
     "output_type": "stream",
     "text": [
      "C:\\Users\\Dormi\\anaconda3\\envs\\bm-336546-hw2\\lib\\site-packages\\sklearn\\utils\\validation.py:72: DataConversionWarning: A column-vector y was passed when a 1d array was expected. Please change the shape of y to (n_samples, ), for example using ravel().\n",
      "  return f(**kwargs)\n"
     ]
    },
    {
     "name": "stdout",
     "output_type": "stream",
     "text": [
      "[CV]  svm__C=100.0, svm__kernel=linear, accuracy=(train=0.961, test=0.893), f1=(train=0.968, test=0.913), precision=(train=0.975, test=0.922), recall=(train=0.961, test=0.904), roc_auc=(train=0.984, test=0.945), total=   0.3s\n",
      "[CV] svm__C=100.0, svm__kernel=linear ................................\n"
     ]
    },
    {
     "name": "stderr",
     "output_type": "stream",
     "text": [
      "C:\\Users\\Dormi\\anaconda3\\envs\\bm-336546-hw2\\lib\\site-packages\\sklearn\\utils\\validation.py:72: DataConversionWarning: A column-vector y was passed when a 1d array was expected. Please change the shape of y to (n_samples, ), for example using ravel().\n",
      "  return f(**kwargs)\n"
     ]
    },
    {
     "name": "stdout",
     "output_type": "stream",
     "text": [
      "[CV]  svm__C=100.0, svm__kernel=linear, accuracy=(train=0.943, test=0.964), f1=(train=0.954, test=0.970), precision=(train=0.961, test=1.000), recall=(train=0.947, test=0.941), roc_auc=(train=0.980, test=0.970), total=   0.8s\n",
      "[CV] svm__C=100.0, svm__kernel=linear ................................\n"
     ]
    },
    {
     "name": "stderr",
     "output_type": "stream",
     "text": [
      "C:\\Users\\Dormi\\anaconda3\\envs\\bm-336546-hw2\\lib\\site-packages\\sklearn\\utils\\validation.py:72: DataConversionWarning: A column-vector y was passed when a 1d array was expected. Please change the shape of y to (n_samples, ), for example using ravel().\n",
      "  return f(**kwargs)\n"
     ]
    },
    {
     "name": "stdout",
     "output_type": "stream",
     "text": [
      "[CV]  svm__C=100.0, svm__kernel=linear, accuracy=(train=0.940, test=0.928), f1=(train=0.952, test=0.941), precision=(train=0.943, test=0.941), recall=(train=0.961, test=0.941), roc_auc=(train=0.981, test=0.981), total=   0.4s\n",
      "[CV] svm__C=1000.0, svm__kernel=linear ...............................\n"
     ]
    },
    {
     "name": "stderr",
     "output_type": "stream",
     "text": [
      "C:\\Users\\Dormi\\anaconda3\\envs\\bm-336546-hw2\\lib\\site-packages\\sklearn\\utils\\validation.py:72: DataConversionWarning: A column-vector y was passed when a 1d array was expected. Please change the shape of y to (n_samples, ), for example using ravel().\n",
      "  return f(**kwargs)\n"
     ]
    },
    {
     "name": "stdout",
     "output_type": "stream",
     "text": [
      "[CV]  svm__C=1000.0, svm__kernel=linear, accuracy=(train=0.937, test=0.893), f1=(train=0.949, test=0.911), precision=(train=0.956, test=0.920), recall=(train=0.942, test=0.902), roc_auc=(train=0.982, test=0.971), total=   3.8s\n",
      "[CV] svm__C=1000.0, svm__kernel=linear ...............................\n"
     ]
    },
    {
     "name": "stderr",
     "output_type": "stream",
     "text": [
      "C:\\Users\\Dormi\\anaconda3\\envs\\bm-336546-hw2\\lib\\site-packages\\sklearn\\utils\\validation.py:72: DataConversionWarning: A column-vector y was passed when a 1d array was expected. Please change the shape of y to (n_samples, ), for example using ravel().\n",
      "  return f(**kwargs)\n"
     ]
    },
    {
     "name": "stdout",
     "output_type": "stream",
     "text": [
      "[CV]  svm__C=1000.0, svm__kernel=linear, accuracy=(train=0.946, test=0.917), f1=(train=0.956, test=0.932), precision=(train=0.952, test=0.941), recall=(train=0.961, test=0.923), roc_auc=(train=0.987, test=0.956), total=   3.1s\n",
      "[CV] svm__C=1000.0, svm__kernel=linear ...............................\n"
     ]
    },
    {
     "name": "stderr",
     "output_type": "stream",
     "text": [
      "C:\\Users\\Dormi\\anaconda3\\envs\\bm-336546-hw2\\lib\\site-packages\\sklearn\\utils\\validation.py:72: DataConversionWarning: A column-vector y was passed when a 1d array was expected. Please change the shape of y to (n_samples, ), for example using ravel().\n",
      "  return f(**kwargs)\n"
     ]
    },
    {
     "name": "stdout",
     "output_type": "stream",
     "text": [
      "[CV]  svm__C=1000.0, svm__kernel=linear, accuracy=(train=0.961, test=0.893), f1=(train=0.968, test=0.913), precision=(train=0.975, test=0.922), recall=(train=0.961, test=0.904), roc_auc=(train=0.984, test=0.945), total=   5.1s\n",
      "[CV] svm__C=1000.0, svm__kernel=linear ...............................\n"
     ]
    },
    {
     "name": "stderr",
     "output_type": "stream",
     "text": [
      "C:\\Users\\Dormi\\anaconda3\\envs\\bm-336546-hw2\\lib\\site-packages\\sklearn\\utils\\validation.py:72: DataConversionWarning: A column-vector y was passed when a 1d array was expected. Please change the shape of y to (n_samples, ), for example using ravel().\n",
      "  return f(**kwargs)\n"
     ]
    },
    {
     "name": "stdout",
     "output_type": "stream",
     "text": [
      "[CV]  svm__C=1000.0, svm__kernel=linear, accuracy=(train=0.943, test=0.964), f1=(train=0.954, test=0.970), precision=(train=0.961, test=1.000), recall=(train=0.947, test=0.941), roc_auc=(train=0.980, test=0.970), total=   7.0s\n",
      "[CV] svm__C=1000.0, svm__kernel=linear ...............................\n"
     ]
    },
    {
     "name": "stderr",
     "output_type": "stream",
     "text": [
      "C:\\Users\\Dormi\\anaconda3\\envs\\bm-336546-hw2\\lib\\site-packages\\sklearn\\utils\\validation.py:72: DataConversionWarning: A column-vector y was passed when a 1d array was expected. Please change the shape of y to (n_samples, ), for example using ravel().\n",
      "  return f(**kwargs)\n"
     ]
    },
    {
     "name": "stdout",
     "output_type": "stream",
     "text": [
      "[CV]  svm__C=1000.0, svm__kernel=linear, accuracy=(train=0.940, test=0.928), f1=(train=0.952, test=0.941), precision=(train=0.943, test=0.941), recall=(train=0.961, test=0.941), roc_auc=(train=0.981, test=0.981), total=   6.6s\n",
      "Linear SVM recieves Best results with: {'svm__C': 0.01, 'svm__kernel': 'linear'}\n",
      "Sensitvity: 0.80\n",
      "Specifcity: 0.90\n",
      "Percision: 0.93\n",
      "Accuracy: 0.84\n",
      "F1: 0.86\n",
      "AUROC: 0.96\n"
     ]
    },
    {
     "name": "stderr",
     "output_type": "stream",
     "text": [
      "[Parallel(n_jobs=1)]: Done  30 out of  30 | elapsed:   28.7s finished\n",
      "C:\\Users\\Dormi\\anaconda3\\envs\\bm-336546-hw2\\lib\\site-packages\\sklearn\\utils\\validation.py:72: DataConversionWarning: A column-vector y was passed when a 1d array was expected. Please change the shape of y to (n_samples, ), for example using ravel().\n",
      "  return f(**kwargs)\n"
     ]
    },
    {
     "data": {
      "image/png": "[encoded data removed]",
      "text/plain": [
       "<Figure size 432x288 with 2 Axes>"
      ]
     },
     "metadata": {
      "needs_background": "light"
     },
     "output_type": "display_data"
    }
   ],
   "source": [
    "#linear SVC\n",
    "from sklearn.model_selection import StratifiedKFold as SKFold\n",
    "from sklearn.model_selection import GridSearchCV\n",
    "from sklearn.svm import SVC\n",
    "from sklearn.preprocessing import StandardScaler\n",
    "from sklearn.pipeline import Pipeline\n",
    "\n",
    "k_fold_num = 5\n",
    "skf = SKFold(n_splits=k_fold_num, random_state=10, shuffle=True)\n",
    "C = np.array([0.01, 0.1, 1, 10, 100, 1000])\n",
    "#gamma = np.array([0.01, 0.1, 1, 10, 100, 1000])\n",
    "scoring = ['accuracy', 'f1', 'precision', 'recall', 'roc_auc']\n",
    "\n",
    "\n",
    "svc = SVC(probability=True)\n",
    "pipe = Pipeline(steps=[('scale', StandardScaler()),('svm', svc)])\n",
    "params = {'svm__kernel': ['linear'],\n",
    "          'svm__C':C#,\n",
    "          #'svm__gamma': gamma,\n",
    "         }\n",
    "linear_svm = GridSearchCV(estimator=pipe,\n",
    "                          param_grid=params,\n",
    "                          cv=skf,\n",
    "                          scoring=scoring,\n",
    "                          refit='roc_auc',\n",
    "                          verbose=3,\n",
    "                          return_train_score=True)\n",
    "\n",
    "linear_svm.fit(X_train, y_train)\n",
    "best_linear_svm = linear_svm.best_estimator_\n",
    "print('Linear SVM recieves Best results with: {}'.format(linear_svm.best_params_))\n",
    "plot_print_model_results(best_linear_svm, X_test, y_test)\n"
   ]
  },
  {
   "cell_type": "code",
   "execution_count": 10,
   "metadata": {},
   "outputs": [
    {
     "name": "stdout",
     "output_type": "stream",
     "text": [
      "Fitting 5 folds for each of 12 candidates, totalling 60 fits\n",
      "[CV] svm__C=0.01, svm__kernel=rbf ....................................\n",
      "[CV]  svm__C=0.01, svm__kernel=rbf, accuracy=(train=0.617, test=0.607), f1=(train=0.763, test=0.756), precision=(train=0.617, test=0.607), recall=(train=1.000, test=1.000), roc_auc=(train=0.978, test=0.967), total=   0.0s\n",
      "[CV] svm__C=0.01, svm__kernel=rbf ....................................\n"
     ]
    },
    {
     "name": "stderr",
     "output_type": "stream",
     "text": [
      "[Parallel(n_jobs=1)]: Using backend SequentialBackend with 1 concurrent workers.\n",
      "C:\\Users\\Dormi\\anaconda3\\envs\\bm-336546-hw2\\lib\\site-packages\\sklearn\\utils\\validation.py:72: DataConversionWarning: A column-vector y was passed when a 1d array was expected. Please change the shape of y to (n_samples, ), for example using ravel().\n",
      "  return f(**kwargs)\n",
      "[Parallel(n_jobs=1)]: Done   1 out of   1 | elapsed:    0.0s remaining:    0.0s\n"
     ]
    },
    {
     "name": "stdout",
     "output_type": "stream",
     "text": [
      "[CV]  svm__C=0.01, svm__kernel=rbf, accuracy=(train=0.614, test=0.619), f1=(train=0.761, test=0.765), precision=(train=0.614, test=0.619), recall=(train=1.000, test=1.000), roc_auc=(train=0.978, test=0.960), total=   0.0s\n",
      "[CV] svm__C=0.01, svm__kernel=rbf ....................................\n",
      "[CV]  svm__C=0.01, svm__kernel=rbf, accuracy=(train=0.614, test=0.619), f1=(train=0.761, test=0.765), precision=(train=0.614, test=0.619), recall=(train=1.000, test=1.000), roc_auc=(train=0.980, test=0.969), total=   0.0s\n",
      "[CV] svm__C=0.01, svm__kernel=rbf ....................................\n"
     ]
    },
    {
     "name": "stderr",
     "output_type": "stream",
     "text": [
      "C:\\Users\\Dormi\\anaconda3\\envs\\bm-336546-hw2\\lib\\site-packages\\sklearn\\utils\\validation.py:72: DataConversionWarning: A column-vector y was passed when a 1d array was expected. Please change the shape of y to (n_samples, ), for example using ravel().\n",
      "  return f(**kwargs)\n",
      "[Parallel(n_jobs=1)]: Done   2 out of   2 | elapsed:    0.0s remaining:    0.0s\n",
      "C:\\Users\\Dormi\\anaconda3\\envs\\bm-336546-hw2\\lib\\site-packages\\sklearn\\utils\\validation.py:72: DataConversionWarning: A column-vector y was passed when a 1d array was expected. Please change the shape of y to (n_samples, ), for example using ravel().\n",
      "  return f(**kwargs)\n",
      "C:\\Users\\Dormi\\anaconda3\\envs\\bm-336546-hw2\\lib\\site-packages\\sklearn\\utils\\validation.py:72: DataConversionWarning: A column-vector y was passed when a 1d array was expected. Please change the shape of y to (n_samples, ), for example using ravel().\n",
      "  return f(**kwargs)\n",
      "C:\\Users\\Dormi\\anaconda3\\envs\\bm-336546-hw2\\lib\\site-packages\\sklearn\\utils\\validation.py:72: DataConversionWarning: A column-vector y was passed when a 1d array was expected. Please change the shape of y to (n_samples, ), for example using ravel().\n",
      "  return f(**kwargs)\n",
      "C:\\Users\\Dormi\\anaconda3\\envs\\bm-336546-hw2\\lib\\site-packages\\sklearn\\utils\\validation.py:72: DataConversionWarning: A column-vector y was passed when a 1d array was expected. Please change the shape of y to (n_samples, ), for example using ravel().\n",
      "  return f(**kwargs)\n"
     ]
    },
    {
     "name": "stdout",
     "output_type": "stream",
     "text": [
      "[CV]  svm__C=0.01, svm__kernel=rbf, accuracy=(train=0.615, test=0.614), f1=(train=0.762, test=0.761), precision=(train=0.615, test=0.614), recall=(train=1.000, test=1.000), roc_auc=(train=0.977, test=0.980), total=   0.0s\n",
      "[CV] svm__C=0.01, svm__kernel=rbf ....................................\n",
      "[CV]  svm__C=0.01, svm__kernel=rbf, accuracy=(train=0.615, test=0.614), f1=(train=0.762, test=0.761), precision=(train=0.615, test=0.614), recall=(train=1.000, test=1.000), roc_auc=(train=0.977, test=0.983), total=   0.0s\n",
      "[CV] svm__C=0.01, svm__kernel=poly ...................................\n",
      "[CV]  svm__C=0.01, svm__kernel=poly, accuracy=(train=0.617, test=0.607), f1=(train=0.763, test=0.756), precision=(train=0.617, test=0.607), recall=(train=1.000, test=1.000), roc_auc=(train=0.994, test=0.976), total=   0.0s\n",
      "[CV] svm__C=0.01, svm__kernel=poly ...................................\n",
      "[CV]  svm__C=0.01, svm__kernel=poly, accuracy=(train=0.614, test=0.619), f1=(train=0.761, test=0.765), precision=(train=0.614, test=0.619), recall=(train=1.000, test=1.000), roc_auc=(train=0.994, test=0.977), total=   0.0s\n",
      "[CV] svm__C=0.01, svm__kernel=poly ...................................\n",
      "[CV]  svm__C=0.01, svm__kernel=poly, accuracy=(train=0.614, test=0.619), f1=(train=0.761, test=0.765), precision=(train=0.614, test=0.619), recall=(train=1.000, test=1.000), roc_auc=(train=0.989, test=0.984), total=   0.0s\n",
      "[CV] svm__C=0.01, svm__kernel=poly ...................................\n",
      "[CV]  svm__C=0.01, svm__kernel=poly, accuracy=(train=0.615, test=0.614), f1=(train=0.762, test=0.761), precision=(train=0.615, test=0.614), recall=(train=1.000, test=1.000), roc_auc=(train=0.991, test=0.990), total=   0.0s\n",
      "[CV] svm__C=0.01, svm__kernel=poly ...................................\n"
     ]
    },
    {
     "name": "stderr",
     "output_type": "stream",
     "text": [
      "C:\\Users\\Dormi\\anaconda3\\envs\\bm-336546-hw2\\lib\\site-packages\\sklearn\\utils\\validation.py:72: DataConversionWarning: A column-vector y was passed when a 1d array was expected. Please change the shape of y to (n_samples, ), for example using ravel().\n",
      "  return f(**kwargs)\n",
      "C:\\Users\\Dormi\\anaconda3\\envs\\bm-336546-hw2\\lib\\site-packages\\sklearn\\utils\\validation.py:72: DataConversionWarning: A column-vector y was passed when a 1d array was expected. Please change the shape of y to (n_samples, ), for example using ravel().\n",
      "  return f(**kwargs)\n",
      "C:\\Users\\Dormi\\anaconda3\\envs\\bm-336546-hw2\\lib\\site-packages\\sklearn\\utils\\validation.py:72: DataConversionWarning: A column-vector y was passed when a 1d array was expected. Please change the shape of y to (n_samples, ), for example using ravel().\n",
      "  return f(**kwargs)\n",
      "C:\\Users\\Dormi\\anaconda3\\envs\\bm-336546-hw2\\lib\\site-packages\\sklearn\\utils\\validation.py:72: DataConversionWarning: A column-vector y was passed when a 1d array was expected. Please change the shape of y to (n_samples, ), for example using ravel().\n",
      "  return f(**kwargs)\n",
      "C:\\Users\\Dormi\\anaconda3\\envs\\bm-336546-hw2\\lib\\site-packages\\sklearn\\utils\\validation.py:72: DataConversionWarning: A column-vector y was passed when a 1d array was expected. Please change the shape of y to (n_samples, ), for example using ravel().\n",
      "  return f(**kwargs)\n"
     ]
    },
    {
     "name": "stdout",
     "output_type": "stream",
     "text": [
      "[CV]  svm__C=0.01, svm__kernel=poly, accuracy=(train=0.615, test=0.614), f1=(train=0.762, test=0.761), precision=(train=0.615, test=0.614), recall=(train=1.000, test=1.000), roc_auc=(train=0.991, test=0.994), total=   0.0s\n",
      "[CV] svm__C=0.1, svm__kernel=rbf .....................................\n",
      "[CV]  svm__C=0.1, svm__kernel=rbf, accuracy=(train=0.946, test=0.917), f1=(train=0.957, test=0.932), precision=(train=0.952, test=0.923), recall=(train=0.961, test=0.941), roc_auc=(train=0.985, test=0.980), total=   0.0s\n",
      "[CV] svm__C=0.1, svm__kernel=rbf .....................................\n",
      "[CV]  svm__C=0.1, svm__kernel=rbf, accuracy=(train=0.943, test=0.929), f1=(train=0.954, test=0.942), precision=(train=0.939, test=0.942), recall=(train=0.971, test=0.942), roc_auc=(train=0.987, test=0.969), total=   0.0s\n",
      "[CV] svm__C=0.1, svm__kernel=rbf .....................................\n",
      "[CV]  svm__C=0.1, svm__kernel=rbf, accuracy=(train=0.943, test=0.940), f1=(train=0.954, test=0.953), precision=(train=0.951, test=0.927), recall=(train=0.956, test=0.981), roc_auc=(train=0.987, test=0.975), total=   0.0s\n",
      "[CV] svm__C=0.1, svm__kernel=rbf .....................................\n"
     ]
    },
    {
     "name": "stderr",
     "output_type": "stream",
     "text": [
      "C:\\Users\\Dormi\\anaconda3\\envs\\bm-336546-hw2\\lib\\site-packages\\sklearn\\utils\\validation.py:72: DataConversionWarning: A column-vector y was passed when a 1d array was expected. Please change the shape of y to (n_samples, ), for example using ravel().\n",
      "  return f(**kwargs)\n",
      "C:\\Users\\Dormi\\anaconda3\\envs\\bm-336546-hw2\\lib\\site-packages\\sklearn\\utils\\validation.py:72: DataConversionWarning: A column-vector y was passed when a 1d array was expected. Please change the shape of y to (n_samples, ), for example using ravel().\n",
      "  return f(**kwargs)\n",
      "C:\\Users\\Dormi\\anaconda3\\envs\\bm-336546-hw2\\lib\\site-packages\\sklearn\\utils\\validation.py:72: DataConversionWarning: A column-vector y was passed when a 1d array was expected. Please change the shape of y to (n_samples, ), for example using ravel().\n",
      "  return f(**kwargs)\n"
     ]
    },
    {
     "name": "stdout",
     "output_type": "stream",
     "text": [
      "[CV]  svm__C=0.1, svm__kernel=rbf, accuracy=(train=0.940, test=0.940), f1=(train=0.952, test=0.950), precision=(train=0.935, test=0.960), recall=(train=0.971, test=0.941), roc_auc=(train=0.986, test=0.984), total=   0.0s\n",
      "[CV] svm__C=0.1, svm__kernel=rbf .....................................\n",
      "[CV]  svm__C=0.1, svm__kernel=rbf, accuracy=(train=0.931, test=0.952), f1=(train=0.945, test=0.962), precision=(train=0.938, test=0.943), recall=(train=0.951, test=0.980), roc_auc=(train=0.984, test=0.991), total=   0.0s\n",
      "[CV] svm__C=0.1, svm__kernel=poly ....................................\n"
     ]
    },
    {
     "name": "stderr",
     "output_type": "stream",
     "text": [
      "C:\\Users\\Dormi\\anaconda3\\envs\\bm-336546-hw2\\lib\\site-packages\\sklearn\\utils\\validation.py:72: DataConversionWarning: A column-vector y was passed when a 1d array was expected. Please change the shape of y to (n_samples, ), for example using ravel().\n",
      "  return f(**kwargs)\n",
      "C:\\Users\\Dormi\\anaconda3\\envs\\bm-336546-hw2\\lib\\site-packages\\sklearn\\utils\\validation.py:72: DataConversionWarning: A column-vector y was passed when a 1d array was expected. Please change the shape of y to (n_samples, ), for example using ravel().\n",
      "  return f(**kwargs)\n",
      "C:\\Users\\Dormi\\anaconda3\\envs\\bm-336546-hw2\\lib\\site-packages\\sklearn\\utils\\validation.py:72: DataConversionWarning: A column-vector y was passed when a 1d array was expected. Please change the shape of y to (n_samples, ), for example using ravel().\n",
      "  return f(**kwargs)\n",
      "C:\\Users\\Dormi\\anaconda3\\envs\\bm-336546-hw2\\lib\\site-packages\\sklearn\\utils\\validation.py:72: DataConversionWarning: A column-vector y was passed when a 1d array was expected. Please change the shape of y to (n_samples, ), for example using ravel().\n",
      "  return f(**kwargs)\n",
      "C:\\Users\\Dormi\\anaconda3\\envs\\bm-336546-hw2\\lib\\site-packages\\sklearn\\utils\\validation.py:72: DataConversionWarning: A column-vector y was passed when a 1d array was expected. Please change the shape of y to (n_samples, ), for example using ravel().\n",
      "  return f(**kwargs)\n"
     ]
    },
    {
     "name": "stdout",
     "output_type": "stream",
     "text": [
      "[CV]  svm__C=0.1, svm__kernel=poly, accuracy=(train=0.955, test=0.905), f1=(train=0.964, test=0.923), precision=(train=0.953, test=0.906), recall=(train=0.976, test=0.941), roc_auc=(train=0.994, test=0.982), total=   0.0s\n",
      "[CV] svm__C=0.1, svm__kernel=poly ....................................\n",
      "[CV]  svm__C=0.1, svm__kernel=poly, accuracy=(train=0.949, test=0.929), f1=(train=0.959, test=0.943), precision=(train=0.939, test=0.926), recall=(train=0.980, test=0.962), roc_auc=(train=0.994, test=0.981), total=   0.0s\n",
      "[CV] svm__C=0.1, svm__kernel=poly ....................................\n",
      "[CV]  svm__C=0.1, svm__kernel=poly, accuracy=(train=0.931, test=0.940), f1=(train=0.945, test=0.953), precision=(train=0.921, test=0.927), recall=(train=0.971, test=0.981), roc_auc=(train=0.993, test=0.986), total=   0.0s\n",
      "[CV] svm__C=0.1, svm__kernel=poly ....................................\n",
      "[CV]  svm__C=0.1, svm__kernel=poly, accuracy=(train=0.946, test=0.928), f1=(train=0.957, test=0.942), precision=(train=0.935, test=0.925), recall=(train=0.981, test=0.961), roc_auc=(train=0.993, test=0.990), total=   0.0s\n",
      "[CV] svm__C=0.1, svm__kernel=poly ....................................\n"
     ]
    },
    {
     "name": "stderr",
     "output_type": "stream",
     "text": [
      "C:\\Users\\Dormi\\anaconda3\\envs\\bm-336546-hw2\\lib\\site-packages\\sklearn\\utils\\validation.py:72: DataConversionWarning: A column-vector y was passed when a 1d array was expected. Please change the shape of y to (n_samples, ), for example using ravel().\n",
      "  return f(**kwargs)\n",
      "C:\\Users\\Dormi\\anaconda3\\envs\\bm-336546-hw2\\lib\\site-packages\\sklearn\\utils\\validation.py:72: DataConversionWarning: A column-vector y was passed when a 1d array was expected. Please change the shape of y to (n_samples, ), for example using ravel().\n",
      "  return f(**kwargs)\n"
     ]
    },
    {
     "name": "stdout",
     "output_type": "stream",
     "text": [
      "[CV]  svm__C=0.1, svm__kernel=poly, accuracy=(train=0.934, test=0.940), f1=(train=0.948, test=0.953), precision=(train=0.926, test=0.911), recall=(train=0.971, test=1.000), roc_auc=(train=0.992, test=0.995), total=   0.0s\n",
      "[CV] svm__C=1.0, svm__kernel=rbf .....................................\n",
      "[CV]  svm__C=1.0, svm__kernel=rbf, accuracy=(train=0.982, test=0.964), f1=(train=0.985, test=0.970), precision=(train=0.995, test=0.980), recall=(train=0.976, test=0.961), roc_auc=(train=1.000, test=0.995), total=   0.0s\n",
      "[CV] svm__C=1.0, svm__kernel=rbf .....................................\n"
     ]
    },
    {
     "name": "stderr",
     "output_type": "stream",
     "text": [
      "C:\\Users\\Dormi\\anaconda3\\envs\\bm-336546-hw2\\lib\\site-packages\\sklearn\\utils\\validation.py:72: DataConversionWarning: A column-vector y was passed when a 1d array was expected. Please change the shape of y to (n_samples, ), for example using ravel().\n",
      "  return f(**kwargs)\n",
      "C:\\Users\\Dormi\\anaconda3\\envs\\bm-336546-hw2\\lib\\site-packages\\sklearn\\utils\\validation.py:72: DataConversionWarning: A column-vector y was passed when a 1d array was expected. Please change the shape of y to (n_samples, ), for example using ravel().\n",
      "  return f(**kwargs)\n",
      "C:\\Users\\Dormi\\anaconda3\\envs\\bm-336546-hw2\\lib\\site-packages\\sklearn\\utils\\validation.py:72: DataConversionWarning: A column-vector y was passed when a 1d array was expected. Please change the shape of y to (n_samples, ), for example using ravel().\n",
      "  return f(**kwargs)\n",
      "C:\\Users\\Dormi\\anaconda3\\envs\\bm-336546-hw2\\lib\\site-packages\\sklearn\\utils\\validation.py:72: DataConversionWarning: A column-vector y was passed when a 1d array was expected. Please change the shape of y to (n_samples, ), for example using ravel().\n",
      "  return f(**kwargs)\n"
     ]
    },
    {
     "name": "stdout",
     "output_type": "stream",
     "text": [
      "[CV]  svm__C=1.0, svm__kernel=rbf, accuracy=(train=0.982, test=0.964), f1=(train=0.985, test=0.970), precision=(train=0.995, test=1.000), recall=(train=0.976, test=0.942), roc_auc=(train=0.999, test=0.996), total=   0.0s\n",
      "[CV] svm__C=1.0, svm__kernel=rbf .....................................\n",
      "[CV]  svm__C=1.0, svm__kernel=rbf, accuracy=(train=0.988, test=0.940), f1=(train=0.990, test=0.953), precision=(train=0.995, test=0.927), recall=(train=0.985, test=0.981), roc_auc=(train=1.000, test=0.992), total=   0.0s\n",
      "[CV] svm__C=1.0, svm__kernel=rbf .....................................\n",
      "[CV]  svm__C=1.0, svm__kernel=rbf, accuracy=(train=0.982, test=0.952), f1=(train=0.985, test=0.959), precision=(train=0.995, test=1.000), recall=(train=0.976, test=0.922), roc_auc=(train=0.999, test=1.000), total=   0.0s\n",
      "[CV] svm__C=1.0, svm__kernel=rbf .....................................\n",
      "[CV]  svm__C=1.0, svm__kernel=rbf, accuracy=(train=0.985, test=0.964), f1=(train=0.988, test=0.970), precision=(train=0.990, test=1.000), recall=(train=0.985, test=0.941), roc_auc=(train=0.999, test=0.999), total=   0.0s\n",
      "[CV] svm__C=1.0, svm__kernel=poly ....................................\n",
      "[CV]  svm__C=1.0, svm__kernel=poly, accuracy=(train=0.994, test=0.940), f1=(train=0.995, test=0.950), precision=(train=1.000, test=0.960), recall=(train=0.990, test=0.941), roc_auc=(train=1.000, test=0.993), total=   0.0s\n",
      "[CV] svm__C=1.0, svm__kernel=poly ....................................\n"
     ]
    },
    {
     "name": "stderr",
     "output_type": "stream",
     "text": [
      "C:\\Users\\Dormi\\anaconda3\\envs\\bm-336546-hw2\\lib\\site-packages\\sklearn\\utils\\validation.py:72: DataConversionWarning: A column-vector y was passed when a 1d array was expected. Please change the shape of y to (n_samples, ), for example using ravel().\n",
      "  return f(**kwargs)\n",
      "C:\\Users\\Dormi\\anaconda3\\envs\\bm-336546-hw2\\lib\\site-packages\\sklearn\\utils\\validation.py:72: DataConversionWarning: A column-vector y was passed when a 1d array was expected. Please change the shape of y to (n_samples, ), for example using ravel().\n",
      "  return f(**kwargs)\n"
     ]
    },
    {
     "name": "stdout",
     "output_type": "stream",
     "text": [
      "[CV]  svm__C=1.0, svm__kernel=poly, accuracy=(train=0.991, test=0.952), f1=(train=0.993, test=0.960), precision=(train=1.000, test=1.000), recall=(train=0.985, test=0.923), roc_auc=(train=1.000, test=0.993), total=   0.0s\n",
      "[CV] svm__C=1.0, svm__kernel=poly ....................................\n",
      "[CV]  svm__C=1.0, svm__kernel=poly, accuracy=(train=0.991, test=0.940), f1=(train=0.993, test=0.953), precision=(train=0.995, test=0.927), recall=(train=0.990, test=0.981), roc_auc=(train=1.000, test=0.992), total=   0.0s\n",
      "[CV] svm__C=1.0, svm__kernel=poly ....................................\n"
     ]
    },
    {
     "name": "stderr",
     "output_type": "stream",
     "text": [
      "C:\\Users\\Dormi\\anaconda3\\envs\\bm-336546-hw2\\lib\\site-packages\\sklearn\\utils\\validation.py:72: DataConversionWarning: A column-vector y was passed when a 1d array was expected. Please change the shape of y to (n_samples, ), for example using ravel().\n",
      "  return f(**kwargs)\n",
      "C:\\Users\\Dormi\\anaconda3\\envs\\bm-336546-hw2\\lib\\site-packages\\sklearn\\utils\\validation.py:72: DataConversionWarning: A column-vector y was passed when a 1d array was expected. Please change the shape of y to (n_samples, ), for example using ravel().\n",
      "  return f(**kwargs)\n",
      "C:\\Users\\Dormi\\anaconda3\\envs\\bm-336546-hw2\\lib\\site-packages\\sklearn\\utils\\validation.py:72: DataConversionWarning: A column-vector y was passed when a 1d array was expected. Please change the shape of y to (n_samples, ), for example using ravel().\n",
      "  return f(**kwargs)\n"
     ]
    },
    {
     "name": "stdout",
     "output_type": "stream",
     "text": [
      "[CV]  svm__C=1.0, svm__kernel=poly, accuracy=(train=0.988, test=0.964), f1=(train=0.990, test=0.970), precision=(train=1.000, test=1.000), recall=(train=0.981, test=0.941), roc_auc=(train=0.999, test=0.999), total=   0.0s\n",
      "[CV] svm__C=1.0, svm__kernel=poly ....................................\n",
      "[CV]  svm__C=1.0, svm__kernel=poly, accuracy=(train=0.991, test=0.976), f1=(train=0.993, test=0.980), precision=(train=0.995, test=1.000), recall=(train=0.990, test=0.961), roc_auc=(train=1.000, test=1.000), total=   0.0s\n",
      "[CV] svm__C=10.0, svm__kernel=rbf ....................................\n",
      "[CV]  svm__C=10.0, svm__kernel=rbf, accuracy=(train=0.997, test=0.952), f1=(train=0.998, test=0.960), precision=(train=1.000, test=0.980), recall=(train=0.995, test=0.941), roc_auc=(train=1.000, test=0.994), total=   0.0s\n",
      "[CV] svm__C=10.0, svm__kernel=rbf ....................................\n",
      "[CV]  svm__C=10.0, svm__kernel=rbf, accuracy=(train=0.997, test=0.976), f1=(train=0.998, test=0.980), precision=(train=1.000, test=1.000), recall=(train=0.995, test=0.962), roc_auc=(train=1.000, test=0.997), total=   0.0s\n",
      "[CV] svm__C=10.0, svm__kernel=rbf ....................................\n"
     ]
    },
    {
     "name": "stderr",
     "output_type": "stream",
     "text": [
      "C:\\Users\\Dormi\\anaconda3\\envs\\bm-336546-hw2\\lib\\site-packages\\sklearn\\utils\\validation.py:72: DataConversionWarning: A column-vector y was passed when a 1d array was expected. Please change the shape of y to (n_samples, ), for example using ravel().\n",
      "  return f(**kwargs)\n",
      "C:\\Users\\Dormi\\anaconda3\\envs\\bm-336546-hw2\\lib\\site-packages\\sklearn\\utils\\validation.py:72: DataConversionWarning: A column-vector y was passed when a 1d array was expected. Please change the shape of y to (n_samples, ), for example using ravel().\n",
      "  return f(**kwargs)\n"
     ]
    },
    {
     "name": "stdout",
     "output_type": "stream",
     "text": [
      "[CV]  svm__C=10.0, svm__kernel=rbf, accuracy=(train=0.994, test=0.952), f1=(train=0.995, test=0.963), precision=(train=0.995, test=0.929), recall=(train=0.995, test=1.000), roc_auc=(train=1.000, test=0.998), total=   0.0s\n",
      "[CV] svm__C=10.0, svm__kernel=rbf ....................................\n",
      "[CV]  svm__C=10.0, svm__kernel=rbf, accuracy=(train=0.994, test=0.952), f1=(train=0.995, test=0.959), precision=(train=1.000, test=1.000), recall=(train=0.990, test=0.922), roc_auc=(train=1.000, test=1.000), total=   0.0s\n",
      "[CV] svm__C=10.0, svm__kernel=rbf ....................................\n"
     ]
    },
    {
     "name": "stderr",
     "output_type": "stream",
     "text": [
      "C:\\Users\\Dormi\\anaconda3\\envs\\bm-336546-hw2\\lib\\site-packages\\sklearn\\utils\\validation.py:72: DataConversionWarning: A column-vector y was passed when a 1d array was expected. Please change the shape of y to (n_samples, ), for example using ravel().\n",
      "  return f(**kwargs)\n",
      "C:\\Users\\Dormi\\anaconda3\\envs\\bm-336546-hw2\\lib\\site-packages\\sklearn\\utils\\validation.py:72: DataConversionWarning: A column-vector y was passed when a 1d array was expected. Please change the shape of y to (n_samples, ), for example using ravel().\n",
      "  return f(**kwargs)\n",
      "C:\\Users\\Dormi\\anaconda3\\envs\\bm-336546-hw2\\lib\\site-packages\\sklearn\\utils\\validation.py:72: DataConversionWarning: A column-vector y was passed when a 1d array was expected. Please change the shape of y to (n_samples, ), for example using ravel().\n",
      "  return f(**kwargs)\n",
      "C:\\Users\\Dormi\\anaconda3\\envs\\bm-336546-hw2\\lib\\site-packages\\sklearn\\utils\\validation.py:72: DataConversionWarning: A column-vector y was passed when a 1d array was expected. Please change the shape of y to (n_samples, ), for example using ravel().\n",
      "  return f(**kwargs)\n",
      "C:\\Users\\Dormi\\anaconda3\\envs\\bm-336546-hw2\\lib\\site-packages\\sklearn\\utils\\validation.py:72: DataConversionWarning: A column-vector y was passed when a 1d array was expected. Please change the shape of y to (n_samples, ), for example using ravel().\n",
      "  return f(**kwargs)\n",
      "C:\\Users\\Dormi\\anaconda3\\envs\\bm-336546-hw2\\lib\\site-packages\\sklearn\\utils\\validation.py:72: DataConversionWarning: A column-vector y was passed when a 1d array was expected. Please change the shape of y to (n_samples, ), for example using ravel().\n",
      "  return f(**kwargs)\n"
     ]
    },
    {
     "name": "stdout",
     "output_type": "stream",
     "text": [
      "[CV]  svm__C=10.0, svm__kernel=rbf, accuracy=(train=0.994, test=0.976), f1=(train=0.995, test=0.980), precision=(train=1.000, test=1.000), recall=(train=0.990, test=0.961), roc_auc=(train=1.000, test=1.000), total=   0.0s\n",
      "[CV] svm__C=10.0, svm__kernel=poly ...................................\n",
      "[CV]  svm__C=10.0, svm__kernel=poly, accuracy=(train=0.997, test=0.940), f1=(train=0.998, test=0.950), precision=(train=1.000, test=0.960), recall=(train=0.995, test=0.941), roc_auc=(train=1.000, test=0.991), total=   0.0s\n",
      "[CV] svm__C=10.0, svm__kernel=poly ...................................\n",
      "[CV]  svm__C=10.0, svm__kernel=poly, accuracy=(train=0.997, test=0.964), f1=(train=0.998, test=0.970), precision=(train=1.000, test=1.000), recall=(train=0.995, test=0.942), roc_auc=(train=1.000, test=0.996), total=   0.0s\n",
      "[CV] svm__C=10.0, svm__kernel=poly ...................................\n",
      "[CV]  svm__C=10.0, svm__kernel=poly, accuracy=(train=0.997, test=0.964), f1=(train=0.998, test=0.972), precision=(train=1.000, test=0.945), recall=(train=0.995, test=1.000), roc_auc=(train=1.000, test=0.996), total=   0.0s\n",
      "[CV] svm__C=10.0, svm__kernel=poly ...................................\n",
      "[CV]  svm__C=10.0, svm__kernel=poly, accuracy=(train=0.994, test=0.976), f1=(train=0.995, test=0.980), precision=(train=1.000, test=1.000), recall=(train=0.990, test=0.961), roc_auc=(train=1.000, test=0.999), total=   0.0s\n",
      "[CV] svm__C=10.0, svm__kernel=poly ...................................\n",
      "[CV]  svm__C=10.0, svm__kernel=poly, accuracy=(train=0.994, test=0.988), f1=(train=0.995, test=0.990), precision=(train=1.000, test=1.000), recall=(train=0.990, test=0.980), roc_auc=(train=1.000, test=1.000), total=   0.0s\n",
      "[CV] svm__C=100.0, svm__kernel=rbf ...................................\n",
      "[CV]  svm__C=100.0, svm__kernel=rbf, accuracy=(train=0.997, test=0.952), f1=(train=0.998, test=0.960), precision=(train=1.000, test=0.980), recall=(train=0.995, test=0.941), roc_auc=(train=1.000, test=0.994), total=   0.0s\n",
      "[CV] svm__C=100.0, svm__kernel=rbf ...................................\n"
     ]
    },
    {
     "name": "stderr",
     "output_type": "stream",
     "text": [
      "C:\\Users\\Dormi\\anaconda3\\envs\\bm-336546-hw2\\lib\\site-packages\\sklearn\\utils\\validation.py:72: DataConversionWarning: A column-vector y was passed when a 1d array was expected. Please change the shape of y to (n_samples, ), for example using ravel().\n",
      "  return f(**kwargs)\n",
      "C:\\Users\\Dormi\\anaconda3\\envs\\bm-336546-hw2\\lib\\site-packages\\sklearn\\utils\\validation.py:72: DataConversionWarning: A column-vector y was passed when a 1d array was expected. Please change the shape of y to (n_samples, ), for example using ravel().\n",
      "  return f(**kwargs)\n",
      "C:\\Users\\Dormi\\anaconda3\\envs\\bm-336546-hw2\\lib\\site-packages\\sklearn\\utils\\validation.py:72: DataConversionWarning: A column-vector y was passed when a 1d array was expected. Please change the shape of y to (n_samples, ), for example using ravel().\n",
      "  return f(**kwargs)\n",
      "C:\\Users\\Dormi\\anaconda3\\envs\\bm-336546-hw2\\lib\\site-packages\\sklearn\\utils\\validation.py:72: DataConversionWarning: A column-vector y was passed when a 1d array was expected. Please change the shape of y to (n_samples, ), for example using ravel().\n",
      "  return f(**kwargs)\n",
      "C:\\Users\\Dormi\\anaconda3\\envs\\bm-336546-hw2\\lib\\site-packages\\sklearn\\utils\\validation.py:72: DataConversionWarning: A column-vector y was passed when a 1d array was expected. Please change the shape of y to (n_samples, ), for example using ravel().\n",
      "  return f(**kwargs)\n",
      "C:\\Users\\Dormi\\anaconda3\\envs\\bm-336546-hw2\\lib\\site-packages\\sklearn\\utils\\validation.py:72: DataConversionWarning: A column-vector y was passed when a 1d array was expected. Please change the shape of y to (n_samples, ), for example using ravel().\n",
      "  return f(**kwargs)\n"
     ]
    },
    {
     "name": "stdout",
     "output_type": "stream",
     "text": [
      "[CV]  svm__C=100.0, svm__kernel=rbf, accuracy=(train=0.997, test=0.976), f1=(train=0.998, test=0.980), precision=(train=1.000, test=1.000), recall=(train=0.995, test=0.962), roc_auc=(train=1.000, test=0.996), total=   0.0s\n",
      "[CV] svm__C=100.0, svm__kernel=rbf ...................................\n",
      "[CV]  svm__C=100.0, svm__kernel=rbf, accuracy=(train=0.994, test=0.976), f1=(train=0.995, test=0.981), precision=(train=1.000, test=0.981), recall=(train=0.990, test=0.981), roc_auc=(train=1.000, test=0.996), total=   0.0s\n",
      "[CV] svm__C=100.0, svm__kernel=rbf ...................................\n",
      "[CV]  svm__C=100.0, svm__kernel=rbf, accuracy=(train=0.994, test=0.964), f1=(train=0.995, test=0.970), precision=(train=1.000, test=1.000), recall=(train=0.990, test=0.941), roc_auc=(train=1.000, test=1.000), total=   0.0s\n",
      "[CV] svm__C=100.0, svm__kernel=rbf ...................................\n",
      "[CV]  svm__C=100.0, svm__kernel=rbf, accuracy=(train=0.994, test=1.000), f1=(train=0.995, test=1.000), precision=(train=1.000, test=1.000), recall=(train=0.990, test=1.000), roc_auc=(train=1.000, test=1.000), total=   0.0s\n",
      "[CV] svm__C=100.0, svm__kernel=poly ..................................\n",
      "[CV]  svm__C=100.0, svm__kernel=poly, accuracy=(train=0.997, test=0.929), f1=(train=0.998, test=0.940), precision=(train=1.000, test=0.959), recall=(train=0.995, test=0.922), roc_auc=(train=1.000, test=0.987), total=   0.0s\n",
      "[CV] svm__C=100.0, svm__kernel=poly ..................................\n"
     ]
    },
    {
     "name": "stderr",
     "output_type": "stream",
     "text": [
      "C:\\Users\\Dormi\\anaconda3\\envs\\bm-336546-hw2\\lib\\site-packages\\sklearn\\utils\\validation.py:72: DataConversionWarning: A column-vector y was passed when a 1d array was expected. Please change the shape of y to (n_samples, ), for example using ravel().\n",
      "  return f(**kwargs)\n",
      "C:\\Users\\Dormi\\anaconda3\\envs\\bm-336546-hw2\\lib\\site-packages\\sklearn\\utils\\validation.py:72: DataConversionWarning: A column-vector y was passed when a 1d array was expected. Please change the shape of y to (n_samples, ), for example using ravel().\n",
      "  return f(**kwargs)\n",
      "C:\\Users\\Dormi\\anaconda3\\envs\\bm-336546-hw2\\lib\\site-packages\\sklearn\\utils\\validation.py:72: DataConversionWarning: A column-vector y was passed when a 1d array was expected. Please change the shape of y to (n_samples, ), for example using ravel().\n",
      "  return f(**kwargs)\n"
     ]
    },
    {
     "name": "stdout",
     "output_type": "stream",
     "text": [
      "[CV]  svm__C=100.0, svm__kernel=poly, accuracy=(train=0.997, test=0.952), f1=(train=0.998, test=0.961), precision=(train=1.000, test=0.980), recall=(train=0.995, test=0.942), roc_auc=(train=1.000, test=0.996), total=   0.0s\n",
      "[CV] svm__C=100.0, svm__kernel=poly ..................................\n",
      "[CV]  svm__C=100.0, svm__kernel=poly, accuracy=(train=0.994, test=0.976), f1=(train=0.995, test=0.981), precision=(train=1.000, test=0.981), recall=(train=0.990, test=0.981), roc_auc=(train=1.000, test=0.998), total=   0.0s\n",
      "[CV] svm__C=100.0, svm__kernel=poly ..................................\n"
     ]
    },
    {
     "name": "stderr",
     "output_type": "stream",
     "text": [
      "C:\\Users\\Dormi\\anaconda3\\envs\\bm-336546-hw2\\lib\\site-packages\\sklearn\\utils\\validation.py:72: DataConversionWarning: A column-vector y was passed when a 1d array was expected. Please change the shape of y to (n_samples, ), for example using ravel().\n",
      "  return f(**kwargs)\n",
      "C:\\Users\\Dormi\\anaconda3\\envs\\bm-336546-hw2\\lib\\site-packages\\sklearn\\utils\\validation.py:72: DataConversionWarning: A column-vector y was passed when a 1d array was expected. Please change the shape of y to (n_samples, ), for example using ravel().\n",
      "  return f(**kwargs)\n",
      "C:\\Users\\Dormi\\anaconda3\\envs\\bm-336546-hw2\\lib\\site-packages\\sklearn\\utils\\validation.py:72: DataConversionWarning: A column-vector y was passed when a 1d array was expected. Please change the shape of y to (n_samples, ), for example using ravel().\n",
      "  return f(**kwargs)\n",
      "C:\\Users\\Dormi\\anaconda3\\envs\\bm-336546-hw2\\lib\\site-packages\\sklearn\\utils\\validation.py:72: DataConversionWarning: A column-vector y was passed when a 1d array was expected. Please change the shape of y to (n_samples, ), for example using ravel().\n",
      "  return f(**kwargs)\n",
      "C:\\Users\\Dormi\\anaconda3\\envs\\bm-336546-hw2\\lib\\site-packages\\sklearn\\utils\\validation.py:72: DataConversionWarning: A column-vector y was passed when a 1d array was expected. Please change the shape of y to (n_samples, ), for example using ravel().\n",
      "  return f(**kwargs)\n"
     ]
    },
    {
     "name": "stdout",
     "output_type": "stream",
     "text": [
      "[CV]  svm__C=100.0, svm__kernel=poly, accuracy=(train=0.994, test=0.964), f1=(train=0.995, test=0.970), precision=(train=1.000, test=0.980), recall=(train=0.990, test=0.961), roc_auc=(train=1.000, test=0.999), total=   0.0s\n",
      "[CV] svm__C=100.0, svm__kernel=poly ..................................\n",
      "[CV]  svm__C=100.0, svm__kernel=poly, accuracy=(train=0.994, test=0.988), f1=(train=0.995, test=0.990), precision=(train=1.000, test=1.000), recall=(train=0.990, test=0.980), roc_auc=(train=1.000, test=1.000), total=   0.0s\n",
      "[CV] svm__C=1000.0, svm__kernel=rbf ..................................\n",
      "[CV]  svm__C=1000.0, svm__kernel=rbf, accuracy=(train=1.000, test=0.881), f1=(train=1.000, test=0.900), precision=(train=1.000, test=0.918), recall=(train=1.000, test=0.882), roc_auc=(train=1.000, test=0.942), total=   0.0s\n",
      "[CV] svm__C=1000.0, svm__kernel=rbf ..................................\n",
      "[CV]  svm__C=1000.0, svm__kernel=rbf, accuracy=(train=0.997, test=0.964), f1=(train=0.998, test=0.971), precision=(train=1.000, test=0.980), recall=(train=0.995, test=0.962), roc_auc=(train=1.000, test=0.998), total=   0.0s\n",
      "[CV] svm__C=1000.0, svm__kernel=rbf ..................................\n"
     ]
    },
    {
     "name": "stderr",
     "output_type": "stream",
     "text": [
      "C:\\Users\\Dormi\\anaconda3\\envs\\bm-336546-hw2\\lib\\site-packages\\sklearn\\utils\\validation.py:72: DataConversionWarning: A column-vector y was passed when a 1d array was expected. Please change the shape of y to (n_samples, ), for example using ravel().\n",
      "  return f(**kwargs)\n",
      "C:\\Users\\Dormi\\anaconda3\\envs\\bm-336546-hw2\\lib\\site-packages\\sklearn\\utils\\validation.py:72: DataConversionWarning: A column-vector y was passed when a 1d array was expected. Please change the shape of y to (n_samples, ), for example using ravel().\n",
      "  return f(**kwargs)\n",
      "C:\\Users\\Dormi\\anaconda3\\envs\\bm-336546-hw2\\lib\\site-packages\\sklearn\\utils\\validation.py:72: DataConversionWarning: A column-vector y was passed when a 1d array was expected. Please change the shape of y to (n_samples, ), for example using ravel().\n",
      "  return f(**kwargs)\n"
     ]
    },
    {
     "name": "stdout",
     "output_type": "stream",
     "text": [
      "[CV]  svm__C=1000.0, svm__kernel=rbf, accuracy=(train=0.997, test=0.893), f1=(train=0.998, test=0.909), precision=(train=1.000, test=0.957), recall=(train=0.995, test=0.865), roc_auc=(train=1.000, test=0.972), total=   0.0s\n",
      "[CV] svm__C=1000.0, svm__kernel=rbf ..................................\n",
      "[CV]  svm__C=1000.0, svm__kernel=rbf, accuracy=(train=1.000, test=0.916), f1=(train=1.000, test=0.932), precision=(train=1.000, test=0.923), recall=(train=1.000, test=0.941), roc_auc=(train=1.000, test=0.945), total=   0.0s\n",
      "[CV] svm__C=1000.0, svm__kernel=rbf ..................................\n",
      "[CV]  svm__C=1000.0, svm__kernel=rbf, accuracy=(train=0.997, test=0.976), f1=(train=0.998, test=0.981), precision=(train=1.000, test=0.962), recall=(train=0.995, test=1.000), roc_auc=(train=1.000, test=1.000), total=   0.0s\n",
      "[CV] svm__C=1000.0, svm__kernel=poly .................................\n"
     ]
    },
    {
     "name": "stderr",
     "output_type": "stream",
     "text": [
      "C:\\Users\\Dormi\\anaconda3\\envs\\bm-336546-hw2\\lib\\site-packages\\sklearn\\utils\\validation.py:72: DataConversionWarning: A column-vector y was passed when a 1d array was expected. Please change the shape of y to (n_samples, ), for example using ravel().\n",
      "  return f(**kwargs)\n",
      "C:\\Users\\Dormi\\anaconda3\\envs\\bm-336546-hw2\\lib\\site-packages\\sklearn\\utils\\validation.py:72: DataConversionWarning: A column-vector y was passed when a 1d array was expected. Please change the shape of y to (n_samples, ), for example using ravel().\n",
      "  return f(**kwargs)\n",
      "C:\\Users\\Dormi\\anaconda3\\envs\\bm-336546-hw2\\lib\\site-packages\\sklearn\\utils\\validation.py:72: DataConversionWarning: A column-vector y was passed when a 1d array was expected. Please change the shape of y to (n_samples, ), for example using ravel().\n",
      "  return f(**kwargs)\n",
      "C:\\Users\\Dormi\\anaconda3\\envs\\bm-336546-hw2\\lib\\site-packages\\sklearn\\utils\\validation.py:72: DataConversionWarning: A column-vector y was passed when a 1d array was expected. Please change the shape of y to (n_samples, ), for example using ravel().\n",
      "  return f(**kwargs)\n"
     ]
    },
    {
     "name": "stdout",
     "output_type": "stream",
     "text": [
      "[CV]  svm__C=1000.0, svm__kernel=poly, accuracy=(train=1.000, test=0.893), f1=(train=1.000, test=0.911), precision=(train=1.000, test=0.920), recall=(train=1.000, test=0.902), roc_auc=(train=1.000, test=0.925), total=   0.0s\n",
      "[CV] svm__C=1000.0, svm__kernel=poly .................................\n",
      "[CV]  svm__C=1000.0, svm__kernel=poly, accuracy=(train=0.997, test=0.940), f1=(train=0.998, test=0.950), precision=(train=1.000, test=0.980), recall=(train=0.995, test=0.923), roc_auc=(train=1.000, test=0.995), total=   0.0s\n",
      "[CV] svm__C=1000.0, svm__kernel=poly .................................\n",
      "[CV]  svm__C=1000.0, svm__kernel=poly, accuracy=(train=1.000, test=0.917), f1=(train=1.000, test=0.933), precision=(train=1.000, test=0.925), recall=(train=1.000, test=0.942), roc_auc=(train=1.000, test=0.974), total=   0.0s\n",
      "[CV] svm__C=1000.0, svm__kernel=poly .................................\n",
      "[CV]  svm__C=1000.0, svm__kernel=poly, accuracy=(train=1.000, test=0.916), f1=(train=1.000, test=0.932), precision=(train=1.000, test=0.923), recall=(train=1.000, test=0.941), roc_auc=(train=1.000, test=0.933), total=   0.0s\n",
      "[CV] svm__C=1000.0, svm__kernel=poly .................................\n",
      "[CV]  svm__C=1000.0, svm__kernel=poly, accuracy=(train=0.997, test=0.928), f1=(train=0.998, test=0.941), precision=(train=1.000, test=0.941), recall=(train=0.995, test=0.941), roc_auc=(train=1.000, test=0.980), total=   0.0s\n"
     ]
    },
    {
     "name": "stderr",
     "output_type": "stream",
     "text": [
      "C:\\Users\\Dormi\\anaconda3\\envs\\bm-336546-hw2\\lib\\site-packages\\sklearn\\utils\\validation.py:72: DataConversionWarning: A column-vector y was passed when a 1d array was expected. Please change the shape of y to (n_samples, ), for example using ravel().\n",
      "  return f(**kwargs)\n",
      "[Parallel(n_jobs=1)]: Done  60 out of  60 | elapsed:    2.0s finished\n",
      "C:\\Users\\Dormi\\anaconda3\\envs\\bm-336546-hw2\\lib\\site-packages\\sklearn\\utils\\validation.py:72: DataConversionWarning: A column-vector y was passed when a 1d array was expected. Please change the shape of y to (n_samples, ), for example using ravel().\n",
      "  return f(**kwargs)\n"
     ]
    },
    {
     "name": "stdout",
     "output_type": "stream",
     "text": [
      "non-linear SVM recieves Best results with: {'svm__C': 10.0, 'svm__kernel': 'rbf'}\n",
      "Sensitvity: 0.86\n",
      "Specifcity: 1.00\n",
      "Percision: 1.00\n",
      "Accuracy: 0.91\n",
      "F1: 0.92\n",
      "AUROC: 0.99\n"
     ]
    },
    {
     "data": {
      "image/png": "[encoded data removed]",
      "text/plain": [
       "<Figure size 432x288 with 2 Axes>"
      ]
     },
     "metadata": {
      "needs_background": "light"
     },
     "output_type": "display_data"
    }
   ],
   "source": [
    "#non-linear classifier\n",
    "params = {'svm__kernel': ['rbf', 'poly'],\n",
    "          'svm__C':C#,\n",
    "          #'svm__gamma': gamma,\n",
    "         }\n",
    "non_linear_svm = GridSearchCV(estimator=pipe,\n",
    "                          param_grid=params,\n",
    "                          cv=skf,\n",
    "                          scoring=scoring,\n",
    "                          refit='roc_auc',\n",
    "                          verbose=3,\n",
    "                          return_train_score=True)\n",
    "\n",
    "non_linear_svm.fit(X_train, y_train)\n",
    "best_non_linear_svm = non_linear_svm.best_estimator_\n",
    "print('non-linear SVM recieves Best results with: {}'.format(non_linear_svm.best_params_))\n",
    "plot_print_model_results(non_linear_svm, X_test, y_test)\n"
   ]
  },
  {
   "cell_type": "markdown",
   "metadata": {},
   "source": [
    "### 5.c)\n",
    "we can see that non-linear has better results than linear"
   ]
  },
  {
   "cell_type": "markdown",
   "metadata": {},
   "source": [
    "### 6 Feature Selection"
   ]
  },
  {
   "cell_type": "code",
   "execution_count": 11,
   "metadata": {},
   "outputs": [
    {
     "data": {
      "image/png": "[encoded data removed]",
      "text/plain": [
       "<Figure size 432x288 with 1 Axes>"
      ]
     },
     "metadata": {
      "needs_background": "light"
     },
     "output_type": "display_data"
    }
   ],
   "source": [
    "from sklearn.ensemble import RandomForestClassifier \n",
    "random_forest = RandomForestClassifier(n_estimators=10,\n",
    "                                       max_depth=None, random_state=0,\n",
    "                                       criterion='gini', max_features='auto')\n",
    "rfc = random_forest.fit(X_train, np.ravel(y_train))\n",
    "features_importance = rfc.feature_importances_\n",
    "\n",
    "plt.bar(Features, features_importance)\n",
    "plt.xticks(rotation=90)\n",
    "plt.show()\n",
    "    "
   ]
  },
  {
   "cell_type": "markdown",
   "metadata": {},
   "source": [
    "6.a.i) We can see that Increased Thirst and Increased Urination are the most important feature according to random forest."
   ]
  },
  {
   "cell_type": "markdown",
   "metadata": {},
   "source": [
    "6.a.ii) "
   ]
  },
  {
   "cell_type": "markdown",
   "metadata": {},
   "source": [
    "## 7) Data Separability Visualization"
   ]
  },
  {
   "cell_type": "markdown",
   "metadata": {},
   "source": [
    "#### 7.a)"
   ]
  },
  {
   "cell_type": "code",
   "execution_count": 12,
   "metadata": {},
   "outputs": [],
   "source": [
    "def plt_2d_pca(X_pca,y):\n",
    "    if isinstance(y, pd.DataFrame):\n",
    "        y = np.concatenate(y.values.tolist())\n",
    "    fig = plt.figure(figsize=(8, 8))\n",
    "    ax = fig.add_subplot(111, aspect='equal')\n",
    "    ax.scatter(X_pca[y==0, 0], X_pca[y==0, 1], color='b')\n",
    "    ax.scatter(X_pca[y==1, 0], X_pca[y==1, 1], color='r')\n",
    "    ax.legend(('Negative','Positive'))\n",
    "    ax.plot([0], [0], \"ko\")\n",
    "    ax.arrow(0, 0, 0, 1, head_width=0.05, length_includes_head=True, head_length=0.1, fc='k', ec='k')\n",
    "    ax.arrow(0, 0, 1, 0, head_width=0.05, length_includes_head=True, head_length=0.1, fc='k', ec='k')\n",
    "    ax.set_xlabel('$U_1$')\n",
    "    ax.set_ylabel('$U_2$')\n",
    "    ax.set_title('2D PCA')"
   ]
  },
  {
   "cell_type": "code",
   "execution_count": 13,
   "metadata": {},
   "outputs": [
    {
     "name": "stdout",
     "output_type": "stream",
     "text": [
      "98.24% of data information was conserved.\n",
      "[[-0.28993168 -1.07775051]\n",
      " [ 0.45052529 -1.07201148]\n",
      " [-1.11246205 -0.80374149]\n",
      " [-0.44949894  1.72471382]\n",
      " [ 0.45178149 -1.39061122]\n",
      " [-0.12500047 -1.55006906]\n",
      " [-0.28760463 -0.34244185]\n",
      " [ 0.86407842 -0.60483243]\n",
      " [ 0.53384267  0.93108121]\n",
      " [-1.11251096 -0.84986962]]\n"
     ]
    },
    {
     "data": {
      "image/png": "[encoded data removed]",
      "text/plain": [
       "<Figure size 576x576 with 1 Axes>"
      ]
     },
     "metadata": {
      "needs_background": "light"
     },
     "output_type": "display_data"
    }
   ],
   "source": [
    "from sklearn.decomposition import PCA\n",
    "\n",
    "pca = PCA(n_components=2)\n",
    "scaler = StandardScaler()\n",
    "x_train_reduced = pca.fit_transform(X_train)\n",
    "x_train_reduced = scaler.fit_transform(x_train_reduced)\n",
    "x_test_reduced = pca.transform(X_test)\n",
    "x_test_reduced = scaler.transform(x_test_reduced)\n",
    "#plot figure as requested\n",
    "print('{:.2f}% of data information was conserved.'.format(100*np.sum(pca.explained_variance_ratio_)))\n",
    "plt_2d_pca(x_test_reduced,y_test)"
   ]
  },
  {
   "cell_type": "markdown",
   "metadata": {},
   "source": [
    "#### 7.b)"
   ]
  },
  {
   "cell_type": "markdown",
   "metadata": {},
   "source": [
    "### 7.c)"
   ]
  },
  {
   "cell_type": "markdown",
   "metadata": {},
   "source": [
    "#### linear-svm after dimensionality reduced"
   ]
  },
  {
   "cell_type": "code",
   "execution_count": 14,
   "metadata": {},
   "outputs": [
    {
     "name": "stdout",
     "output_type": "stream",
     "text": [
      "Fitting 5 folds for each of 6 candidates, totalling 30 fits\n",
      "[CV] svm__C=0.01, svm__kernel=linear .................................\n",
      "[CV]  svm__C=0.01, svm__kernel=linear, accuracy=(train=0.841, test=0.857), f1=(train=0.866, test=0.880), precision=(train=0.901, test=0.898), recall=(train=0.835, test=0.863), roc_auc=(train=0.928, test=0.920), total=   0.0s\n",
      "[CV] svm__C=0.01, svm__kernel=linear .................................\n",
      "[CV]  svm__C=0.01, svm__kernel=linear, accuracy=(train=0.832, test=0.869), f1=(train=0.857, test=0.893), precision=(train=0.898, test=0.902), recall=(train=0.820, test=0.885), roc_auc=(train=0.925, test=0.927), total=   0.0s\n",
      "[CV] svm__C=0.01, svm__kernel=linear .................................\n",
      "[CV]  svm__C=0.01, svm__kernel=linear, accuracy=(train=0.859, test=0.798), f1=(train=0.880, test=0.828), precision=(train=0.920, test=0.872), recall=(train=0.844, test=0.788), roc_auc=(train=0.933, test=0.897), total=   0.0s\n",
      "[CV] svm__C=0.01, svm__kernel=linear .................................\n",
      "[CV]  svm__C=0.01, svm__kernel=linear, accuracy=(train=0.836, test=0.880), f1=(train=0.861, test=0.898), precision=(train=0.899, test=0.936), recall=(train=0.825, test=0.863), roc_auc=(train=0.918, test=0.955), total=   0.0s\n",
      "[CV] svm__C=0.01, svm__kernel=linear .................................\n",
      "[CV]  svm__C=0.01, svm__kernel=linear, accuracy=(train=0.851, test=0.819), f1=(train=0.874, test=0.842), precision=(train=0.906, test=0.909), recall=(train=0.845, test=0.784), roc_auc=(train=0.935, test=0.925), total=   0.0s\n",
      "[CV] svm__C=0.1, svm__kernel=linear ..................................\n",
      "[CV]  svm__C=0.1, svm__kernel=linear, accuracy=(train=0.853, test=0.833), f1=(train=0.879, test=0.865), precision=(train=0.894, test=0.849), recall=(train=0.864, test=0.882), roc_auc=(train=0.935, test=0.940), total=   0.0s\n",
      "[CV] svm__C=0.1, svm__kernel=linear ..................................\n",
      "[CV]  svm__C=0.1, svm__kernel=linear, accuracy=(train=0.844, test=0.869), f1=(train=0.871, test=0.895), precision=(train=0.884, test=0.887), recall=(train=0.859, test=0.904), roc_auc=(train=0.934, test=0.947), total=   0.0s\n",
      "[CV] svm__C=0.1, svm__kernel=linear ..................................\n",
      "[CV]  svm__C=0.1, svm__kernel=linear, accuracy=(train=0.862, test=0.798), f1=(train=0.887, test=0.832), precision=(train=0.892, test=0.857), recall=(train=0.883, test=0.808), roc_auc=(train=0.942, test=0.910), total=   0.0s\n",
      "[CV] svm__C=0.1, svm__kernel=linear ..................................\n",
      "[CV]  svm__C=0.1, svm__kernel=linear, accuracy=(train=0.836, test=0.904), f1=(train=0.866, test=0.920), precision=(train=0.872, test=0.939), recall=(train=0.859, test=0.902), roc_auc=(train=0.928, test=0.961), total=   0.0s\n",
      "[CV] svm__C=0.1, svm__kernel=linear ..................................\n",
      "[CV]  svm__C=0.1, svm__kernel=linear, accuracy=(train=0.848, test=0.843), f1=(train=0.876, test=0.869), precision=(train=0.878, test=0.896), recall=(train=0.874, test=0.843), roc_auc=(train=0.941, test=0.913), total=   0.0s\n",
      "[CV] svm__C=1.0, svm__kernel=linear ..................................\n"
     ]
    },
    {
     "name": "stderr",
     "output_type": "stream",
     "text": [
      "[Parallel(n_jobs=1)]: Using backend SequentialBackend with 1 concurrent workers.\n",
      "C:\\Users\\Dormi\\anaconda3\\envs\\bm-336546-hw2\\lib\\site-packages\\sklearn\\utils\\validation.py:72: DataConversionWarning: A column-vector y was passed when a 1d array was expected. Please change the shape of y to (n_samples, ), for example using ravel().\n",
      "  return f(**kwargs)\n",
      "[Parallel(n_jobs=1)]: Done   1 out of   1 | elapsed:    0.0s remaining:    0.0s\n",
      "C:\\Users\\Dormi\\anaconda3\\envs\\bm-336546-hw2\\lib\\site-packages\\sklearn\\utils\\validation.py:72: DataConversionWarning: A column-vector y was passed when a 1d array was expected. Please change the shape of y to (n_samples, ), for example using ravel().\n",
      "  return f(**kwargs)\n",
      "[Parallel(n_jobs=1)]: Done   2 out of   2 | elapsed:    0.0s remaining:    0.0s\n",
      "C:\\Users\\Dormi\\anaconda3\\envs\\bm-336546-hw2\\lib\\site-packages\\sklearn\\utils\\validation.py:72: DataConversionWarning: A column-vector y was passed when a 1d array was expected. Please change the shape of y to (n_samples, ), for example using ravel().\n",
      "  return f(**kwargs)\n",
      "C:\\Users\\Dormi\\anaconda3\\envs\\bm-336546-hw2\\lib\\site-packages\\sklearn\\utils\\validation.py:72: DataConversionWarning: A column-vector y was passed when a 1d array was expected. Please change the shape of y to (n_samples, ), for example using ravel().\n",
      "  return f(**kwargs)\n",
      "C:\\Users\\Dormi\\anaconda3\\envs\\bm-336546-hw2\\lib\\site-packages\\sklearn\\utils\\validation.py:72: DataConversionWarning: A column-vector y was passed when a 1d array was expected. Please change the shape of y to (n_samples, ), for example using ravel().\n",
      "  return f(**kwargs)\n",
      "C:\\Users\\Dormi\\anaconda3\\envs\\bm-336546-hw2\\lib\\site-packages\\sklearn\\utils\\validation.py:72: DataConversionWarning: A column-vector y was passed when a 1d array was expected. Please change the shape of y to (n_samples, ), for example using ravel().\n",
      "  return f(**kwargs)\n",
      "C:\\Users\\Dormi\\anaconda3\\envs\\bm-336546-hw2\\lib\\site-packages\\sklearn\\utils\\validation.py:72: DataConversionWarning: A column-vector y was passed when a 1d array was expected. Please change the shape of y to (n_samples, ), for example using ravel().\n",
      "  return f(**kwargs)\n",
      "C:\\Users\\Dormi\\anaconda3\\envs\\bm-336546-hw2\\lib\\site-packages\\sklearn\\utils\\validation.py:72: DataConversionWarning: A column-vector y was passed when a 1d array was expected. Please change the shape of y to (n_samples, ), for example using ravel().\n",
      "  return f(**kwargs)\n",
      "C:\\Users\\Dormi\\anaconda3\\envs\\bm-336546-hw2\\lib\\site-packages\\sklearn\\utils\\validation.py:72: DataConversionWarning: A column-vector y was passed when a 1d array was expected. Please change the shape of y to (n_samples, ), for example using ravel().\n",
      "  return f(**kwargs)\n",
      "C:\\Users\\Dormi\\anaconda3\\envs\\bm-336546-hw2\\lib\\site-packages\\sklearn\\utils\\validation.py:72: DataConversionWarning: A column-vector y was passed when a 1d array was expected. Please change the shape of y to (n_samples, ), for example using ravel().\n",
      "  return f(**kwargs)\n",
      "C:\\Users\\Dormi\\anaconda3\\envs\\bm-336546-hw2\\lib\\site-packages\\sklearn\\utils\\validation.py:72: DataConversionWarning: A column-vector y was passed when a 1d array was expected. Please change the shape of y to (n_samples, ), for example using ravel().\n",
      "  return f(**kwargs)\n"
     ]
    },
    {
     "name": "stdout",
     "output_type": "stream",
     "text": [
      "[CV]  svm__C=1.0, svm__kernel=linear, accuracy=(train=0.853, test=0.845), f1=(train=0.879, test=0.874), precision=(train=0.894, test=0.865), recall=(train=0.864, test=0.882), roc_auc=(train=0.933, test=0.945), total=   0.0s\n",
      "[CV] svm__C=1.0, svm__kernel=linear ..................................\n",
      "[CV]  svm__C=1.0, svm__kernel=linear, accuracy=(train=0.844, test=0.857), f1=(train=0.871, test=0.887), precision=(train=0.884, test=0.870), recall=(train=0.859, test=0.904), roc_auc=(train=0.933, test=0.948), total=   0.0s\n",
      "[CV] svm__C=1.0, svm__kernel=linear ..................................\n",
      "[CV]  svm__C=1.0, svm__kernel=linear, accuracy=(train=0.865, test=0.810), f1=(train=0.889, test=0.840), precision=(train=0.900, test=0.875), recall=(train=0.878, test=0.808), roc_auc=(train=0.940, test=0.900), total=   0.0s\n",
      "[CV] svm__C=1.0, svm__kernel=linear ..................................\n",
      "[CV]  svm__C=1.0, svm__kernel=linear, accuracy=(train=0.839, test=0.904), f1=(train=0.868, test=0.920), precision=(train=0.876, test=0.939), recall=(train=0.859, test=0.902), roc_auc=(train=0.928, test=0.960), total=   0.0s\n",
      "[CV] svm__C=1.0, svm__kernel=linear ..................................\n",
      "[CV]  svm__C=1.0, svm__kernel=linear, accuracy=(train=0.857, test=0.843), f1=(train=0.882, test=0.869), precision=(train=0.895, test=0.896), recall=(train=0.869, test=0.843), roc_auc=(train=0.939, test=0.909), total=   0.0s\n",
      "[CV] svm__C=10.0, svm__kernel=linear .................................\n",
      "[CV]  svm__C=10.0, svm__kernel=linear, accuracy=(train=0.853, test=0.845), f1=(train=0.879, test=0.874), precision=(train=0.894, test=0.865), recall=(train=0.864, test=0.882), roc_auc=(train=0.933, test=0.945), total=   0.0s\n",
      "[CV] svm__C=10.0, svm__kernel=linear .................................\n",
      "[CV]  svm__C=10.0, svm__kernel=linear, accuracy=(train=0.847, test=0.869), f1=(train=0.873, test=0.895), precision=(train=0.889, test=0.887), recall=(train=0.859, test=0.904), roc_auc=(train=0.933, test=0.948), total=   0.0s\n",
      "[CV] svm__C=10.0, svm__kernel=linear .................................\n",
      "[CV]  svm__C=10.0, svm__kernel=linear, accuracy=(train=0.865, test=0.810), f1=(train=0.889, test=0.840), precision=(train=0.900, test=0.875), recall=(train=0.878, test=0.808), roc_auc=(train=0.940, test=0.902), total=   0.0s\n",
      "[CV] svm__C=10.0, svm__kernel=linear .................................\n",
      "[CV]  svm__C=10.0, svm__kernel=linear, accuracy=(train=0.839, test=0.904), f1=(train=0.868, test=0.920), precision=(train=0.876, test=0.939), recall=(train=0.859, test=0.902), roc_auc=(train=0.928, test=0.960), total=   0.0s\n",
      "[CV] svm__C=10.0, svm__kernel=linear .................................\n",
      "[CV]  svm__C=10.0, svm__kernel=linear, accuracy=(train=0.857, test=0.843), f1=(train=0.882, test=0.869), precision=(train=0.895, test=0.896), recall=(train=0.869, test=0.843), roc_auc=(train=0.938, test=0.907), total=   0.0s\n",
      "[CV] svm__C=100.0, svm__kernel=linear ................................\n"
     ]
    },
    {
     "name": "stderr",
     "output_type": "stream",
     "text": [
      "C:\\Users\\Dormi\\anaconda3\\envs\\bm-336546-hw2\\lib\\site-packages\\sklearn\\utils\\validation.py:72: DataConversionWarning: A column-vector y was passed when a 1d array was expected. Please change the shape of y to (n_samples, ), for example using ravel().\n",
      "  return f(**kwargs)\n",
      "C:\\Users\\Dormi\\anaconda3\\envs\\bm-336546-hw2\\lib\\site-packages\\sklearn\\utils\\validation.py:72: DataConversionWarning: A column-vector y was passed when a 1d array was expected. Please change the shape of y to (n_samples, ), for example using ravel().\n",
      "  return f(**kwargs)\n",
      "C:\\Users\\Dormi\\anaconda3\\envs\\bm-336546-hw2\\lib\\site-packages\\sklearn\\utils\\validation.py:72: DataConversionWarning: A column-vector y was passed when a 1d array was expected. Please change the shape of y to (n_samples, ), for example using ravel().\n",
      "  return f(**kwargs)\n",
      "C:\\Users\\Dormi\\anaconda3\\envs\\bm-336546-hw2\\lib\\site-packages\\sklearn\\utils\\validation.py:72: DataConversionWarning: A column-vector y was passed when a 1d array was expected. Please change the shape of y to (n_samples, ), for example using ravel().\n",
      "  return f(**kwargs)\n",
      "C:\\Users\\Dormi\\anaconda3\\envs\\bm-336546-hw2\\lib\\site-packages\\sklearn\\utils\\validation.py:72: DataConversionWarning: A column-vector y was passed when a 1d array was expected. Please change the shape of y to (n_samples, ), for example using ravel().\n",
      "  return f(**kwargs)\n",
      "C:\\Users\\Dormi\\anaconda3\\envs\\bm-336546-hw2\\lib\\site-packages\\sklearn\\utils\\validation.py:72: DataConversionWarning: A column-vector y was passed when a 1d array was expected. Please change the shape of y to (n_samples, ), for example using ravel().\n",
      "  return f(**kwargs)\n",
      "C:\\Users\\Dormi\\anaconda3\\envs\\bm-336546-hw2\\lib\\site-packages\\sklearn\\utils\\validation.py:72: DataConversionWarning: A column-vector y was passed when a 1d array was expected. Please change the shape of y to (n_samples, ), for example using ravel().\n",
      "  return f(**kwargs)\n",
      "C:\\Users\\Dormi\\anaconda3\\envs\\bm-336546-hw2\\lib\\site-packages\\sklearn\\utils\\validation.py:72: DataConversionWarning: A column-vector y was passed when a 1d array was expected. Please change the shape of y to (n_samples, ), for example using ravel().\n",
      "  return f(**kwargs)\n",
      "C:\\Users\\Dormi\\anaconda3\\envs\\bm-336546-hw2\\lib\\site-packages\\sklearn\\utils\\validation.py:72: DataConversionWarning: A column-vector y was passed when a 1d array was expected. Please change the shape of y to (n_samples, ), for example using ravel().\n",
      "  return f(**kwargs)\n",
      "C:\\Users\\Dormi\\anaconda3\\envs\\bm-336546-hw2\\lib\\site-packages\\sklearn\\utils\\validation.py:72: DataConversionWarning: A column-vector y was passed when a 1d array was expected. Please change the shape of y to (n_samples, ), for example using ravel().\n",
      "  return f(**kwargs)\n"
     ]
    },
    {
     "name": "stdout",
     "output_type": "stream",
     "text": [
      "[CV]  svm__C=100.0, svm__kernel=linear, accuracy=(train=0.853, test=0.845), f1=(train=0.879, test=0.874), precision=(train=0.894, test=0.865), recall=(train=0.864, test=0.882), roc_auc=(train=0.933, test=0.945), total=   0.0s\n",
      "[CV] svm__C=100.0, svm__kernel=linear ................................\n",
      "[CV]  svm__C=100.0, svm__kernel=linear, accuracy=(train=0.847, test=0.869), f1=(train=0.873, test=0.895), precision=(train=0.889, test=0.887), recall=(train=0.859, test=0.904), roc_auc=(train=0.933, test=0.948), total=   0.1s\n",
      "[CV] svm__C=100.0, svm__kernel=linear ................................\n",
      "[CV]  svm__C=100.0, svm__kernel=linear, accuracy=(train=0.865, test=0.810), f1=(train=0.889, test=0.840), precision=(train=0.900, test=0.875), recall=(train=0.878, test=0.808), roc_auc=(train=0.940, test=0.902), total=   0.0s\n",
      "[CV] svm__C=100.0, svm__kernel=linear ................................\n",
      "[CV]  svm__C=100.0, svm__kernel=linear, accuracy=(train=0.839, test=0.904), f1=(train=0.868, test=0.920), precision=(train=0.876, test=0.939), recall=(train=0.859, test=0.902), roc_auc=(train=0.927, test=0.960), total=   0.0s\n",
      "[CV] svm__C=100.0, svm__kernel=linear ................................\n",
      "[CV]  svm__C=100.0, svm__kernel=linear, accuracy=(train=0.857, test=0.843), f1=(train=0.882, test=0.869), precision=(train=0.895, test=0.896), recall=(train=0.869, test=0.843), roc_auc=(train=0.938, test=0.907), total=   0.0s\n",
      "[CV] svm__C=1000.0, svm__kernel=linear ...............................\n"
     ]
    },
    {
     "name": "stderr",
     "output_type": "stream",
     "text": [
      "C:\\Users\\Dormi\\anaconda3\\envs\\bm-336546-hw2\\lib\\site-packages\\sklearn\\utils\\validation.py:72: DataConversionWarning: A column-vector y was passed when a 1d array was expected. Please change the shape of y to (n_samples, ), for example using ravel().\n",
      "  return f(**kwargs)\n",
      "C:\\Users\\Dormi\\anaconda3\\envs\\bm-336546-hw2\\lib\\site-packages\\sklearn\\utils\\validation.py:72: DataConversionWarning: A column-vector y was passed when a 1d array was expected. Please change the shape of y to (n_samples, ), for example using ravel().\n",
      "  return f(**kwargs)\n",
      "C:\\Users\\Dormi\\anaconda3\\envs\\bm-336546-hw2\\lib\\site-packages\\sklearn\\utils\\validation.py:72: DataConversionWarning: A column-vector y was passed when a 1d array was expected. Please change the shape of y to (n_samples, ), for example using ravel().\n",
      "  return f(**kwargs)\n",
      "C:\\Users\\Dormi\\anaconda3\\envs\\bm-336546-hw2\\lib\\site-packages\\sklearn\\utils\\validation.py:72: DataConversionWarning: A column-vector y was passed when a 1d array was expected. Please change the shape of y to (n_samples, ), for example using ravel().\n",
      "  return f(**kwargs)\n",
      "C:\\Users\\Dormi\\anaconda3\\envs\\bm-336546-hw2\\lib\\site-packages\\sklearn\\utils\\validation.py:72: DataConversionWarning: A column-vector y was passed when a 1d array was expected. Please change the shape of y to (n_samples, ), for example using ravel().\n",
      "  return f(**kwargs)\n"
     ]
    },
    {
     "name": "stdout",
     "output_type": "stream",
     "text": [
      "[CV]  svm__C=1000.0, svm__kernel=linear, accuracy=(train=0.853, test=0.845), f1=(train=0.879, test=0.874), precision=(train=0.894, test=0.865), recall=(train=0.864, test=0.882), roc_auc=(train=0.933, test=0.945), total=   0.3s\n",
      "[CV] svm__C=1000.0, svm__kernel=linear ...............................\n"
     ]
    },
    {
     "name": "stderr",
     "output_type": "stream",
     "text": [
      "C:\\Users\\Dormi\\anaconda3\\envs\\bm-336546-hw2\\lib\\site-packages\\sklearn\\utils\\validation.py:72: DataConversionWarning: A column-vector y was passed when a 1d array was expected. Please change the shape of y to (n_samples, ), for example using ravel().\n",
      "  return f(**kwargs)\n"
     ]
    },
    {
     "name": "stdout",
     "output_type": "stream",
     "text": [
      "[CV]  svm__C=1000.0, svm__kernel=linear, accuracy=(train=0.847, test=0.869), f1=(train=0.873, test=0.895), precision=(train=0.889, test=0.887), recall=(train=0.859, test=0.904), roc_auc=(train=0.933, test=0.948), total=   0.2s\n",
      "[CV] svm__C=1000.0, svm__kernel=linear ...............................\n"
     ]
    },
    {
     "name": "stderr",
     "output_type": "stream",
     "text": [
      "C:\\Users\\Dormi\\anaconda3\\envs\\bm-336546-hw2\\lib\\site-packages\\sklearn\\utils\\validation.py:72: DataConversionWarning: A column-vector y was passed when a 1d array was expected. Please change the shape of y to (n_samples, ), for example using ravel().\n",
      "  return f(**kwargs)\n"
     ]
    },
    {
     "name": "stdout",
     "output_type": "stream",
     "text": [
      "[CV]  svm__C=1000.0, svm__kernel=linear, accuracy=(train=0.865, test=0.810), f1=(train=0.889, test=0.840), precision=(train=0.900, test=0.875), recall=(train=0.878, test=0.808), roc_auc=(train=0.940, test=0.902), total=   0.2s\n",
      "[CV] svm__C=1000.0, svm__kernel=linear ...............................\n"
     ]
    },
    {
     "name": "stderr",
     "output_type": "stream",
     "text": [
      "C:\\Users\\Dormi\\anaconda3\\envs\\bm-336546-hw2\\lib\\site-packages\\sklearn\\utils\\validation.py:72: DataConversionWarning: A column-vector y was passed when a 1d array was expected. Please change the shape of y to (n_samples, ), for example using ravel().\n",
      "  return f(**kwargs)\n"
     ]
    },
    {
     "name": "stdout",
     "output_type": "stream",
     "text": [
      "[CV]  svm__C=1000.0, svm__kernel=linear, accuracy=(train=0.839, test=0.904), f1=(train=0.868, test=0.920), precision=(train=0.876, test=0.939), recall=(train=0.859, test=0.902), roc_auc=(train=0.927, test=0.961), total=   0.3s\n",
      "[CV] svm__C=1000.0, svm__kernel=linear ...............................\n"
     ]
    },
    {
     "name": "stderr",
     "output_type": "stream",
     "text": [
      "C:\\Users\\Dormi\\anaconda3\\envs\\bm-336546-hw2\\lib\\site-packages\\sklearn\\utils\\validation.py:72: DataConversionWarning: A column-vector y was passed when a 1d array was expected. Please change the shape of y to (n_samples, ), for example using ravel().\n",
      "  return f(**kwargs)\n"
     ]
    },
    {
     "name": "stdout",
     "output_type": "stream",
     "text": [
      "[CV]  svm__C=1000.0, svm__kernel=linear, accuracy=(train=0.857, test=0.843), f1=(train=0.882, test=0.869), precision=(train=0.895, test=0.896), recall=(train=0.869, test=0.843), roc_auc=(train=0.938, test=0.907), total=   0.3s\n",
      "Linear SVM recieves Best results with: {'svm__C': 0.1, 'svm__kernel': 'linear'}\n",
      "Sensitvity: 0.83\n",
      "Specifcity: 0.85\n",
      "Percision: 0.90\n",
      "Accuracy: 0.84\n",
      "F1: 0.86\n",
      "AUROC: 0.91\n"
     ]
    },
    {
     "name": "stderr",
     "output_type": "stream",
     "text": [
      "[Parallel(n_jobs=1)]: Done  30 out of  30 | elapsed:    1.9s finished\n",
      "C:\\Users\\Dormi\\anaconda3\\envs\\bm-336546-hw2\\lib\\site-packages\\sklearn\\utils\\validation.py:72: DataConversionWarning: A column-vector y was passed when a 1d array was expected. Please change the shape of y to (n_samples, ), for example using ravel().\n",
      "  return f(**kwargs)\n"
     ]
    },
    {
     "data": {
      "image/png": "[encoded data removed]",
      "text/plain": [
       "<Figure size 432x288 with 2 Axes>"
      ]
     },
     "metadata": {
      "needs_background": "light"
     },
     "output_type": "display_data"
    }
   ],
   "source": [
    "linear_svm.fit(x_train_reduced, y_train)\n",
    "best_linear_svm = linear_svm.best_estimator_\n",
    "print('Linear SVM recieves Best results with: {}'.format(linear_svm.best_params_))\n",
    "plot_print_model_results(best_linear_svm, x_test_reduced, y_test)"
   ]
  },
  {
   "cell_type": "markdown",
   "metadata": {},
   "source": [
    "#### non-linear SVM after dimentionality reduction"
   ]
  },
  {
   "cell_type": "code",
   "execution_count": 15,
   "metadata": {},
   "outputs": [
    {
     "name": "stderr",
     "output_type": "stream",
     "text": [
      "[Parallel(n_jobs=1)]: Using backend SequentialBackend with 1 concurrent workers.\n",
      "C:\\Users\\Dormi\\anaconda3\\envs\\bm-336546-hw2\\lib\\site-packages\\sklearn\\utils\\validation.py:72: DataConversionWarning: A column-vector y was passed when a 1d array was expected. Please change the shape of y to (n_samples, ), for example using ravel().\n",
      "  return f(**kwargs)\n",
      "[Parallel(n_jobs=1)]: Done   1 out of   1 | elapsed:    0.0s remaining:    0.0s\n",
      "C:\\Users\\Dormi\\anaconda3\\envs\\bm-336546-hw2\\lib\\site-packages\\sklearn\\utils\\validation.py:72: DataConversionWarning: A column-vector y was passed when a 1d array was expected. Please change the shape of y to (n_samples, ), for example using ravel().\n",
      "  return f(**kwargs)\n",
      "[Parallel(n_jobs=1)]: Done   2 out of   2 | elapsed:    0.0s remaining:    0.0s\n",
      "C:\\Users\\Dormi\\anaconda3\\envs\\bm-336546-hw2\\lib\\site-packages\\sklearn\\utils\\validation.py:72: DataConversionWarning: A column-vector y was passed when a 1d array was expected. Please change the shape of y to (n_samples, ), for example using ravel().\n",
      "  return f(**kwargs)\n"
     ]
    },
    {
     "name": "stdout",
     "output_type": "stream",
     "text": [
      "Fitting 5 folds for each of 12 candidates, totalling 60 fits\n",
      "[CV] svm__C=0.01, svm__kernel=rbf ....................................\n",
      "[CV]  svm__C=0.01, svm__kernel=rbf, accuracy=(train=0.617, test=0.607), f1=(train=0.763, test=0.756), precision=(train=0.617, test=0.607), recall=(train=1.000, test=1.000), roc_auc=(train=0.934, test=0.909), total=   0.0s\n",
      "[CV] svm__C=0.01, svm__kernel=rbf ....................................\n",
      "[CV]  svm__C=0.01, svm__kernel=rbf, accuracy=(train=0.614, test=0.619), f1=(train=0.761, test=0.765), precision=(train=0.614, test=0.619), recall=(train=1.000, test=1.000), roc_auc=(train=0.930, test=0.939), total=   0.0s\n",
      "[CV] svm__C=0.01, svm__kernel=rbf ....................................\n"
     ]
    },
    {
     "name": "stderr",
     "output_type": "stream",
     "text": [
      "C:\\Users\\Dormi\\anaconda3\\envs\\bm-336546-hw2\\lib\\site-packages\\sklearn\\utils\\validation.py:72: DataConversionWarning: A column-vector y was passed when a 1d array was expected. Please change the shape of y to (n_samples, ), for example using ravel().\n",
      "  return f(**kwargs)\n",
      "C:\\Users\\Dormi\\anaconda3\\envs\\bm-336546-hw2\\lib\\site-packages\\sklearn\\utils\\validation.py:72: DataConversionWarning: A column-vector y was passed when a 1d array was expected. Please change the shape of y to (n_samples, ), for example using ravel().\n",
      "  return f(**kwargs)\n",
      "C:\\Users\\Dormi\\anaconda3\\envs\\bm-336546-hw2\\lib\\site-packages\\sklearn\\utils\\validation.py:72: DataConversionWarning: A column-vector y was passed when a 1d array was expected. Please change the shape of y to (n_samples, ), for example using ravel().\n",
      "  return f(**kwargs)\n",
      "C:\\Users\\Dormi\\anaconda3\\envs\\bm-336546-hw2\\lib\\site-packages\\sklearn\\utils\\validation.py:72: DataConversionWarning: A column-vector y was passed when a 1d array was expected. Please change the shape of y to (n_samples, ), for example using ravel().\n",
      "  return f(**kwargs)\n"
     ]
    },
    {
     "name": "stdout",
     "output_type": "stream",
     "text": [
      "[CV]  svm__C=0.01, svm__kernel=rbf, accuracy=(train=0.614, test=0.619), f1=(train=0.761, test=0.765), precision=(train=0.614, test=0.619), recall=(train=1.000, test=1.000), roc_auc=(train=0.940, test=0.890), total=   0.0s\n",
      "[CV] svm__C=0.01, svm__kernel=rbf ....................................\n",
      "[CV]  svm__C=0.01, svm__kernel=rbf, accuracy=(train=0.615, test=0.614), f1=(train=0.762, test=0.761), precision=(train=0.615, test=0.614), recall=(train=1.000, test=1.000), roc_auc=(train=0.919, test=0.956), total=   0.0s\n",
      "[CV] svm__C=0.01, svm__kernel=rbf ....................................\n",
      "[CV]  svm__C=0.01, svm__kernel=rbf, accuracy=(train=0.615, test=0.614), f1=(train=0.762, test=0.761), precision=(train=0.615, test=0.614), recall=(train=1.000, test=1.000), roc_auc=(train=0.933, test=0.941), total=   0.0s\n",
      "[CV] svm__C=0.01, svm__kernel=poly ...................................\n",
      "[CV]  svm__C=0.01, svm__kernel=poly, accuracy=(train=0.728, test=0.679), f1=(train=0.816, test=0.784), precision=(train=0.699, test=0.662), recall=(train=0.981, test=0.961), roc_auc=(train=0.903, test=0.904), total=   0.0s\n",
      "[CV] svm__C=0.01, svm__kernel=poly ...................................\n",
      "[CV]  svm__C=0.01, svm__kernel=poly, accuracy=(train=0.734, test=0.714), f1=(train=0.819, test=0.813), precision=(train=0.701, test=0.684), recall=(train=0.985, test=1.000), roc_auc=(train=0.899, test=0.910), total=   0.0s\n",
      "[CV] svm__C=0.01, svm__kernel=poly ...................................\n"
     ]
    },
    {
     "name": "stderr",
     "output_type": "stream",
     "text": [
      "C:\\Users\\Dormi\\anaconda3\\envs\\bm-336546-hw2\\lib\\site-packages\\sklearn\\utils\\validation.py:72: DataConversionWarning: A column-vector y was passed when a 1d array was expected. Please change the shape of y to (n_samples, ), for example using ravel().\n",
      "  return f(**kwargs)\n",
      "C:\\Users\\Dormi\\anaconda3\\envs\\bm-336546-hw2\\lib\\site-packages\\sklearn\\utils\\validation.py:72: DataConversionWarning: A column-vector y was passed when a 1d array was expected. Please change the shape of y to (n_samples, ), for example using ravel().\n",
      "  return f(**kwargs)\n",
      "C:\\Users\\Dormi\\anaconda3\\envs\\bm-336546-hw2\\lib\\site-packages\\sklearn\\utils\\validation.py:72: DataConversionWarning: A column-vector y was passed when a 1d array was expected. Please change the shape of y to (n_samples, ), for example using ravel().\n",
      "  return f(**kwargs)\n"
     ]
    },
    {
     "name": "stdout",
     "output_type": "stream",
     "text": [
      "[CV]  svm__C=0.01, svm__kernel=poly, accuracy=(train=0.716, test=0.750), f1=(train=0.809, test=0.824), precision=(train=0.688, test=0.731), recall=(train=0.980, test=0.942), roc_auc=(train=0.918, test=0.877), total=   0.0s\n",
      "[CV] svm__C=0.01, svm__kernel=poly ...................................\n",
      "[CV]  svm__C=0.01, svm__kernel=poly, accuracy=(train=0.722, test=0.711), f1=(train=0.811, test=0.806), precision=(train=0.698, test=0.685), recall=(train=0.966, test=0.980), roc_auc=(train=0.916, test=0.928), total=   0.0s\n",
      "[CV] svm__C=0.01, svm__kernel=poly ...................................\n",
      "[CV]  svm__C=0.01, svm__kernel=poly, accuracy=(train=0.719, test=0.747), f1=(train=0.810, test=0.826), precision=(train=0.694, test=0.714), recall=(train=0.971, test=0.980), roc_auc=(train=0.911, test=0.911), total=   0.0s\n",
      "[CV] svm__C=0.1, svm__kernel=rbf .....................................\n"
     ]
    },
    {
     "name": "stderr",
     "output_type": "stream",
     "text": [
      "C:\\Users\\Dormi\\anaconda3\\envs\\bm-336546-hw2\\lib\\site-packages\\sklearn\\utils\\validation.py:72: DataConversionWarning: A column-vector y was passed when a 1d array was expected. Please change the shape of y to (n_samples, ), for example using ravel().\n",
      "  return f(**kwargs)\n",
      "C:\\Users\\Dormi\\anaconda3\\envs\\bm-336546-hw2\\lib\\site-packages\\sklearn\\utils\\validation.py:72: DataConversionWarning: A column-vector y was passed when a 1d array was expected. Please change the shape of y to (n_samples, ), for example using ravel().\n",
      "  return f(**kwargs)\n",
      "C:\\Users\\Dormi\\anaconda3\\envs\\bm-336546-hw2\\lib\\site-packages\\sklearn\\utils\\validation.py:72: DataConversionWarning: A column-vector y was passed when a 1d array was expected. Please change the shape of y to (n_samples, ), for example using ravel().\n",
      "  return f(**kwargs)\n",
      "C:\\Users\\Dormi\\anaconda3\\envs\\bm-336546-hw2\\lib\\site-packages\\sklearn\\utils\\validation.py:72: DataConversionWarning: A column-vector y was passed when a 1d array was expected. Please change the shape of y to (n_samples, ), for example using ravel().\n",
      "  return f(**kwargs)\n",
      "C:\\Users\\Dormi\\anaconda3\\envs\\bm-336546-hw2\\lib\\site-packages\\sklearn\\utils\\validation.py:72: DataConversionWarning: A column-vector y was passed when a 1d array was expected. Please change the shape of y to (n_samples, ), for example using ravel().\n",
      "  return f(**kwargs)\n"
     ]
    },
    {
     "name": "stdout",
     "output_type": "stream",
     "text": [
      "[CV]  svm__C=0.1, svm__kernel=rbf, accuracy=(train=0.859, test=0.833), f1=(train=0.884, test=0.865), precision=(train=0.899, test=0.849), recall=(train=0.869, test=0.882), roc_auc=(train=0.941, test=0.925), total=   0.0s\n",
      "[CV] svm__C=0.1, svm__kernel=rbf .....................................\n",
      "[CV]  svm__C=0.1, svm__kernel=rbf, accuracy=(train=0.847, test=0.869), f1=(train=0.873, test=0.895), precision=(train=0.889, test=0.887), recall=(train=0.859, test=0.904), roc_auc=(train=0.939, test=0.947), total=   0.0s\n",
      "[CV] svm__C=0.1, svm__kernel=rbf .....................................\n",
      "[CV]  svm__C=0.1, svm__kernel=rbf, accuracy=(train=0.862, test=0.810), f1=(train=0.886, test=0.843), precision=(train=0.899, test=0.860), recall=(train=0.873, test=0.827), roc_auc=(train=0.947, test=0.900), total=   0.0s\n",
      "[CV] svm__C=0.1, svm__kernel=rbf .....................................\n",
      "[CV]  svm__C=0.1, svm__kernel=rbf, accuracy=(train=0.842, test=0.892), f1=(train=0.870, test=0.909), precision=(train=0.881, test=0.938), recall=(train=0.859, test=0.882), roc_auc=(train=0.930, test=0.969), total=   0.0s\n",
      "[CV] svm__C=0.1, svm__kernel=rbf .....................................\n",
      "[CV]  svm__C=0.1, svm__kernel=rbf, accuracy=(train=0.857, test=0.843), f1=(train=0.882, test=0.869), precision=(train=0.891, test=0.896), recall=(train=0.874, test=0.843), roc_auc=(train=0.939, test=0.920), total=   0.0s\n",
      "[CV] svm__C=0.1, svm__kernel=poly ....................................\n",
      "[CV]  svm__C=0.1, svm__kernel=poly, accuracy=(train=0.814, test=0.786), f1=(train=0.862, test=0.839), precision=(train=0.795, test=0.770), recall=(train=0.942, test=0.922), roc_auc=(train=0.927, test=0.920), total=   0.0s\n",
      "[CV] svm__C=0.1, svm__kernel=poly ....................................\n"
     ]
    },
    {
     "name": "stderr",
     "output_type": "stream",
     "text": [
      "C:\\Users\\Dormi\\anaconda3\\envs\\bm-336546-hw2\\lib\\site-packages\\sklearn\\utils\\validation.py:72: DataConversionWarning: A column-vector y was passed when a 1d array was expected. Please change the shape of y to (n_samples, ), for example using ravel().\n",
      "  return f(**kwargs)\n",
      "C:\\Users\\Dormi\\anaconda3\\envs\\bm-336546-hw2\\lib\\site-packages\\sklearn\\utils\\validation.py:72: DataConversionWarning: A column-vector y was passed when a 1d array was expected. Please change the shape of y to (n_samples, ), for example using ravel().\n",
      "  return f(**kwargs)\n",
      "C:\\Users\\Dormi\\anaconda3\\envs\\bm-336546-hw2\\lib\\site-packages\\sklearn\\utils\\validation.py:72: DataConversionWarning: A column-vector y was passed when a 1d array was expected. Please change the shape of y to (n_samples, ), for example using ravel().\n",
      "  return f(**kwargs)\n",
      "C:\\Users\\Dormi\\anaconda3\\envs\\bm-336546-hw2\\lib\\site-packages\\sklearn\\utils\\validation.py:72: DataConversionWarning: A column-vector y was passed when a 1d array was expected. Please change the shape of y to (n_samples, ), for example using ravel().\n",
      "  return f(**kwargs)\n",
      "C:\\Users\\Dormi\\anaconda3\\envs\\bm-336546-hw2\\lib\\site-packages\\sklearn\\utils\\validation.py:72: DataConversionWarning: A column-vector y was passed when a 1d array was expected. Please change the shape of y to (n_samples, ), for example using ravel().\n",
      "  return f(**kwargs)\n"
     ]
    },
    {
     "name": "stdout",
     "output_type": "stream",
     "text": [
      "[CV]  svm__C=0.1, svm__kernel=poly, accuracy=(train=0.811, test=0.798), f1=(train=0.859, test=0.855), precision=(train=0.793, test=0.769), recall=(train=0.937, test=0.962), roc_auc=(train=0.915, test=0.923), total=   0.0s\n",
      "[CV] svm__C=0.1, svm__kernel=poly ....................................\n",
      "[CV]  svm__C=0.1, svm__kernel=poly, accuracy=(train=0.805, test=0.810), f1=(train=0.854, test=0.855), precision=(train=0.792, test=0.810), recall=(train=0.927, test=0.904), roc_auc=(train=0.931, test=0.902), total=   0.0s\n",
      "[CV] svm__C=0.1, svm__kernel=poly ....................................\n",
      "[CV]  svm__C=0.1, svm__kernel=poly, accuracy=(train=0.806, test=0.843), f1=(train=0.855, test=0.879), precision=(train=0.790, test=0.839), recall=(train=0.932, test=0.922), roc_auc=(train=0.925, test=0.936), total=   0.0s\n",
      "[CV] svm__C=0.1, svm__kernel=poly ....................................\n",
      "[CV]  svm__C=0.1, svm__kernel=poly, accuracy=(train=0.809, test=0.807), f1=(train=0.857, test=0.857), precision=(train=0.793, test=0.787), recall=(train=0.932, test=0.941), roc_auc=(train=0.928, test=0.914), total=   0.0s\n",
      "[CV] svm__C=1.0, svm__kernel=rbf .....................................\n"
     ]
    },
    {
     "name": "stderr",
     "output_type": "stream",
     "text": [
      "C:\\Users\\Dormi\\anaconda3\\envs\\bm-336546-hw2\\lib\\site-packages\\sklearn\\utils\\validation.py:72: DataConversionWarning: A column-vector y was passed when a 1d array was expected. Please change the shape of y to (n_samples, ), for example using ravel().\n",
      "  return f(**kwargs)\n",
      "C:\\Users\\Dormi\\anaconda3\\envs\\bm-336546-hw2\\lib\\site-packages\\sklearn\\utils\\validation.py:72: DataConversionWarning: A column-vector y was passed when a 1d array was expected. Please change the shape of y to (n_samples, ), for example using ravel().\n",
      "  return f(**kwargs)\n",
      "C:\\Users\\Dormi\\anaconda3\\envs\\bm-336546-hw2\\lib\\site-packages\\sklearn\\utils\\validation.py:72: DataConversionWarning: A column-vector y was passed when a 1d array was expected. Please change the shape of y to (n_samples, ), for example using ravel().\n",
      "  return f(**kwargs)\n",
      "C:\\Users\\Dormi\\anaconda3\\envs\\bm-336546-hw2\\lib\\site-packages\\sklearn\\utils\\validation.py:72: DataConversionWarning: A column-vector y was passed when a 1d array was expected. Please change the shape of y to (n_samples, ), for example using ravel().\n",
      "  return f(**kwargs)\n"
     ]
    },
    {
     "name": "stdout",
     "output_type": "stream",
     "text": [
      "[CV]  svm__C=1.0, svm__kernel=rbf, accuracy=(train=0.886, test=0.821), f1=(train=0.905, test=0.848), precision=(train=0.933, test=0.875), recall=(train=0.879, test=0.824), roc_auc=(train=0.943, test=0.935), total=   0.0s\n",
      "[CV] svm__C=1.0, svm__kernel=rbf .....................................\n",
      "[CV]  svm__C=1.0, svm__kernel=rbf, accuracy=(train=0.871, test=0.905), f1=(train=0.893, test=0.922), precision=(train=0.913, test=0.940), recall=(train=0.873, test=0.904), roc_auc=(train=0.942, test=0.947), total=   0.0s\n",
      "[CV] svm__C=1.0, svm__kernel=rbf .....................................\n",
      "[CV]  svm__C=1.0, svm__kernel=rbf, accuracy=(train=0.883, test=0.857), f1=(train=0.902, test=0.880), precision=(train=0.928, test=0.917), recall=(train=0.878, test=0.846), roc_auc=(train=0.943, test=0.883), total=   0.0s\n",
      "[CV] svm__C=1.0, svm__kernel=rbf .....................................\n",
      "[CV]  svm__C=1.0, svm__kernel=rbf, accuracy=(train=0.872, test=0.916), f1=(train=0.893, test=0.929), precision=(train=0.914, test=0.958), recall=(train=0.874, test=0.902), roc_auc=(train=0.930, test=0.956), total=   0.0s\n",
      "[CV] svm__C=1.0, svm__kernel=rbf .....................................\n",
      "[CV]  svm__C=1.0, svm__kernel=rbf, accuracy=(train=0.884, test=0.855), f1=(train=0.903, test=0.878), precision=(train=0.928, test=0.915), recall=(train=0.879, test=0.843), roc_auc=(train=0.934, test=0.878), total=   0.0s\n",
      "[CV] svm__C=1.0, svm__kernel=poly ....................................\n",
      "[CV]  svm__C=1.0, svm__kernel=poly, accuracy=(train=0.826, test=0.762), f1=(train=0.872, test=0.825), precision=(train=0.798, test=0.746), recall=(train=0.961, test=0.922), roc_auc=(train=0.934, test=0.916), total=   0.0s\n",
      "[CV] svm__C=1.0, svm__kernel=poly ....................................\n",
      "[CV]  svm__C=1.0, svm__kernel=poly, accuracy=(train=0.826, test=0.798), f1=(train=0.869, test=0.855), precision=(train=0.808, test=0.769), recall=(train=0.941, test=0.962), roc_auc=(train=0.922, test=0.927), total=   0.0s\n",
      "[CV] svm__C=1.0, svm__kernel=poly ....................................\n"
     ]
    },
    {
     "name": "stderr",
     "output_type": "stream",
     "text": [
      "C:\\Users\\Dormi\\anaconda3\\envs\\bm-336546-hw2\\lib\\site-packages\\sklearn\\utils\\validation.py:72: DataConversionWarning: A column-vector y was passed when a 1d array was expected. Please change the shape of y to (n_samples, ), for example using ravel().\n",
      "  return f(**kwargs)\n",
      "C:\\Users\\Dormi\\anaconda3\\envs\\bm-336546-hw2\\lib\\site-packages\\sklearn\\utils\\validation.py:72: DataConversionWarning: A column-vector y was passed when a 1d array was expected. Please change the shape of y to (n_samples, ), for example using ravel().\n",
      "  return f(**kwargs)\n",
      "C:\\Users\\Dormi\\anaconda3\\envs\\bm-336546-hw2\\lib\\site-packages\\sklearn\\utils\\validation.py:72: DataConversionWarning: A column-vector y was passed when a 1d array was expected. Please change the shape of y to (n_samples, ), for example using ravel().\n",
      "  return f(**kwargs)\n",
      "C:\\Users\\Dormi\\anaconda3\\envs\\bm-336546-hw2\\lib\\site-packages\\sklearn\\utils\\validation.py:72: DataConversionWarning: A column-vector y was passed when a 1d array was expected. Please change the shape of y to (n_samples, ), for example using ravel().\n",
      "  return f(**kwargs)\n",
      "C:\\Users\\Dormi\\anaconda3\\envs\\bm-336546-hw2\\lib\\site-packages\\sklearn\\utils\\validation.py:72: DataConversionWarning: A column-vector y was passed when a 1d array was expected. Please change the shape of y to (n_samples, ), for example using ravel().\n",
      "  return f(**kwargs)\n",
      "C:\\Users\\Dormi\\anaconda3\\envs\\bm-336546-hw2\\lib\\site-packages\\sklearn\\utils\\validation.py:72: DataConversionWarning: A column-vector y was passed when a 1d array was expected. Please change the shape of y to (n_samples, ), for example using ravel().\n",
      "  return f(**kwargs)\n"
     ]
    },
    {
     "name": "stdout",
     "output_type": "stream",
     "text": [
      "[CV]  svm__C=1.0, svm__kernel=poly, accuracy=(train=0.808, test=0.821), f1=(train=0.857, test=0.865), precision=(train=0.793, test=0.814), recall=(train=0.932, test=0.923), roc_auc=(train=0.938, test=0.909), total=   0.0s\n",
      "[CV] svm__C=1.0, svm__kernel=poly ....................................\n",
      "[CV]  svm__C=1.0, svm__kernel=poly, accuracy=(train=0.806, test=0.843), f1=(train=0.856, test=0.879), precision=(train=0.788, test=0.839), recall=(train=0.937, test=0.922), roc_auc=(train=0.928, test=0.944), total=   0.0s\n",
      "[CV] svm__C=1.0, svm__kernel=poly ....................................\n",
      "[CV]  svm__C=1.0, svm__kernel=poly, accuracy=(train=0.809, test=0.783), f1=(train=0.857, test=0.839), precision=(train=0.796, test=0.770), recall=(train=0.927, test=0.922), roc_auc=(train=0.926, test=0.909), total=   0.0s\n",
      "[CV] svm__C=10.0, svm__kernel=rbf ....................................\n"
     ]
    },
    {
     "name": "stderr",
     "output_type": "stream",
     "text": [
      "C:\\Users\\Dormi\\anaconda3\\envs\\bm-336546-hw2\\lib\\site-packages\\sklearn\\utils\\validation.py:72: DataConversionWarning: A column-vector y was passed when a 1d array was expected. Please change the shape of y to (n_samples, ), for example using ravel().\n",
      "  return f(**kwargs)\n",
      "C:\\Users\\Dormi\\anaconda3\\envs\\bm-336546-hw2\\lib\\site-packages\\sklearn\\utils\\validation.py:72: DataConversionWarning: A column-vector y was passed when a 1d array was expected. Please change the shape of y to (n_samples, ), for example using ravel().\n",
      "  return f(**kwargs)\n",
      "C:\\Users\\Dormi\\anaconda3\\envs\\bm-336546-hw2\\lib\\site-packages\\sklearn\\utils\\validation.py:72: DataConversionWarning: A column-vector y was passed when a 1d array was expected. Please change the shape of y to (n_samples, ), for example using ravel().\n",
      "  return f(**kwargs)\n"
     ]
    },
    {
     "name": "stdout",
     "output_type": "stream",
     "text": [
      "[CV]  svm__C=10.0, svm__kernel=rbf, accuracy=(train=0.883, test=0.845), f1=(train=0.902, test=0.869), precision=(train=0.937, test=0.896), recall=(train=0.869, test=0.843), roc_auc=(train=0.962, test=0.928), total=   0.0s\n",
      "[CV] svm__C=10.0, svm__kernel=rbf ....................................\n",
      "[CV]  svm__C=10.0, svm__kernel=rbf, accuracy=(train=0.883, test=0.881), f1=(train=0.900, test=0.900), precision=(train=0.951, test=0.938), recall=(train=0.854, test=0.865), roc_auc=(train=0.957, test=0.953), total=   0.0s\n",
      "[CV] svm__C=10.0, svm__kernel=rbf ....................................\n",
      "[CV]  svm__C=10.0, svm__kernel=rbf, accuracy=(train=0.889, test=0.869), f1=(train=0.906, test=0.887), precision=(train=0.947, test=0.956), recall=(train=0.868, test=0.827), roc_auc=(train=0.961, test=0.907), total=   0.0s\n",
      "[CV] svm__C=10.0, svm__kernel=rbf ....................................\n",
      "[CV]  svm__C=10.0, svm__kernel=rbf, accuracy=(train=0.866, test=0.916), f1=(train=0.886, test=0.929), precision=(train=0.926, test=0.958), recall=(train=0.850, test=0.902), roc_auc=(train=0.951, test=0.981), total=   0.0s\n",
      "[CV] svm__C=10.0, svm__kernel=rbf ....................................\n",
      "[CV]  svm__C=10.0, svm__kernel=rbf, accuracy=(train=0.878, test=0.867), f1=(train=0.897, test=0.887), precision=(train=0.932, test=0.935), recall=(train=0.864, test=0.843), roc_auc=(train=0.955, test=0.944), total=   0.0s\n",
      "[CV] svm__C=10.0, svm__kernel=poly ...................................\n",
      "[CV]  svm__C=10.0, svm__kernel=poly, accuracy=(train=0.829, test=0.750), f1=(train=0.874, test=0.814), precision=(train=0.802, test=0.742), recall=(train=0.961, test=0.902), roc_auc=(train=0.938, test=0.919), total=   0.0s\n",
      "[CV] svm__C=10.0, svm__kernel=poly ...................................\n"
     ]
    },
    {
     "name": "stderr",
     "output_type": "stream",
     "text": [
      "C:\\Users\\Dormi\\anaconda3\\envs\\bm-336546-hw2\\lib\\site-packages\\sklearn\\utils\\validation.py:72: DataConversionWarning: A column-vector y was passed when a 1d array was expected. Please change the shape of y to (n_samples, ), for example using ravel().\n",
      "  return f(**kwargs)\n",
      "C:\\Users\\Dormi\\anaconda3\\envs\\bm-336546-hw2\\lib\\site-packages\\sklearn\\utils\\validation.py:72: DataConversionWarning: A column-vector y was passed when a 1d array was expected. Please change the shape of y to (n_samples, ), for example using ravel().\n",
      "  return f(**kwargs)\n",
      "C:\\Users\\Dormi\\anaconda3\\envs\\bm-336546-hw2\\lib\\site-packages\\sklearn\\utils\\validation.py:72: DataConversionWarning: A column-vector y was passed when a 1d array was expected. Please change the shape of y to (n_samples, ), for example using ravel().\n",
      "  return f(**kwargs)\n",
      "C:\\Users\\Dormi\\anaconda3\\envs\\bm-336546-hw2\\lib\\site-packages\\sklearn\\utils\\validation.py:72: DataConversionWarning: A column-vector y was passed when a 1d array was expected. Please change the shape of y to (n_samples, ), for example using ravel().\n",
      "  return f(**kwargs)\n"
     ]
    },
    {
     "name": "stdout",
     "output_type": "stream",
     "text": [
      "[CV]  svm__C=10.0, svm__kernel=poly, accuracy=(train=0.826, test=0.786), f1=(train=0.871, test=0.847), precision=(train=0.802, test=0.758), recall=(train=0.951, test=0.962), roc_auc=(train=0.931, test=0.939), total=   0.1s\n",
      "[CV] svm__C=10.0, svm__kernel=poly ...................................\n"
     ]
    },
    {
     "name": "stderr",
     "output_type": "stream",
     "text": [
      "C:\\Users\\Dormi\\anaconda3\\envs\\bm-336546-hw2\\lib\\site-packages\\sklearn\\utils\\validation.py:72: DataConversionWarning: A column-vector y was passed when a 1d array was expected. Please change the shape of y to (n_samples, ), for example using ravel().\n",
      "  return f(**kwargs)\n",
      "C:\\Users\\Dormi\\anaconda3\\envs\\bm-336546-hw2\\lib\\site-packages\\sklearn\\utils\\validation.py:72: DataConversionWarning: A column-vector y was passed when a 1d array was expected. Please change the shape of y to (n_samples, ), for example using ravel().\n",
      "  return f(**kwargs)\n",
      "C:\\Users\\Dormi\\anaconda3\\envs\\bm-336546-hw2\\lib\\site-packages\\sklearn\\utils\\validation.py:72: DataConversionWarning: A column-vector y was passed when a 1d array was expected. Please change the shape of y to (n_samples, ), for example using ravel().\n",
      "  return f(**kwargs)\n",
      "C:\\Users\\Dormi\\anaconda3\\envs\\bm-336546-hw2\\lib\\site-packages\\sklearn\\utils\\validation.py:72: DataConversionWarning: A column-vector y was passed when a 1d array was expected. Please change the shape of y to (n_samples, ), for example using ravel().\n",
      "  return f(**kwargs)\n",
      "C:\\Users\\Dormi\\anaconda3\\envs\\bm-336546-hw2\\lib\\site-packages\\sklearn\\utils\\validation.py:72: DataConversionWarning: A column-vector y was passed when a 1d array was expected. Please change the shape of y to (n_samples, ), for example using ravel().\n",
      "  return f(**kwargs)\n",
      "C:\\Users\\Dormi\\anaconda3\\envs\\bm-336546-hw2\\lib\\site-packages\\sklearn\\utils\\validation.py:72: DataConversionWarning: A column-vector y was passed when a 1d array was expected. Please change the shape of y to (n_samples, ), for example using ravel().\n",
      "  return f(**kwargs)\n",
      "C:\\Users\\Dormi\\anaconda3\\envs\\bm-336546-hw2\\lib\\site-packages\\sklearn\\utils\\validation.py:72: DataConversionWarning: A column-vector y was passed when a 1d array was expected. Please change the shape of y to (n_samples, ), for example using ravel().\n",
      "  return f(**kwargs)\n"
     ]
    },
    {
     "name": "stdout",
     "output_type": "stream",
     "text": [
      "[CV]  svm__C=10.0, svm__kernel=poly, accuracy=(train=0.805, test=0.833), f1=(train=0.854, test=0.873), precision=(train=0.792, test=0.828), recall=(train=0.927, test=0.923), roc_auc=(train=0.940, test=0.915), total=   0.0s\n",
      "[CV] svm__C=10.0, svm__kernel=poly ...................................\n",
      "[CV]  svm__C=10.0, svm__kernel=poly, accuracy=(train=0.806, test=0.843), f1=(train=0.856, test=0.879), precision=(train=0.788, test=0.839), recall=(train=0.937, test=0.922), roc_auc=(train=0.930, test=0.950), total=   0.0s\n",
      "[CV] svm__C=10.0, svm__kernel=poly ...................................\n",
      "[CV]  svm__C=10.0, svm__kernel=poly, accuracy=(train=0.821, test=0.795), f1=(train=0.865, test=0.847), precision=(train=0.804, test=0.783), recall=(train=0.937, test=0.922), roc_auc=(train=0.925, test=0.907), total=   0.0s\n",
      "[CV] svm__C=100.0, svm__kernel=rbf ...................................\n",
      "[CV]  svm__C=100.0, svm__kernel=rbf, accuracy=(train=0.910, test=0.810), f1=(train=0.924, test=0.840), precision=(train=0.968, test=0.857), recall=(train=0.883, test=0.824), roc_auc=(train=0.968, test=0.887), total=   0.0s\n",
      "[CV] svm__C=100.0, svm__kernel=rbf ...................................\n",
      "[CV]  svm__C=100.0, svm__kernel=rbf, accuracy=(train=0.889, test=0.881), f1=(train=0.904, test=0.898), precision=(train=0.962, test=0.957), recall=(train=0.854, test=0.846), roc_auc=(train=0.959, test=0.961), total=   0.0s\n",
      "[CV] svm__C=100.0, svm__kernel=rbf ...................................\n",
      "[CV]  svm__C=100.0, svm__kernel=rbf, accuracy=(train=0.895, test=0.869), f1=(train=0.910, test=0.887), precision=(train=0.967, test=0.956), recall=(train=0.859, test=0.827), roc_auc=(train=0.967, test=0.927), total=   0.0s\n",
      "[CV] svm__C=100.0, svm__kernel=rbf ...................................\n",
      "[CV]  svm__C=100.0, svm__kernel=rbf, accuracy=(train=0.875, test=0.928), f1=(train=0.892, test=0.939), precision=(train=0.951, test=0.979), recall=(train=0.840, test=0.902), roc_auc=(train=0.956, test=0.980), total=   0.0s\n",
      "[CV] svm__C=100.0, svm__kernel=rbf ...................................\n",
      "[CV]  svm__C=100.0, svm__kernel=rbf, accuracy=(train=0.884, test=0.892), f1=(train=0.901, test=0.905), precision=(train=0.942, test=0.977), recall=(train=0.864, test=0.843), roc_auc=(train=0.965, test=0.952), total=   0.0s\n",
      "[CV] svm__C=100.0, svm__kernel=poly ..................................\n"
     ]
    },
    {
     "name": "stderr",
     "output_type": "stream",
     "text": [
      "C:\\Users\\Dormi\\anaconda3\\envs\\bm-336546-hw2\\lib\\site-packages\\sklearn\\utils\\validation.py:72: DataConversionWarning: A column-vector y was passed when a 1d array was expected. Please change the shape of y to (n_samples, ), for example using ravel().\n",
      "  return f(**kwargs)\n",
      "C:\\Users\\Dormi\\anaconda3\\envs\\bm-336546-hw2\\lib\\site-packages\\sklearn\\utils\\validation.py:72: DataConversionWarning: A column-vector y was passed when a 1d array was expected. Please change the shape of y to (n_samples, ), for example using ravel().\n",
      "  return f(**kwargs)\n"
     ]
    },
    {
     "name": "stdout",
     "output_type": "stream",
     "text": [
      "[CV]  svm__C=100.0, svm__kernel=poly, accuracy=(train=0.829, test=0.750), f1=(train=0.874, test=0.814), precision=(train=0.802, test=0.742), recall=(train=0.961, test=0.902), roc_auc=(train=0.938, test=0.919), total=   0.3s\n",
      "[CV] svm__C=100.0, svm__kernel=poly ..................................\n"
     ]
    },
    {
     "name": "stderr",
     "output_type": "stream",
     "text": [
      "C:\\Users\\Dormi\\anaconda3\\envs\\bm-336546-hw2\\lib\\site-packages\\sklearn\\utils\\validation.py:72: DataConversionWarning: A column-vector y was passed when a 1d array was expected. Please change the shape of y to (n_samples, ), for example using ravel().\n",
      "  return f(**kwargs)\n"
     ]
    },
    {
     "name": "stdout",
     "output_type": "stream",
     "text": [
      "[CV]  svm__C=100.0, svm__kernel=poly, accuracy=(train=0.826, test=0.798), f1=(train=0.870, test=0.855), precision=(train=0.805, test=0.769), recall=(train=0.946, test=0.962), roc_auc=(train=0.927, test=0.929), total=   0.4s\n",
      "[CV] svm__C=100.0, svm__kernel=poly ..................................\n",
      "[CV]  svm__C=100.0, svm__kernel=poly, accuracy=(train=0.805, test=0.833), f1=(train=0.853, test=0.873), precision=(train=0.794, test=0.828), recall=(train=0.922, test=0.923), roc_auc=(train=0.940, test=0.915), total=   0.1s\n",
      "[CV] svm__C=100.0, svm__kernel=poly ..................................\n"
     ]
    },
    {
     "name": "stderr",
     "output_type": "stream",
     "text": [
      "C:\\Users\\Dormi\\anaconda3\\envs\\bm-336546-hw2\\lib\\site-packages\\sklearn\\utils\\validation.py:72: DataConversionWarning: A column-vector y was passed when a 1d array was expected. Please change the shape of y to (n_samples, ), for example using ravel().\n",
      "  return f(**kwargs)\n",
      "C:\\Users\\Dormi\\anaconda3\\envs\\bm-336546-hw2\\lib\\site-packages\\sklearn\\utils\\validation.py:72: DataConversionWarning: A column-vector y was passed when a 1d array was expected. Please change the shape of y to (n_samples, ), for example using ravel().\n",
      "  return f(**kwargs)\n"
     ]
    },
    {
     "name": "stdout",
     "output_type": "stream",
     "text": [
      "[CV]  svm__C=100.0, svm__kernel=poly, accuracy=(train=0.806, test=0.843), f1=(train=0.856, test=0.879), precision=(train=0.788, test=0.839), recall=(train=0.937, test=0.922), roc_auc=(train=0.930, test=0.950), total=   0.1s\n",
      "[CV] svm__C=100.0, svm__kernel=poly ..................................\n",
      "[CV]  svm__C=100.0, svm__kernel=poly, accuracy=(train=0.821, test=0.819), f1=(train=0.863, test=0.862), precision=(train=0.815, test=0.810), recall=(train=0.917, test=0.922), roc_auc=(train=0.923, test=0.900), total=   0.2s\n",
      "[CV] svm__C=1000.0, svm__kernel=rbf ..................................\n"
     ]
    },
    {
     "name": "stderr",
     "output_type": "stream",
     "text": [
      "C:\\Users\\Dormi\\anaconda3\\envs\\bm-336546-hw2\\lib\\site-packages\\sklearn\\utils\\validation.py:72: DataConversionWarning: A column-vector y was passed when a 1d array was expected. Please change the shape of y to (n_samples, ), for example using ravel().\n",
      "  return f(**kwargs)\n",
      "C:\\Users\\Dormi\\anaconda3\\envs\\bm-336546-hw2\\lib\\site-packages\\sklearn\\utils\\validation.py:72: DataConversionWarning: A column-vector y was passed when a 1d array was expected. Please change the shape of y to (n_samples, ), for example using ravel().\n",
      "  return f(**kwargs)\n"
     ]
    },
    {
     "name": "stdout",
     "output_type": "stream",
     "text": [
      "[CV]  svm__C=1000.0, svm__kernel=rbf, accuracy=(train=0.922, test=0.810), f1=(train=0.934, test=0.840), precision=(train=0.974, test=0.857), recall=(train=0.898, test=0.824), roc_auc=(train=0.975, test=0.881), total=   0.1s\n",
      "[CV] svm__C=1000.0, svm__kernel=rbf ..................................\n",
      "[CV]  svm__C=1000.0, svm__kernel=rbf, accuracy=(train=0.910, test=0.881), f1=(train=0.923, test=0.898), precision=(train=0.968, test=0.957), recall=(train=0.883, test=0.846), roc_auc=(train=0.963, test=0.966), total=   0.1s\n",
      "[CV] svm__C=1000.0, svm__kernel=rbf ..................................\n",
      "[CV]  svm__C=1000.0, svm__kernel=rbf, accuracy=(train=0.901, test=0.845), f1=(train=0.916, test=0.863), precision=(train=0.953, test=0.953), recall=(train=0.883, test=0.788), roc_auc=(train=0.969, test=0.903), total=   0.1s\n",
      "[CV] svm__C=1000.0, svm__kernel=rbf ..................................\n",
      "[CV]  svm__C=1000.0, svm__kernel=rbf, accuracy=(train=0.878, test=0.916), f1=(train=0.897, test=0.933), precision=(train=0.927, test=0.907), recall=(train=0.869, test=0.961), roc_auc=(train=0.960, test=0.980), total=   0.0s\n",
      "[CV] svm__C=1000.0, svm__kernel=rbf ..................................\n"
     ]
    },
    {
     "name": "stderr",
     "output_type": "stream",
     "text": [
      "C:\\Users\\Dormi\\anaconda3\\envs\\bm-336546-hw2\\lib\\site-packages\\sklearn\\utils\\validation.py:72: DataConversionWarning: A column-vector y was passed when a 1d array was expected. Please change the shape of y to (n_samples, ), for example using ravel().\n",
      "  return f(**kwargs)\n",
      "C:\\Users\\Dormi\\anaconda3\\envs\\bm-336546-hw2\\lib\\site-packages\\sklearn\\utils\\validation.py:72: DataConversionWarning: A column-vector y was passed when a 1d array was expected. Please change the shape of y to (n_samples, ), for example using ravel().\n",
      "  return f(**kwargs)\n",
      "C:\\Users\\Dormi\\anaconda3\\envs\\bm-336546-hw2\\lib\\site-packages\\sklearn\\utils\\validation.py:72: DataConversionWarning: A column-vector y was passed when a 1d array was expected. Please change the shape of y to (n_samples, ), for example using ravel().\n",
      "  return f(**kwargs)\n",
      "C:\\Users\\Dormi\\anaconda3\\envs\\bm-336546-hw2\\lib\\site-packages\\sklearn\\utils\\validation.py:72: DataConversionWarning: A column-vector y was passed when a 1d array was expected. Please change the shape of y to (n_samples, ), for example using ravel().\n",
      "  return f(**kwargs)\n"
     ]
    },
    {
     "name": "stdout",
     "output_type": "stream",
     "text": [
      "[CV]  svm__C=1000.0, svm__kernel=rbf, accuracy=(train=0.893, test=0.855), f1=(train=0.910, test=0.875), precision=(train=0.943, test=0.933), recall=(train=0.879, test=0.824), roc_auc=(train=0.966, test=0.933), total=   0.1s\n",
      "[CV] svm__C=1000.0, svm__kernel=poly .................................\n"
     ]
    },
    {
     "name": "stderr",
     "output_type": "stream",
     "text": [
      "C:\\Users\\Dormi\\anaconda3\\envs\\bm-336546-hw2\\lib\\site-packages\\sklearn\\utils\\validation.py:72: DataConversionWarning: A column-vector y was passed when a 1d array was expected. Please change the shape of y to (n_samples, ), for example using ravel().\n",
      "  return f(**kwargs)\n"
     ]
    },
    {
     "name": "stdout",
     "output_type": "stream",
     "text": [
      "[CV]  svm__C=1000.0, svm__kernel=poly, accuracy=(train=0.829, test=0.750), f1=(train=0.874, test=0.814), precision=(train=0.802, test=0.742), recall=(train=0.961, test=0.902), roc_auc=(train=0.938, test=0.919), total=   1.9s\n",
      "[CV] svm__C=1000.0, svm__kernel=poly .................................\n"
     ]
    },
    {
     "name": "stderr",
     "output_type": "stream",
     "text": [
      "C:\\Users\\Dormi\\anaconda3\\envs\\bm-336546-hw2\\lib\\site-packages\\sklearn\\utils\\validation.py:72: DataConversionWarning: A column-vector y was passed when a 1d array was expected. Please change the shape of y to (n_samples, ), for example using ravel().\n",
      "  return f(**kwargs)\n"
     ]
    },
    {
     "name": "stdout",
     "output_type": "stream",
     "text": [
      "[CV]  svm__C=1000.0, svm__kernel=poly, accuracy=(train=0.826, test=0.798), f1=(train=0.870, test=0.855), precision=(train=0.805, test=0.769), recall=(train=0.946, test=0.962), roc_auc=(train=0.930, test=0.938), total=   3.4s\n",
      "[CV] svm__C=1000.0, svm__kernel=poly .................................\n"
     ]
    },
    {
     "name": "stderr",
     "output_type": "stream",
     "text": [
      "C:\\Users\\Dormi\\anaconda3\\envs\\bm-336546-hw2\\lib\\site-packages\\sklearn\\utils\\validation.py:72: DataConversionWarning: A column-vector y was passed when a 1d array was expected. Please change the shape of y to (n_samples, ), for example using ravel().\n",
      "  return f(**kwargs)\n"
     ]
    },
    {
     "name": "stdout",
     "output_type": "stream",
     "text": [
      "[CV]  svm__C=1000.0, svm__kernel=poly, accuracy=(train=0.805, test=0.833), f1=(train=0.853, test=0.873), precision=(train=0.794, test=0.828), recall=(train=0.922, test=0.923), roc_auc=(train=0.940, test=0.915), total=   1.2s\n",
      "[CV] svm__C=1000.0, svm__kernel=poly .................................\n"
     ]
    },
    {
     "name": "stderr",
     "output_type": "stream",
     "text": [
      "C:\\Users\\Dormi\\anaconda3\\envs\\bm-336546-hw2\\lib\\site-packages\\sklearn\\utils\\validation.py:72: DataConversionWarning: A column-vector y was passed when a 1d array was expected. Please change the shape of y to (n_samples, ), for example using ravel().\n",
      "  return f(**kwargs)\n"
     ]
    },
    {
     "name": "stdout",
     "output_type": "stream",
     "text": [
      "[CV]  svm__C=1000.0, svm__kernel=poly, accuracy=(train=0.806, test=0.843), f1=(train=0.856, test=0.879), precision=(train=0.788, test=0.839), recall=(train=0.937, test=0.922), roc_auc=(train=0.930, test=0.950), total=   0.9s\n",
      "[CV] svm__C=1000.0, svm__kernel=poly .................................\n"
     ]
    },
    {
     "name": "stderr",
     "output_type": "stream",
     "text": [
      "C:\\Users\\Dormi\\anaconda3\\envs\\bm-336546-hw2\\lib\\site-packages\\sklearn\\utils\\validation.py:72: DataConversionWarning: A column-vector y was passed when a 1d array was expected. Please change the shape of y to (n_samples, ), for example using ravel().\n",
      "  return f(**kwargs)\n"
     ]
    },
    {
     "name": "stdout",
     "output_type": "stream",
     "text": [
      "[CV]  svm__C=1000.0, svm__kernel=poly, accuracy=(train=0.824, test=0.831), f1=(train=0.865, test=0.870), precision=(train=0.818, test=0.825), recall=(train=0.917, test=0.922), roc_auc=(train=0.923, test=0.898), total=   1.0s\n",
      "non-linear SVM recieves Best results with: {'svm__C': 10.0, 'svm__kernel': 'rbf'}\n",
      "Sensitvity: 0.81\n",
      "Specifcity: 0.93\n",
      "Percision: 0.95\n",
      "Accuracy: 0.86\n",
      "F1: 0.87\n",
      "AUROC: 0.93\n"
     ]
    },
    {
     "name": "stderr",
     "output_type": "stream",
     "text": [
      "[Parallel(n_jobs=1)]: Done  60 out of  60 | elapsed:   10.8s finished\n",
      "C:\\Users\\Dormi\\anaconda3\\envs\\bm-336546-hw2\\lib\\site-packages\\sklearn\\utils\\validation.py:72: DataConversionWarning: A column-vector y was passed when a 1d array was expected. Please change the shape of y to (n_samples, ), for example using ravel().\n",
      "  return f(**kwargs)\n"
     ]
    },
    {
     "data": {
      "image/png": "[encoded data removed]",
      "text/plain": [
       "<Figure size 432x288 with 2 Axes>"
      ]
     },
     "metadata": {
      "needs_background": "light"
     },
     "output_type": "display_data"
    }
   ],
   "source": [
    "non_linear_svm.fit(x_train_reduced, y_train)\n",
    "best_non_linear_svm = non_linear_svm.best_estimator_\n",
    "print('non-linear SVM recieves Best results with: {}'.format(non_linear_svm.best_params_))\n",
    "plot_print_model_results(best_non_linear_svm, x_test_reduced, y_test)"
   ]
  },
  {
   "cell_type": "markdown",
   "metadata": {},
   "source": [
    "#### 7.d) Training on best 2 features"
   ]
  },
  {
   "cell_type": "code",
   "execution_count": 16,
   "metadata": {},
   "outputs": [],
   "source": [
    "x_train_best_features = X_train.iloc[:, [2,3]]\n",
    "x_test_best_features = X_test.iloc[:, [2,3]]"
   ]
  },
  {
   "cell_type": "markdown",
   "metadata": {},
   "source": [
    "##### linear-svm on 2 best features"
   ]
  },
  {
   "cell_type": "code",
   "execution_count": 17,
   "metadata": {},
   "outputs": [
    {
     "name": "stdout",
     "output_type": "stream",
     "text": [
      "Fitting 5 folds for each of 6 candidates, totalling 30 fits\n",
      "[CV] svm__C=0.01, svm__kernel=linear .................................\n",
      "[CV]  svm__C=0.01, svm__kernel=linear, accuracy=(train=0.832, test=0.833), f1=(train=0.851, test=0.848), precision=(train=0.941, test=0.951), recall=(train=0.777, test=0.765), roc_auc=(train=0.917, test=0.920), total=   0.0s\n",
      "[CV] svm__C=0.01, svm__kernel=linear .................................\n",
      "[CV]  svm__C=0.01, svm__kernel=linear, accuracy=(train=0.838, test=0.810), f1=(train=0.856, test=0.830), precision=(train=0.947, test=0.929), recall=(train=0.780, test=0.750), roc_auc=(train=0.922, test=0.898), total=   0.0s\n",
      "[CV] svm__C=0.01, svm__kernel=linear .................................\n"
     ]
    },
    {
     "name": "stderr",
     "output_type": "stream",
     "text": [
      "[Parallel(n_jobs=1)]: Using backend SequentialBackend with 1 concurrent workers.\n",
      "C:\\Users\\Dormi\\anaconda3\\envs\\bm-336546-hw2\\lib\\site-packages\\sklearn\\utils\\validation.py:72: DataConversionWarning: A column-vector y was passed when a 1d array was expected. Please change the shape of y to (n_samples, ), for example using ravel().\n",
      "  return f(**kwargs)\n",
      "[Parallel(n_jobs=1)]: Done   1 out of   1 | elapsed:    0.0s remaining:    0.0s\n",
      "C:\\Users\\Dormi\\anaconda3\\envs\\bm-336546-hw2\\lib\\site-packages\\sklearn\\utils\\validation.py:72: DataConversionWarning: A column-vector y was passed when a 1d array was expected. Please change the shape of y to (n_samples, ), for example using ravel().\n",
      "  return f(**kwargs)\n",
      "[Parallel(n_jobs=1)]: Done   2 out of   2 | elapsed:    0.0s remaining:    0.0s\n",
      "C:\\Users\\Dormi\\anaconda3\\envs\\bm-336546-hw2\\lib\\site-packages\\sklearn\\utils\\validation.py:72: DataConversionWarning: A column-vector y was passed when a 1d array was expected. Please change the shape of y to (n_samples, ), for example using ravel().\n",
      "  return f(**kwargs)\n",
      "C:\\Users\\Dormi\\anaconda3\\envs\\bm-336546-hw2\\lib\\site-packages\\sklearn\\utils\\validation.py:72: DataConversionWarning: A column-vector y was passed when a 1d array was expected. Please change the shape of y to (n_samples, ), for example using ravel().\n",
      "  return f(**kwargs)\n",
      "C:\\Users\\Dormi\\anaconda3\\envs\\bm-336546-hw2\\lib\\site-packages\\sklearn\\utils\\validation.py:72: DataConversionWarning: A column-vector y was passed when a 1d array was expected. Please change the shape of y to (n_samples, ), for example using ravel().\n",
      "  return f(**kwargs)\n",
      "C:\\Users\\Dormi\\anaconda3\\envs\\bm-336546-hw2\\lib\\site-packages\\sklearn\\utils\\validation.py:72: DataConversionWarning: A column-vector y was passed when a 1d array was expected. Please change the shape of y to (n_samples, ), for example using ravel().\n",
      "  return f(**kwargs)\n",
      "C:\\Users\\Dormi\\anaconda3\\envs\\bm-336546-hw2\\lib\\site-packages\\sklearn\\utils\\validation.py:72: DataConversionWarning: A column-vector y was passed when a 1d array was expected. Please change the shape of y to (n_samples, ), for example using ravel().\n",
      "  return f(**kwargs)\n",
      "C:\\Users\\Dormi\\anaconda3\\envs\\bm-336546-hw2\\lib\\site-packages\\sklearn\\utils\\validation.py:72: DataConversionWarning: A column-vector y was passed when a 1d array was expected. Please change the shape of y to (n_samples, ), for example using ravel().\n",
      "  return f(**kwargs)\n",
      "C:\\Users\\Dormi\\anaconda3\\envs\\bm-336546-hw2\\lib\\site-packages\\sklearn\\utils\\validation.py:72: DataConversionWarning: A column-vector y was passed when a 1d array was expected. Please change the shape of y to (n_samples, ), for example using ravel().\n",
      "  return f(**kwargs)\n"
     ]
    },
    {
     "name": "stdout",
     "output_type": "stream",
     "text": [
      "[CV]  svm__C=0.01, svm__kernel=linear, accuracy=(train=0.841, test=0.798), f1=(train=0.859, test=0.817), precision=(train=0.947, test=0.927), recall=(train=0.785, test=0.731), roc_auc=(train=0.922, test=0.898), total=   0.0s\n",
      "[CV] svm__C=0.01, svm__kernel=linear .................................\n",
      "[CV]  svm__C=0.01, svm__kernel=linear, accuracy=(train=0.827, test=0.855), f1=(train=0.845, test=0.872), precision=(train=0.940, test=0.953), recall=(train=0.767, test=0.804), roc_auc=(train=0.913, test=0.935), total=   0.0s\n",
      "[CV] svm__C=0.01, svm__kernel=linear .................................\n",
      "[CV]  svm__C=0.01, svm__kernel=linear, accuracy=(train=0.824, test=0.867), f1=(train=0.842, test=0.884), precision=(train=0.940, test=0.955), recall=(train=0.762, test=0.824), roc_auc=(train=0.913, test=0.934), total=   0.0s\n",
      "[CV] svm__C=0.1, svm__kernel=linear ..................................\n",
      "[CV]  svm__C=0.1, svm__kernel=linear, accuracy=(train=0.883, test=0.881), f1=(train=0.903, test=0.900), precision=(train=0.928, test=0.918), recall=(train=0.879, test=0.882), roc_auc=(train=0.919, test=0.922), total=   0.0s\n",
      "[CV] svm__C=0.1, svm__kernel=linear ..................................\n",
      "[CV]  svm__C=0.1, svm__kernel=linear, accuracy=(train=0.889, test=0.857), f1=(train=0.908, test=0.880), precision=(train=0.929, test=0.917), recall=(train=0.888, test=0.846), roc_auc=(train=0.924, test=0.904), total=   0.0s\n",
      "[CV] svm__C=0.1, svm__kernel=linear ..................................\n",
      "[CV]  svm__C=0.1, svm__kernel=linear, accuracy=(train=0.886, test=0.869), f1=(train=0.905, test=0.891), precision=(train=0.928, test=0.918), recall=(train=0.883, test=0.865), roc_auc=(train=0.922, test=0.898), total=   0.0s\n",
      "[CV] svm__C=0.1, svm__kernel=linear ..................................\n"
     ]
    },
    {
     "name": "stderr",
     "output_type": "stream",
     "text": [
      "C:\\Users\\Dormi\\anaconda3\\envs\\bm-336546-hw2\\lib\\site-packages\\sklearn\\utils\\validation.py:72: DataConversionWarning: A column-vector y was passed when a 1d array was expected. Please change the shape of y to (n_samples, ), for example using ravel().\n",
      "  return f(**kwargs)\n",
      "C:\\Users\\Dormi\\anaconda3\\envs\\bm-336546-hw2\\lib\\site-packages\\sklearn\\utils\\validation.py:72: DataConversionWarning: A column-vector y was passed when a 1d array was expected. Please change the shape of y to (n_samples, ), for example using ravel().\n",
      "  return f(**kwargs)\n"
     ]
    },
    {
     "name": "stdout",
     "output_type": "stream",
     "text": [
      "[CV]  svm__C=0.1, svm__kernel=linear, accuracy=(train=0.878, test=0.904), f1=(train=0.898, test=0.920), precision=(train=0.923, test=0.939), recall=(train=0.874, test=0.902), roc_auc=(train=0.913, test=0.935), total=   0.0s\n",
      "[CV] svm__C=0.1, svm__kernel=linear ..................................\n",
      "[CV]  svm__C=0.1, svm__kernel=linear, accuracy=(train=0.878, test=0.904), f1=(train=0.898, test=0.920), precision=(train=0.923, test=0.939), recall=(train=0.874, test=0.902), roc_auc=(train=0.913, test=0.934), total=   0.0s\n",
      "[CV] svm__C=1.0, svm__kernel=linear ..................................\n",
      "[CV]  svm__C=1.0, svm__kernel=linear, accuracy=(train=0.883, test=0.881), f1=(train=0.903, test=0.900), precision=(train=0.928, test=0.918), recall=(train=0.879, test=0.882), roc_auc=(train=0.919, test=0.922), total=   0.0s\n",
      "[CV] svm__C=1.0, svm__kernel=linear ..................................\n",
      "[CV]  svm__C=1.0, svm__kernel=linear, accuracy=(train=0.889, test=0.857), f1=(train=0.908, test=0.880), precision=(train=0.929, test=0.917), recall=(train=0.888, test=0.846), roc_auc=(train=0.924, test=0.904), total=   0.0s\n",
      "[CV] svm__C=1.0, svm__kernel=linear ..................................\n"
     ]
    },
    {
     "name": "stderr",
     "output_type": "stream",
     "text": [
      "C:\\Users\\Dormi\\anaconda3\\envs\\bm-336546-hw2\\lib\\site-packages\\sklearn\\utils\\validation.py:72: DataConversionWarning: A column-vector y was passed when a 1d array was expected. Please change the shape of y to (n_samples, ), for example using ravel().\n",
      "  return f(**kwargs)\n",
      "C:\\Users\\Dormi\\anaconda3\\envs\\bm-336546-hw2\\lib\\site-packages\\sklearn\\utils\\validation.py:72: DataConversionWarning: A column-vector y was passed when a 1d array was expected. Please change the shape of y to (n_samples, ), for example using ravel().\n",
      "  return f(**kwargs)\n",
      "C:\\Users\\Dormi\\anaconda3\\envs\\bm-336546-hw2\\lib\\site-packages\\sklearn\\utils\\validation.py:72: DataConversionWarning: A column-vector y was passed when a 1d array was expected. Please change the shape of y to (n_samples, ), for example using ravel().\n",
      "  return f(**kwargs)\n",
      "C:\\Users\\Dormi\\anaconda3\\envs\\bm-336546-hw2\\lib\\site-packages\\sklearn\\utils\\validation.py:72: DataConversionWarning: A column-vector y was passed when a 1d array was expected. Please change the shape of y to (n_samples, ), for example using ravel().\n",
      "  return f(**kwargs)\n",
      "C:\\Users\\Dormi\\anaconda3\\envs\\bm-336546-hw2\\lib\\site-packages\\sklearn\\utils\\validation.py:72: DataConversionWarning: A column-vector y was passed when a 1d array was expected. Please change the shape of y to (n_samples, ), for example using ravel().\n",
      "  return f(**kwargs)\n",
      "C:\\Users\\Dormi\\anaconda3\\envs\\bm-336546-hw2\\lib\\site-packages\\sklearn\\utils\\validation.py:72: DataConversionWarning: A column-vector y was passed when a 1d array was expected. Please change the shape of y to (n_samples, ), for example using ravel().\n",
      "  return f(**kwargs)\n",
      "C:\\Users\\Dormi\\anaconda3\\envs\\bm-336546-hw2\\lib\\site-packages\\sklearn\\utils\\validation.py:72: DataConversionWarning: A column-vector y was passed when a 1d array was expected. Please change the shape of y to (n_samples, ), for example using ravel().\n",
      "  return f(**kwargs)\n"
     ]
    },
    {
     "name": "stdout",
     "output_type": "stream",
     "text": [
      "[CV]  svm__C=1.0, svm__kernel=linear, accuracy=(train=0.886, test=0.869), f1=(train=0.905, test=0.891), precision=(train=0.928, test=0.918), recall=(train=0.883, test=0.865), roc_auc=(train=0.922, test=0.898), total=   0.0s\n",
      "[CV] svm__C=1.0, svm__kernel=linear ..................................\n",
      "[CV]  svm__C=1.0, svm__kernel=linear, accuracy=(train=0.878, test=0.904), f1=(train=0.898, test=0.920), precision=(train=0.923, test=0.939), recall=(train=0.874, test=0.902), roc_auc=(train=0.915, test=0.938), total=   0.0s\n",
      "[CV] svm__C=1.0, svm__kernel=linear ..................................\n",
      "[CV]  svm__C=1.0, svm__kernel=linear, accuracy=(train=0.878, test=0.904), f1=(train=0.898, test=0.920), precision=(train=0.923, test=0.939), recall=(train=0.874, test=0.902), roc_auc=(train=0.916, test=0.933), total=   0.0s\n",
      "[CV] svm__C=10.0, svm__kernel=linear .................................\n",
      "[CV]  svm__C=10.0, svm__kernel=linear, accuracy=(train=0.883, test=0.881), f1=(train=0.903, test=0.900), precision=(train=0.928, test=0.918), recall=(train=0.879, test=0.882), roc_auc=(train=0.919, test=0.922), total=   0.0s\n",
      "[CV] svm__C=10.0, svm__kernel=linear .................................\n",
      "[CV]  svm__C=10.0, svm__kernel=linear, accuracy=(train=0.889, test=0.857), f1=(train=0.908, test=0.880), precision=(train=0.929, test=0.917), recall=(train=0.888, test=0.846), roc_auc=(train=0.924, test=0.904), total=   0.0s\n",
      "[CV] svm__C=10.0, svm__kernel=linear .................................\n",
      "[CV]  svm__C=10.0, svm__kernel=linear, accuracy=(train=0.886, test=0.869), f1=(train=0.905, test=0.891), precision=(train=0.928, test=0.918), recall=(train=0.883, test=0.865), roc_auc=(train=0.922, test=0.898), total=   0.0s\n",
      "[CV] svm__C=10.0, svm__kernel=linear .................................\n"
     ]
    },
    {
     "name": "stderr",
     "output_type": "stream",
     "text": [
      "C:\\Users\\Dormi\\anaconda3\\envs\\bm-336546-hw2\\lib\\site-packages\\sklearn\\utils\\validation.py:72: DataConversionWarning: A column-vector y was passed when a 1d array was expected. Please change the shape of y to (n_samples, ), for example using ravel().\n",
      "  return f(**kwargs)\n"
     ]
    },
    {
     "name": "stdout",
     "output_type": "stream",
     "text": [
      "[CV]  svm__C=10.0, svm__kernel=linear, accuracy=(train=0.878, test=0.904), f1=(train=0.898, test=0.920), precision=(train=0.923, test=0.939), recall=(train=0.874, test=0.902), roc_auc=(train=0.915, test=0.938), total=   0.0s\n",
      "[CV] svm__C=10.0, svm__kernel=linear .................................\n",
      "[CV]  svm__C=10.0, svm__kernel=linear, accuracy=(train=0.878, test=0.904), f1=(train=0.898, test=0.920), precision=(train=0.923, test=0.939), recall=(train=0.874, test=0.902), roc_auc=(train=0.916, test=0.933), total=   0.0s\n",
      "[CV] svm__C=100.0, svm__kernel=linear ................................\n",
      "[CV]  svm__C=100.0, svm__kernel=linear, accuracy=(train=0.883, test=0.881), f1=(train=0.903, test=0.900), precision=(train=0.928, test=0.918), recall=(train=0.879, test=0.882), roc_auc=(train=0.919, test=0.922), total=   0.0s\n",
      "[CV] svm__C=100.0, svm__kernel=linear ................................\n",
      "[CV]  svm__C=100.0, svm__kernel=linear, accuracy=(train=0.889, test=0.857), f1=(train=0.908, test=0.880), precision=(train=0.929, test=0.917), recall=(train=0.888, test=0.846), roc_auc=(train=0.924, test=0.904), total=   0.0s\n",
      "[CV] svm__C=100.0, svm__kernel=linear ................................\n"
     ]
    },
    {
     "name": "stderr",
     "output_type": "stream",
     "text": [
      "C:\\Users\\Dormi\\anaconda3\\envs\\bm-336546-hw2\\lib\\site-packages\\sklearn\\utils\\validation.py:72: DataConversionWarning: A column-vector y was passed when a 1d array was expected. Please change the shape of y to (n_samples, ), for example using ravel().\n",
      "  return f(**kwargs)\n",
      "C:\\Users\\Dormi\\anaconda3\\envs\\bm-336546-hw2\\lib\\site-packages\\sklearn\\utils\\validation.py:72: DataConversionWarning: A column-vector y was passed when a 1d array was expected. Please change the shape of y to (n_samples, ), for example using ravel().\n",
      "  return f(**kwargs)\n",
      "C:\\Users\\Dormi\\anaconda3\\envs\\bm-336546-hw2\\lib\\site-packages\\sklearn\\utils\\validation.py:72: DataConversionWarning: A column-vector y was passed when a 1d array was expected. Please change the shape of y to (n_samples, ), for example using ravel().\n",
      "  return f(**kwargs)\n",
      "C:\\Users\\Dormi\\anaconda3\\envs\\bm-336546-hw2\\lib\\site-packages\\sklearn\\utils\\validation.py:72: DataConversionWarning: A column-vector y was passed when a 1d array was expected. Please change the shape of y to (n_samples, ), for example using ravel().\n",
      "  return f(**kwargs)\n",
      "C:\\Users\\Dormi\\anaconda3\\envs\\bm-336546-hw2\\lib\\site-packages\\sklearn\\utils\\validation.py:72: DataConversionWarning: A column-vector y was passed when a 1d array was expected. Please change the shape of y to (n_samples, ), for example using ravel().\n",
      "  return f(**kwargs)\n",
      "C:\\Users\\Dormi\\anaconda3\\envs\\bm-336546-hw2\\lib\\site-packages\\sklearn\\utils\\validation.py:72: DataConversionWarning: A column-vector y was passed when a 1d array was expected. Please change the shape of y to (n_samples, ), for example using ravel().\n",
      "  return f(**kwargs)\n",
      "C:\\Users\\Dormi\\anaconda3\\envs\\bm-336546-hw2\\lib\\site-packages\\sklearn\\utils\\validation.py:72: DataConversionWarning: A column-vector y was passed when a 1d array was expected. Please change the shape of y to (n_samples, ), for example using ravel().\n",
      "  return f(**kwargs)\n",
      "C:\\Users\\Dormi\\anaconda3\\envs\\bm-336546-hw2\\lib\\site-packages\\sklearn\\utils\\validation.py:72: DataConversionWarning: A column-vector y was passed when a 1d array was expected. Please change the shape of y to (n_samples, ), for example using ravel().\n",
      "  return f(**kwargs)\n"
     ]
    },
    {
     "name": "stdout",
     "output_type": "stream",
     "text": [
      "[CV]  svm__C=100.0, svm__kernel=linear, accuracy=(train=0.886, test=0.869), f1=(train=0.905, test=0.891), precision=(train=0.928, test=0.918), recall=(train=0.883, test=0.865), roc_auc=(train=0.922, test=0.898), total=   0.0s\n",
      "[CV] svm__C=100.0, svm__kernel=linear ................................\n",
      "[CV]  svm__C=100.0, svm__kernel=linear, accuracy=(train=0.878, test=0.904), f1=(train=0.898, test=0.920), precision=(train=0.923, test=0.939), recall=(train=0.874, test=0.902), roc_auc=(train=0.915, test=0.938), total=   0.0s\n",
      "[CV] svm__C=100.0, svm__kernel=linear ................................\n",
      "[CV]  svm__C=100.0, svm__kernel=linear, accuracy=(train=0.878, test=0.904), f1=(train=0.898, test=0.920), precision=(train=0.923, test=0.939), recall=(train=0.874, test=0.902), roc_auc=(train=0.916, test=0.933), total=   0.0s\n",
      "[CV] svm__C=1000.0, svm__kernel=linear ...............................\n",
      "[CV]  svm__C=1000.0, svm__kernel=linear, accuracy=(train=0.883, test=0.881), f1=(train=0.903, test=0.900), precision=(train=0.928, test=0.918), recall=(train=0.879, test=0.882), roc_auc=(train=0.919, test=0.922), total=   0.0s\n",
      "[CV] svm__C=1000.0, svm__kernel=linear ...............................\n",
      "[CV]  svm__C=1000.0, svm__kernel=linear, accuracy=(train=0.889, test=0.857), f1=(train=0.908, test=0.880), precision=(train=0.929, test=0.917), recall=(train=0.888, test=0.846), roc_auc=(train=0.924, test=0.904), total=   0.0s\n",
      "[CV] svm__C=1000.0, svm__kernel=linear ...............................\n",
      "[CV]  svm__C=1000.0, svm__kernel=linear, accuracy=(train=0.886, test=0.869), f1=(train=0.905, test=0.891), precision=(train=0.928, test=0.918), recall=(train=0.883, test=0.865), roc_auc=(train=0.922, test=0.898), total=   0.0s\n",
      "[CV] svm__C=1000.0, svm__kernel=linear ...............................\n"
     ]
    },
    {
     "name": "stderr",
     "output_type": "stream",
     "text": [
      "C:\\Users\\Dormi\\anaconda3\\envs\\bm-336546-hw2\\lib\\site-packages\\sklearn\\utils\\validation.py:72: DataConversionWarning: A column-vector y was passed when a 1d array was expected. Please change the shape of y to (n_samples, ), for example using ravel().\n",
      "  return f(**kwargs)\n",
      "C:\\Users\\Dormi\\anaconda3\\envs\\bm-336546-hw2\\lib\\site-packages\\sklearn\\utils\\validation.py:72: DataConversionWarning: A column-vector y was passed when a 1d array was expected. Please change the shape of y to (n_samples, ), for example using ravel().\n",
      "  return f(**kwargs)\n"
     ]
    },
    {
     "name": "stdout",
     "output_type": "stream",
     "text": [
      "[CV]  svm__C=1000.0, svm__kernel=linear, accuracy=(train=0.878, test=0.904), f1=(train=0.898, test=0.920), precision=(train=0.923, test=0.939), recall=(train=0.874, test=0.902), roc_auc=(train=0.915, test=0.938), total=   0.0s\n",
      "[CV] svm__C=1000.0, svm__kernel=linear ...............................\n",
      "[CV]  svm__C=1000.0, svm__kernel=linear, accuracy=(train=0.878, test=0.904), f1=(train=0.898, test=0.920), precision=(train=0.923, test=0.939), recall=(train=0.874, test=0.902), roc_auc=(train=0.916, test=0.933), total=   0.0s\n",
      "Linear SVM recieves Best results with: {'svm__C': 1.0, 'svm__kernel': 'linear'}\n",
      "Sensitvity: 0.78\n",
      "Specifcity: 0.88\n",
      "Percision: 0.91\n",
      "Accuracy: 0.82\n",
      "F1: 0.84\n"
     ]
    },
    {
     "name": "stderr",
     "output_type": "stream",
     "text": [
      "C:\\Users\\Dormi\\anaconda3\\envs\\bm-336546-hw2\\lib\\site-packages\\sklearn\\utils\\validation.py:72: DataConversionWarning: A column-vector y was passed when a 1d array was expected. Please change the shape of y to (n_samples, ), for example using ravel().\n",
      "  return f(**kwargs)\n",
      "[Parallel(n_jobs=1)]: Done  30 out of  30 | elapsed:    0.6s finished\n",
      "C:\\Users\\Dormi\\anaconda3\\envs\\bm-336546-hw2\\lib\\site-packages\\sklearn\\utils\\validation.py:72: DataConversionWarning: A column-vector y was passed when a 1d array was expected. Please change the shape of y to (n_samples, ), for example using ravel().\n",
      "  return f(**kwargs)\n"
     ]
    },
    {
     "name": "stdout",
     "output_type": "stream",
     "text": [
      "AUROC: 0.86\n"
     ]
    },
    {
     "data": {
      "image/png": "[encoded data removed]",
      "text/plain": [
       "<Figure size 432x288 with 2 Axes>"
      ]
     },
     "metadata": {
      "needs_background": "light"
     },
     "output_type": "display_data"
    }
   ],
   "source": [
    "linear_svm.fit(x_train_best_features, y_train)\n",
    "best_linear_svm = linear_svm.best_estimator_\n",
    "print('Linear SVM recieves Best results with: {}'.format(linear_svm.best_params_))\n",
    "plot_print_model_results(best_linear_svm, x_test_best_features, y_test)"
   ]
  },
  {
   "cell_type": "markdown",
   "metadata": {},
   "source": [
    "##### non-linear-svm on 2 best features"
   ]
  },
  {
   "cell_type": "code",
   "execution_count": 18,
   "metadata": {},
   "outputs": [
    {
     "name": "stdout",
     "output_type": "stream",
     "text": [
      "Fitting 5 folds for each of 12 candidates, totalling 60 fits\n",
      "[CV] svm__C=0.01, svm__kernel=rbf ....................................\n",
      "[CV]  svm__C=0.01, svm__kernel=rbf, accuracy=(train=0.883, test=0.881), f1=(train=0.903, test=0.900), precision=(train=0.928, test=0.918), recall=(train=0.879, test=0.882), roc_auc=(train=0.917, test=0.920), total=   0.0s\n",
      "[CV] svm__C=0.01, svm__kernel=rbf ....................................\n",
      "[CV]  svm__C=0.01, svm__kernel=rbf, accuracy=(train=0.889, test=0.857), f1=(train=0.908, test=0.880), precision=(train=0.929, test=0.917), recall=(train=0.888, test=0.846), roc_auc=(train=0.922, test=0.898), total=   0.0s\n",
      "[CV] svm__C=0.01, svm__kernel=rbf ....................................\n"
     ]
    },
    {
     "name": "stderr",
     "output_type": "stream",
     "text": [
      "[Parallel(n_jobs=1)]: Using backend SequentialBackend with 1 concurrent workers.\n",
      "C:\\Users\\Dormi\\anaconda3\\envs\\bm-336546-hw2\\lib\\site-packages\\sklearn\\utils\\validation.py:72: DataConversionWarning: A column-vector y was passed when a 1d array was expected. Please change the shape of y to (n_samples, ), for example using ravel().\n",
      "  return f(**kwargs)\n",
      "[Parallel(n_jobs=1)]: Done   1 out of   1 | elapsed:    0.0s remaining:    0.0s\n",
      "C:\\Users\\Dormi\\anaconda3\\envs\\bm-336546-hw2\\lib\\site-packages\\sklearn\\utils\\validation.py:72: DataConversionWarning: A column-vector y was passed when a 1d array was expected. Please change the shape of y to (n_samples, ), for example using ravel().\n",
      "  return f(**kwargs)\n",
      "[Parallel(n_jobs=1)]: Done   2 out of   2 | elapsed:    0.0s remaining:    0.0s\n",
      "C:\\Users\\Dormi\\anaconda3\\envs\\bm-336546-hw2\\lib\\site-packages\\sklearn\\utils\\validation.py:72: DataConversionWarning: A column-vector y was passed when a 1d array was expected. Please change the shape of y to (n_samples, ), for example using ravel().\n",
      "  return f(**kwargs)\n",
      "C:\\Users\\Dormi\\anaconda3\\envs\\bm-336546-hw2\\lib\\site-packages\\sklearn\\utils\\validation.py:72: DataConversionWarning: A column-vector y was passed when a 1d array was expected. Please change the shape of y to (n_samples, ), for example using ravel().\n",
      "  return f(**kwargs)\n",
      "C:\\Users\\Dormi\\anaconda3\\envs\\bm-336546-hw2\\lib\\site-packages\\sklearn\\utils\\validation.py:72: DataConversionWarning: A column-vector y was passed when a 1d array was expected. Please change the shape of y to (n_samples, ), for example using ravel().\n",
      "  return f(**kwargs)\n",
      "C:\\Users\\Dormi\\anaconda3\\envs\\bm-336546-hw2\\lib\\site-packages\\sklearn\\utils\\validation.py:72: DataConversionWarning: A column-vector y was passed when a 1d array was expected. Please change the shape of y to (n_samples, ), for example using ravel().\n",
      "  return f(**kwargs)\n",
      "C:\\Users\\Dormi\\anaconda3\\envs\\bm-336546-hw2\\lib\\site-packages\\sklearn\\utils\\validation.py:72: DataConversionWarning: A column-vector y was passed when a 1d array was expected. Please change the shape of y to (n_samples, ), for example using ravel().\n",
      "  return f(**kwargs)\n"
     ]
    },
    {
     "name": "stdout",
     "output_type": "stream",
     "text": [
      "[CV]  svm__C=0.01, svm__kernel=rbf, accuracy=(train=0.886, test=0.869), f1=(train=0.905, test=0.891), precision=(train=0.928, test=0.918), recall=(train=0.883, test=0.865), roc_auc=(train=0.922, test=0.898), total=   0.0s\n",
      "[CV] svm__C=0.01, svm__kernel=rbf ....................................\n",
      "[CV]  svm__C=0.01, svm__kernel=rbf, accuracy=(train=0.878, test=0.904), f1=(train=0.898, test=0.920), precision=(train=0.923, test=0.939), recall=(train=0.874, test=0.902), roc_auc=(train=0.913, test=0.935), total=   0.0s\n",
      "[CV] svm__C=0.01, svm__kernel=rbf ....................................\n",
      "[CV]  svm__C=0.01, svm__kernel=rbf, accuracy=(train=0.878, test=0.904), f1=(train=0.898, test=0.920), precision=(train=0.923, test=0.939), recall=(train=0.874, test=0.902), roc_auc=(train=0.913, test=0.934), total=   0.0s\n",
      "[CV] svm__C=0.01, svm__kernel=poly ...................................\n",
      "[CV]  svm__C=0.01, svm__kernel=poly, accuracy=(train=0.760, test=0.798), f1=(train=0.759, test=0.800), precision=(train=1.000, test=1.000), recall=(train=0.612, test=0.667), roc_auc=(train=0.917, test=0.920), total=   0.0s\n",
      "[CV] svm__C=0.01, svm__kernel=poly ...................................\n",
      "[CV]  svm__C=0.01, svm__kernel=poly, accuracy=(train=0.763, test=0.786), f1=(train=0.761, test=0.791), precision=(train=1.000, test=1.000), recall=(train=0.615, test=0.654), roc_auc=(train=0.922, test=0.898), total=   0.0s\n",
      "[CV] svm__C=0.01, svm__kernel=poly ...................................\n",
      "[CV]  svm__C=0.01, svm__kernel=poly, accuracy=(train=0.790, test=0.679), f1=(train=0.794, test=0.649), precision=(train=1.000, test=1.000), recall=(train=0.659, test=0.481), roc_auc=(train=0.924, test=0.903), total=   0.0s\n",
      "[CV] svm__C=0.01, svm__kernel=poly ...................................\n",
      "[CV]  svm__C=0.01, svm__kernel=poly, accuracy=(train=0.758, test=0.807), f1=(train=0.755, test=0.814), precision=(train=1.000, test=1.000), recall=(train=0.607, test=0.686), roc_auc=(train=0.913, test=0.935), total=   0.0s\n",
      "[CV] svm__C=0.01, svm__kernel=poly ...................................\n",
      "[CV]  svm__C=0.01, svm__kernel=poly, accuracy=(train=0.767, test=0.771), f1=(train=0.766, test=0.771), precision=(train=1.000, test=1.000), recall=(train=0.621, test=0.627), roc_auc=(train=0.916, test=0.933), total=   0.0s\n",
      "[CV] svm__C=0.1, svm__kernel=rbf .....................................\n"
     ]
    },
    {
     "name": "stderr",
     "output_type": "stream",
     "text": [
      "C:\\Users\\Dormi\\anaconda3\\envs\\bm-336546-hw2\\lib\\site-packages\\sklearn\\utils\\validation.py:72: DataConversionWarning: A column-vector y was passed when a 1d array was expected. Please change the shape of y to (n_samples, ), for example using ravel().\n",
      "  return f(**kwargs)\n",
      "C:\\Users\\Dormi\\anaconda3\\envs\\bm-336546-hw2\\lib\\site-packages\\sklearn\\utils\\validation.py:72: DataConversionWarning: A column-vector y was passed when a 1d array was expected. Please change the shape of y to (n_samples, ), for example using ravel().\n",
      "  return f(**kwargs)\n",
      "C:\\Users\\Dormi\\anaconda3\\envs\\bm-336546-hw2\\lib\\site-packages\\sklearn\\utils\\validation.py:72: DataConversionWarning: A column-vector y was passed when a 1d array was expected. Please change the shape of y to (n_samples, ), for example using ravel().\n",
      "  return f(**kwargs)\n",
      "C:\\Users\\Dormi\\anaconda3\\envs\\bm-336546-hw2\\lib\\site-packages\\sklearn\\utils\\validation.py:72: DataConversionWarning: A column-vector y was passed when a 1d array was expected. Please change the shape of y to (n_samples, ), for example using ravel().\n",
      "  return f(**kwargs)\n",
      "C:\\Users\\Dormi\\anaconda3\\envs\\bm-336546-hw2\\lib\\site-packages\\sklearn\\utils\\validation.py:72: DataConversionWarning: A column-vector y was passed when a 1d array was expected. Please change the shape of y to (n_samples, ), for example using ravel().\n",
      "  return f(**kwargs)\n",
      "C:\\Users\\Dormi\\anaconda3\\envs\\bm-336546-hw2\\lib\\site-packages\\sklearn\\utils\\validation.py:72: DataConversionWarning: A column-vector y was passed when a 1d array was expected. Please change the shape of y to (n_samples, ), for example using ravel().\n",
      "  return f(**kwargs)\n",
      "C:\\Users\\Dormi\\anaconda3\\envs\\bm-336546-hw2\\lib\\site-packages\\sklearn\\utils\\validation.py:72: DataConversionWarning: A column-vector y was passed when a 1d array was expected. Please change the shape of y to (n_samples, ), for example using ravel().\n",
      "  return f(**kwargs)\n"
     ]
    },
    {
     "name": "stdout",
     "output_type": "stream",
     "text": [
      "[CV]  svm__C=0.1, svm__kernel=rbf, accuracy=(train=0.883, test=0.881), f1=(train=0.903, test=0.900), precision=(train=0.928, test=0.918), recall=(train=0.879, test=0.882), roc_auc=(train=0.917, test=0.920), total=   0.0s\n",
      "[CV] svm__C=0.1, svm__kernel=rbf .....................................\n",
      "[CV]  svm__C=0.1, svm__kernel=rbf, accuracy=(train=0.889, test=0.857), f1=(train=0.908, test=0.880), precision=(train=0.929, test=0.917), recall=(train=0.888, test=0.846), roc_auc=(train=0.922, test=0.898), total=   0.0s\n",
      "[CV] svm__C=0.1, svm__kernel=rbf .....................................\n",
      "[CV]  svm__C=0.1, svm__kernel=rbf, accuracy=(train=0.886, test=0.869), f1=(train=0.905, test=0.891), precision=(train=0.928, test=0.918), recall=(train=0.883, test=0.865), roc_auc=(train=0.876, test=0.853), total=   0.0s\n",
      "[CV] svm__C=0.1, svm__kernel=rbf .....................................\n",
      "[CV]  svm__C=0.1, svm__kernel=rbf, accuracy=(train=0.878, test=0.904), f1=(train=0.898, test=0.920), precision=(train=0.923, test=0.939), recall=(train=0.874, test=0.902), roc_auc=(train=0.913, test=0.935), total=   0.0s\n",
      "[CV] svm__C=0.1, svm__kernel=rbf .....................................\n",
      "[CV]  svm__C=0.1, svm__kernel=rbf, accuracy=(train=0.878, test=0.904), f1=(train=0.898, test=0.920), precision=(train=0.923, test=0.939), recall=(train=0.874, test=0.902), roc_auc=(train=0.865, test=0.895), total=   0.0s\n",
      "[CV] svm__C=0.1, svm__kernel=poly ....................................\n",
      "[CV]  svm__C=0.1, svm__kernel=poly, accuracy=(train=0.883, test=0.881), f1=(train=0.903, test=0.900), precision=(train=0.928, test=0.918), recall=(train=0.879, test=0.882), roc_auc=(train=0.917, test=0.920), total=   0.0s\n",
      "[CV] svm__C=0.1, svm__kernel=poly ....................................\n",
      "[CV]  svm__C=0.1, svm__kernel=poly, accuracy=(train=0.889, test=0.857), f1=(train=0.908, test=0.880), precision=(train=0.929, test=0.917), recall=(train=0.888, test=0.846), roc_auc=(train=0.922, test=0.898), total=   0.0s\n",
      "[CV] svm__C=0.1, svm__kernel=poly ....................................\n",
      "[CV]  svm__C=0.1, svm__kernel=poly, accuracy=(train=0.886, test=0.869), f1=(train=0.905, test=0.891), precision=(train=0.928, test=0.918), recall=(train=0.883, test=0.865), roc_auc=(train=0.924, test=0.903), total=   0.0s\n",
      "[CV] svm__C=0.1, svm__kernel=poly ....................................\n",
      "[CV]  svm__C=0.1, svm__kernel=poly, accuracy=(train=0.878, test=0.904), f1=(train=0.898, test=0.920), precision=(train=0.923, test=0.939), recall=(train=0.874, test=0.902), roc_auc=(train=0.913, test=0.935), total=   0.0s\n",
      "[CV] svm__C=0.1, svm__kernel=poly ....................................\n"
     ]
    },
    {
     "name": "stderr",
     "output_type": "stream",
     "text": [
      "C:\\Users\\Dormi\\anaconda3\\envs\\bm-336546-hw2\\lib\\site-packages\\sklearn\\utils\\validation.py:72: DataConversionWarning: A column-vector y was passed when a 1d array was expected. Please change the shape of y to (n_samples, ), for example using ravel().\n",
      "  return f(**kwargs)\n",
      "C:\\Users\\Dormi\\anaconda3\\envs\\bm-336546-hw2\\lib\\site-packages\\sklearn\\utils\\validation.py:72: DataConversionWarning: A column-vector y was passed when a 1d array was expected. Please change the shape of y to (n_samples, ), for example using ravel().\n",
      "  return f(**kwargs)\n",
      "C:\\Users\\Dormi\\anaconda3\\envs\\bm-336546-hw2\\lib\\site-packages\\sklearn\\utils\\validation.py:72: DataConversionWarning: A column-vector y was passed when a 1d array was expected. Please change the shape of y to (n_samples, ), for example using ravel().\n",
      "  return f(**kwargs)\n",
      "C:\\Users\\Dormi\\anaconda3\\envs\\bm-336546-hw2\\lib\\site-packages\\sklearn\\utils\\validation.py:72: DataConversionWarning: A column-vector y was passed when a 1d array was expected. Please change the shape of y to (n_samples, ), for example using ravel().\n",
      "  return f(**kwargs)\n",
      "C:\\Users\\Dormi\\anaconda3\\envs\\bm-336546-hw2\\lib\\site-packages\\sklearn\\utils\\validation.py:72: DataConversionWarning: A column-vector y was passed when a 1d array was expected. Please change the shape of y to (n_samples, ), for example using ravel().\n",
      "  return f(**kwargs)\n",
      "C:\\Users\\Dormi\\anaconda3\\envs\\bm-336546-hw2\\lib\\site-packages\\sklearn\\utils\\validation.py:72: DataConversionWarning: A column-vector y was passed when a 1d array was expected. Please change the shape of y to (n_samples, ), for example using ravel().\n",
      "  return f(**kwargs)\n",
      "C:\\Users\\Dormi\\anaconda3\\envs\\bm-336546-hw2\\lib\\site-packages\\sklearn\\utils\\validation.py:72: DataConversionWarning: A column-vector y was passed when a 1d array was expected. Please change the shape of y to (n_samples, ), for example using ravel().\n",
      "  return f(**kwargs)\n",
      "C:\\Users\\Dormi\\anaconda3\\envs\\bm-336546-hw2\\lib\\site-packages\\sklearn\\utils\\validation.py:72: DataConversionWarning: A column-vector y was passed when a 1d array was expected. Please change the shape of y to (n_samples, ), for example using ravel().\n",
      "  return f(**kwargs)\n",
      "C:\\Users\\Dormi\\anaconda3\\envs\\bm-336546-hw2\\lib\\site-packages\\sklearn\\utils\\validation.py:72: DataConversionWarning: A column-vector y was passed when a 1d array was expected. Please change the shape of y to (n_samples, ), for example using ravel().\n",
      "  return f(**kwargs)\n"
     ]
    },
    {
     "name": "stdout",
     "output_type": "stream",
     "text": [
      "[CV]  svm__C=0.1, svm__kernel=poly, accuracy=(train=0.878, test=0.904), f1=(train=0.898, test=0.920), precision=(train=0.923, test=0.939), recall=(train=0.874, test=0.902), roc_auc=(train=0.916, test=0.933), total=   0.0s\n",
      "[CV] svm__C=1.0, svm__kernel=rbf .....................................\n",
      "[CV]  svm__C=1.0, svm__kernel=rbf, accuracy=(train=0.883, test=0.881), f1=(train=0.903, test=0.900), precision=(train=0.928, test=0.918), recall=(train=0.879, test=0.882), roc_auc=(train=0.919, test=0.922), total=   0.0s\n",
      "[CV] svm__C=1.0, svm__kernel=rbf .....................................\n",
      "[CV]  svm__C=1.0, svm__kernel=rbf, accuracy=(train=0.889, test=0.857), f1=(train=0.908, test=0.880), precision=(train=0.929, test=0.917), recall=(train=0.888, test=0.846), roc_auc=(train=0.857, test=0.823), total=   0.0s\n",
      "[CV] svm__C=1.0, svm__kernel=rbf .....................................\n",
      "[CV]  svm__C=1.0, svm__kernel=rbf, accuracy=(train=0.886, test=0.869), f1=(train=0.905, test=0.891), precision=(train=0.928, test=0.918), recall=(train=0.883, test=0.865), roc_auc=(train=0.852, test=0.843), total=   0.0s\n",
      "[CV] svm__C=1.0, svm__kernel=rbf .....................................\n",
      "[CV]  svm__C=1.0, svm__kernel=rbf, accuracy=(train=0.878, test=0.904), f1=(train=0.898, test=0.920), precision=(train=0.923, test=0.939), recall=(train=0.874, test=0.902), roc_auc=(train=0.845, test=0.873), total=   0.0s\n",
      "[CV] svm__C=1.0, svm__kernel=rbf .....................................\n",
      "[CV]  svm__C=1.0, svm__kernel=rbf, accuracy=(train=0.878, test=0.904), f1=(train=0.898, test=0.920), precision=(train=0.923, test=0.939), recall=(train=0.874, test=0.902), roc_auc=(train=0.916, test=0.933), total=   0.0s\n",
      "[CV] svm__C=1.0, svm__kernel=poly ....................................\n",
      "[CV]  svm__C=1.0, svm__kernel=poly, accuracy=(train=0.883, test=0.881), f1=(train=0.903, test=0.900), precision=(train=0.928, test=0.918), recall=(train=0.879, test=0.882), roc_auc=(train=0.917, test=0.920), total=   0.0s\n",
      "[CV] svm__C=1.0, svm__kernel=poly ....................................\n",
      "[CV]  svm__C=1.0, svm__kernel=poly, accuracy=(train=0.889, test=0.857), f1=(train=0.908, test=0.880), precision=(train=0.929, test=0.917), recall=(train=0.888, test=0.846), roc_auc=(train=0.922, test=0.898), total=   0.0s\n",
      "[CV] svm__C=1.0, svm__kernel=poly ....................................\n",
      "[CV]  svm__C=1.0, svm__kernel=poly, accuracy=(train=0.886, test=0.869), f1=(train=0.905, test=0.891), precision=(train=0.928, test=0.918), recall=(train=0.883, test=0.865), roc_auc=(train=0.924, test=0.903), total=   0.0s\n",
      "[CV] svm__C=1.0, svm__kernel=poly ....................................\n",
      "[CV]  svm__C=1.0, svm__kernel=poly, accuracy=(train=0.878, test=0.904), f1=(train=0.898, test=0.920), precision=(train=0.923, test=0.939), recall=(train=0.874, test=0.902), roc_auc=(train=0.915, test=0.938), total=   0.0s\n",
      "[CV] svm__C=1.0, svm__kernel=poly ....................................\n"
     ]
    },
    {
     "name": "stderr",
     "output_type": "stream",
     "text": [
      "C:\\Users\\Dormi\\anaconda3\\envs\\bm-336546-hw2\\lib\\site-packages\\sklearn\\utils\\validation.py:72: DataConversionWarning: A column-vector y was passed when a 1d array was expected. Please change the shape of y to (n_samples, ), for example using ravel().\n",
      "  return f(**kwargs)\n",
      "C:\\Users\\Dormi\\anaconda3\\envs\\bm-336546-hw2\\lib\\site-packages\\sklearn\\utils\\validation.py:72: DataConversionWarning: A column-vector y was passed when a 1d array was expected. Please change the shape of y to (n_samples, ), for example using ravel().\n",
      "  return f(**kwargs)\n",
      "C:\\Users\\Dormi\\anaconda3\\envs\\bm-336546-hw2\\lib\\site-packages\\sklearn\\utils\\validation.py:72: DataConversionWarning: A column-vector y was passed when a 1d array was expected. Please change the shape of y to (n_samples, ), for example using ravel().\n",
      "  return f(**kwargs)\n",
      "C:\\Users\\Dormi\\anaconda3\\envs\\bm-336546-hw2\\lib\\site-packages\\sklearn\\utils\\validation.py:72: DataConversionWarning: A column-vector y was passed when a 1d array was expected. Please change the shape of y to (n_samples, ), for example using ravel().\n",
      "  return f(**kwargs)\n",
      "C:\\Users\\Dormi\\anaconda3\\envs\\bm-336546-hw2\\lib\\site-packages\\sklearn\\utils\\validation.py:72: DataConversionWarning: A column-vector y was passed when a 1d array was expected. Please change the shape of y to (n_samples, ), for example using ravel().\n",
      "  return f(**kwargs)\n",
      "C:\\Users\\Dormi\\anaconda3\\envs\\bm-336546-hw2\\lib\\site-packages\\sklearn\\utils\\validation.py:72: DataConversionWarning: A column-vector y was passed when a 1d array was expected. Please change the shape of y to (n_samples, ), for example using ravel().\n",
      "  return f(**kwargs)\n",
      "C:\\Users\\Dormi\\anaconda3\\envs\\bm-336546-hw2\\lib\\site-packages\\sklearn\\utils\\validation.py:72: DataConversionWarning: A column-vector y was passed when a 1d array was expected. Please change the shape of y to (n_samples, ), for example using ravel().\n",
      "  return f(**kwargs)\n",
      "C:\\Users\\Dormi\\anaconda3\\envs\\bm-336546-hw2\\lib\\site-packages\\sklearn\\utils\\validation.py:72: DataConversionWarning: A column-vector y was passed when a 1d array was expected. Please change the shape of y to (n_samples, ), for example using ravel().\n",
      "  return f(**kwargs)\n",
      "C:\\Users\\Dormi\\anaconda3\\envs\\bm-336546-hw2\\lib\\site-packages\\sklearn\\utils\\validation.py:72: DataConversionWarning: A column-vector y was passed when a 1d array was expected. Please change the shape of y to (n_samples, ), for example using ravel().\n",
      "  return f(**kwargs)\n",
      "C:\\Users\\Dormi\\anaconda3\\envs\\bm-336546-hw2\\lib\\site-packages\\sklearn\\utils\\validation.py:72: DataConversionWarning: A column-vector y was passed when a 1d array was expected. Please change the shape of y to (n_samples, ), for example using ravel().\n",
      "  return f(**kwargs)\n"
     ]
    },
    {
     "name": "stdout",
     "output_type": "stream",
     "text": [
      "[CV]  svm__C=1.0, svm__kernel=poly, accuracy=(train=0.878, test=0.904), f1=(train=0.898, test=0.920), precision=(train=0.923, test=0.939), recall=(train=0.874, test=0.902), roc_auc=(train=0.916, test=0.933), total=   0.0s\n",
      "[CV] svm__C=10.0, svm__kernel=rbf ....................................\n",
      "[CV]  svm__C=10.0, svm__kernel=rbf, accuracy=(train=0.883, test=0.881), f1=(train=0.903, test=0.900), precision=(train=0.928, test=0.918), recall=(train=0.879, test=0.882), roc_auc=(train=0.917, test=0.920), total=   0.0s\n",
      "[CV] svm__C=10.0, svm__kernel=rbf ....................................\n",
      "[CV]  svm__C=10.0, svm__kernel=rbf, accuracy=(train=0.889, test=0.857), f1=(train=0.908, test=0.880), precision=(train=0.929, test=0.917), recall=(train=0.888, test=0.846), roc_auc=(train=0.856, test=0.817), total=   0.0s\n",
      "[CV] svm__C=10.0, svm__kernel=rbf ....................................\n",
      "[CV]  svm__C=10.0, svm__kernel=rbf, accuracy=(train=0.886, test=0.869), f1=(train=0.905, test=0.891), precision=(train=0.928, test=0.918), recall=(train=0.883, test=0.865), roc_auc=(train=0.924, test=0.903), total=   0.0s\n",
      "[CV] svm__C=10.0, svm__kernel=rbf ....................................\n",
      "[CV]  svm__C=10.0, svm__kernel=rbf, accuracy=(train=0.878, test=0.904), f1=(train=0.898, test=0.920), precision=(train=0.923, test=0.939), recall=(train=0.874, test=0.902), roc_auc=(train=0.913, test=0.935), total=   0.0s\n",
      "[CV] svm__C=10.0, svm__kernel=rbf ....................................\n",
      "[CV]  svm__C=10.0, svm__kernel=rbf, accuracy=(train=0.878, test=0.904), f1=(train=0.898, test=0.920), precision=(train=0.923, test=0.939), recall=(train=0.874, test=0.902), roc_auc=(train=0.892, test=0.913), total=   0.0s\n",
      "[CV] svm__C=10.0, svm__kernel=poly ...................................\n",
      "[CV]  svm__C=10.0, svm__kernel=poly, accuracy=(train=0.883, test=0.881), f1=(train=0.903, test=0.900), precision=(train=0.928, test=0.918), recall=(train=0.879, test=0.882), roc_auc=(train=0.919, test=0.922), total=   0.0s\n",
      "[CV] svm__C=10.0, svm__kernel=poly ...................................\n",
      "[CV]  svm__C=10.0, svm__kernel=poly, accuracy=(train=0.889, test=0.857), f1=(train=0.908, test=0.880), precision=(train=0.929, test=0.917), recall=(train=0.888, test=0.846), roc_auc=(train=0.922, test=0.898), total=   0.0s\n",
      "[CV] svm__C=10.0, svm__kernel=poly ...................................\n",
      "[CV]  svm__C=10.0, svm__kernel=poly, accuracy=(train=0.886, test=0.869), f1=(train=0.905, test=0.891), precision=(train=0.928, test=0.918), recall=(train=0.883, test=0.865), roc_auc=(train=0.924, test=0.903), total=   0.0s\n",
      "[CV] svm__C=10.0, svm__kernel=poly ...................................\n",
      "[CV]  svm__C=10.0, svm__kernel=poly, accuracy=(train=0.878, test=0.904), f1=(train=0.898, test=0.920), precision=(train=0.923, test=0.939), recall=(train=0.874, test=0.902), roc_auc=(train=0.913, test=0.935), total=   0.0s\n",
      "[CV] svm__C=10.0, svm__kernel=poly ...................................\n"
     ]
    },
    {
     "name": "stderr",
     "output_type": "stream",
     "text": [
      "C:\\Users\\Dormi\\anaconda3\\envs\\bm-336546-hw2\\lib\\site-packages\\sklearn\\utils\\validation.py:72: DataConversionWarning: A column-vector y was passed when a 1d array was expected. Please change the shape of y to (n_samples, ), for example using ravel().\n",
      "  return f(**kwargs)\n",
      "C:\\Users\\Dormi\\anaconda3\\envs\\bm-336546-hw2\\lib\\site-packages\\sklearn\\utils\\validation.py:72: DataConversionWarning: A column-vector y was passed when a 1d array was expected. Please change the shape of y to (n_samples, ), for example using ravel().\n",
      "  return f(**kwargs)\n",
      "C:\\Users\\Dormi\\anaconda3\\envs\\bm-336546-hw2\\lib\\site-packages\\sklearn\\utils\\validation.py:72: DataConversionWarning: A column-vector y was passed when a 1d array was expected. Please change the shape of y to (n_samples, ), for example using ravel().\n",
      "  return f(**kwargs)\n",
      "C:\\Users\\Dormi\\anaconda3\\envs\\bm-336546-hw2\\lib\\site-packages\\sklearn\\utils\\validation.py:72: DataConversionWarning: A column-vector y was passed when a 1d array was expected. Please change the shape of y to (n_samples, ), for example using ravel().\n",
      "  return f(**kwargs)\n",
      "C:\\Users\\Dormi\\anaconda3\\envs\\bm-336546-hw2\\lib\\site-packages\\sklearn\\utils\\validation.py:72: DataConversionWarning: A column-vector y was passed when a 1d array was expected. Please change the shape of y to (n_samples, ), for example using ravel().\n",
      "  return f(**kwargs)\n",
      "C:\\Users\\Dormi\\anaconda3\\envs\\bm-336546-hw2\\lib\\site-packages\\sklearn\\utils\\validation.py:72: DataConversionWarning: A column-vector y was passed when a 1d array was expected. Please change the shape of y to (n_samples, ), for example using ravel().\n",
      "  return f(**kwargs)\n",
      "C:\\Users\\Dormi\\anaconda3\\envs\\bm-336546-hw2\\lib\\site-packages\\sklearn\\utils\\validation.py:72: DataConversionWarning: A column-vector y was passed when a 1d array was expected. Please change the shape of y to (n_samples, ), for example using ravel().\n",
      "  return f(**kwargs)\n"
     ]
    },
    {
     "name": "stdout",
     "output_type": "stream",
     "text": [
      "[CV]  svm__C=10.0, svm__kernel=poly, accuracy=(train=0.878, test=0.904), f1=(train=0.898, test=0.920), precision=(train=0.923, test=0.939), recall=(train=0.874, test=0.902), roc_auc=(train=0.913, test=0.934), total=   0.0s\n",
      "[CV] svm__C=100.0, svm__kernel=rbf ...................................\n",
      "[CV]  svm__C=100.0, svm__kernel=rbf, accuracy=(train=0.883, test=0.881), f1=(train=0.903, test=0.900), precision=(train=0.928, test=0.918), recall=(train=0.879, test=0.882), roc_auc=(train=0.850, test=0.840), total=   0.0s\n",
      "[CV] svm__C=100.0, svm__kernel=rbf ...................................\n",
      "[CV]  svm__C=100.0, svm__kernel=rbf, accuracy=(train=0.889, test=0.857), f1=(train=0.908, test=0.880), precision=(train=0.929, test=0.917), recall=(train=0.888, test=0.846), roc_auc=(train=0.856, test=0.817), total=   0.0s\n",
      "[CV] svm__C=100.0, svm__kernel=rbf ...................................\n",
      "[CV]  svm__C=100.0, svm__kernel=rbf, accuracy=(train=0.886, test=0.869), f1=(train=0.905, test=0.891), precision=(train=0.928, test=0.918), recall=(train=0.883, test=0.865), roc_auc=(train=0.851, test=0.838), total=   0.0s\n",
      "[CV] svm__C=100.0, svm__kernel=rbf ...................................\n",
      "[CV]  svm__C=100.0, svm__kernel=rbf, accuracy=(train=0.878, test=0.904), f1=(train=0.898, test=0.920), precision=(train=0.923, test=0.939), recall=(train=0.874, test=0.902), roc_auc=(train=0.913, test=0.935), total=   0.0s\n",
      "[CV] svm__C=100.0, svm__kernel=rbf ...................................\n",
      "[CV]  svm__C=100.0, svm__kernel=rbf, accuracy=(train=0.878, test=0.904), f1=(train=0.898, test=0.920), precision=(train=0.923, test=0.939), recall=(train=0.874, test=0.902), roc_auc=(train=0.892, test=0.913), total=   0.0s\n",
      "[CV] svm__C=100.0, svm__kernel=poly ..................................\n",
      "[CV]  svm__C=100.0, svm__kernel=poly, accuracy=(train=0.883, test=0.881), f1=(train=0.903, test=0.900), precision=(train=0.928, test=0.918), recall=(train=0.879, test=0.882), roc_auc=(train=0.919, test=0.922), total=   0.0s\n",
      "[CV] svm__C=100.0, svm__kernel=poly ..................................\n",
      "[CV]  svm__C=100.0, svm__kernel=poly, accuracy=(train=0.889, test=0.857), f1=(train=0.908, test=0.880), precision=(train=0.929, test=0.917), recall=(train=0.888, test=0.846), roc_auc=(train=0.922, test=0.898), total=   0.0s\n",
      "[CV] svm__C=100.0, svm__kernel=poly ..................................\n",
      "[CV]  svm__C=100.0, svm__kernel=poly, accuracy=(train=0.886, test=0.869), f1=(train=0.905, test=0.891), precision=(train=0.928, test=0.918), recall=(train=0.883, test=0.865), roc_auc=(train=0.924, test=0.903), total=   0.0s\n",
      "[CV] svm__C=100.0, svm__kernel=poly ..................................\n",
      "[CV]  svm__C=100.0, svm__kernel=poly, accuracy=(train=0.878, test=0.904), f1=(train=0.898, test=0.920), precision=(train=0.923, test=0.939), recall=(train=0.874, test=0.902), roc_auc=(train=0.913, test=0.935), total=   0.0s\n",
      "[CV] svm__C=100.0, svm__kernel=poly ..................................\n"
     ]
    },
    {
     "name": "stderr",
     "output_type": "stream",
     "text": [
      "C:\\Users\\Dormi\\anaconda3\\envs\\bm-336546-hw2\\lib\\site-packages\\sklearn\\utils\\validation.py:72: DataConversionWarning: A column-vector y was passed when a 1d array was expected. Please change the shape of y to (n_samples, ), for example using ravel().\n",
      "  return f(**kwargs)\n",
      "C:\\Users\\Dormi\\anaconda3\\envs\\bm-336546-hw2\\lib\\site-packages\\sklearn\\utils\\validation.py:72: DataConversionWarning: A column-vector y was passed when a 1d array was expected. Please change the shape of y to (n_samples, ), for example using ravel().\n",
      "  return f(**kwargs)\n",
      "C:\\Users\\Dormi\\anaconda3\\envs\\bm-336546-hw2\\lib\\site-packages\\sklearn\\utils\\validation.py:72: DataConversionWarning: A column-vector y was passed when a 1d array was expected. Please change the shape of y to (n_samples, ), for example using ravel().\n",
      "  return f(**kwargs)\n",
      "C:\\Users\\Dormi\\anaconda3\\envs\\bm-336546-hw2\\lib\\site-packages\\sklearn\\utils\\validation.py:72: DataConversionWarning: A column-vector y was passed when a 1d array was expected. Please change the shape of y to (n_samples, ), for example using ravel().\n",
      "  return f(**kwargs)\n",
      "C:\\Users\\Dormi\\anaconda3\\envs\\bm-336546-hw2\\lib\\site-packages\\sklearn\\utils\\validation.py:72: DataConversionWarning: A column-vector y was passed when a 1d array was expected. Please change the shape of y to (n_samples, ), for example using ravel().\n",
      "  return f(**kwargs)\n",
      "C:\\Users\\Dormi\\anaconda3\\envs\\bm-336546-hw2\\lib\\site-packages\\sklearn\\utils\\validation.py:72: DataConversionWarning: A column-vector y was passed when a 1d array was expected. Please change the shape of y to (n_samples, ), for example using ravel().\n",
      "  return f(**kwargs)\n",
      "C:\\Users\\Dormi\\anaconda3\\envs\\bm-336546-hw2\\lib\\site-packages\\sklearn\\utils\\validation.py:72: DataConversionWarning: A column-vector y was passed when a 1d array was expected. Please change the shape of y to (n_samples, ), for example using ravel().\n",
      "  return f(**kwargs)\n",
      "C:\\Users\\Dormi\\anaconda3\\envs\\bm-336546-hw2\\lib\\site-packages\\sklearn\\utils\\validation.py:72: DataConversionWarning: A column-vector y was passed when a 1d array was expected. Please change the shape of y to (n_samples, ), for example using ravel().\n",
      "  return f(**kwargs)\n",
      "C:\\Users\\Dormi\\anaconda3\\envs\\bm-336546-hw2\\lib\\site-packages\\sklearn\\utils\\validation.py:72: DataConversionWarning: A column-vector y was passed when a 1d array was expected. Please change the shape of y to (n_samples, ), for example using ravel().\n",
      "  return f(**kwargs)\n",
      "C:\\Users\\Dormi\\anaconda3\\envs\\bm-336546-hw2\\lib\\site-packages\\sklearn\\utils\\validation.py:72: DataConversionWarning: A column-vector y was passed when a 1d array was expected. Please change the shape of y to (n_samples, ), for example using ravel().\n",
      "  return f(**kwargs)\n"
     ]
    },
    {
     "name": "stdout",
     "output_type": "stream",
     "text": [
      "[CV]  svm__C=100.0, svm__kernel=poly, accuracy=(train=0.878, test=0.904), f1=(train=0.898, test=0.920), precision=(train=0.923, test=0.939), recall=(train=0.874, test=0.902), roc_auc=(train=0.913, test=0.934), total=   0.0s\n",
      "[CV] svm__C=1000.0, svm__kernel=rbf ..................................\n",
      "[CV]  svm__C=1000.0, svm__kernel=rbf, accuracy=(train=0.883, test=0.881), f1=(train=0.903, test=0.900), precision=(train=0.928, test=0.918), recall=(train=0.879, test=0.882), roc_auc=(train=0.850, test=0.840), total=   0.0s\n",
      "[CV] svm__C=1000.0, svm__kernel=rbf ..................................\n",
      "[CV]  svm__C=1000.0, svm__kernel=rbf, accuracy=(train=0.889, test=0.857), f1=(train=0.908, test=0.880), precision=(train=0.929, test=0.917), recall=(train=0.888, test=0.846), roc_auc=(train=0.924, test=0.904), total=   0.0s\n",
      "[CV] svm__C=1000.0, svm__kernel=rbf ..................................\n",
      "[CV]  svm__C=1000.0, svm__kernel=rbf, accuracy=(train=0.886, test=0.869), f1=(train=0.905, test=0.891), precision=(train=0.928, test=0.918), recall=(train=0.883, test=0.865), roc_auc=(train=0.898, test=0.888), total=   0.0s\n",
      "[CV] svm__C=1000.0, svm__kernel=rbf ..................................\n",
      "[CV]  svm__C=1000.0, svm__kernel=rbf, accuracy=(train=0.878, test=0.904), f1=(train=0.898, test=0.920), precision=(train=0.923, test=0.939), recall=(train=0.874, test=0.902), roc_auc=(train=0.845, test=0.873), total=   0.0s\n",
      "[CV] svm__C=1000.0, svm__kernel=rbf ..................................\n",
      "[CV]  svm__C=1000.0, svm__kernel=rbf, accuracy=(train=0.878, test=0.904), f1=(train=0.898, test=0.920), precision=(train=0.923, test=0.939), recall=(train=0.874, test=0.902), roc_auc=(train=0.892, test=0.913), total=   0.0s\n",
      "[CV] svm__C=1000.0, svm__kernel=poly .................................\n",
      "[CV]  svm__C=1000.0, svm__kernel=poly, accuracy=(train=0.883, test=0.881), f1=(train=0.903, test=0.900), precision=(train=0.928, test=0.918), recall=(train=0.879, test=0.882), roc_auc=(train=0.919, test=0.922), total=   0.0s\n",
      "[CV] svm__C=1000.0, svm__kernel=poly .................................\n",
      "[CV]  svm__C=1000.0, svm__kernel=poly, accuracy=(train=0.889, test=0.857), f1=(train=0.908, test=0.880), precision=(train=0.929, test=0.917), recall=(train=0.888, test=0.846), roc_auc=(train=0.922, test=0.898), total=   0.0s\n",
      "[CV] svm__C=1000.0, svm__kernel=poly .................................\n",
      "[CV]  svm__C=1000.0, svm__kernel=poly, accuracy=(train=0.886, test=0.869), f1=(train=0.905, test=0.891), precision=(train=0.928, test=0.918), recall=(train=0.883, test=0.865), roc_auc=(train=0.924, test=0.903), total=   0.0s\n",
      "[CV] svm__C=1000.0, svm__kernel=poly .................................\n"
     ]
    },
    {
     "name": "stderr",
     "output_type": "stream",
     "text": [
      "C:\\Users\\Dormi\\anaconda3\\envs\\bm-336546-hw2\\lib\\site-packages\\sklearn\\utils\\validation.py:72: DataConversionWarning: A column-vector y was passed when a 1d array was expected. Please change the shape of y to (n_samples, ), for example using ravel().\n",
      "  return f(**kwargs)\n",
      "C:\\Users\\Dormi\\anaconda3\\envs\\bm-336546-hw2\\lib\\site-packages\\sklearn\\utils\\validation.py:72: DataConversionWarning: A column-vector y was passed when a 1d array was expected. Please change the shape of y to (n_samples, ), for example using ravel().\n",
      "  return f(**kwargs)\n",
      "C:\\Users\\Dormi\\anaconda3\\envs\\bm-336546-hw2\\lib\\site-packages\\sklearn\\utils\\validation.py:72: DataConversionWarning: A column-vector y was passed when a 1d array was expected. Please change the shape of y to (n_samples, ), for example using ravel().\n",
      "  return f(**kwargs)\n",
      "C:\\Users\\Dormi\\anaconda3\\envs\\bm-336546-hw2\\lib\\site-packages\\sklearn\\utils\\validation.py:72: DataConversionWarning: A column-vector y was passed when a 1d array was expected. Please change the shape of y to (n_samples, ), for example using ravel().\n",
      "  return f(**kwargs)\n",
      "C:\\Users\\Dormi\\anaconda3\\envs\\bm-336546-hw2\\lib\\site-packages\\sklearn\\utils\\validation.py:72: DataConversionWarning: A column-vector y was passed when a 1d array was expected. Please change the shape of y to (n_samples, ), for example using ravel().\n",
      "  return f(**kwargs)\n",
      "C:\\Users\\Dormi\\anaconda3\\envs\\bm-336546-hw2\\lib\\site-packages\\sklearn\\utils\\validation.py:72: DataConversionWarning: A column-vector y was passed when a 1d array was expected. Please change the shape of y to (n_samples, ), for example using ravel().\n",
      "  return f(**kwargs)\n",
      "C:\\Users\\Dormi\\anaconda3\\envs\\bm-336546-hw2\\lib\\site-packages\\sklearn\\utils\\validation.py:72: DataConversionWarning: A column-vector y was passed when a 1d array was expected. Please change the shape of y to (n_samples, ), for example using ravel().\n",
      "  return f(**kwargs)\n",
      "C:\\Users\\Dormi\\anaconda3\\envs\\bm-336546-hw2\\lib\\site-packages\\sklearn\\utils\\validation.py:72: DataConversionWarning: A column-vector y was passed when a 1d array was expected. Please change the shape of y to (n_samples, ), for example using ravel().\n",
      "  return f(**kwargs)\n",
      "C:\\Users\\Dormi\\anaconda3\\envs\\bm-336546-hw2\\lib\\site-packages\\sklearn\\utils\\validation.py:72: DataConversionWarning: A column-vector y was passed when a 1d array was expected. Please change the shape of y to (n_samples, ), for example using ravel().\n",
      "  return f(**kwargs)\n"
     ]
    },
    {
     "name": "stdout",
     "output_type": "stream",
     "text": [
      "[CV]  svm__C=1000.0, svm__kernel=poly, accuracy=(train=0.878, test=0.904), f1=(train=0.898, test=0.920), precision=(train=0.923, test=0.939), recall=(train=0.874, test=0.902), roc_auc=(train=0.913, test=0.935), total=   0.0s\n",
      "[CV] svm__C=1000.0, svm__kernel=poly .................................\n",
      "[CV]  svm__C=1000.0, svm__kernel=poly, accuracy=(train=0.878, test=0.904), f1=(train=0.898, test=0.920), precision=(train=0.923, test=0.939), recall=(train=0.874, test=0.902), roc_auc=(train=0.913, test=0.934), total=   0.0s\n",
      "non-linear SVM recieves Best results with: {'svm__C': 1.0, 'svm__kernel': 'poly'}\n",
      "Sensitvity: 0.78\n",
      "Specifcity: 0.88\n",
      "Percision: 0.91\n",
      "Accuracy: 0.82\n",
      "F1: 0.84\n",
      "AUROC: 0.86\n"
     ]
    },
    {
     "name": "stderr",
     "output_type": "stream",
     "text": [
      "C:\\Users\\Dormi\\anaconda3\\envs\\bm-336546-hw2\\lib\\site-packages\\sklearn\\utils\\validation.py:72: DataConversionWarning: A column-vector y was passed when a 1d array was expected. Please change the shape of y to (n_samples, ), for example using ravel().\n",
      "  return f(**kwargs)\n",
      "[Parallel(n_jobs=1)]: Done  60 out of  60 | elapsed:    1.3s finished\n",
      "C:\\Users\\Dormi\\anaconda3\\envs\\bm-336546-hw2\\lib\\site-packages\\sklearn\\utils\\validation.py:72: DataConversionWarning: A column-vector y was passed when a 1d array was expected. Please change the shape of y to (n_samples, ), for example using ravel().\n",
      "  return f(**kwargs)\n"
     ]
    },
    {
     "data": {
      "image/png": "[encoded data removed]",
      "text/plain": [
       "<Figure size 432x288 with 2 Axes>"
      ]
     },
     "metadata": {
      "needs_background": "light"
     },
     "output_type": "display_data"
    }
   ],
   "source": [
    "non_linear_svm.fit(x_train_best_features, y_train)\n",
    "best_non_linear_svm = non_linear_svm.best_estimator_\n",
    "print('non-linear SVM recieves Best results with: {}'.format(non_linear_svm.best_params_))\n",
    "plot_print_model_results(best_non_linear_svm, x_test_best_features, y_test)"
   ]
  },
  {
   "cell_type": "markdown",
   "metadata": {},
   "source": [
    "#### 7.e)\n",
    "We can see that dimeension reduction preformed better in contrast to 2 feature reduction.\n",
    "We conclude that with the results from AUROC and F1.\n",
    "Which clearly show that 2 features alone did less good classification."
   ]
  }
 ],
 "metadata": {
  "kernelspec": {
   "display_name": "Python 3",
   "language": "python",
   "name": "python3"
  },
  "language_info": {
   "codemirror_mode": {
    "name": "ipython",
    "version": 3
   },
   "file_extension": ".py",
   "mimetype": "text/x-python",
   "name": "python",
   "nbconvert_exporter": "python",
   "pygments_lexer": "ipython3",
   "version": "3.7.9"
  }
 },
 "nbformat": 4,
 "nbformat_minor": 4
}
