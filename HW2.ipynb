{
 "cells": [
  {
   "cell_type": "markdown",
   "metadata": {},
   "source": [
    "# HW2\n",
    "### Dor & Guy\n"
   ]
  },
  {
   "cell_type": "markdown",
   "metadata": {},
   "source": [
    "#### Theory Questions\n",
    "\n",
    "**Q1:** To evaluate how well our model performs at T1D classification, we need to have evaluation metrics that measures of its performances/accuracy. Which evaluation metric is more important to us: model accuracy or model performance? Give a simple example that illustrates your claim."
   ]
  },
  {
   "cell_type": "markdown",
   "metadata": {},
   "source": [
    "**Q2:** T1D is often associated with other comorbidities such as a heart attack. You are asked to design a ML algorithm to predict which patients are going to suffer a heart attack. Relevant patient features for the algorithm may include blood pressure (BP), body-mass index (BMI), age (A), level of physical activity (P), and income (I). You should choose between two classifiers: the first uses only BP and BMI features and the other one uses all of the features available to you. Explain the pros and cons of each choice."
   ]
  },
  {
   "cell_type": "markdown",
   "metadata": {},
   "source": [
    "**Q3:** A histologist wants to use machine learning to tell the difference between pancreas biopsies that show signs of T1D and those that do not. She has already come up with dozens of measurements to take, such as color, size, uniformity and cell-count, but she isn’t sure which model to use. The biopsies are really similar, and it is difficult to distinguish them from the human eye, or by just looking at the features. Which of the following is better: logistic regression, linear SVM or nonlinear SVM? Explain your answer."
   ]
  },
  {
   "cell_type": "markdown",
   "metadata": {},
   "source": [
    "**Q4:** What are the differences between LR and linear SVM and what is the difference in the effect/concept of their hyper-parameters tuning?"
   ]
  },
  {
   "cell_type": "markdown",
   "metadata": {},
   "source": [
    "\n",
    "#### Answers:\n"
   ]
  },
  {
   "cell_type": "markdown",
   "metadata": {},
   "source": [
    "**Q1:** In our model performance is more important to us. Accuracy represnts how much we are \"correct\".\n",
    "        it's calculated by (TP+TN)/(TP+TN+FP+FN).\n",
    "        But, some times if our data is imbalanced (almost every one is \"sick\") and our naive model says everyone is sick we will have high \n",
    "        accuracy. which means accuracy is not a good way to asses our model.\n",
    "        therefore, we should use other methods to asses our model. \n",
    "        A good way to asses our model is using F1 which is:\n",
    "        (2*percision*recall)/ (Percision+Sensitivity).\n",
    "        Percision = TP/ (TP+FP) -> total predicted positive\n",
    "        Sensitivity= TP/TP+FN -> Corecctly predicted positive.\n",
    "        With F1 you can weight your model better, it has the highest score if FP and FN have simillar values."
   ]
  },
  {
   "cell_type": "markdown",
   "metadata": {},
   "source": [
    "**Q2:** The first model uses fewer features which means it can have higher correlation between the features and the labels. But! it may cause\n",
    "        over-fitting because our dataset is now narrowed to only 2 features. That being said BP and BMI are a good features which can predict \n",
    "         heart attack quite well, too much data may cause under-fitting.\n",
    "        The second mode. has much more features which might be good, but it can cause under-fitting our model will not \"learn\" cause we have\n",
    "        confusing data which will make it unable to classify or worngly classfiying. In general more data/features is good and better and it\n",
    "        can save us from being over-fitting and being more general in our learning."
   ]
  },
  {
   "cell_type": "markdown",
   "metadata": {},
   "source": [
    "**Q3:** The histologist should use non linear SVM. we know that the data he recieved in inseparable (for the human eye at least).\n",
    "        Therefore, he can't use any linear method to sepreate the data using any linear line. this is way he should use a nonlinear SVM."
   ]
  },
  {
   "cell_type": "markdown",
   "metadata": {},
   "source": [
    "**Q4:** LR is a classifer that tries to get the maximum likelihood of label to occour. by doing so using probability we get a \"smooth\"\n",
    "        likelihood of prediction to occour using statistical models. LR is influneced by its hyper-parameter (lambda) which is the weight for\n",
    "        penalty for incorrect classifying. setting high value for lambda may cause over-fitting, setting a really low lambda value may cause\n",
    "        under-fitting. using lambda LR is less influneced by outliners which is a one of the \"weakness\" in LR.\n",
    "        linear SVM is a classifier which is trying to maxmimize the margin between two support vectors. SVM in more general in its method.\n",
    "        SVM contains two hyper paramters, (Capacity/C and gama). C is the penalty weight we want for wrong classificatino (penalty emphizes).\n",
    "        gama is how much we want our data\n",
    "        to fit. high gama values may cause over-fitting. "
   ]
  },
  {
   "cell_type": "code",
   "execution_count": 9,
   "metadata": {},
   "outputs": [],
   "source": [
    "import pandas as pd \n",
    "import numpy as np\n",
    "from pathlib import Path\n",
    "import random\n",
    "%load_ext autoreload\n",
    "\n",
    "# to get the same result each time we run\n",
    "random.seed(10) \n",
    "# create a path for the file \n",
    "filepath = Path.cwd().joinpath('HW2_data.csv')\n",
    "# load csv file\n",
    "data = pd.read_csv(filepath) "
   ]
  },
  {
   "cell_type": "code",
   "execution_count": 10,
   "metadata": {},
   "outputs": [
    {
     "name": "stdout",
     "output_type": "stream",
     "text": [
      "(565, 18)\n"
     ]
    },
    {
     "data": {
      "text/html": [
       "<div>\n",
       "<style scoped>\n",
       "    .dataframe tbody tr th:only-of-type {\n",
       "        vertical-align: middle;\n",
       "    }\n",
       "\n",
       "    .dataframe tbody tr th {\n",
       "        vertical-align: top;\n",
       "    }\n",
       "\n",
       "    .dataframe thead th {\n",
       "        text-align: right;\n",
       "    }\n",
       "</style>\n",
       "<table border=\"1\" class=\"dataframe\">\n",
       "  <thead>\n",
       "    <tr style=\"text-align: right;\">\n",
       "      <th></th>\n",
       "      <th>Age</th>\n",
       "      <th>Gender</th>\n",
       "      <th>Increased Urination</th>\n",
       "      <th>Increased Thirst</th>\n",
       "      <th>Sudden Weight Loss</th>\n",
       "      <th>Weakness</th>\n",
       "      <th>Increased Hunger</th>\n",
       "      <th>Genital Thrush</th>\n",
       "      <th>Visual Blurring</th>\n",
       "      <th>Itching</th>\n",
       "      <th>Irritability</th>\n",
       "      <th>Delayed Healing</th>\n",
       "      <th>Partial Paresis</th>\n",
       "      <th>Muscle Stiffness</th>\n",
       "      <th>Hair Loss</th>\n",
       "      <th>Obesity</th>\n",
       "      <th>Diagnosis</th>\n",
       "      <th>Family History</th>\n",
       "    </tr>\n",
       "  </thead>\n",
       "  <tbody>\n",
       "    <tr>\n",
       "      <th>0</th>\n",
       "      <td>45</td>\n",
       "      <td>Male</td>\n",
       "      <td>No</td>\n",
       "      <td>No</td>\n",
       "      <td>No</td>\n",
       "      <td>Yes</td>\n",
       "      <td>No</td>\n",
       "      <td>No</td>\n",
       "      <td>No</td>\n",
       "      <td>Yes</td>\n",
       "      <td>No</td>\n",
       "      <td>No</td>\n",
       "      <td>Yes</td>\n",
       "      <td>No</td>\n",
       "      <td>Yes</td>\n",
       "      <td>No</td>\n",
       "      <td>Negative</td>\n",
       "      <td>0</td>\n",
       "    </tr>\n",
       "    <tr>\n",
       "      <th>1</th>\n",
       "      <td>42</td>\n",
       "      <td>Male</td>\n",
       "      <td>No</td>\n",
       "      <td>No</td>\n",
       "      <td>No</td>\n",
       "      <td>No</td>\n",
       "      <td>No</td>\n",
       "      <td>No</td>\n",
       "      <td>No</td>\n",
       "      <td>No</td>\n",
       "      <td>No</td>\n",
       "      <td>No</td>\n",
       "      <td>No</td>\n",
       "      <td>No</td>\n",
       "      <td>Yes</td>\n",
       "      <td>No</td>\n",
       "      <td>Negative</td>\n",
       "      <td>0</td>\n",
       "    </tr>\n",
       "    <tr>\n",
       "      <th>2</th>\n",
       "      <td>45</td>\n",
       "      <td>Male</td>\n",
       "      <td>Yes</td>\n",
       "      <td>Yes</td>\n",
       "      <td>No</td>\n",
       "      <td>Yes</td>\n",
       "      <td>No</td>\n",
       "      <td>Yes</td>\n",
       "      <td>No</td>\n",
       "      <td>No</td>\n",
       "      <td>No</td>\n",
       "      <td>Yes</td>\n",
       "      <td>No</td>\n",
       "      <td>No</td>\n",
       "      <td>Yes</td>\n",
       "      <td>No</td>\n",
       "      <td>Positive</td>\n",
       "      <td>0</td>\n",
       "    </tr>\n",
       "  </tbody>\n",
       "</table>\n",
       "</div>"
      ],
      "text/plain": [
       "   Age Gender Increased Urination Increased Thirst Sudden Weight Loss  \\\n",
       "0   45   Male                  No               No                 No   \n",
       "1   42   Male                  No               No                 No   \n",
       "2   45   Male                 Yes              Yes                 No   \n",
       "\n",
       "  Weakness Increased Hunger Genital Thrush Visual Blurring Itching  \\\n",
       "0      Yes               No             No              No     Yes   \n",
       "1       No               No             No              No      No   \n",
       "2      Yes               No            Yes              No      No   \n",
       "\n",
       "  Irritability Delayed Healing Partial Paresis Muscle Stiffness Hair Loss  \\\n",
       "0           No              No             Yes               No       Yes   \n",
       "1           No              No              No               No       Yes   \n",
       "2           No             Yes              No               No       Yes   \n",
       "\n",
       "  Obesity Diagnosis  Family History  \n",
       "0      No  Negative               0  \n",
       "1      No  Negative               0  \n",
       "2      No  Positive               0  "
      ]
     },
     "execution_count": 10,
     "metadata": {},
     "output_type": "execute_result"
    }
   ],
   "source": [
    "# check data size\n",
    "print(data.shape)\n",
    "#See the first 3 patients to check the data\n",
    "data.head(3) "
   ]
  },
  {
   "cell_type": "code",
   "execution_count": 11,
   "metadata": {},
   "outputs": [
    {
     "name": "stdout",
     "output_type": "stream",
     "text": [
      "(523, 18)\n"
     ]
    }
   ],
   "source": [
    "# pre-process data\n",
    "# remove rows without data - \"yes\"/\"no\" are not something we should estimate\n",
    "data = data.dropna()\n",
    "\n",
    "#convert categorial value to 0 and 1\n",
    "data = data.replace(['No','Yes','Negative', 'Positive', 'Female', 'Male'],[0, 1, 0, 1, 0, 1])\n",
    "data.head(3) \n",
    "# check data new size\n",
    "print(data.shape)\n",
    "# extract Y values\n",
    "Y = data[[\"Diagnosis\"]]\n",
    "# extract X values\n",
    "X = data.drop(\"Diagnosis\", axis=1)\n",
    "# extract Features list\n",
    "Features = list(X.columns)"
   ]
  },
  {
   "cell_type": "code",
   "execution_count": 12,
   "metadata": {},
   "outputs": [],
   "source": [
    "from sklearn.model_selection import train_test_split\n",
    "# split the data\n",
    "X_train, X_test, y_train, y_test = train_test_split(X, Y,test_size=0.2,\n",
    "                                                    random_state=10, stratify=Y)"
   ]
  },
  {
   "cell_type": "code",
   "execution_count": 19,
   "metadata": {},
   "outputs": [
    {
     "data": {
      "text/html": [
       "<div>\n",
       "<style scoped>\n",
       "    .dataframe tbody tr th:only-of-type {\n",
       "        vertical-align: middle;\n",
       "    }\n",
       "\n",
       "    .dataframe tbody tr th {\n",
       "        vertical-align: top;\n",
       "    }\n",
       "\n",
       "    .dataframe thead th {\n",
       "        text-align: right;\n",
       "    }\n",
       "</style>\n",
       "<table border=\"1\" class=\"dataframe\">\n",
       "  <thead>\n",
       "    <tr style=\"text-align: right;\">\n",
       "      <th></th>\n",
       "      <th>Train %</th>\n",
       "      <th>Test %</th>\n",
       "      <th>Delta %</th>\n",
       "    </tr>\n",
       "  </thead>\n",
       "  <tbody>\n",
       "    <tr>\n",
       "      <th>Age (mean)</th>\n",
       "      <td>48</td>\n",
       "      <td>46</td>\n",
       "      <td>-2</td>\n",
       "    </tr>\n",
       "    <tr>\n",
       "      <th>Gender (Male)</th>\n",
       "      <td>61</td>\n",
       "      <td>69</td>\n",
       "      <td>8</td>\n",
       "    </tr>\n",
       "    <tr>\n",
       "      <th>Increased Urination</th>\n",
       "      <td>50</td>\n",
       "      <td>45</td>\n",
       "      <td>-4</td>\n",
       "    </tr>\n",
       "    <tr>\n",
       "      <th>Increased Thirst</th>\n",
       "      <td>46</td>\n",
       "      <td>38</td>\n",
       "      <td>-8</td>\n",
       "    </tr>\n",
       "    <tr>\n",
       "      <th>Sudden Weight Loss</th>\n",
       "      <td>41</td>\n",
       "      <td>40</td>\n",
       "      <td>0</td>\n",
       "    </tr>\n",
       "    <tr>\n",
       "      <th>Weakness</th>\n",
       "      <td>58</td>\n",
       "      <td>60</td>\n",
       "      <td>1</td>\n",
       "    </tr>\n",
       "    <tr>\n",
       "      <th>Increased Hunger</th>\n",
       "      <td>46</td>\n",
       "      <td>40</td>\n",
       "      <td>-5</td>\n",
       "    </tr>\n",
       "    <tr>\n",
       "      <th>Genital Thrush</th>\n",
       "      <td>20</td>\n",
       "      <td>29</td>\n",
       "      <td>9</td>\n",
       "    </tr>\n",
       "    <tr>\n",
       "      <th>Visual Blurring</th>\n",
       "      <td>45</td>\n",
       "      <td>39</td>\n",
       "      <td>-6</td>\n",
       "    </tr>\n",
       "    <tr>\n",
       "      <th>Itching</th>\n",
       "      <td>49</td>\n",
       "      <td>44</td>\n",
       "      <td>-4</td>\n",
       "    </tr>\n",
       "    <tr>\n",
       "      <th>Irritability</th>\n",
       "      <td>24</td>\n",
       "      <td>22</td>\n",
       "      <td>-1</td>\n",
       "    </tr>\n",
       "    <tr>\n",
       "      <th>Delayed Healing</th>\n",
       "      <td>47</td>\n",
       "      <td>38</td>\n",
       "      <td>-9</td>\n",
       "    </tr>\n",
       "    <tr>\n",
       "      <th>Partial Paresis</th>\n",
       "      <td>43</td>\n",
       "      <td>39</td>\n",
       "      <td>-4</td>\n",
       "    </tr>\n",
       "    <tr>\n",
       "      <th>Muscle Stiffness</th>\n",
       "      <td>37</td>\n",
       "      <td>36</td>\n",
       "      <td>-1</td>\n",
       "    </tr>\n",
       "    <tr>\n",
       "      <th>Hair Loss</th>\n",
       "      <td>34</td>\n",
       "      <td>33</td>\n",
       "      <td>-1</td>\n",
       "    </tr>\n",
       "    <tr>\n",
       "      <th>Obesity</th>\n",
       "      <td>17</td>\n",
       "      <td>15</td>\n",
       "      <td>-1</td>\n",
       "    </tr>\n",
       "    <tr>\n",
       "      <th>Family History</th>\n",
       "      <td>49</td>\n",
       "      <td>55</td>\n",
       "      <td>5</td>\n",
       "    </tr>\n",
       "  </tbody>\n",
       "</table>\n",
       "</div>"
      ],
      "text/plain": [
       "                     Train %  Test %  Delta %\n",
       "Age (mean)                48      46       -2\n",
       "Gender (Male)             61      69        8\n",
       "Increased Urination       50      45       -4\n",
       "Increased Thirst          46      38       -8\n",
       "Sudden Weight Loss        41      40        0\n",
       "Weakness                  58      60        1\n",
       "Increased Hunger          46      40       -5\n",
       "Genital Thrush            20      29        9\n",
       "Visual Blurring           45      39       -6\n",
       "Itching                   49      44       -4\n",
       "Irritability              24      22       -1\n",
       "Delayed Healing           47      38       -9\n",
       "Partial Paresis           43      39       -4\n",
       "Muscle Stiffness          37      36       -1\n",
       "Hair Loss                 34      33       -1\n",
       "Obesity                   17      15       -1\n",
       "Family History            49      55        5"
      ]
     },
     "metadata": {},
     "output_type": "display_data"
    },
    {
     "data": {
      "image/png": "[encoded data removed]",
      "text/plain": [
       "<Figure size 1440x1008 with 16 Axes>"
      ]
     },
     "metadata": {
      "needs_background": "light"
     },
     "output_type": "display_data"
    },
    {
     "data": {
      "image/png": "[encoded data removed]",
      "text/plain": [
       "<Figure size 864x216 with 1 Axes>"
      ]
     },
     "metadata": {
      "needs_background": "light"
     },
     "output_type": "display_data"
    }
   ],
   "source": [
    "import matplotlib.pyplot as plt\n",
    "import seaborn as sns\n",
    "\n",
    "percents = pd.DataFrame(np.zeros([17,3]), columns = ['Train %' , 'Test %', 'Delta %'],\n",
    "                        index=Features, dtype = np.int32)\n",
    "\n",
    "fig, ax =plt.subplots(4,4, figsize=(20, 14))\n",
    "fig2, ax2 = plt.subplots(figsize=(12, 3))\n",
    "\n",
    "for i,feat in enumerate(Features):\n",
    "    if feat != 'Age':\n",
    "        sns.countplot(x=feat, hue=\"Diagnosis\", data= data[[\"Diagnosis\", feat]],\n",
    "                      ax=ax[(i-1)%4][((i-1)//4)]).set(xticklabels=X['feat'].unique(), )\n",
    "    if feat == 'Age':\n",
    "        percents['Train %'][feat] = (np.mean(X_train[feat]))\n",
    "        percents['Test %'][feat] = (np.mean(X_test[feat]))\n",
    "        percents['Delta %'][feat] = (np.mean(X_test[feat])) - (np.mean(X_train[feat]))\n",
    "        percents = percents.rename(index = {feat:\"Age (mean)\"})\n",
    "        X[feat][Y.index[(Y == 1)['Diagnosis'] == True].tolist()].hist(\n",
    "            label = 'Positive', ax = ax2)\n",
    "        X[feat][Y.index[(Y == 0)['Diagnosis'] == True].tolist()].hist(\n",
    "            label = 'Negative', ax = ax2)\n",
    "        ax2.legend(title = 'Diagnosis', fontsize = 'large')\n",
    "        ax2.set_xlabel(feat, fontsize = 'large')\n",
    "        ax2.set_ylabel('count', fontsize = 'large')\n",
    "        #ax.legend(loc='upper right')\n",
    "    elif feat == 'Gender':\n",
    "        idx_1 = (X_train == 1).index[(X_train == 1)[feat] == True].tolist()\n",
    "        percents['Train %'][feat] = (100 * len(idx_1) / len(X_train))\n",
    "        idx_2 = (X_test == 1).index[(X_test == 1)[feat] == True].tolist()\n",
    "        percents['Test %'][feat] = (100 * len(idx_2) / len(X_test))\n",
    "        percents['Delta %'][feat] = (100 * len(idx_2) / len(X_test))-(100 * len(idx_1) / len(X_train))\n",
    "        percents = percents.rename(index = {feat:\"Gender (Male)\"})\n",
    "    elif feat == 'Family History':\n",
    "        idx_1 = X_train.index[X_train[feat] == True].tolist()\n",
    "        percents['Train %'][feat] = (100 * len(idx_1) / len(X_train))\n",
    "        idx_2 = X_test.index[X_test[feat] == True].tolist()\n",
    "        percents['Test %'][feat] = (100 * len(idx_2) / len(X_test))\n",
    "        percents['Delta %'][feat] = (100 * len(idx_2) / len(X_test))-(100 * len(idx_1) / len(X_train))\n",
    "    else:\n",
    "        idx_1 = (X_train == 1).index[(X_train == 1)[feat] == True].tolist()\n",
    "        percents['Train %'][feat] = (100 * len(idx_1) / len(X_train))\n",
    "        idx_2 = (X_test == 1).index[(X_test == 1)[feat] == True].tolist()\n",
    "        percents['Test %'][feat] = (100 * len(idx_2) / len(X_test))\n",
    "        percents['Delta %'][feat] = (100 * len(idx_2) / len(X_test))-(100 * len(idx_1) / len(X_train))\n",
    "    \n",
    "display(percents)"
   ]
  },
  {
   "cell_type": "markdown",
   "metadata": {},
   "source": [
    "##### 3) a.\n",
    "###### i.\n",
    "**Q:** What issues could an imbalance of features between train and test cause?\n",
    "\n",
    "**A:** An imbalance in features between train and test may cause over-fitting. because there will be \"Too much\" influence of one feature at can \n",
    "       create a wrong weights prediction and therefore our test results will be poor.\n",
    "\n",
    "###### ii.\n",
    "**Q:** How could you solve the issue?\n",
    "\n",
    "**A:** We can solve this issue by splitting the train and test with the same ratio of features. if we can't do that we can use methods like\n",
    "        KFold to help us disterbute our train and test better for the trainning."
   ]
  },
  {
   "cell_type": "code",
   "execution_count": 25,
   "metadata": {},
   "outputs": [
    {
     "data": {
      "text/html": [
       "<div>\n",
       "<style scoped>\n",
       "    .dataframe tbody tr th:only-of-type {\n",
       "        vertical-align: middle;\n",
       "    }\n",
       "\n",
       "    .dataframe tbody tr th {\n",
       "        vertical-align: top;\n",
       "    }\n",
       "\n",
       "    .dataframe thead th {\n",
       "        text-align: right;\n",
       "    }\n",
       "</style>\n",
       "<table border=\"1\" class=\"dataframe\">\n",
       "  <thead>\n",
       "    <tr style=\"text-align: right;\">\n",
       "      <th></th>\n",
       "      <th>Gender</th>\n",
       "      <th>Increased Urination</th>\n",
       "      <th>Increased Thirst</th>\n",
       "      <th>Sudden Weight Loss</th>\n",
       "      <th>Weakness</th>\n",
       "      <th>Increased Hunger</th>\n",
       "      <th>Genital Thrush</th>\n",
       "      <th>Visual Blurring</th>\n",
       "      <th>Itching</th>\n",
       "      <th>Irritability</th>\n",
       "      <th>Delayed Healing</th>\n",
       "      <th>Partial Paresis</th>\n",
       "      <th>Muscle Stiffness</th>\n",
       "      <th>Hair Loss</th>\n",
       "      <th>Obesity</th>\n",
       "      <th>Family History</th>\n",
       "    </tr>\n",
       "  </thead>\n",
       "  <tbody>\n",
       "    <tr>\n",
       "      <th>Gender</th>\n",
       "      <td>147</td>\n",
       "      <td>114</td>\n",
       "      <td>100</td>\n",
       "      <td>74</td>\n",
       "      <td>101</td>\n",
       "      <td>75</td>\n",
       "      <td>66</td>\n",
       "      <td>71</td>\n",
       "      <td>67</td>\n",
       "      <td>63</td>\n",
       "      <td>65</td>\n",
       "      <td>70</td>\n",
       "      <td>55</td>\n",
       "      <td>64</td>\n",
       "      <td>31</td>\n",
       "      <td>74</td>\n",
       "    </tr>\n",
       "    <tr>\n",
       "      <th>Increased Urination</th>\n",
       "      <td>114</td>\n",
       "      <td>244</td>\n",
       "      <td>193</td>\n",
       "      <td>161</td>\n",
       "      <td>178</td>\n",
       "      <td>157</td>\n",
       "      <td>63</td>\n",
       "      <td>135</td>\n",
       "      <td>122</td>\n",
       "      <td>86</td>\n",
       "      <td>123</td>\n",
       "      <td>161</td>\n",
       "      <td>105</td>\n",
       "      <td>57</td>\n",
       "      <td>48</td>\n",
       "      <td>120</td>\n",
       "    </tr>\n",
       "    <tr>\n",
       "      <th>Increased Thirst</th>\n",
       "      <td>100</td>\n",
       "      <td>193</td>\n",
       "      <td>225</td>\n",
       "      <td>146</td>\n",
       "      <td>175</td>\n",
       "      <td>146</td>\n",
       "      <td>55</td>\n",
       "      <td>140</td>\n",
       "      <td>122</td>\n",
       "      <td>79</td>\n",
       "      <td>121</td>\n",
       "      <td>153</td>\n",
       "      <td>103</td>\n",
       "      <td>41</td>\n",
       "      <td>48</td>\n",
       "      <td>112</td>\n",
       "    </tr>\n",
       "    <tr>\n",
       "      <th>Sudden Weight Loss</th>\n",
       "      <td>74</td>\n",
       "      <td>161</td>\n",
       "      <td>146</td>\n",
       "      <td>188</td>\n",
       "      <td>148</td>\n",
       "      <td>127</td>\n",
       "      <td>47</td>\n",
       "      <td>100</td>\n",
       "      <td>95</td>\n",
       "      <td>68</td>\n",
       "      <td>98</td>\n",
       "      <td>124</td>\n",
       "      <td>89</td>\n",
       "      <td>37</td>\n",
       "      <td>42</td>\n",
       "      <td>84</td>\n",
       "    </tr>\n",
       "    <tr>\n",
       "      <th>Weakness</th>\n",
       "      <td>101</td>\n",
       "      <td>178</td>\n",
       "      <td>175</td>\n",
       "      <td>148</td>\n",
       "      <td>218</td>\n",
       "      <td>139</td>\n",
       "      <td>50</td>\n",
       "      <td>136</td>\n",
       "      <td>116</td>\n",
       "      <td>80</td>\n",
       "      <td>116</td>\n",
       "      <td>147</td>\n",
       "      <td>106</td>\n",
       "      <td>46</td>\n",
       "      <td>45</td>\n",
       "      <td>108</td>\n",
       "    </tr>\n",
       "    <tr>\n",
       "      <th>Increased Hunger</th>\n",
       "      <td>75</td>\n",
       "      <td>157</td>\n",
       "      <td>146</td>\n",
       "      <td>127</td>\n",
       "      <td>139</td>\n",
       "      <td>190</td>\n",
       "      <td>40</td>\n",
       "      <td>107</td>\n",
       "      <td>100</td>\n",
       "      <td>78</td>\n",
       "      <td>109</td>\n",
       "      <td>134</td>\n",
       "      <td>93</td>\n",
       "      <td>43</td>\n",
       "      <td>36</td>\n",
       "      <td>86</td>\n",
       "    </tr>\n",
       "    <tr>\n",
       "      <th>Genital Thrush</th>\n",
       "      <td>66</td>\n",
       "      <td>63</td>\n",
       "      <td>55</td>\n",
       "      <td>47</td>\n",
       "      <td>50</td>\n",
       "      <td>40</td>\n",
       "      <td>83</td>\n",
       "      <td>36</td>\n",
       "      <td>51</td>\n",
       "      <td>43</td>\n",
       "      <td>47</td>\n",
       "      <td>28</td>\n",
       "      <td>33</td>\n",
       "      <td>36</td>\n",
       "      <td>20</td>\n",
       "      <td>41</td>\n",
       "    </tr>\n",
       "    <tr>\n",
       "      <th>Visual Blurring</th>\n",
       "      <td>71</td>\n",
       "      <td>135</td>\n",
       "      <td>140</td>\n",
       "      <td>100</td>\n",
       "      <td>136</td>\n",
       "      <td>107</td>\n",
       "      <td>36</td>\n",
       "      <td>175</td>\n",
       "      <td>100</td>\n",
       "      <td>57</td>\n",
       "      <td>85</td>\n",
       "      <td>128</td>\n",
       "      <td>87</td>\n",
       "      <td>38</td>\n",
       "      <td>42</td>\n",
       "      <td>89</td>\n",
       "    </tr>\n",
       "    <tr>\n",
       "      <th>Itching</th>\n",
       "      <td>67</td>\n",
       "      <td>122</td>\n",
       "      <td>122</td>\n",
       "      <td>95</td>\n",
       "      <td>116</td>\n",
       "      <td>100</td>\n",
       "      <td>51</td>\n",
       "      <td>100</td>\n",
       "      <td>154</td>\n",
       "      <td>65</td>\n",
       "      <td>95</td>\n",
       "      <td>100</td>\n",
       "      <td>72</td>\n",
       "      <td>31</td>\n",
       "      <td>27</td>\n",
       "      <td>74</td>\n",
       "    </tr>\n",
       "    <tr>\n",
       "      <th>Irritability</th>\n",
       "      <td>63</td>\n",
       "      <td>86</td>\n",
       "      <td>79</td>\n",
       "      <td>68</td>\n",
       "      <td>80</td>\n",
       "      <td>78</td>\n",
       "      <td>43</td>\n",
       "      <td>57</td>\n",
       "      <td>65</td>\n",
       "      <td>111</td>\n",
       "      <td>63</td>\n",
       "      <td>66</td>\n",
       "      <td>61</td>\n",
       "      <td>41</td>\n",
       "      <td>24</td>\n",
       "      <td>57</td>\n",
       "    </tr>\n",
       "    <tr>\n",
       "      <th>Delayed Healing</th>\n",
       "      <td>65</td>\n",
       "      <td>123</td>\n",
       "      <td>121</td>\n",
       "      <td>98</td>\n",
       "      <td>116</td>\n",
       "      <td>109</td>\n",
       "      <td>47</td>\n",
       "      <td>85</td>\n",
       "      <td>95</td>\n",
       "      <td>63</td>\n",
       "      <td>153</td>\n",
       "      <td>108</td>\n",
       "      <td>77</td>\n",
       "      <td>34</td>\n",
       "      <td>19</td>\n",
       "      <td>73</td>\n",
       "    </tr>\n",
       "    <tr>\n",
       "      <th>Partial Paresis</th>\n",
       "      <td>70</td>\n",
       "      <td>161</td>\n",
       "      <td>153</td>\n",
       "      <td>124</td>\n",
       "      <td>147</td>\n",
       "      <td>134</td>\n",
       "      <td>28</td>\n",
       "      <td>128</td>\n",
       "      <td>100</td>\n",
       "      <td>66</td>\n",
       "      <td>108</td>\n",
       "      <td>192</td>\n",
       "      <td>90</td>\n",
       "      <td>31</td>\n",
       "      <td>32</td>\n",
       "      <td>88</td>\n",
       "    </tr>\n",
       "    <tr>\n",
       "      <th>Muscle Stiffness</th>\n",
       "      <td>55</td>\n",
       "      <td>105</td>\n",
       "      <td>103</td>\n",
       "      <td>89</td>\n",
       "      <td>106</td>\n",
       "      <td>93</td>\n",
       "      <td>33</td>\n",
       "      <td>87</td>\n",
       "      <td>72</td>\n",
       "      <td>61</td>\n",
       "      <td>77</td>\n",
       "      <td>90</td>\n",
       "      <td>135</td>\n",
       "      <td>29</td>\n",
       "      <td>40</td>\n",
       "      <td>61</td>\n",
       "    </tr>\n",
       "    <tr>\n",
       "      <th>Hair Loss</th>\n",
       "      <td>64</td>\n",
       "      <td>57</td>\n",
       "      <td>41</td>\n",
       "      <td>37</td>\n",
       "      <td>46</td>\n",
       "      <td>43</td>\n",
       "      <td>36</td>\n",
       "      <td>38</td>\n",
       "      <td>31</td>\n",
       "      <td>41</td>\n",
       "      <td>34</td>\n",
       "      <td>31</td>\n",
       "      <td>29</td>\n",
       "      <td>79</td>\n",
       "      <td>19</td>\n",
       "      <td>39</td>\n",
       "    </tr>\n",
       "    <tr>\n",
       "      <th>Obesity</th>\n",
       "      <td>31</td>\n",
       "      <td>48</td>\n",
       "      <td>48</td>\n",
       "      <td>42</td>\n",
       "      <td>45</td>\n",
       "      <td>36</td>\n",
       "      <td>20</td>\n",
       "      <td>42</td>\n",
       "      <td>27</td>\n",
       "      <td>24</td>\n",
       "      <td>19</td>\n",
       "      <td>32</td>\n",
       "      <td>40</td>\n",
       "      <td>19</td>\n",
       "      <td>61</td>\n",
       "      <td>29</td>\n",
       "    </tr>\n",
       "    <tr>\n",
       "      <th>Family History</th>\n",
       "      <td>74</td>\n",
       "      <td>120</td>\n",
       "      <td>112</td>\n",
       "      <td>84</td>\n",
       "      <td>108</td>\n",
       "      <td>86</td>\n",
       "      <td>41</td>\n",
       "      <td>89</td>\n",
       "      <td>74</td>\n",
       "      <td>57</td>\n",
       "      <td>73</td>\n",
       "      <td>88</td>\n",
       "      <td>61</td>\n",
       "      <td>39</td>\n",
       "      <td>29</td>\n",
       "      <td>160</td>\n",
       "    </tr>\n",
       "  </tbody>\n",
       "</table>\n",
       "</div>"
      ],
      "text/plain": [
       "                     Gender  Increased Urination  Increased Thirst  \\\n",
       "Gender                  147                  114               100   \n",
       "Increased Urination     114                  244               193   \n",
       "Increased Thirst        100                  193               225   \n",
       "Sudden Weight Loss       74                  161               146   \n",
       "Weakness                101                  178               175   \n",
       "Increased Hunger         75                  157               146   \n",
       "Genital Thrush           66                   63                55   \n",
       "Visual Blurring          71                  135               140   \n",
       "Itching                  67                  122               122   \n",
       "Irritability             63                   86                79   \n",
       "Delayed Healing          65                  123               121   \n",
       "Partial Paresis          70                  161               153   \n",
       "Muscle Stiffness         55                  105               103   \n",
       "Hair Loss                64                   57                41   \n",
       "Obesity                  31                   48                48   \n",
       "Family History           74                  120               112   \n",
       "\n",
       "                     Sudden Weight Loss  Weakness  Increased Hunger  \\\n",
       "Gender                               74       101                75   \n",
       "Increased Urination                 161       178               157   \n",
       "Increased Thirst                    146       175               146   \n",
       "Sudden Weight Loss                  188       148               127   \n",
       "Weakness                            148       218               139   \n",
       "Increased Hunger                    127       139               190   \n",
       "Genital Thrush                       47        50                40   \n",
       "Visual Blurring                     100       136               107   \n",
       "Itching                              95       116               100   \n",
       "Irritability                         68        80                78   \n",
       "Delayed Healing                      98       116               109   \n",
       "Partial Paresis                     124       147               134   \n",
       "Muscle Stiffness                     89       106                93   \n",
       "Hair Loss                            37        46                43   \n",
       "Obesity                              42        45                36   \n",
       "Family History                       84       108                86   \n",
       "\n",
       "                     Genital Thrush  Visual Blurring  Itching  Irritability  \\\n",
       "Gender                           66               71       67            63   \n",
       "Increased Urination              63              135      122            86   \n",
       "Increased Thirst                 55              140      122            79   \n",
       "Sudden Weight Loss               47              100       95            68   \n",
       "Weakness                         50              136      116            80   \n",
       "Increased Hunger                 40              107      100            78   \n",
       "Genital Thrush                   83               36       51            43   \n",
       "Visual Blurring                  36              175      100            57   \n",
       "Itching                          51              100      154            65   \n",
       "Irritability                     43               57       65           111   \n",
       "Delayed Healing                  47               85       95            63   \n",
       "Partial Paresis                  28              128      100            66   \n",
       "Muscle Stiffness                 33               87       72            61   \n",
       "Hair Loss                        36               38       31            41   \n",
       "Obesity                          20               42       27            24   \n",
       "Family History                   41               89       74            57   \n",
       "\n",
       "                     Delayed Healing  Partial Paresis  Muscle Stiffness  \\\n",
       "Gender                            65               70                55   \n",
       "Increased Urination              123              161               105   \n",
       "Increased Thirst                 121              153               103   \n",
       "Sudden Weight Loss                98              124                89   \n",
       "Weakness                         116              147               106   \n",
       "Increased Hunger                 109              134                93   \n",
       "Genital Thrush                    47               28                33   \n",
       "Visual Blurring                   85              128                87   \n",
       "Itching                           95              100                72   \n",
       "Irritability                      63               66                61   \n",
       "Delayed Healing                  153              108                77   \n",
       "Partial Paresis                  108              192                90   \n",
       "Muscle Stiffness                  77               90               135   \n",
       "Hair Loss                         34               31                29   \n",
       "Obesity                           19               32                40   \n",
       "Family History                    73               88                61   \n",
       "\n",
       "                     Hair Loss  Obesity  Family History  \n",
       "Gender                      64       31              74  \n",
       "Increased Urination         57       48             120  \n",
       "Increased Thirst            41       48             112  \n",
       "Sudden Weight Loss          37       42              84  \n",
       "Weakness                    46       45             108  \n",
       "Increased Hunger            43       36              86  \n",
       "Genital Thrush              36       20              41  \n",
       "Visual Blurring             38       42              89  \n",
       "Itching                     31       27              74  \n",
       "Irritability                41       24              57  \n",
       "Delayed Healing             34       19              73  \n",
       "Partial Paresis             31       32              88  \n",
       "Muscle Stiffness            29       40              61  \n",
       "Hair Loss                   79       19              39  \n",
       "Obesity                     19       61              29  \n",
       "Family History              39       29             160  "
      ]
     },
     "metadata": {},
     "output_type": "display_data"
    }
   ],
   "source": [
    "# a table that shows cross correlation between 2 features with positive diagnosis\n",
    "\n",
    "cross_features = pd.DataFrame(np.zeros([16,16]), columns = Features[1:],\n",
    "                              index=Features[1:], dtype = np.int32)\n",
    "ixd = {}\n",
    "for feat in Features[1:]:\n",
    "    ixd[feat] = (X[feat]==1)[Y.index[(Y == 1)['Diagnosis'] == True].tolist()]\n",
    "\n",
    "for feat in Features[1:]:\n",
    "    for feat2 in Features[1:]:\n",
    "        cross_features[feat][feat2]=sum(1 for i in Y.index[\n",
    "            (Y == 1)['Diagnosis']==True] if ixd[feat][i] and ixd[feat2][i])\n",
    "display(cross_features)"
   ]
  },
  {
   "cell_type": "code",
   "execution_count": null,
   "metadata": {},
   "outputs": [],
   "source": []
  },
  {
   "cell_type": "markdown",
   "metadata": {},
   "source": [
    "##### 3) d.\n",
    "###### i.\n",
    "**Q:** Was there anything unexpected?\n",
    "\n",
    "**A:**\n",
    "\n",
    "###### ii.\n",
    "**Q:** Are there any features that you feel will be particularly important to your model? Explain why.\n",
    "\n",
    "**A:** "
   ]
  },
  {
   "cell_type": "code",
   "execution_count": 40,
   "metadata": {},
   "outputs": [
    {
     "name": "stdout",
     "output_type": "stream",
     "text": [
      "[[0. 0. 0. ... 0. 1. 0.]\n",
      " [0. 0. 0. ... 0. 1. 0.]\n",
      " [0. 0. 0. ... 1. 1. 0.]\n",
      " ...\n",
      " [0. 0. 0. ... 1. 0. 1.]\n",
      " [0. 0. 0. ... 0. 1. 0.]\n",
      " [0. 0. 0. ... 0. 1. 0.]]\n",
      "(523, 85)\n"
     ]
    }
   ],
   "source": [
    "#4)\n",
    "#encoding our data as one hot vector\n",
    "\n",
    "from sklearn.preprocessing import LabelEncoder\n",
    "from sklearn.preprocessing import OneHotEncoder\n",
    "\n",
    "label_encoder = LabelEncoder()\n",
    "one_hot_encoder = OneHotEncoder(sparse=False)\n",
    "one_hot_encoded = one_hot_encoder.fit_transform(data) #maybe change to X_train\n",
    "#maybe add here the x_test transform\n",
    "\n",
    "print(one_hot_encoded)\n",
    "print(one_hot_encoded.shape)"
   ]
  },
  {
   "cell_type": "markdown",
   "metadata": {},
   "source": [
    "#### 5)\n",
    "**a.i**\n"
   ]
  },
  {
   "cell_type": "code",
   "execution_count": 28,
   "metadata": {},
   "outputs": [],
   "source": [
    "from sklearn.metrics import confusion_matrix, plot_confusion_matrix, roc_auc_score\n",
    "import matplotlib.pyplot as plt\n",
    "\n",
    "calc_TN = lambda y_true, y_pred: confusion_matrix(y_true, y_pred)[0, 0]\n",
    "calc_FP = lambda y_true, y_pred: confusion_matrix(y_true, y_pred)[0, 1]\n",
    "calc_FN = lambda y_true, y_pred: confusion_matrix(y_true, y_pred)[1, 0]\n",
    "calc_TP = lambda y_true, y_pred: confusion_matrix(y_true, y_pred)[1, 1]\n",
    "\n",
    "def evaluate_metrics(y_test, y_pred_test):\n",
    "    TN = calc_TN(y_test, y_pred_test)\n",
    "    FP = calc_FP(y_test, y_pred_test)\n",
    "    FN = calc_FN(y_test, y_pred_test)\n",
    "    TP = calc_TP(y_test, y_pred_test)\n",
    "    PPV = TP / (TP + FP)\n",
    "    SE = TP / (TP + FN)\n",
    "    SP = TN/(TN+FP)\n",
    "    PPV = TP/(TP+FP)\n",
    "    ACC = (TP+TN)/(TP+TN+FP+FN)\n",
    "    F1 = (2*SE*PPV)/(SE+PPV)\n",
    "    return SE, SP, PPV, ACC, F1\n",
    "\n",
    "def plot_print_model_results(model, x_test, y_test):\n",
    "    y_pred_test = model.predict(x_test)\n",
    "    y_proba_test = model.predict_proba(x_test)\n",
    "    plot_confusion_matrix(model, x_test, y_test, cmap=plt.cm.Blues)\n",
    "    plt.grid(False)\n",
    "    \n",
    "    [SE, SP, PPV, ACC, F1] = evaluate_metrics(y_test, y_pred_test)\n",
    "    print('Sensitvity: {:.2f}'.format(SE))\n",
    "    print('Specifcity: {:.2f}'.format(SP))\n",
    "    print('Percision: {:.2f}'.format(PPV))\n",
    "    print('Accuracy: {:.2f}'.format(ACC))\n",
    "    print('F1: {:.2f}'.format(F1))\n",
    "    print('AUROC: {:.2f}'.format(roc_auc_score(y_test, y_proba_test[:,1])))\n"
   ]
  },
  {
   "cell_type": "code",
   "execution_count": 32,
   "metadata": {},
   "outputs": [
    {
     "name": "stdout",
     "output_type": "stream",
     "text": [
      "Fitting 5 folds for each of 6 candidates, totalling 30 fits\n",
      "[CV] svm__C=0.01, svm__kernel=linear .................................\n",
      "[CV]  svm__C=0.01, svm__kernel=linear, accuracy=(train=0.910, test=0.881), f1=(train=0.924, test=0.896), precision=(train=0.968, test=0.956), recall=(train=0.883, test=0.843), roc_auc=(train=0.973, test=0.983), total=   0.0s\n",
      "[CV] svm__C=0.01, svm__kernel=linear .................................\n",
      "[CV]  svm__C=0.01, svm__kernel=linear, accuracy=(train=0.919, test=0.869), f1=(train=0.931, test=0.887), precision=(train=0.973, test=0.956), recall=(train=0.893, test=0.827), roc_auc=(train=0.979, test=0.956), total=   0.0s\n",
      "[CV] svm__C=0.01, svm__kernel=linear .................................\n",
      "[CV]  svm__C=0.01, svm__kernel=linear, accuracy=(train=0.922, test=0.881), f1=(train=0.933, test=0.898), precision=(train=0.994, test=0.957), recall=(train=0.878, test=0.846), roc_auc=(train=0.981, test=0.954), total=   0.0s\n",
      "[CV] svm__C=0.01, svm__kernel=linear .................................\n",
      "[CV]  svm__C=0.01, svm__kernel=linear, accuracy=(train=0.901, test=0.940), f1=(train=0.916, test=0.948), precision=(train=0.958, test=1.000), recall=(train=0.879, test=0.902), roc_auc=(train=0.976, test=0.979), total=   0.0s\n",
      "[CV] svm__C=0.01, svm__kernel=linear .................................\n",
      "[CV]  svm__C=0.01, svm__kernel=linear, accuracy=(train=0.896, test=0.928), f1=(train=0.910, test=0.939), precision=(train=0.962, test=0.979), recall=(train=0.864, test=0.902), roc_auc=(train=0.973, test=0.988), total=   0.0s\n",
      "[CV] svm__C=0.1, svm__kernel=linear ..................................\n",
      "[CV]  svm__C=0.1, svm__kernel=linear, accuracy=(train=0.937, test=0.940), f1=(train=0.948, test=0.951), precision=(train=0.960, test=0.942), recall=(train=0.937, test=0.961), roc_auc=(train=0.978, test=0.988), total=   0.0s\n",
      "[CV] svm__C=0.1, svm__kernel=linear ..................................\n",
      "[CV]  svm__C=0.1, svm__kernel=linear, accuracy=(train=0.934, test=0.905), f1=(train=0.947, test=0.922), precision=(train=0.938, test=0.940), recall=(train=0.956, test=0.904), roc_auc=(train=0.983, test=0.953), total=   0.0s\n",
      "[CV] svm__C=0.1, svm__kernel=linear ..................................\n"
     ]
    },
    {
     "name": "stderr",
     "output_type": "stream",
     "text": [
      "[Parallel(n_jobs=1)]: Using backend SequentialBackend with 1 concurrent workers.\n",
      "C:\\Users\\Guy\\anaconda3\\envs\\bm-336546-hw2\\lib\\site-packages\\sklearn\\utils\\validation.py:72: DataConversionWarning: A column-vector y was passed when a 1d array was expected. Please change the shape of y to (n_samples, ), for example using ravel().\n",
      "  return f(**kwargs)\n",
      "[Parallel(n_jobs=1)]: Done   1 out of   1 | elapsed:    0.0s remaining:    0.0s\n",
      "C:\\Users\\Guy\\anaconda3\\envs\\bm-336546-hw2\\lib\\site-packages\\sklearn\\utils\\validation.py:72: DataConversionWarning: A column-vector y was passed when a 1d array was expected. Please change the shape of y to (n_samples, ), for example using ravel().\n",
      "  return f(**kwargs)\n",
      "[Parallel(n_jobs=1)]: Done   2 out of   2 | elapsed:    0.0s remaining:    0.0s\n",
      "C:\\Users\\Guy\\anaconda3\\envs\\bm-336546-hw2\\lib\\site-packages\\sklearn\\utils\\validation.py:72: DataConversionWarning: A column-vector y was passed when a 1d array was expected. Please change the shape of y to (n_samples, ), for example using ravel().\n",
      "  return f(**kwargs)\n",
      "C:\\Users\\Guy\\anaconda3\\envs\\bm-336546-hw2\\lib\\site-packages\\sklearn\\utils\\validation.py:72: DataConversionWarning: A column-vector y was passed when a 1d array was expected. Please change the shape of y to (n_samples, ), for example using ravel().\n",
      "  return f(**kwargs)\n",
      "C:\\Users\\Guy\\anaconda3\\envs\\bm-336546-hw2\\lib\\site-packages\\sklearn\\utils\\validation.py:72: DataConversionWarning: A column-vector y was passed when a 1d array was expected. Please change the shape of y to (n_samples, ), for example using ravel().\n",
      "  return f(**kwargs)\n",
      "C:\\Users\\Guy\\anaconda3\\envs\\bm-336546-hw2\\lib\\site-packages\\sklearn\\utils\\validation.py:72: DataConversionWarning: A column-vector y was passed when a 1d array was expected. Please change the shape of y to (n_samples, ), for example using ravel().\n",
      "  return f(**kwargs)\n",
      "C:\\Users\\Guy\\anaconda3\\envs\\bm-336546-hw2\\lib\\site-packages\\sklearn\\utils\\validation.py:72: DataConversionWarning: A column-vector y was passed when a 1d array was expected. Please change the shape of y to (n_samples, ), for example using ravel().\n",
      "  return f(**kwargs)\n",
      "C:\\Users\\Guy\\anaconda3\\envs\\bm-336546-hw2\\lib\\site-packages\\sklearn\\utils\\validation.py:72: DataConversionWarning: A column-vector y was passed when a 1d array was expected. Please change the shape of y to (n_samples, ), for example using ravel().\n",
      "  return f(**kwargs)\n"
     ]
    },
    {
     "name": "stdout",
     "output_type": "stream",
     "text": [
      "[CV]  svm__C=0.1, svm__kernel=linear, accuracy=(train=0.958, test=0.881), f1=(train=0.965, test=0.902), precision=(train=0.985, test=0.920), recall=(train=0.946, test=0.885), roc_auc=(train=0.980, test=0.941), total=   0.0s\n",
      "[CV] svm__C=0.1, svm__kernel=linear ..................................\n",
      "[CV]  svm__C=0.1, svm__kernel=linear, accuracy=(train=0.937, test=0.928), f1=(train=0.948, test=0.938), precision=(train=0.960, test=1.000), recall=(train=0.937, test=0.882), roc_auc=(train=0.977, test=0.979), total=   0.0s\n",
      "[CV] svm__C=0.1, svm__kernel=linear ..................................\n",
      "[CV]  svm__C=0.1, svm__kernel=linear, accuracy=(train=0.928, test=0.964), f1=(train=0.941, test=0.970), precision=(train=0.950, test=0.980), recall=(train=0.932, test=0.961), roc_auc=(train=0.975, test=0.991), total=   0.0s\n",
      "[CV] svm__C=1.0, svm__kernel=linear ..................................\n",
      "[CV]  svm__C=1.0, svm__kernel=linear, accuracy=(train=0.934, test=0.893), f1=(train=0.946, test=0.911), precision=(train=0.960, test=0.920), recall=(train=0.932, test=0.902), roc_auc=(train=0.983, test=0.982), total=   0.0s\n",
      "[CV] svm__C=1.0, svm__kernel=linear ..................................\n",
      "[CV]  svm__C=1.0, svm__kernel=linear, accuracy=(train=0.949, test=0.905), f1=(train=0.959, test=0.922), precision=(train=0.952, test=0.940), recall=(train=0.966, test=0.904), roc_auc=(train=0.985, test=0.956), total=   0.0s\n",
      "[CV] svm__C=1.0, svm__kernel=linear ..................................\n",
      "[CV]  svm__C=1.0, svm__kernel=linear, accuracy=(train=0.952, test=0.881), f1=(train=0.961, test=0.904), precision=(train=0.970, test=0.904), recall=(train=0.951, test=0.904), roc_auc=(train=0.983, test=0.941), total=   0.0s\n",
      "[CV] svm__C=1.0, svm__kernel=linear ..................................\n",
      "[CV]  svm__C=1.0, svm__kernel=linear, accuracy=(train=0.943, test=0.964), f1=(train=0.954, test=0.970), precision=(train=0.961, test=1.000), recall=(train=0.947, test=0.941), roc_auc=(train=0.978, test=0.968), total=   0.0s\n",
      "[CV] svm__C=1.0, svm__kernel=linear ..................................\n",
      "[CV]  svm__C=1.0, svm__kernel=linear, accuracy=(train=0.934, test=0.952), f1=(train=0.946, test=0.962), precision=(train=0.951, test=0.943), recall=(train=0.942, test=0.980), roc_auc=(train=0.976, test=0.994), total=   0.0s\n",
      "[CV] svm__C=10.0, svm__kernel=linear .................................\n"
     ]
    },
    {
     "name": "stderr",
     "output_type": "stream",
     "text": [
      "C:\\Users\\Guy\\anaconda3\\envs\\bm-336546-hw2\\lib\\site-packages\\sklearn\\utils\\validation.py:72: DataConversionWarning: A column-vector y was passed when a 1d array was expected. Please change the shape of y to (n_samples, ), for example using ravel().\n",
      "  return f(**kwargs)\n",
      "C:\\Users\\Guy\\anaconda3\\envs\\bm-336546-hw2\\lib\\site-packages\\sklearn\\utils\\validation.py:72: DataConversionWarning: A column-vector y was passed when a 1d array was expected. Please change the shape of y to (n_samples, ), for example using ravel().\n",
      "  return f(**kwargs)\n",
      "C:\\Users\\Guy\\anaconda3\\envs\\bm-336546-hw2\\lib\\site-packages\\sklearn\\utils\\validation.py:72: DataConversionWarning: A column-vector y was passed when a 1d array was expected. Please change the shape of y to (n_samples, ), for example using ravel().\n",
      "  return f(**kwargs)\n",
      "C:\\Users\\Guy\\anaconda3\\envs\\bm-336546-hw2\\lib\\site-packages\\sklearn\\utils\\validation.py:72: DataConversionWarning: A column-vector y was passed when a 1d array was expected. Please change the shape of y to (n_samples, ), for example using ravel().\n",
      "  return f(**kwargs)\n",
      "C:\\Users\\Guy\\anaconda3\\envs\\bm-336546-hw2\\lib\\site-packages\\sklearn\\utils\\validation.py:72: DataConversionWarning: A column-vector y was passed when a 1d array was expected. Please change the shape of y to (n_samples, ), for example using ravel().\n",
      "  return f(**kwargs)\n",
      "C:\\Users\\Guy\\anaconda3\\envs\\bm-336546-hw2\\lib\\site-packages\\sklearn\\utils\\validation.py:72: DataConversionWarning: A column-vector y was passed when a 1d array was expected. Please change the shape of y to (n_samples, ), for example using ravel().\n",
      "  return f(**kwargs)\n",
      "C:\\Users\\Guy\\anaconda3\\envs\\bm-336546-hw2\\lib\\site-packages\\sklearn\\utils\\validation.py:72: DataConversionWarning: A column-vector y was passed when a 1d array was expected. Please change the shape of y to (n_samples, ), for example using ravel().\n",
      "  return f(**kwargs)\n",
      "C:\\Users\\Guy\\anaconda3\\envs\\bm-336546-hw2\\lib\\site-packages\\sklearn\\utils\\validation.py:72: DataConversionWarning: A column-vector y was passed when a 1d array was expected. Please change the shape of y to (n_samples, ), for example using ravel().\n",
      "  return f(**kwargs)\n"
     ]
    },
    {
     "name": "stdout",
     "output_type": "stream",
     "text": [
      "[CV]  svm__C=10.0, svm__kernel=linear, accuracy=(train=0.934, test=0.893), f1=(train=0.946, test=0.913), precision=(train=0.951, test=0.904), recall=(train=0.942, test=0.922), roc_auc=(train=0.984, test=0.976), total=   0.0s\n",
      "[CV] svm__C=10.0, svm__kernel=linear .................................\n",
      "[CV]  svm__C=10.0, svm__kernel=linear, accuracy=(train=0.946, test=0.917), f1=(train=0.956, test=0.932), precision=(train=0.952, test=0.941), recall=(train=0.961, test=0.923), roc_auc=(train=0.987, test=0.956), total=   0.0s\n",
      "[CV] svm__C=10.0, svm__kernel=linear .................................\n",
      "[CV]  svm__C=10.0, svm__kernel=linear, accuracy=(train=0.961, test=0.893), f1=(train=0.968, test=0.914), precision=(train=0.975, test=0.906), recall=(train=0.961, test=0.923), roc_auc=(train=0.983, test=0.950), total=   0.0s\n",
      "[CV] svm__C=10.0, svm__kernel=linear .................................\n",
      "[CV]  svm__C=10.0, svm__kernel=linear, accuracy=(train=0.943, test=0.964), f1=(train=0.954, test=0.970), precision=(train=0.961, test=1.000), recall=(train=0.947, test=0.941), roc_auc=(train=0.980, test=0.971), total=   0.1s\n",
      "[CV] svm__C=10.0, svm__kernel=linear .................................\n"
     ]
    },
    {
     "name": "stderr",
     "output_type": "stream",
     "text": [
      "C:\\Users\\Guy\\anaconda3\\envs\\bm-336546-hw2\\lib\\site-packages\\sklearn\\utils\\validation.py:72: DataConversionWarning: A column-vector y was passed when a 1d array was expected. Please change the shape of y to (n_samples, ), for example using ravel().\n",
      "  return f(**kwargs)\n",
      "C:\\Users\\Guy\\anaconda3\\envs\\bm-336546-hw2\\lib\\site-packages\\sklearn\\utils\\validation.py:72: DataConversionWarning: A column-vector y was passed when a 1d array was expected. Please change the shape of y to (n_samples, ), for example using ravel().\n",
      "  return f(**kwargs)\n",
      "C:\\Users\\Guy\\anaconda3\\envs\\bm-336546-hw2\\lib\\site-packages\\sklearn\\utils\\validation.py:72: DataConversionWarning: A column-vector y was passed when a 1d array was expected. Please change the shape of y to (n_samples, ), for example using ravel().\n",
      "  return f(**kwargs)\n",
      "C:\\Users\\Guy\\anaconda3\\envs\\bm-336546-hw2\\lib\\site-packages\\sklearn\\utils\\validation.py:72: DataConversionWarning: A column-vector y was passed when a 1d array was expected. Please change the shape of y to (n_samples, ), for example using ravel().\n",
      "  return f(**kwargs)\n"
     ]
    },
    {
     "name": "stdout",
     "output_type": "stream",
     "text": [
      "[CV]  svm__C=10.0, svm__kernel=linear, accuracy=(train=0.943, test=0.940), f1=(train=0.954, test=0.950), precision=(train=0.947, test=0.960), recall=(train=0.961, test=0.941), roc_auc=(train=0.981, test=0.982), total=   0.1s\n",
      "[CV] svm__C=100.0, svm__kernel=linear ................................\n"
     ]
    },
    {
     "name": "stderr",
     "output_type": "stream",
     "text": [
      "C:\\Users\\Guy\\anaconda3\\envs\\bm-336546-hw2\\lib\\site-packages\\sklearn\\utils\\validation.py:72: DataConversionWarning: A column-vector y was passed when a 1d array was expected. Please change the shape of y to (n_samples, ), for example using ravel().\n",
      "  return f(**kwargs)\n"
     ]
    },
    {
     "name": "stdout",
     "output_type": "stream",
     "text": [
      "[CV]  svm__C=100.0, svm__kernel=linear, accuracy=(train=0.937, test=0.893), f1=(train=0.949, test=0.911), precision=(train=0.956, test=0.920), recall=(train=0.942, test=0.902), roc_auc=(train=0.982, test=0.971), total=   0.6s\n",
      "[CV] svm__C=100.0, svm__kernel=linear ................................\n"
     ]
    },
    {
     "name": "stderr",
     "output_type": "stream",
     "text": [
      "C:\\Users\\Guy\\anaconda3\\envs\\bm-336546-hw2\\lib\\site-packages\\sklearn\\utils\\validation.py:72: DataConversionWarning: A column-vector y was passed when a 1d array was expected. Please change the shape of y to (n_samples, ), for example using ravel().\n",
      "  return f(**kwargs)\n"
     ]
    },
    {
     "name": "stdout",
     "output_type": "stream",
     "text": [
      "[CV]  svm__C=100.0, svm__kernel=linear, accuracy=(train=0.946, test=0.917), f1=(train=0.956, test=0.932), precision=(train=0.952, test=0.941), recall=(train=0.961, test=0.923), roc_auc=(train=0.987, test=0.956), total=   0.2s\n",
      "[CV] svm__C=100.0, svm__kernel=linear ................................\n"
     ]
    },
    {
     "name": "stderr",
     "output_type": "stream",
     "text": [
      "C:\\Users\\Guy\\anaconda3\\envs\\bm-336546-hw2\\lib\\site-packages\\sklearn\\utils\\validation.py:72: DataConversionWarning: A column-vector y was passed when a 1d array was expected. Please change the shape of y to (n_samples, ), for example using ravel().\n",
      "  return f(**kwargs)\n"
     ]
    },
    {
     "name": "stdout",
     "output_type": "stream",
     "text": [
      "[CV]  svm__C=100.0, svm__kernel=linear, accuracy=(train=0.961, test=0.893), f1=(train=0.968, test=0.913), precision=(train=0.975, test=0.922), recall=(train=0.961, test=0.904), roc_auc=(train=0.984, test=0.945), total=   0.3s\n",
      "[CV] svm__C=100.0, svm__kernel=linear ................................\n"
     ]
    },
    {
     "name": "stderr",
     "output_type": "stream",
     "text": [
      "C:\\Users\\Guy\\anaconda3\\envs\\bm-336546-hw2\\lib\\site-packages\\sklearn\\utils\\validation.py:72: DataConversionWarning: A column-vector y was passed when a 1d array was expected. Please change the shape of y to (n_samples, ), for example using ravel().\n",
      "  return f(**kwargs)\n"
     ]
    },
    {
     "name": "stdout",
     "output_type": "stream",
     "text": [
      "[CV]  svm__C=100.0, svm__kernel=linear, accuracy=(train=0.943, test=0.964), f1=(train=0.954, test=0.970), precision=(train=0.961, test=1.000), recall=(train=0.947, test=0.941), roc_auc=(train=0.980, test=0.970), total=   0.6s\n",
      "[CV] svm__C=100.0, svm__kernel=linear ................................\n"
     ]
    },
    {
     "name": "stderr",
     "output_type": "stream",
     "text": [
      "C:\\Users\\Guy\\anaconda3\\envs\\bm-336546-hw2\\lib\\site-packages\\sklearn\\utils\\validation.py:72: DataConversionWarning: A column-vector y was passed when a 1d array was expected. Please change the shape of y to (n_samples, ), for example using ravel().\n",
      "  return f(**kwargs)\n"
     ]
    },
    {
     "name": "stdout",
     "output_type": "stream",
     "text": [
      "[CV]  svm__C=100.0, svm__kernel=linear, accuracy=(train=0.940, test=0.928), f1=(train=0.952, test=0.941), precision=(train=0.943, test=0.941), recall=(train=0.961, test=0.941), roc_auc=(train=0.981, test=0.981), total=   0.4s\n",
      "[CV] svm__C=1000.0, svm__kernel=linear ...............................\n"
     ]
    },
    {
     "name": "stderr",
     "output_type": "stream",
     "text": [
      "C:\\Users\\Guy\\anaconda3\\envs\\bm-336546-hw2\\lib\\site-packages\\sklearn\\utils\\validation.py:72: DataConversionWarning: A column-vector y was passed when a 1d array was expected. Please change the shape of y to (n_samples, ), for example using ravel().\n",
      "  return f(**kwargs)\n"
     ]
    },
    {
     "name": "stdout",
     "output_type": "stream",
     "text": [
      "[CV]  svm__C=1000.0, svm__kernel=linear, accuracy=(train=0.937, test=0.893), f1=(train=0.949, test=0.911), precision=(train=0.956, test=0.920), recall=(train=0.942, test=0.902), roc_auc=(train=0.982, test=0.971), total=   3.3s\n",
      "[CV] svm__C=1000.0, svm__kernel=linear ...............................\n"
     ]
    },
    {
     "name": "stderr",
     "output_type": "stream",
     "text": [
      "C:\\Users\\Guy\\anaconda3\\envs\\bm-336546-hw2\\lib\\site-packages\\sklearn\\utils\\validation.py:72: DataConversionWarning: A column-vector y was passed when a 1d array was expected. Please change the shape of y to (n_samples, ), for example using ravel().\n",
      "  return f(**kwargs)\n"
     ]
    },
    {
     "name": "stdout",
     "output_type": "stream",
     "text": [
      "[CV]  svm__C=1000.0, svm__kernel=linear, accuracy=(train=0.946, test=0.917), f1=(train=0.956, test=0.932), precision=(train=0.952, test=0.941), recall=(train=0.961, test=0.923), roc_auc=(train=0.987, test=0.956), total=   3.7s\n",
      "[CV] svm__C=1000.0, svm__kernel=linear ...............................\n"
     ]
    },
    {
     "name": "stderr",
     "output_type": "stream",
     "text": [
      "C:\\Users\\Guy\\anaconda3\\envs\\bm-336546-hw2\\lib\\site-packages\\sklearn\\utils\\validation.py:72: DataConversionWarning: A column-vector y was passed when a 1d array was expected. Please change the shape of y to (n_samples, ), for example using ravel().\n",
      "  return f(**kwargs)\n"
     ]
    },
    {
     "name": "stdout",
     "output_type": "stream",
     "text": [
      "[CV]  svm__C=1000.0, svm__kernel=linear, accuracy=(train=0.961, test=0.893), f1=(train=0.968, test=0.913), precision=(train=0.975, test=0.922), recall=(train=0.961, test=0.904), roc_auc=(train=0.984, test=0.945), total=   4.6s\n",
      "[CV] svm__C=1000.0, svm__kernel=linear ...............................\n"
     ]
    },
    {
     "name": "stderr",
     "output_type": "stream",
     "text": [
      "C:\\Users\\Guy\\anaconda3\\envs\\bm-336546-hw2\\lib\\site-packages\\sklearn\\utils\\validation.py:72: DataConversionWarning: A column-vector y was passed when a 1d array was expected. Please change the shape of y to (n_samples, ), for example using ravel().\n",
      "  return f(**kwargs)\n"
     ]
    },
    {
     "name": "stdout",
     "output_type": "stream",
     "text": [
      "[CV]  svm__C=1000.0, svm__kernel=linear, accuracy=(train=0.943, test=0.964), f1=(train=0.954, test=0.970), precision=(train=0.961, test=1.000), recall=(train=0.947, test=0.941), roc_auc=(train=0.980, test=0.970), total=   6.0s\n",
      "[CV] svm__C=1000.0, svm__kernel=linear ...............................\n"
     ]
    },
    {
     "name": "stderr",
     "output_type": "stream",
     "text": [
      "C:\\Users\\Guy\\anaconda3\\envs\\bm-336546-hw2\\lib\\site-packages\\sklearn\\utils\\validation.py:72: DataConversionWarning: A column-vector y was passed when a 1d array was expected. Please change the shape of y to (n_samples, ), for example using ravel().\n",
      "  return f(**kwargs)\n"
     ]
    },
    {
     "name": "stdout",
     "output_type": "stream",
     "text": [
      "[CV]  svm__C=1000.0, svm__kernel=linear, accuracy=(train=0.940, test=0.928), f1=(train=0.952, test=0.941), precision=(train=0.943, test=0.941), recall=(train=0.961, test=0.941), roc_auc=(train=0.981, test=0.981), total=   4.1s\n",
      "Linear SVM recieves Best results with: {'svm__C': 0.01, 'svm__kernel': 'linear'}\n",
      "Sensitvity: 0.80\n",
      "Specifcity: 0.90\n",
      "Percision: 0.93\n",
      "Accuracy: 0.84\n",
      "F1: 0.86\n",
      "AUROC: 0.96\n"
     ]
    },
    {
     "name": "stderr",
     "output_type": "stream",
     "text": [
      "[Parallel(n_jobs=1)]: Done  30 out of  30 | elapsed:   24.5s finished\n",
      "C:\\Users\\Guy\\anaconda3\\envs\\bm-336546-hw2\\lib\\site-packages\\sklearn\\utils\\validation.py:72: DataConversionWarning: A column-vector y was passed when a 1d array was expected. Please change the shape of y to (n_samples, ), for example using ravel().\n",
      "  return f(**kwargs)\n"
     ]
    },
    {
     "data": {
      "image/png": "[encoded data removed]",
      "text/plain": [
       "<Figure size 432x288 with 2 Axes>"
      ]
     },
     "metadata": {
      "needs_background": "light"
     },
     "output_type": "display_data"
    }
   ],
   "source": [
    "#linear SVC\n",
    "from sklearn.model_selection import StratifiedKFold as SKFold\n",
    "from sklearn.model_selection import GridSearchCV\n",
    "from sklearn.svm import SVC\n",
    "from sklearn.preprocessing import StandardScaler\n",
    "from sklearn.pipeline import Pipeline\n",
    "\n",
    "k_fold_num = 5\n",
    "skf = SKFold(n_splits=k_fold_num, random_state=10, shuffle=True)\n",
    "C = np.array([0.01, 0.1, 1, 10, 100, 1000])\n",
    "#gamma = np.array([0.01, 0.1, 1, 10, 100, 1000])\n",
    "scoring = ['accuracy', 'f1', 'precision', 'recall', 'roc_auc']\n",
    "\n",
    "\n",
    "svc = SVC(probability=True)\n",
    "pipe = Pipeline(steps=[('scale', StandardScaler()),('svm', svc)])\n",
    "params = {'svm__kernel': ['linear'],\n",
    "          'svm__C':C#,\n",
    "          #'svm__gamma': gamma,\n",
    "         }\n",
    "linear_svm = GridSearchCV(estimator=pipe,\n",
    "                          param_grid=params,\n",
    "                          cv=skf,\n",
    "                          scoring=scoring,\n",
    "                          refit='roc_auc',\n",
    "                          verbose=3,\n",
    "                          return_train_score=True)\n",
    "\n",
    "linear_svm.fit(X_train, y_train)\n",
    "best_linear_svm = linear_svm.best_estimator_\n",
    "print('Linear SVM recieves Best results with: {}'.format(linear_svm.best_params_))\n",
    "plot_print_model_results(best_linear_svm, X_test, y_test)\n"
   ]
  },
  {
   "cell_type": "code",
   "execution_count": 33,
   "metadata": {},
   "outputs": [
    {
     "name": "stdout",
     "output_type": "stream",
     "text": [
      "Fitting 5 folds for each of 12 candidates, totalling 60 fits\n",
      "[CV] svm__C=0.01, svm__kernel=rbf ....................................\n",
      "[CV]  svm__C=0.01, svm__kernel=rbf, accuracy=(train=0.617, test=0.607), f1=(train=0.763, test=0.756), precision=(train=0.617, test=0.607), recall=(train=1.000, test=1.000), roc_auc=(train=0.978, test=0.967), total=   0.0s\n",
      "[CV] svm__C=0.01, svm__kernel=rbf ....................................\n",
      "[CV]  svm__C=0.01, svm__kernel=rbf, accuracy=(train=0.614, test=0.619), f1=(train=0.761, test=0.765), precision=(train=0.614, test=0.619), recall=(train=1.000, test=1.000), roc_auc=(train=0.978, test=0.960), total=   0.0s\n",
      "[CV] svm__C=0.01, svm__kernel=rbf ....................................\n",
      "[CV]  svm__C=0.01, svm__kernel=rbf, accuracy=(train=0.614, test=0.619), f1=(train=0.761, test=0.765), precision=(train=0.614, test=0.619), recall=(train=1.000, test=1.000), roc_auc=(train=0.980, test=0.969), total=   0.0s\n",
      "[CV] svm__C=0.01, svm__kernel=rbf ....................................\n",
      "[CV]  svm__C=0.01, svm__kernel=rbf, accuracy=(train=0.615, test=0.614), f1=(train=0.762, test=0.761), precision=(train=0.615, test=0.614), recall=(train=1.000, test=1.000), roc_auc=(train=0.977, test=0.980), total=   0.0s\n",
      "[CV] svm__C=0.01, svm__kernel=rbf ....................................\n",
      "[CV]  svm__C=0.01, svm__kernel=rbf, accuracy=(train=0.615, test=0.614), f1=(train=0.762, test=0.761), precision=(train=0.615, test=0.614), recall=(train=1.000, test=1.000), roc_auc=(train=0.977, test=0.983), total=   0.0s\n",
      "[CV] svm__C=0.01, svm__kernel=poly ...................................\n"
     ]
    },
    {
     "name": "stderr",
     "output_type": "stream",
     "text": [
      "[Parallel(n_jobs=1)]: Using backend SequentialBackend with 1 concurrent workers.\n",
      "C:\\Users\\Guy\\anaconda3\\envs\\bm-336546-hw2\\lib\\site-packages\\sklearn\\utils\\validation.py:72: DataConversionWarning: A column-vector y was passed when a 1d array was expected. Please change the shape of y to (n_samples, ), for example using ravel().\n",
      "  return f(**kwargs)\n",
      "[Parallel(n_jobs=1)]: Done   1 out of   1 | elapsed:    0.0s remaining:    0.0s\n",
      "C:\\Users\\Guy\\anaconda3\\envs\\bm-336546-hw2\\lib\\site-packages\\sklearn\\utils\\validation.py:72: DataConversionWarning: A column-vector y was passed when a 1d array was expected. Please change the shape of y to (n_samples, ), for example using ravel().\n",
      "  return f(**kwargs)\n",
      "[Parallel(n_jobs=1)]: Done   2 out of   2 | elapsed:    0.0s remaining:    0.0s\n",
      "C:\\Users\\Guy\\anaconda3\\envs\\bm-336546-hw2\\lib\\site-packages\\sklearn\\utils\\validation.py:72: DataConversionWarning: A column-vector y was passed when a 1d array was expected. Please change the shape of y to (n_samples, ), for example using ravel().\n",
      "  return f(**kwargs)\n",
      "C:\\Users\\Guy\\anaconda3\\envs\\bm-336546-hw2\\lib\\site-packages\\sklearn\\utils\\validation.py:72: DataConversionWarning: A column-vector y was passed when a 1d array was expected. Please change the shape of y to (n_samples, ), for example using ravel().\n",
      "  return f(**kwargs)\n",
      "C:\\Users\\Guy\\anaconda3\\envs\\bm-336546-hw2\\lib\\site-packages\\sklearn\\utils\\validation.py:72: DataConversionWarning: A column-vector y was passed when a 1d array was expected. Please change the shape of y to (n_samples, ), for example using ravel().\n",
      "  return f(**kwargs)\n",
      "C:\\Users\\Guy\\anaconda3\\envs\\bm-336546-hw2\\lib\\site-packages\\sklearn\\utils\\validation.py:72: DataConversionWarning: A column-vector y was passed when a 1d array was expected. Please change the shape of y to (n_samples, ), for example using ravel().\n",
      "  return f(**kwargs)\n",
      "C:\\Users\\Guy\\anaconda3\\envs\\bm-336546-hw2\\lib\\site-packages\\sklearn\\utils\\validation.py:72: DataConversionWarning: A column-vector y was passed when a 1d array was expected. Please change the shape of y to (n_samples, ), for example using ravel().\n",
      "  return f(**kwargs)\n",
      "C:\\Users\\Guy\\anaconda3\\envs\\bm-336546-hw2\\lib\\site-packages\\sklearn\\utils\\validation.py:72: DataConversionWarning: A column-vector y was passed when a 1d array was expected. Please change the shape of y to (n_samples, ), for example using ravel().\n",
      "  return f(**kwargs)\n",
      "C:\\Users\\Guy\\anaconda3\\envs\\bm-336546-hw2\\lib\\site-packages\\sklearn\\utils\\validation.py:72: DataConversionWarning: A column-vector y was passed when a 1d array was expected. Please change the shape of y to (n_samples, ), for example using ravel().\n",
      "  return f(**kwargs)\n",
      "C:\\Users\\Guy\\anaconda3\\envs\\bm-336546-hw2\\lib\\site-packages\\sklearn\\utils\\validation.py:72: DataConversionWarning: A column-vector y was passed when a 1d array was expected. Please change the shape of y to (n_samples, ), for example using ravel().\n",
      "  return f(**kwargs)\n",
      "C:\\Users\\Guy\\anaconda3\\envs\\bm-336546-hw2\\lib\\site-packages\\sklearn\\utils\\validation.py:72: DataConversionWarning: A column-vector y was passed when a 1d array was expected. Please change the shape of y to (n_samples, ), for example using ravel().\n",
      "  return f(**kwargs)\n"
     ]
    },
    {
     "name": "stdout",
     "output_type": "stream",
     "text": [
      "[CV]  svm__C=0.01, svm__kernel=poly, accuracy=(train=0.617, test=0.607), f1=(train=0.763, test=0.756), precision=(train=0.617, test=0.607), recall=(train=1.000, test=1.000), roc_auc=(train=0.994, test=0.976), total=   0.0s\n",
      "[CV] svm__C=0.01, svm__kernel=poly ...................................\n",
      "[CV]  svm__C=0.01, svm__kernel=poly, accuracy=(train=0.614, test=0.619), f1=(train=0.761, test=0.765), precision=(train=0.614, test=0.619), recall=(train=1.000, test=1.000), roc_auc=(train=0.994, test=0.977), total=   0.0s\n",
      "[CV] svm__C=0.01, svm__kernel=poly ...................................\n",
      "[CV]  svm__C=0.01, svm__kernel=poly, accuracy=(train=0.614, test=0.619), f1=(train=0.761, test=0.765), precision=(train=0.614, test=0.619), recall=(train=1.000, test=1.000), roc_auc=(train=0.989, test=0.984), total=   0.0s\n",
      "[CV] svm__C=0.01, svm__kernel=poly ...................................\n",
      "[CV]  svm__C=0.01, svm__kernel=poly, accuracy=(train=0.615, test=0.614), f1=(train=0.762, test=0.761), precision=(train=0.615, test=0.614), recall=(train=1.000, test=1.000), roc_auc=(train=0.991, test=0.990), total=   0.0s\n",
      "[CV] svm__C=0.01, svm__kernel=poly ...................................\n",
      "[CV]  svm__C=0.01, svm__kernel=poly, accuracy=(train=0.615, test=0.614), f1=(train=0.762, test=0.761), precision=(train=0.615, test=0.614), recall=(train=1.000, test=1.000), roc_auc=(train=0.991, test=0.994), total=   0.0s\n",
      "[CV] svm__C=0.1, svm__kernel=rbf .....................................\n",
      "[CV]  svm__C=0.1, svm__kernel=rbf, accuracy=(train=0.946, test=0.917), f1=(train=0.957, test=0.932), precision=(train=0.952, test=0.923), recall=(train=0.961, test=0.941), roc_auc=(train=0.985, test=0.980), total=   0.0s\n",
      "[CV] svm__C=0.1, svm__kernel=rbf .....................................\n",
      "[CV]  svm__C=0.1, svm__kernel=rbf, accuracy=(train=0.943, test=0.929), f1=(train=0.954, test=0.942), precision=(train=0.939, test=0.942), recall=(train=0.971, test=0.942), roc_auc=(train=0.987, test=0.969), total=   0.0s\n",
      "[CV] svm__C=0.1, svm__kernel=rbf .....................................\n"
     ]
    },
    {
     "name": "stderr",
     "output_type": "stream",
     "text": [
      "C:\\Users\\Guy\\anaconda3\\envs\\bm-336546-hw2\\lib\\site-packages\\sklearn\\utils\\validation.py:72: DataConversionWarning: A column-vector y was passed when a 1d array was expected. Please change the shape of y to (n_samples, ), for example using ravel().\n",
      "  return f(**kwargs)\n",
      "C:\\Users\\Guy\\anaconda3\\envs\\bm-336546-hw2\\lib\\site-packages\\sklearn\\utils\\validation.py:72: DataConversionWarning: A column-vector y was passed when a 1d array was expected. Please change the shape of y to (n_samples, ), for example using ravel().\n",
      "  return f(**kwargs)\n",
      "C:\\Users\\Guy\\anaconda3\\envs\\bm-336546-hw2\\lib\\site-packages\\sklearn\\utils\\validation.py:72: DataConversionWarning: A column-vector y was passed when a 1d array was expected. Please change the shape of y to (n_samples, ), for example using ravel().\n",
      "  return f(**kwargs)\n",
      "C:\\Users\\Guy\\anaconda3\\envs\\bm-336546-hw2\\lib\\site-packages\\sklearn\\utils\\validation.py:72: DataConversionWarning: A column-vector y was passed when a 1d array was expected. Please change the shape of y to (n_samples, ), for example using ravel().\n",
      "  return f(**kwargs)\n",
      "C:\\Users\\Guy\\anaconda3\\envs\\bm-336546-hw2\\lib\\site-packages\\sklearn\\utils\\validation.py:72: DataConversionWarning: A column-vector y was passed when a 1d array was expected. Please change the shape of y to (n_samples, ), for example using ravel().\n",
      "  return f(**kwargs)\n",
      "C:\\Users\\Guy\\anaconda3\\envs\\bm-336546-hw2\\lib\\site-packages\\sklearn\\utils\\validation.py:72: DataConversionWarning: A column-vector y was passed when a 1d array was expected. Please change the shape of y to (n_samples, ), for example using ravel().\n",
      "  return f(**kwargs)\n"
     ]
    },
    {
     "name": "stdout",
     "output_type": "stream",
     "text": [
      "[CV]  svm__C=0.1, svm__kernel=rbf, accuracy=(train=0.943, test=0.940), f1=(train=0.954, test=0.953), precision=(train=0.951, test=0.927), recall=(train=0.956, test=0.981), roc_auc=(train=0.987, test=0.975), total=   0.0s\n",
      "[CV] svm__C=0.1, svm__kernel=rbf .....................................\n",
      "[CV]  svm__C=0.1, svm__kernel=rbf, accuracy=(train=0.940, test=0.940), f1=(train=0.952, test=0.950), precision=(train=0.935, test=0.960), recall=(train=0.971, test=0.941), roc_auc=(train=0.986, test=0.984), total=   0.0s\n",
      "[CV] svm__C=0.1, svm__kernel=rbf .....................................\n",
      "[CV]  svm__C=0.1, svm__kernel=rbf, accuracy=(train=0.931, test=0.952), f1=(train=0.945, test=0.962), precision=(train=0.938, test=0.943), recall=(train=0.951, test=0.980), roc_auc=(train=0.984, test=0.991), total=   0.0s\n",
      "[CV] svm__C=0.1, svm__kernel=poly ....................................\n",
      "[CV]  svm__C=0.1, svm__kernel=poly, accuracy=(train=0.955, test=0.905), f1=(train=0.964, test=0.923), precision=(train=0.953, test=0.906), recall=(train=0.976, test=0.941), roc_auc=(train=0.994, test=0.982), total=   0.0s\n",
      "[CV] svm__C=0.1, svm__kernel=poly ....................................\n",
      "[CV]  svm__C=0.1, svm__kernel=poly, accuracy=(train=0.949, test=0.929), f1=(train=0.959, test=0.943), precision=(train=0.939, test=0.926), recall=(train=0.980, test=0.962), roc_auc=(train=0.994, test=0.981), total=   0.0s\n",
      "[CV] svm__C=0.1, svm__kernel=poly ....................................\n",
      "[CV]  svm__C=0.1, svm__kernel=poly, accuracy=(train=0.931, test=0.940), f1=(train=0.945, test=0.953), precision=(train=0.921, test=0.927), recall=(train=0.971, test=0.981), roc_auc=(train=0.993, test=0.986), total=   0.0s\n",
      "[CV] svm__C=0.1, svm__kernel=poly ....................................\n",
      "[CV]  svm__C=0.1, svm__kernel=poly, accuracy=(train=0.946, test=0.928), f1=(train=0.957, test=0.942), precision=(train=0.935, test=0.925), recall=(train=0.981, test=0.961), roc_auc=(train=0.993, test=0.990), total=   0.0s\n",
      "[CV] svm__C=0.1, svm__kernel=poly ....................................\n"
     ]
    },
    {
     "name": "stderr",
     "output_type": "stream",
     "text": [
      "C:\\Users\\Guy\\anaconda3\\envs\\bm-336546-hw2\\lib\\site-packages\\sklearn\\utils\\validation.py:72: DataConversionWarning: A column-vector y was passed when a 1d array was expected. Please change the shape of y to (n_samples, ), for example using ravel().\n",
      "  return f(**kwargs)\n",
      "C:\\Users\\Guy\\anaconda3\\envs\\bm-336546-hw2\\lib\\site-packages\\sklearn\\utils\\validation.py:72: DataConversionWarning: A column-vector y was passed when a 1d array was expected. Please change the shape of y to (n_samples, ), for example using ravel().\n",
      "  return f(**kwargs)\n",
      "C:\\Users\\Guy\\anaconda3\\envs\\bm-336546-hw2\\lib\\site-packages\\sklearn\\utils\\validation.py:72: DataConversionWarning: A column-vector y was passed when a 1d array was expected. Please change the shape of y to (n_samples, ), for example using ravel().\n",
      "  return f(**kwargs)\n",
      "C:\\Users\\Guy\\anaconda3\\envs\\bm-336546-hw2\\lib\\site-packages\\sklearn\\utils\\validation.py:72: DataConversionWarning: A column-vector y was passed when a 1d array was expected. Please change the shape of y to (n_samples, ), for example using ravel().\n",
      "  return f(**kwargs)\n",
      "C:\\Users\\Guy\\anaconda3\\envs\\bm-336546-hw2\\lib\\site-packages\\sklearn\\utils\\validation.py:72: DataConversionWarning: A column-vector y was passed when a 1d array was expected. Please change the shape of y to (n_samples, ), for example using ravel().\n",
      "  return f(**kwargs)\n",
      "C:\\Users\\Guy\\anaconda3\\envs\\bm-336546-hw2\\lib\\site-packages\\sklearn\\utils\\validation.py:72: DataConversionWarning: A column-vector y was passed when a 1d array was expected. Please change the shape of y to (n_samples, ), for example using ravel().\n",
      "  return f(**kwargs)\n"
     ]
    },
    {
     "name": "stdout",
     "output_type": "stream",
     "text": [
      "[CV]  svm__C=0.1, svm__kernel=poly, accuracy=(train=0.934, test=0.940), f1=(train=0.948, test=0.953), precision=(train=0.926, test=0.911), recall=(train=0.971, test=1.000), roc_auc=(train=0.992, test=0.995), total=   0.0s\n",
      "[CV] svm__C=1.0, svm__kernel=rbf .....................................\n",
      "[CV]  svm__C=1.0, svm__kernel=rbf, accuracy=(train=0.982, test=0.964), f1=(train=0.985, test=0.970), precision=(train=0.995, test=0.980), recall=(train=0.976, test=0.961), roc_auc=(train=1.000, test=0.995), total=   0.0s\n",
      "[CV] svm__C=1.0, svm__kernel=rbf .....................................\n",
      "[CV]  svm__C=1.0, svm__kernel=rbf, accuracy=(train=0.982, test=0.964), f1=(train=0.985, test=0.970), precision=(train=0.995, test=1.000), recall=(train=0.976, test=0.942), roc_auc=(train=0.999, test=0.996), total=   0.0s\n",
      "[CV] svm__C=1.0, svm__kernel=rbf .....................................\n",
      "[CV]  svm__C=1.0, svm__kernel=rbf, accuracy=(train=0.988, test=0.940), f1=(train=0.990, test=0.953), precision=(train=0.995, test=0.927), recall=(train=0.985, test=0.981), roc_auc=(train=1.000, test=0.992), total=   0.0s\n",
      "[CV] svm__C=1.0, svm__kernel=rbf .....................................\n",
      "[CV]  svm__C=1.0, svm__kernel=rbf, accuracy=(train=0.982, test=0.952), f1=(train=0.985, test=0.959), precision=(train=0.995, test=1.000), recall=(train=0.976, test=0.922), roc_auc=(train=0.999, test=1.000), total=   0.0s\n",
      "[CV] svm__C=1.0, svm__kernel=rbf .....................................\n",
      "[CV]  svm__C=1.0, svm__kernel=rbf, accuracy=(train=0.985, test=0.964), f1=(train=0.988, test=0.970), precision=(train=0.990, test=1.000), recall=(train=0.985, test=0.941), roc_auc=(train=0.999, test=0.999), total=   0.0s\n",
      "[CV] svm__C=1.0, svm__kernel=poly ....................................\n",
      "[CV]  svm__C=1.0, svm__kernel=poly, accuracy=(train=0.994, test=0.940), f1=(train=0.995, test=0.950), precision=(train=1.000, test=0.960), recall=(train=0.990, test=0.941), roc_auc=(train=1.000, test=0.993), total=   0.0s\n",
      "[CV] svm__C=1.0, svm__kernel=poly ....................................\n",
      "[CV]  svm__C=1.0, svm__kernel=poly, accuracy=(train=0.991, test=0.952), f1=(train=0.993, test=0.960), precision=(train=1.000, test=1.000), recall=(train=0.985, test=0.923), roc_auc=(train=1.000, test=0.993), total=   0.0s\n",
      "[CV] svm__C=1.0, svm__kernel=poly ....................................\n"
     ]
    },
    {
     "name": "stderr",
     "output_type": "stream",
     "text": [
      "C:\\Users\\Guy\\anaconda3\\envs\\bm-336546-hw2\\lib\\site-packages\\sklearn\\utils\\validation.py:72: DataConversionWarning: A column-vector y was passed when a 1d array was expected. Please change the shape of y to (n_samples, ), for example using ravel().\n",
      "  return f(**kwargs)\n",
      "C:\\Users\\Guy\\anaconda3\\envs\\bm-336546-hw2\\lib\\site-packages\\sklearn\\utils\\validation.py:72: DataConversionWarning: A column-vector y was passed when a 1d array was expected. Please change the shape of y to (n_samples, ), for example using ravel().\n",
      "  return f(**kwargs)\n",
      "C:\\Users\\Guy\\anaconda3\\envs\\bm-336546-hw2\\lib\\site-packages\\sklearn\\utils\\validation.py:72: DataConversionWarning: A column-vector y was passed when a 1d array was expected. Please change the shape of y to (n_samples, ), for example using ravel().\n",
      "  return f(**kwargs)\n",
      "C:\\Users\\Guy\\anaconda3\\envs\\bm-336546-hw2\\lib\\site-packages\\sklearn\\utils\\validation.py:72: DataConversionWarning: A column-vector y was passed when a 1d array was expected. Please change the shape of y to (n_samples, ), for example using ravel().\n",
      "  return f(**kwargs)\n",
      "C:\\Users\\Guy\\anaconda3\\envs\\bm-336546-hw2\\lib\\site-packages\\sklearn\\utils\\validation.py:72: DataConversionWarning: A column-vector y was passed when a 1d array was expected. Please change the shape of y to (n_samples, ), for example using ravel().\n",
      "  return f(**kwargs)\n",
      "C:\\Users\\Guy\\anaconda3\\envs\\bm-336546-hw2\\lib\\site-packages\\sklearn\\utils\\validation.py:72: DataConversionWarning: A column-vector y was passed when a 1d array was expected. Please change the shape of y to (n_samples, ), for example using ravel().\n",
      "  return f(**kwargs)\n",
      "C:\\Users\\Guy\\anaconda3\\envs\\bm-336546-hw2\\lib\\site-packages\\sklearn\\utils\\validation.py:72: DataConversionWarning: A column-vector y was passed when a 1d array was expected. Please change the shape of y to (n_samples, ), for example using ravel().\n",
      "  return f(**kwargs)\n"
     ]
    },
    {
     "name": "stdout",
     "output_type": "stream",
     "text": [
      "[CV]  svm__C=1.0, svm__kernel=poly, accuracy=(train=0.991, test=0.940), f1=(train=0.993, test=0.953), precision=(train=0.995, test=0.927), recall=(train=0.990, test=0.981), roc_auc=(train=1.000, test=0.992), total=   0.0s\n",
      "[CV] svm__C=1.0, svm__kernel=poly ....................................\n",
      "[CV]  svm__C=1.0, svm__kernel=poly, accuracy=(train=0.988, test=0.964), f1=(train=0.990, test=0.970), precision=(train=1.000, test=1.000), recall=(train=0.981, test=0.941), roc_auc=(train=0.999, test=0.999), total=   0.0s\n",
      "[CV] svm__C=1.0, svm__kernel=poly ....................................\n",
      "[CV]  svm__C=1.0, svm__kernel=poly, accuracy=(train=0.991, test=0.976), f1=(train=0.993, test=0.980), precision=(train=0.995, test=1.000), recall=(train=0.990, test=0.961), roc_auc=(train=1.000, test=1.000), total=   0.0s\n",
      "[CV] svm__C=10.0, svm__kernel=rbf ....................................\n",
      "[CV]  svm__C=10.0, svm__kernel=rbf, accuracy=(train=0.997, test=0.952), f1=(train=0.998, test=0.960), precision=(train=1.000, test=0.980), recall=(train=0.995, test=0.941), roc_auc=(train=1.000, test=0.994), total=   0.0s\n",
      "[CV] svm__C=10.0, svm__kernel=rbf ....................................\n",
      "[CV]  svm__C=10.0, svm__kernel=rbf, accuracy=(train=0.997, test=0.976), f1=(train=0.998, test=0.980), precision=(train=1.000, test=1.000), recall=(train=0.995, test=0.962), roc_auc=(train=1.000, test=0.997), total=   0.0s\n",
      "[CV] svm__C=10.0, svm__kernel=rbf ....................................\n",
      "[CV]  svm__C=10.0, svm__kernel=rbf, accuracy=(train=0.994, test=0.952), f1=(train=0.995, test=0.963), precision=(train=0.995, test=0.929), recall=(train=0.995, test=1.000), roc_auc=(train=1.000, test=0.998), total=   0.0s\n",
      "[CV] svm__C=10.0, svm__kernel=rbf ....................................\n",
      "[CV]  svm__C=10.0, svm__kernel=rbf, accuracy=(train=0.994, test=0.952), f1=(train=0.995, test=0.959), precision=(train=1.000, test=1.000), recall=(train=0.990, test=0.922), roc_auc=(train=1.000, test=1.000), total=   0.0s\n",
      "[CV] svm__C=10.0, svm__kernel=rbf ....................................\n",
      "[CV]  svm__C=10.0, svm__kernel=rbf, accuracy=(train=0.994, test=0.976), f1=(train=0.995, test=0.980), precision=(train=1.000, test=1.000), recall=(train=0.990, test=0.961), roc_auc=(train=1.000, test=1.000), total=   0.0s\n",
      "[CV] svm__C=10.0, svm__kernel=poly ...................................\n"
     ]
    },
    {
     "name": "stderr",
     "output_type": "stream",
     "text": [
      "C:\\Users\\Guy\\anaconda3\\envs\\bm-336546-hw2\\lib\\site-packages\\sklearn\\utils\\validation.py:72: DataConversionWarning: A column-vector y was passed when a 1d array was expected. Please change the shape of y to (n_samples, ), for example using ravel().\n",
      "  return f(**kwargs)\n",
      "C:\\Users\\Guy\\anaconda3\\envs\\bm-336546-hw2\\lib\\site-packages\\sklearn\\utils\\validation.py:72: DataConversionWarning: A column-vector y was passed when a 1d array was expected. Please change the shape of y to (n_samples, ), for example using ravel().\n",
      "  return f(**kwargs)\n",
      "C:\\Users\\Guy\\anaconda3\\envs\\bm-336546-hw2\\lib\\site-packages\\sklearn\\utils\\validation.py:72: DataConversionWarning: A column-vector y was passed when a 1d array was expected. Please change the shape of y to (n_samples, ), for example using ravel().\n",
      "  return f(**kwargs)\n",
      "C:\\Users\\Guy\\anaconda3\\envs\\bm-336546-hw2\\lib\\site-packages\\sklearn\\utils\\validation.py:72: DataConversionWarning: A column-vector y was passed when a 1d array was expected. Please change the shape of y to (n_samples, ), for example using ravel().\n",
      "  return f(**kwargs)\n",
      "C:\\Users\\Guy\\anaconda3\\envs\\bm-336546-hw2\\lib\\site-packages\\sklearn\\utils\\validation.py:72: DataConversionWarning: A column-vector y was passed when a 1d array was expected. Please change the shape of y to (n_samples, ), for example using ravel().\n",
      "  return f(**kwargs)\n",
      "C:\\Users\\Guy\\anaconda3\\envs\\bm-336546-hw2\\lib\\site-packages\\sklearn\\utils\\validation.py:72: DataConversionWarning: A column-vector y was passed when a 1d array was expected. Please change the shape of y to (n_samples, ), for example using ravel().\n",
      "  return f(**kwargs)\n",
      "C:\\Users\\Guy\\anaconda3\\envs\\bm-336546-hw2\\lib\\site-packages\\sklearn\\utils\\validation.py:72: DataConversionWarning: A column-vector y was passed when a 1d array was expected. Please change the shape of y to (n_samples, ), for example using ravel().\n",
      "  return f(**kwargs)\n"
     ]
    },
    {
     "name": "stdout",
     "output_type": "stream",
     "text": [
      "[CV]  svm__C=10.0, svm__kernel=poly, accuracy=(train=0.997, test=0.940), f1=(train=0.998, test=0.950), precision=(train=1.000, test=0.960), recall=(train=0.995, test=0.941), roc_auc=(train=1.000, test=0.991), total=   0.0s\n",
      "[CV] svm__C=10.0, svm__kernel=poly ...................................\n",
      "[CV]  svm__C=10.0, svm__kernel=poly, accuracy=(train=0.997, test=0.964), f1=(train=0.998, test=0.970), precision=(train=1.000, test=1.000), recall=(train=0.995, test=0.942), roc_auc=(train=1.000, test=0.996), total=   0.0s\n",
      "[CV] svm__C=10.0, svm__kernel=poly ...................................\n",
      "[CV]  svm__C=10.0, svm__kernel=poly, accuracy=(train=0.997, test=0.964), f1=(train=0.998, test=0.972), precision=(train=1.000, test=0.945), recall=(train=0.995, test=1.000), roc_auc=(train=1.000, test=0.996), total=   0.0s\n",
      "[CV] svm__C=10.0, svm__kernel=poly ...................................\n",
      "[CV]  svm__C=10.0, svm__kernel=poly, accuracy=(train=0.994, test=0.976), f1=(train=0.995, test=0.980), precision=(train=1.000, test=1.000), recall=(train=0.990, test=0.961), roc_auc=(train=1.000, test=0.999), total=   0.0s\n",
      "[CV] svm__C=10.0, svm__kernel=poly ...................................\n",
      "[CV]  svm__C=10.0, svm__kernel=poly, accuracy=(train=0.994, test=0.988), f1=(train=0.995, test=0.990), precision=(train=1.000, test=1.000), recall=(train=0.990, test=0.980), roc_auc=(train=1.000, test=1.000), total=   0.0s\n",
      "[CV] svm__C=100.0, svm__kernel=rbf ...................................\n",
      "[CV]  svm__C=100.0, svm__kernel=rbf, accuracy=(train=0.997, test=0.952), f1=(train=0.998, test=0.960), precision=(train=1.000, test=0.980), recall=(train=0.995, test=0.941), roc_auc=(train=1.000, test=0.994), total=   0.0s\n",
      "[CV] svm__C=100.0, svm__kernel=rbf ...................................\n",
      "[CV]  svm__C=100.0, svm__kernel=rbf, accuracy=(train=0.997, test=0.976), f1=(train=0.998, test=0.980), precision=(train=1.000, test=1.000), recall=(train=0.995, test=0.962), roc_auc=(train=1.000, test=0.996), total=   0.0s\n",
      "[CV] svm__C=100.0, svm__kernel=rbf ...................................\n",
      "[CV]  svm__C=100.0, svm__kernel=rbf, accuracy=(train=0.994, test=0.976), f1=(train=0.995, test=0.981), precision=(train=1.000, test=0.981), recall=(train=0.990, test=0.981), roc_auc=(train=1.000, test=0.996), total=   0.0s\n",
      "[CV] svm__C=100.0, svm__kernel=rbf ...................................\n"
     ]
    },
    {
     "name": "stderr",
     "output_type": "stream",
     "text": [
      "C:\\Users\\Guy\\anaconda3\\envs\\bm-336546-hw2\\lib\\site-packages\\sklearn\\utils\\validation.py:72: DataConversionWarning: A column-vector y was passed when a 1d array was expected. Please change the shape of y to (n_samples, ), for example using ravel().\n",
      "  return f(**kwargs)\n",
      "C:\\Users\\Guy\\anaconda3\\envs\\bm-336546-hw2\\lib\\site-packages\\sklearn\\utils\\validation.py:72: DataConversionWarning: A column-vector y was passed when a 1d array was expected. Please change the shape of y to (n_samples, ), for example using ravel().\n",
      "  return f(**kwargs)\n",
      "C:\\Users\\Guy\\anaconda3\\envs\\bm-336546-hw2\\lib\\site-packages\\sklearn\\utils\\validation.py:72: DataConversionWarning: A column-vector y was passed when a 1d array was expected. Please change the shape of y to (n_samples, ), for example using ravel().\n",
      "  return f(**kwargs)\n",
      "C:\\Users\\Guy\\anaconda3\\envs\\bm-336546-hw2\\lib\\site-packages\\sklearn\\utils\\validation.py:72: DataConversionWarning: A column-vector y was passed when a 1d array was expected. Please change the shape of y to (n_samples, ), for example using ravel().\n",
      "  return f(**kwargs)\n",
      "C:\\Users\\Guy\\anaconda3\\envs\\bm-336546-hw2\\lib\\site-packages\\sklearn\\utils\\validation.py:72: DataConversionWarning: A column-vector y was passed when a 1d array was expected. Please change the shape of y to (n_samples, ), for example using ravel().\n",
      "  return f(**kwargs)\n",
      "C:\\Users\\Guy\\anaconda3\\envs\\bm-336546-hw2\\lib\\site-packages\\sklearn\\utils\\validation.py:72: DataConversionWarning: A column-vector y was passed when a 1d array was expected. Please change the shape of y to (n_samples, ), for example using ravel().\n",
      "  return f(**kwargs)\n",
      "C:\\Users\\Guy\\anaconda3\\envs\\bm-336546-hw2\\lib\\site-packages\\sklearn\\utils\\validation.py:72: DataConversionWarning: A column-vector y was passed when a 1d array was expected. Please change the shape of y to (n_samples, ), for example using ravel().\n",
      "  return f(**kwargs)\n"
     ]
    },
    {
     "name": "stdout",
     "output_type": "stream",
     "text": [
      "[CV]  svm__C=100.0, svm__kernel=rbf, accuracy=(train=0.994, test=0.964), f1=(train=0.995, test=0.970), precision=(train=1.000, test=1.000), recall=(train=0.990, test=0.941), roc_auc=(train=1.000, test=1.000), total=   0.0s\n",
      "[CV] svm__C=100.0, svm__kernel=rbf ...................................\n",
      "[CV]  svm__C=100.0, svm__kernel=rbf, accuracy=(train=0.994, test=1.000), f1=(train=0.995, test=1.000), precision=(train=1.000, test=1.000), recall=(train=0.990, test=1.000), roc_auc=(train=1.000, test=1.000), total=   0.0s\n",
      "[CV] svm__C=100.0, svm__kernel=poly ..................................\n",
      "[CV]  svm__C=100.0, svm__kernel=poly, accuracy=(train=0.997, test=0.929), f1=(train=0.998, test=0.940), precision=(train=1.000, test=0.959), recall=(train=0.995, test=0.922), roc_auc=(train=1.000, test=0.987), total=   0.0s\n",
      "[CV] svm__C=100.0, svm__kernel=poly ..................................\n",
      "[CV]  svm__C=100.0, svm__kernel=poly, accuracy=(train=0.997, test=0.952), f1=(train=0.998, test=0.961), precision=(train=1.000, test=0.980), recall=(train=0.995, test=0.942), roc_auc=(train=1.000, test=0.996), total=   0.0s\n",
      "[CV] svm__C=100.0, svm__kernel=poly ..................................\n",
      "[CV]  svm__C=100.0, svm__kernel=poly, accuracy=(train=0.994, test=0.976), f1=(train=0.995, test=0.981), precision=(train=1.000, test=0.981), recall=(train=0.990, test=0.981), roc_auc=(train=1.000, test=0.998), total=   0.0s\n",
      "[CV] svm__C=100.0, svm__kernel=poly ..................................\n",
      "[CV]  svm__C=100.0, svm__kernel=poly, accuracy=(train=0.994, test=0.964), f1=(train=0.995, test=0.970), precision=(train=1.000, test=0.980), recall=(train=0.990, test=0.961), roc_auc=(train=1.000, test=0.999), total=   0.0s\n",
      "[CV] svm__C=100.0, svm__kernel=poly ..................................\n",
      "[CV]  svm__C=100.0, svm__kernel=poly, accuracy=(train=0.994, test=0.988), f1=(train=0.995, test=0.990), precision=(train=1.000, test=1.000), recall=(train=0.990, test=0.980), roc_auc=(train=1.000, test=1.000), total=   0.0s\n",
      "[CV] svm__C=1000.0, svm__kernel=rbf ..................................\n",
      "[CV]  svm__C=1000.0, svm__kernel=rbf, accuracy=(train=1.000, test=0.881), f1=(train=1.000, test=0.900), precision=(train=1.000, test=0.918), recall=(train=1.000, test=0.882), roc_auc=(train=1.000, test=0.942), total=   0.0s\n",
      "[CV] svm__C=1000.0, svm__kernel=rbf ..................................\n"
     ]
    },
    {
     "name": "stderr",
     "output_type": "stream",
     "text": [
      "C:\\Users\\Guy\\anaconda3\\envs\\bm-336546-hw2\\lib\\site-packages\\sklearn\\utils\\validation.py:72: DataConversionWarning: A column-vector y was passed when a 1d array was expected. Please change the shape of y to (n_samples, ), for example using ravel().\n",
      "  return f(**kwargs)\n",
      "C:\\Users\\Guy\\anaconda3\\envs\\bm-336546-hw2\\lib\\site-packages\\sklearn\\utils\\validation.py:72: DataConversionWarning: A column-vector y was passed when a 1d array was expected. Please change the shape of y to (n_samples, ), for example using ravel().\n",
      "  return f(**kwargs)\n",
      "C:\\Users\\Guy\\anaconda3\\envs\\bm-336546-hw2\\lib\\site-packages\\sklearn\\utils\\validation.py:72: DataConversionWarning: A column-vector y was passed when a 1d array was expected. Please change the shape of y to (n_samples, ), for example using ravel().\n",
      "  return f(**kwargs)\n",
      "C:\\Users\\Guy\\anaconda3\\envs\\bm-336546-hw2\\lib\\site-packages\\sklearn\\utils\\validation.py:72: DataConversionWarning: A column-vector y was passed when a 1d array was expected. Please change the shape of y to (n_samples, ), for example using ravel().\n",
      "  return f(**kwargs)\n",
      "C:\\Users\\Guy\\anaconda3\\envs\\bm-336546-hw2\\lib\\site-packages\\sklearn\\utils\\validation.py:72: DataConversionWarning: A column-vector y was passed when a 1d array was expected. Please change the shape of y to (n_samples, ), for example using ravel().\n",
      "  return f(**kwargs)\n",
      "C:\\Users\\Guy\\anaconda3\\envs\\bm-336546-hw2\\lib\\site-packages\\sklearn\\utils\\validation.py:72: DataConversionWarning: A column-vector y was passed when a 1d array was expected. Please change the shape of y to (n_samples, ), for example using ravel().\n",
      "  return f(**kwargs)\n",
      "C:\\Users\\Guy\\anaconda3\\envs\\bm-336546-hw2\\lib\\site-packages\\sklearn\\utils\\validation.py:72: DataConversionWarning: A column-vector y was passed when a 1d array was expected. Please change the shape of y to (n_samples, ), for example using ravel().\n",
      "  return f(**kwargs)\n"
     ]
    },
    {
     "name": "stdout",
     "output_type": "stream",
     "text": [
      "[CV]  svm__C=1000.0, svm__kernel=rbf, accuracy=(train=0.997, test=0.964), f1=(train=0.998, test=0.971), precision=(train=1.000, test=0.980), recall=(train=0.995, test=0.962), roc_auc=(train=1.000, test=0.998), total=   0.0s\n",
      "[CV] svm__C=1000.0, svm__kernel=rbf ..................................\n",
      "[CV]  svm__C=1000.0, svm__kernel=rbf, accuracy=(train=0.997, test=0.893), f1=(train=0.998, test=0.909), precision=(train=1.000, test=0.957), recall=(train=0.995, test=0.865), roc_auc=(train=1.000, test=0.972), total=   0.0s\n",
      "[CV] svm__C=1000.0, svm__kernel=rbf ..................................\n",
      "[CV]  svm__C=1000.0, svm__kernel=rbf, accuracy=(train=1.000, test=0.916), f1=(train=1.000, test=0.932), precision=(train=1.000, test=0.923), recall=(train=1.000, test=0.941), roc_auc=(train=1.000, test=0.945), total=   0.0s\n",
      "[CV] svm__C=1000.0, svm__kernel=rbf ..................................\n",
      "[CV]  svm__C=1000.0, svm__kernel=rbf, accuracy=(train=0.997, test=0.976), f1=(train=0.998, test=0.981), precision=(train=1.000, test=0.962), recall=(train=0.995, test=1.000), roc_auc=(train=1.000, test=1.000), total=   0.0s\n",
      "[CV] svm__C=1000.0, svm__kernel=poly .................................\n",
      "[CV]  svm__C=1000.0, svm__kernel=poly, accuracy=(train=1.000, test=0.893), f1=(train=1.000, test=0.911), precision=(train=1.000, test=0.920), recall=(train=1.000, test=0.902), roc_auc=(train=1.000, test=0.925), total=   0.0s\n",
      "[CV] svm__C=1000.0, svm__kernel=poly .................................\n",
      "[CV]  svm__C=1000.0, svm__kernel=poly, accuracy=(train=0.997, test=0.940), f1=(train=0.998, test=0.950), precision=(train=1.000, test=0.980), recall=(train=0.995, test=0.923), roc_auc=(train=1.000, test=0.995), total=   0.0s\n",
      "[CV] svm__C=1000.0, svm__kernel=poly .................................\n",
      "[CV]  svm__C=1000.0, svm__kernel=poly, accuracy=(train=1.000, test=0.917), f1=(train=1.000, test=0.933), precision=(train=1.000, test=0.925), recall=(train=1.000, test=0.942), roc_auc=(train=1.000, test=0.974), total=   0.0s\n",
      "[CV] svm__C=1000.0, svm__kernel=poly .................................\n",
      "[CV]  svm__C=1000.0, svm__kernel=poly, accuracy=(train=1.000, test=0.916), f1=(train=1.000, test=0.932), precision=(train=1.000, test=0.923), recall=(train=1.000, test=0.941), roc_auc=(train=1.000, test=0.933), total=   0.0s\n",
      "[CV] svm__C=1000.0, svm__kernel=poly .................................\n"
     ]
    },
    {
     "name": "stderr",
     "output_type": "stream",
     "text": [
      "C:\\Users\\Guy\\anaconda3\\envs\\bm-336546-hw2\\lib\\site-packages\\sklearn\\utils\\validation.py:72: DataConversionWarning: A column-vector y was passed when a 1d array was expected. Please change the shape of y to (n_samples, ), for example using ravel().\n",
      "  return f(**kwargs)\n",
      "C:\\Users\\Guy\\anaconda3\\envs\\bm-336546-hw2\\lib\\site-packages\\sklearn\\utils\\validation.py:72: DataConversionWarning: A column-vector y was passed when a 1d array was expected. Please change the shape of y to (n_samples, ), for example using ravel().\n",
      "  return f(**kwargs)\n",
      "C:\\Users\\Guy\\anaconda3\\envs\\bm-336546-hw2\\lib\\site-packages\\sklearn\\utils\\validation.py:72: DataConversionWarning: A column-vector y was passed when a 1d array was expected. Please change the shape of y to (n_samples, ), for example using ravel().\n",
      "  return f(**kwargs)\n",
      "C:\\Users\\Guy\\anaconda3\\envs\\bm-336546-hw2\\lib\\site-packages\\sklearn\\utils\\validation.py:72: DataConversionWarning: A column-vector y was passed when a 1d array was expected. Please change the shape of y to (n_samples, ), for example using ravel().\n",
      "  return f(**kwargs)\n",
      "C:\\Users\\Guy\\anaconda3\\envs\\bm-336546-hw2\\lib\\site-packages\\sklearn\\utils\\validation.py:72: DataConversionWarning: A column-vector y was passed when a 1d array was expected. Please change the shape of y to (n_samples, ), for example using ravel().\n",
      "  return f(**kwargs)\n",
      "C:\\Users\\Guy\\anaconda3\\envs\\bm-336546-hw2\\lib\\site-packages\\sklearn\\utils\\validation.py:72: DataConversionWarning: A column-vector y was passed when a 1d array was expected. Please change the shape of y to (n_samples, ), for example using ravel().\n",
      "  return f(**kwargs)\n",
      "C:\\Users\\Guy\\anaconda3\\envs\\bm-336546-hw2\\lib\\site-packages\\sklearn\\utils\\validation.py:72: DataConversionWarning: A column-vector y was passed when a 1d array was expected. Please change the shape of y to (n_samples, ), for example using ravel().\n",
      "  return f(**kwargs)\n",
      "C:\\Users\\Guy\\anaconda3\\envs\\bm-336546-hw2\\lib\\site-packages\\sklearn\\utils\\validation.py:72: DataConversionWarning: A column-vector y was passed when a 1d array was expected. Please change the shape of y to (n_samples, ), for example using ravel().\n",
      "  return f(**kwargs)\n"
     ]
    },
    {
     "name": "stdout",
     "output_type": "stream",
     "text": [
      "[CV]  svm__C=1000.0, svm__kernel=poly, accuracy=(train=0.997, test=0.928), f1=(train=0.998, test=0.941), precision=(train=1.000, test=0.941), recall=(train=0.995, test=0.941), roc_auc=(train=1.000, test=0.980), total=   0.0s\n",
      "non-linear SVM recieves Best results with: {'svm__C': 10.0, 'svm__kernel': 'rbf'}\n",
      "Sensitvity: 0.86\n",
      "Specifcity: 1.00\n",
      "Percision: 1.00\n",
      "Accuracy: 0.91\n",
      "F1: 0.92\n",
      "AUROC: 0.99\n"
     ]
    },
    {
     "name": "stderr",
     "output_type": "stream",
     "text": [
      "C:\\Users\\Guy\\anaconda3\\envs\\bm-336546-hw2\\lib\\site-packages\\sklearn\\utils\\validation.py:72: DataConversionWarning: A column-vector y was passed when a 1d array was expected. Please change the shape of y to (n_samples, ), for example using ravel().\n",
      "  return f(**kwargs)\n",
      "[Parallel(n_jobs=1)]: Done  60 out of  60 | elapsed:    1.7s finished\n",
      "C:\\Users\\Guy\\anaconda3\\envs\\bm-336546-hw2\\lib\\site-packages\\sklearn\\utils\\validation.py:72: DataConversionWarning: A column-vector y was passed when a 1d array was expected. Please change the shape of y to (n_samples, ), for example using ravel().\n",
      "  return f(**kwargs)\n"
     ]
    },
    {
     "data": {
      "image/png": "[encoded data removed]",
      "text/plain": [
       "<Figure size 432x288 with 2 Axes>"
      ]
     },
     "metadata": {
      "needs_background": "light"
     },
     "output_type": "display_data"
    }
   ],
   "source": [
    "#non-linear classifier\n",
    "params = {'svm__kernel': ['rbf', 'poly'],\n",
    "          'svm__C':C#,\n",
    "          #'svm__gamma': gamma,\n",
    "         }\n",
    "non_linear_svm = GridSearchCV(estimator=pipe,\n",
    "                          param_grid=params,\n",
    "                          cv=skf,\n",
    "                          scoring=scoring,\n",
    "                          refit='roc_auc',\n",
    "                          verbose=3,\n",
    "                          return_train_score=True)\n",
    "\n",
    "non_linear_svm.fit(X_train, y_train)\n",
    "best_non_linear_svm = non_linear_svm.best_estimator_\n",
    "print('non-linear SVM recieves Best results with: {}'.format(non_linear_svm.best_params_))\n",
    "plot_print_model_results(non_linear_svm, X_test, y_test)\n"
   ]
  },
  {
   "cell_type": "markdown",
   "metadata": {},
   "source": [
    "### 5.c)\n",
    "we can see that non-linear has better results than linear"
   ]
  },
  {
   "cell_type": "markdown",
   "metadata": {},
   "source": [
    "### 6 Feature Selection"
   ]
  },
  {
   "cell_type": "code",
   "execution_count": 77,
   "metadata": {},
   "outputs": [
    {
     "name": "stderr",
     "output_type": "stream",
     "text": [
      "C:\\Users\\Guy\\anaconda3\\envs\\bm-336546-hw2\\lib\\site-packages\\ipykernel_launcher.py:3: DataConversionWarning: A column-vector y was passed when a 1d array was expected. Please change the shape of y to (n_samples,), for example using ravel().\n",
      "  This is separate from the ipykernel package so we can avoid doing imports until\n"
     ]
    },
    {
     "data": {
      "image/png": "[encoded data removed]",
      "text/plain": [
       "<Figure size 432x288 with 1 Axes>"
      ]
     },
     "metadata": {
      "needs_background": "light"
     },
     "output_type": "display_data"
    }
   ],
   "source": [
    "from sklearn.ensemble import RandomForestClassifier \n",
    "random_forest = RandomForestClassifier(n_estimators=10, max_depth=None, random_state=0, criterion='gini', max_features='auto')\n",
    "rfc = random_forest.fit(X_train, y_train)\n",
    "features_importance = rfc.feature_importances_\n",
    "\n",
    "plt.bar(Features, features_importance)\n",
    "plt.xticks(rotation=90)\n",
    "plt.show()\n",
    "    "
   ]
  },
  {
   "cell_type": "markdown",
   "metadata": {},
   "source": [
    "6.a.i) We can see that Increased Thirst and Increased Urination are the most important feature according to random forest."
   ]
  },
  {
   "cell_type": "markdown",
   "metadata": {},
   "source": [
    "6.a.ii) "
   ]
  },
  {
   "cell_type": "code",
   "execution_count": null,
   "metadata": {},
   "outputs": [],
   "source": []
  }
 ],
 "metadata": {
  "kernelspec": {
   "display_name": "Python 3",
   "language": "python",
   "name": "python3"
  },
  "language_info": {
   "codemirror_mode": {
    "name": "ipython",
    "version": 3
   },
   "file_extension": ".py",
   "mimetype": "text/x-python",
   "name": "python",
   "nbconvert_exporter": "python",
   "pygments_lexer": "ipython3",
   "version": "3.7.9"
  }
 },
 "nbformat": 4,
 "nbformat_minor": 4
}
